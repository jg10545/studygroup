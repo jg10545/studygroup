{
 "cells": [
  {
   "cell_type": "markdown",
   "metadata": {},
   "source": [
    "# Regularization, Over/Underfitting, and the Bias-Variance Tradeoff\n",
    "\n",
    "In the MNIST lab we went through a simple supervised learning experiment:\n",
    "\n",
    "    1. start with some labeled data\n",
    "    2. do exploratory data analysis\n",
    "    3. split into train and test sets\n",
    "    4. train a classifier on the training set\n",
    "    5. evaluate the classifier on the test set\n",
    "    \n",
    "Today we're going to run through a similar workflow but with an extra step: adjusting hyperparameters of the model to see how they affect the model's performance.\n",
    "\n",
    "The model we're going to use is **logistic regression** with **ridge** (or $L_{2}$-norm) regularization. This is just a boring linear model plus an extra term that adds a cost to increasing the size of the model's weights. There's a single hyperparameter that controls the cost.\n",
    "\n",
    "If the cost is high it **biases** the model toward smaller weights- essentially making the model less flexible, but at the same time less prone to overfitting (finding spurious correlations in our data). Overfitting is a particularly big concern if we have a small number of samples and/or a large number of columns.\n",
    "\n",
    "If the cost is low our model has **lower bias**, meaning that it's more flexible. This will let it find more subtle patterns in the training data, but also means that there are more combinations of weights that all fit the data about as well as each other- so estimates of those weights will have a **higher variance**."
   ]
  },
  {
   "cell_type": "code",
   "execution_count": 1,
   "metadata": {},
   "outputs": [],
   "source": [
    "import numpy as np\n",
    "import matplotlib.pyplot as plt\n",
    "import pandas as pd\n",
    "\n",
    "import sklearn.linear_model, sklearn.preprocessing, sklearn.metrics\n",
    "\n",
    "%matplotlib inline\n",
    "from IPython.core.pylabtools import figsize"
   ]
  },
  {
   "cell_type": "code",
   "execution_count": null,
   "metadata": {
    "collapsed": true
   },
   "outputs": [],
   "source": []
  },
  {
   "cell_type": "markdown",
   "metadata": {},
   "source": [
    "## Load and prep the data\n",
    "\n",
    "Today we're using the Titanic dataset. We have a bunch of information about every passenger aboard the Titanic, and want to build a classifier to predict who lives, who dies, and who gets drawn like one of your french girls. The columns of the CSV file are:\n",
    "\n",
    "* **survived:** this is what we're trying to predict; 1 if the passenger survived and 0 if they didn't\n",
    "* **pclass:** passenger class (1st, 2nd, 3rd)\n",
    "* **sex:** gender of the passenger\n",
    "* **age:** passenger's age in years\n",
    "* **sibsp:** number of siblings and spouses traveling with the passenger\n",
    "* **parch:** number of parents and children traveling with the passenger\n",
    "* **fare:** how much the passenger's ticket cost\n",
    "* **embarked:** where the passenger embarked from; (C)herbourg, (Q)ueenstown, or (S)outhampton\n",
    "\n",
    "There are also some columns we won't use: **name**, **ticket**, **boat**, **body**, **cabin**, and **home destination**. If you're feeling clever feel free to extract more columns from those (like what deck the passenger's cabin is on or whether they're married).\n",
    "\n",
    "I'll provide the code here that I used to prepare some features- doing EDA is up to you. If you want to explore, try out things like\n",
    "\n",
    "* `data[\"sex\"].value_counts()` count the number of times each value of the \"sex\" column occurs\n",
    "* `pd.crosstab(data[\"pclass\"], data[\"survived\"])` count the number of times each combination of \"pclass\" and \"survived\" occur.\n",
    "* `plt.hist(data.fare)` draw  a histogram of fares\n",
    "\n",
    "First, read the data:"
   ]
  },
  {
   "cell_type": "code",
   "execution_count": 2,
   "metadata": {},
   "outputs": [
    {
     "data": {
      "text/plain": [
       "1309"
      ]
     },
     "execution_count": 2,
     "metadata": {},
     "output_type": "execute_result"
    }
   ],
   "source": [
    "data = pd.read_csv(\"/media/joe/HD/data/titanic.csv\")\n",
    "len(data)"
   ]
  },
  {
   "cell_type": "code",
   "execution_count": 3,
   "metadata": {},
   "outputs": [
    {
     "data": {
      "text/html": [
       "<div>\n",
       "<style>\n",
       "    .dataframe thead tr:only-child th {\n",
       "        text-align: right;\n",
       "    }\n",
       "\n",
       "    .dataframe thead th {\n",
       "        text-align: left;\n",
       "    }\n",
       "\n",
       "    .dataframe tbody tr th {\n",
       "        vertical-align: top;\n",
       "    }\n",
       "</style>\n",
       "<table border=\"1\" class=\"dataframe\">\n",
       "  <thead>\n",
       "    <tr style=\"text-align: right;\">\n",
       "      <th></th>\n",
       "      <th>pclass</th>\n",
       "      <th>survived</th>\n",
       "      <th>name</th>\n",
       "      <th>sex</th>\n",
       "      <th>age</th>\n",
       "      <th>sibsp</th>\n",
       "      <th>parch</th>\n",
       "      <th>ticket</th>\n",
       "      <th>fare</th>\n",
       "      <th>cabin</th>\n",
       "      <th>embarked</th>\n",
       "      <th>boat</th>\n",
       "      <th>body</th>\n",
       "      <th>home.dest</th>\n",
       "    </tr>\n",
       "  </thead>\n",
       "  <tbody>\n",
       "    <tr>\n",
       "      <th>0</th>\n",
       "      <td>1</td>\n",
       "      <td>1</td>\n",
       "      <td>Allen, Miss. Elisabeth Walton</td>\n",
       "      <td>female</td>\n",
       "      <td>29.0000</td>\n",
       "      <td>0</td>\n",
       "      <td>0</td>\n",
       "      <td>24160</td>\n",
       "      <td>211.3375</td>\n",
       "      <td>B5</td>\n",
       "      <td>S</td>\n",
       "      <td>2</td>\n",
       "      <td>NaN</td>\n",
       "      <td>St Louis, MO</td>\n",
       "    </tr>\n",
       "    <tr>\n",
       "      <th>1</th>\n",
       "      <td>1</td>\n",
       "      <td>1</td>\n",
       "      <td>Allison, Master. Hudson Trevor</td>\n",
       "      <td>male</td>\n",
       "      <td>0.9167</td>\n",
       "      <td>1</td>\n",
       "      <td>2</td>\n",
       "      <td>113781</td>\n",
       "      <td>151.5500</td>\n",
       "      <td>C22 C26</td>\n",
       "      <td>S</td>\n",
       "      <td>11</td>\n",
       "      <td>NaN</td>\n",
       "      <td>Montreal, PQ / Chesterville, ON</td>\n",
       "    </tr>\n",
       "    <tr>\n",
       "      <th>2</th>\n",
       "      <td>1</td>\n",
       "      <td>0</td>\n",
       "      <td>Allison, Miss. Helen Loraine</td>\n",
       "      <td>female</td>\n",
       "      <td>2.0000</td>\n",
       "      <td>1</td>\n",
       "      <td>2</td>\n",
       "      <td>113781</td>\n",
       "      <td>151.5500</td>\n",
       "      <td>C22 C26</td>\n",
       "      <td>S</td>\n",
       "      <td>NaN</td>\n",
       "      <td>NaN</td>\n",
       "      <td>Montreal, PQ / Chesterville, ON</td>\n",
       "    </tr>\n",
       "    <tr>\n",
       "      <th>3</th>\n",
       "      <td>1</td>\n",
       "      <td>0</td>\n",
       "      <td>Allison, Mr. Hudson Joshua Creighton</td>\n",
       "      <td>male</td>\n",
       "      <td>30.0000</td>\n",
       "      <td>1</td>\n",
       "      <td>2</td>\n",
       "      <td>113781</td>\n",
       "      <td>151.5500</td>\n",
       "      <td>C22 C26</td>\n",
       "      <td>S</td>\n",
       "      <td>NaN</td>\n",
       "      <td>135.0</td>\n",
       "      <td>Montreal, PQ / Chesterville, ON</td>\n",
       "    </tr>\n",
       "    <tr>\n",
       "      <th>4</th>\n",
       "      <td>1</td>\n",
       "      <td>0</td>\n",
       "      <td>Allison, Mrs. Hudson J C (Bessie Waldo Daniels)</td>\n",
       "      <td>female</td>\n",
       "      <td>25.0000</td>\n",
       "      <td>1</td>\n",
       "      <td>2</td>\n",
       "      <td>113781</td>\n",
       "      <td>151.5500</td>\n",
       "      <td>C22 C26</td>\n",
       "      <td>S</td>\n",
       "      <td>NaN</td>\n",
       "      <td>NaN</td>\n",
       "      <td>Montreal, PQ / Chesterville, ON</td>\n",
       "    </tr>\n",
       "  </tbody>\n",
       "</table>\n",
       "</div>"
      ],
      "text/plain": [
       "   pclass  survived                                             name     sex  \\\n",
       "0       1         1                    Allen, Miss. Elisabeth Walton  female   \n",
       "1       1         1                   Allison, Master. Hudson Trevor    male   \n",
       "2       1         0                     Allison, Miss. Helen Loraine  female   \n",
       "3       1         0             Allison, Mr. Hudson Joshua Creighton    male   \n",
       "4       1         0  Allison, Mrs. Hudson J C (Bessie Waldo Daniels)  female   \n",
       "\n",
       "       age  sibsp  parch  ticket      fare    cabin embarked boat   body  \\\n",
       "0  29.0000      0      0   24160  211.3375       B5        S    2    NaN   \n",
       "1   0.9167      1      2  113781  151.5500  C22 C26        S   11    NaN   \n",
       "2   2.0000      1      2  113781  151.5500  C22 C26        S  NaN    NaN   \n",
       "3  30.0000      1      2  113781  151.5500  C22 C26        S  NaN  135.0   \n",
       "4  25.0000      1      2  113781  151.5500  C22 C26        S  NaN    NaN   \n",
       "\n",
       "                         home.dest  \n",
       "0                     St Louis, MO  \n",
       "1  Montreal, PQ / Chesterville, ON  \n",
       "2  Montreal, PQ / Chesterville, ON  \n",
       "3  Montreal, PQ / Chesterville, ON  \n",
       "4  Montreal, PQ / Chesterville, ON  "
      ]
     },
     "execution_count": 3,
     "metadata": {},
     "output_type": "execute_result"
    }
   ],
   "source": [
    "data.head()"
   ]
  },
  {
   "cell_type": "markdown",
   "metadata": {},
   "source": [
    "Drop the columns we're not going to use:"
   ]
  },
  {
   "cell_type": "code",
   "execution_count": 4,
   "metadata": {
    "collapsed": true
   },
   "outputs": [],
   "source": [
    "data = data.drop([\"boat\", \"body\", \"home.dest\", \"cabin\", \"name\"], axis=1)"
   ]
  },
  {
   "cell_type": "markdown",
   "metadata": {},
   "source": [
    "Drop rows with missing data:"
   ]
  },
  {
   "cell_type": "code",
   "execution_count": 5,
   "metadata": {},
   "outputs": [
    {
     "data": {
      "text/plain": [
       "1043"
      ]
     },
     "execution_count": 5,
     "metadata": {},
     "output_type": "execute_result"
    }
   ],
   "source": [
    "data = data.dropna()\n",
    "len(data)"
   ]
  },
  {
   "cell_type": "markdown",
   "metadata": {},
   "source": [
    "Build an indicator variable for the passenger's gender- we want to map `female` to 0 and `male` to 1:"
   ]
  },
  {
   "cell_type": "code",
   "execution_count": 10,
   "metadata": {},
   "outputs": [],
   "source": [
    "data[\"gender\"] = data[\"sex\"].map({\"female\":0, \"male\":1}).astype(int)"
   ]
  },
  {
   "cell_type": "markdown",
   "metadata": {},
   "source": [
    "Build three dummy variables for the three different embarkments:"
   ]
  },
  {
   "cell_type": "code",
   "execution_count": 11,
   "metadata": {},
   "outputs": [
    {
     "data": {
      "text/html": [
       "<div>\n",
       "<style>\n",
       "    .dataframe thead tr:only-child th {\n",
       "        text-align: right;\n",
       "    }\n",
       "\n",
       "    .dataframe thead th {\n",
       "        text-align: left;\n",
       "    }\n",
       "\n",
       "    .dataframe tbody tr th {\n",
       "        vertical-align: top;\n",
       "    }\n",
       "</style>\n",
       "<table border=\"1\" class=\"dataframe\">\n",
       "  <thead>\n",
       "    <tr style=\"text-align: right;\">\n",
       "      <th></th>\n",
       "      <th>embarked_C</th>\n",
       "      <th>embarked_Q</th>\n",
       "      <th>embarked_S</th>\n",
       "    </tr>\n",
       "  </thead>\n",
       "  <tbody>\n",
       "    <tr>\n",
       "      <th>0</th>\n",
       "      <td>0</td>\n",
       "      <td>0</td>\n",
       "      <td>1</td>\n",
       "    </tr>\n",
       "    <tr>\n",
       "      <th>1</th>\n",
       "      <td>0</td>\n",
       "      <td>0</td>\n",
       "      <td>1</td>\n",
       "    </tr>\n",
       "    <tr>\n",
       "      <th>2</th>\n",
       "      <td>0</td>\n",
       "      <td>0</td>\n",
       "      <td>1</td>\n",
       "    </tr>\n",
       "    <tr>\n",
       "      <th>3</th>\n",
       "      <td>0</td>\n",
       "      <td>0</td>\n",
       "      <td>1</td>\n",
       "    </tr>\n",
       "    <tr>\n",
       "      <th>4</th>\n",
       "      <td>0</td>\n",
       "      <td>0</td>\n",
       "      <td>1</td>\n",
       "    </tr>\n",
       "  </tbody>\n",
       "</table>\n",
       "</div>"
      ],
      "text/plain": [
       "   embarked_C  embarked_Q  embarked_S\n",
       "0           0           0           1\n",
       "1           0           0           1\n",
       "2           0           0           1\n",
       "3           0           0           1\n",
       "4           0           0           1"
      ]
     },
     "execution_count": 11,
     "metadata": {},
     "output_type": "execute_result"
    }
   ],
   "source": [
    "embark_dummies = pd.get_dummies(data['embarked'], prefix='embarked')\n",
    "embark_dummies.head()"
   ]
  },
  {
   "cell_type": "code",
   "execution_count": 12,
   "metadata": {},
   "outputs": [],
   "source": [
    "data = pd.concat([data, embark_dummies], axis=1)"
   ]
  },
  {
   "cell_type": "markdown",
   "metadata": {},
   "source": [
    "Now let's pull out a dataframe of just the columns we'll use as features for machine learning:"
   ]
  },
  {
   "cell_type": "code",
   "execution_count": 14,
   "metadata": {},
   "outputs": [
    {
     "data": {
      "text/html": [
       "<div>\n",
       "<style>\n",
       "    .dataframe thead tr:only-child th {\n",
       "        text-align: right;\n",
       "    }\n",
       "\n",
       "    .dataframe thead th {\n",
       "        text-align: left;\n",
       "    }\n",
       "\n",
       "    .dataframe tbody tr th {\n",
       "        vertical-align: top;\n",
       "    }\n",
       "</style>\n",
       "<table border=\"1\" class=\"dataframe\">\n",
       "  <thead>\n",
       "    <tr style=\"text-align: right;\">\n",
       "      <th></th>\n",
       "      <th>pclass</th>\n",
       "      <th>age</th>\n",
       "      <th>sibsp</th>\n",
       "      <th>parch</th>\n",
       "      <th>fare</th>\n",
       "      <th>gender</th>\n",
       "      <th>embarked_C</th>\n",
       "      <th>embarked_Q</th>\n",
       "      <th>embarked_S</th>\n",
       "    </tr>\n",
       "  </thead>\n",
       "  <tbody>\n",
       "    <tr>\n",
       "      <th>0</th>\n",
       "      <td>1</td>\n",
       "      <td>29.0000</td>\n",
       "      <td>0</td>\n",
       "      <td>0</td>\n",
       "      <td>211.3375</td>\n",
       "      <td>0</td>\n",
       "      <td>0</td>\n",
       "      <td>0</td>\n",
       "      <td>1</td>\n",
       "    </tr>\n",
       "    <tr>\n",
       "      <th>1</th>\n",
       "      <td>1</td>\n",
       "      <td>0.9167</td>\n",
       "      <td>1</td>\n",
       "      <td>2</td>\n",
       "      <td>151.5500</td>\n",
       "      <td>1</td>\n",
       "      <td>0</td>\n",
       "      <td>0</td>\n",
       "      <td>1</td>\n",
       "    </tr>\n",
       "    <tr>\n",
       "      <th>2</th>\n",
       "      <td>1</td>\n",
       "      <td>2.0000</td>\n",
       "      <td>1</td>\n",
       "      <td>2</td>\n",
       "      <td>151.5500</td>\n",
       "      <td>0</td>\n",
       "      <td>0</td>\n",
       "      <td>0</td>\n",
       "      <td>1</td>\n",
       "    </tr>\n",
       "    <tr>\n",
       "      <th>3</th>\n",
       "      <td>1</td>\n",
       "      <td>30.0000</td>\n",
       "      <td>1</td>\n",
       "      <td>2</td>\n",
       "      <td>151.5500</td>\n",
       "      <td>1</td>\n",
       "      <td>0</td>\n",
       "      <td>0</td>\n",
       "      <td>1</td>\n",
       "    </tr>\n",
       "    <tr>\n",
       "      <th>4</th>\n",
       "      <td>1</td>\n",
       "      <td>25.0000</td>\n",
       "      <td>1</td>\n",
       "      <td>2</td>\n",
       "      <td>151.5500</td>\n",
       "      <td>0</td>\n",
       "      <td>0</td>\n",
       "      <td>0</td>\n",
       "      <td>1</td>\n",
       "    </tr>\n",
       "  </tbody>\n",
       "</table>\n",
       "</div>"
      ],
      "text/plain": [
       "   pclass      age  sibsp  parch      fare  gender  embarked_C  embarked_Q  \\\n",
       "0       1  29.0000      0      0  211.3375       0           0           0   \n",
       "1       1   0.9167      1      2  151.5500       1           0           0   \n",
       "2       1   2.0000      1      2  151.5500       0           0           0   \n",
       "3       1  30.0000      1      2  151.5500       1           0           0   \n",
       "4       1  25.0000      1      2  151.5500       0           0           0   \n",
       "\n",
       "   embarked_S  \n",
       "0           1  \n",
       "1           1  \n",
       "2           1  \n",
       "3           1  \n",
       "4           1  "
      ]
     },
     "execution_count": 14,
     "metadata": {},
     "output_type": "execute_result"
    }
   ],
   "source": [
    "X = data[[\"pclass\", \"age\", \"sibsp\", \"parch\", \"fare\", \"gender\", \"embarked_C\", \"embarked_Q\", \"embarked_S\"]]\n",
    "X.head()"
   ]
  },
  {
   "cell_type": "markdown",
   "metadata": {},
   "source": [
    "And the corresponding labels:"
   ]
  },
  {
   "cell_type": "code",
   "execution_count": 15,
   "metadata": {
    "collapsed": true
   },
   "outputs": [],
   "source": [
    "Y = data.survived"
   ]
  },
  {
   "cell_type": "markdown",
   "metadata": {},
   "source": [
    "And split both into 70/30 training/testing sets:"
   ]
  },
  {
   "cell_type": "code",
   "execution_count": 16,
   "metadata": {
    "collapsed": true
   },
   "outputs": [],
   "source": [
    "np.random.seed(1)\n",
    "split = np.random.choice([True, False], p=[0.7, 0.3], size=len(data))"
   ]
  },
  {
   "cell_type": "code",
   "execution_count": 17,
   "metadata": {
    "collapsed": true
   },
   "outputs": [],
   "source": [
    "X_train = X[split]\n",
    "X_test = X[~split]\n",
    "\n",
    "Y_train = Y[split]\n",
    "Y_test = Y[~split]"
   ]
  },
  {
   "cell_type": "code",
   "execution_count": 18,
   "metadata": {},
   "outputs": [
    {
     "data": {
      "text/html": [
       "<div>\n",
       "<style>\n",
       "    .dataframe thead tr:only-child th {\n",
       "        text-align: right;\n",
       "    }\n",
       "\n",
       "    .dataframe thead th {\n",
       "        text-align: left;\n",
       "    }\n",
       "\n",
       "    .dataframe tbody tr th {\n",
       "        vertical-align: top;\n",
       "    }\n",
       "</style>\n",
       "<table border=\"1\" class=\"dataframe\">\n",
       "  <thead>\n",
       "    <tr style=\"text-align: right;\">\n",
       "      <th></th>\n",
       "      <th>pclass</th>\n",
       "      <th>age</th>\n",
       "      <th>sibsp</th>\n",
       "      <th>parch</th>\n",
       "      <th>fare</th>\n",
       "      <th>gender</th>\n",
       "      <th>embarked_C</th>\n",
       "      <th>embarked_Q</th>\n",
       "      <th>embarked_S</th>\n",
       "    </tr>\n",
       "  </thead>\n",
       "  <tbody>\n",
       "    <tr>\n",
       "      <th>0</th>\n",
       "      <td>1</td>\n",
       "      <td>29.0</td>\n",
       "      <td>0</td>\n",
       "      <td>0</td>\n",
       "      <td>211.3375</td>\n",
       "      <td>0</td>\n",
       "      <td>0</td>\n",
       "      <td>0</td>\n",
       "      <td>1</td>\n",
       "    </tr>\n",
       "    <tr>\n",
       "      <th>2</th>\n",
       "      <td>1</td>\n",
       "      <td>2.0</td>\n",
       "      <td>1</td>\n",
       "      <td>2</td>\n",
       "      <td>151.5500</td>\n",
       "      <td>0</td>\n",
       "      <td>0</td>\n",
       "      <td>0</td>\n",
       "      <td>1</td>\n",
       "    </tr>\n",
       "    <tr>\n",
       "      <th>3</th>\n",
       "      <td>1</td>\n",
       "      <td>30.0</td>\n",
       "      <td>1</td>\n",
       "      <td>2</td>\n",
       "      <td>151.5500</td>\n",
       "      <td>1</td>\n",
       "      <td>0</td>\n",
       "      <td>0</td>\n",
       "      <td>1</td>\n",
       "    </tr>\n",
       "    <tr>\n",
       "      <th>4</th>\n",
       "      <td>1</td>\n",
       "      <td>25.0</td>\n",
       "      <td>1</td>\n",
       "      <td>2</td>\n",
       "      <td>151.5500</td>\n",
       "      <td>0</td>\n",
       "      <td>0</td>\n",
       "      <td>0</td>\n",
       "      <td>1</td>\n",
       "    </tr>\n",
       "    <tr>\n",
       "      <th>5</th>\n",
       "      <td>1</td>\n",
       "      <td>48.0</td>\n",
       "      <td>0</td>\n",
       "      <td>0</td>\n",
       "      <td>26.5500</td>\n",
       "      <td>1</td>\n",
       "      <td>0</td>\n",
       "      <td>0</td>\n",
       "      <td>1</td>\n",
       "    </tr>\n",
       "  </tbody>\n",
       "</table>\n",
       "</div>"
      ],
      "text/plain": [
       "   pclass   age  sibsp  parch      fare  gender  embarked_C  embarked_Q  \\\n",
       "0       1  29.0      0      0  211.3375       0           0           0   \n",
       "2       1   2.0      1      2  151.5500       0           0           0   \n",
       "3       1  30.0      1      2  151.5500       1           0           0   \n",
       "4       1  25.0      1      2  151.5500       0           0           0   \n",
       "5       1  48.0      0      0   26.5500       1           0           0   \n",
       "\n",
       "   embarked_S  \n",
       "0           1  \n",
       "2           1  \n",
       "3           1  \n",
       "4           1  \n",
       "5           1  "
      ]
     },
     "execution_count": 18,
     "metadata": {},
     "output_type": "execute_result"
    }
   ],
   "source": [
    "X_train.head()"
   ]
  },
  {
   "cell_type": "code",
   "execution_count": null,
   "metadata": {},
   "outputs": [],
   "source": []
  },
  {
   "cell_type": "markdown",
   "metadata": {},
   "source": [
    "## train a model\n",
    "\n",
    "Since this is a generic machine learning problem let's save some time and use a generic machine learning library, `sklearn`.\n",
    "\n",
    "All the models in `sklearn` have the same basic interface:\n",
    "\n",
    "* Define a model with something like `model = sklearn.submodule.ModelType(model parameters)`\n",
    "* Train with `model.fit(training_data, training_labels)`\n",
    "* Predict on new data with `model.predict(test_data, test_labels)`\n",
    "\n",
    "For regularized logistic regression, there's also a necessary preprocessing step- to make sure our cost effects all the columns equally, we need to make sure that all the columns are roughly the same size. A standard approach is, for each column, to subtract the mean and then divide by the standard deviation. This makes sure that every column has mean 0 and standard deviation 1. \n",
    "\n",
    "The `sklearn.preprocessing.StandardScaler()` object automates this for us. Note that, like always, we do any preprocessing **only on the training set**.\n",
    "\n",
    "Finally, notice that the regularization constant `C` is the *inverse* regularization strength (so a smaller value means larger cost). I realize that they're trying to make it similar to their support vector machine interface but I still think it's a boorish API decision. "
   ]
  },
  {
   "cell_type": "code",
   "execution_count": 19,
   "metadata": {
    "collapsed": true
   },
   "outputs": [],
   "source": [
    "scaler = sklearn.preprocessing.StandardScaler().fit(X_train)\n",
    "model = sklearn.linear_model.LogisticRegression(penalty=\"l2\", C=1.)\n",
    "model = model.fit(scaler.transform(X_train), Y_train)"
   ]
  },
  {
   "cell_type": "code",
   "execution_count": 20,
   "metadata": {},
   "outputs": [],
   "source": [
    "train_predictions = model.predict(scaler.transform(X_train))\n",
    "test_predictions = model.predict(scaler.transform(X_test))"
   ]
  },
  {
   "cell_type": "code",
   "execution_count": 21,
   "metadata": {},
   "outputs": [
    {
     "name": "stdout",
     "output_type": "stream",
     "text": [
      "train accuracy: 0.805442176871\n",
      "test accuracy: 0.756493506494\n"
     ]
    }
   ],
   "source": [
    "train_accuracy = sklearn.metrics.accuracy_score(Y_train, train_predictions)\n",
    "test_accuracy = sklearn.metrics.accuracy_score(Y_test, test_predictions)\n",
    "\n",
    "print(\"train accuracy: %s\"%train_accuracy)\n",
    "print(\"test accuracy: %s\"%test_accuracy)"
   ]
  },
  {
   "cell_type": "markdown",
   "metadata": {},
   "source": [
    "As expected, the model does better on the training set than the test set."
   ]
  },
  {
   "cell_type": "markdown",
   "metadata": {},
   "source": [
    "## Hyperparameter tuning\n",
    "\n",
    "Now let's try varying the regularization strength `C` and see how it changes the model's performance.\n",
    "\n",
    "To simplify the rest of the notebook, we'll write a little function that automates the above: it inputs a value for the regularization (and optionally a training set and labels), and it trains a model and returns the training and test set accuracies:"
   ]
  },
  {
   "cell_type": "code",
   "execution_count": 22,
   "metadata": {
    "collapsed": true
   },
   "outputs": [],
   "source": [
    "def training_experiment(C, train=X_train, labels=Y_train):\n",
    "    scaler = sklearn.preprocessing.StandardScaler().fit(train)\n",
    "    model = sklearn.linear_model.LogisticRegression(penalty=\"l2\", C=C)\n",
    "    model = model.fit(scaler.transform(train), labels)\n",
    "    \n",
    "    train_predictions = model.predict(scaler.transform(train))\n",
    "    test_predictions = model.predict(scaler.transform(X_test))\n",
    "    \n",
    "    train_accuracy = sklearn.metrics.accuracy_score(labels, train_predictions)\n",
    "    test_accuracy = sklearn.metrics.accuracy_score(Y_test, test_predictions)\n",
    "    \n",
    "    return train_accuracy, test_accuracy"
   ]
  },
  {
   "cell_type": "markdown",
   "metadata": {},
   "source": [
    "Let's pick a big range (on a logarithmic scale) of regularization strengths to sweep over:"
   ]
  },
  {
   "cell_type": "code",
   "execution_count": 23,
   "metadata": {
    "collapsed": true
   },
   "outputs": [],
   "source": [
    "# inverse regularization strength: smaller values =  more regularization\n",
    "Cvals = 10**np.linspace(-20, 2, 50)"
   ]
  },
  {
   "cell_type": "markdown",
   "metadata": {},
   "source": [
    "For those of you who aren't big Python fans, the following line is called a **list comprehension.** It will generate a list of results of `training_experiment`, one for each value of the regularization strength in `Cvals`."
   ]
  },
  {
   "cell_type": "code",
   "execution_count": 24,
   "metadata": {
    "collapsed": true
   },
   "outputs": [],
   "source": [
    "accuracies = [training_experiment(c) for c in Cvals]"
   ]
  },
  {
   "cell_type": "markdown",
   "metadata": {},
   "source": [
    "Now plot training and test accuracy as a function of regularization:"
   ]
  },
  {
   "cell_type": "code",
   "execution_count": 25,
   "metadata": {},
   "outputs": [
    {
     "data": {
      "image/png": "[encoded data removed]",
      "text/plain": [
       "<matplotlib.figure.Figure at 0x7fe2124f89e8>"
      ]
     },
     "metadata": {},
     "output_type": "display_data"
    }
   ],
   "source": [
    "plt.plot(Cvals, [a[0] for a in accuracies], \"-\", label=\"train\", lw=2)\n",
    "plt.plot(Cvals, [a[1] for a in accuracies], \"-\", label=\"test\", lw=2)\n",
    "plt.legend(loc=\"lower right\")\n",
    "plt.grid(\"on\")\n",
    "plt.xlabel(\"inverse regularization strength\", fontsize=14)\n",
    "plt.ylabel(\"accuracy\", fontsize=14)\n",
    "plt.xscale(\"log\");"
   ]
  },
  {
   "cell_type": "markdown",
   "metadata": {},
   "source": [
    "Some notes on interpreting this:\n",
    "\n",
    "* If the regularization cost is too high (left-hand side), it basically turns all the parameters \"off\". Don't do this.\n",
    "* There's a big range in the middle where the test and train accuracies are about the same. You could probably pick any value in this range and it wouldn't matter much, but a common practice is to take the largest strength (smallest C) that's within one standard error of the optimal value (the \"1se rule\").\n",
    "* If the regularization cost is too low (right-hand side) the model **overfits:** the training accuracy increases as the model memorizes noise, and the test accuracy drops off."
   ]
  },
  {
   "cell_type": "code",
   "execution_count": null,
   "metadata": {
    "collapsed": true
   },
   "outputs": [],
   "source": []
  },
  {
   "cell_type": "markdown",
   "metadata": {},
   "source": [
    "## Visualizing the bias-variance tradeoff\n",
    "\n",
    "When we go through the BVT derivation, we see that one part of a model's error comes from the variance in estimating its parameters. If we have less data, we'd expect that variance to get larger.\n",
    "\n",
    "Let's take a tiny random sample of our training set and try repeating our above hyperparameter sweep. Notice that we'll **keep the test set the same** to make sure we're doing an apples-to-apples comparison."
   ]
  },
  {
   "cell_type": "code",
   "execution_count": 28,
   "metadata": {
    "collapsed": true
   },
   "outputs": [],
   "source": [
    "np.random.seed(2)\n",
    "tiny_sample = np.random.choice(range(len(Y_train)), replace=False, size=15)\n",
    "X_tiny = X_train.iloc[tiny_sample]\n",
    "Y_tiny = Y_train.iloc[tiny_sample]"
   ]
  },
  {
   "cell_type": "code",
   "execution_count": 29,
   "metadata": {
    "collapsed": true
   },
   "outputs": [],
   "source": [
    "accuracies_tiny = [training_experiment(c, X_tiny, Y_tiny) for c in Cvals]"
   ]
  },
  {
   "cell_type": "code",
   "execution_count": 30,
   "metadata": {},
   "outputs": [
    {
     "data": {
      "image/png": "[encoded data removed]",
      "text/plain": [
       "<matplotlib.figure.Figure at 0x7fe2104fa898>"
      ]
     },
     "metadata": {},
     "output_type": "display_data"
    }
   ],
   "source": [
    "plt.plot(Cvals, [a[0] for a in accuracies], \"-\", label=\"train\", lw=2)\n",
    "plt.plot(Cvals, [a[1] for a in accuracies], \"-\", label=\"test\", lw=2)\n",
    "plt.plot(Cvals, [a[0] for a in accuracies_tiny], \"-\", label=\"train (tiny)\", lw=2)\n",
    "plt.plot(Cvals, [a[1] for a in accuracies_tiny], \"-\", label=\"test (tiny)\", lw=2)\n",
    "\n",
    "plt.xlabel(\"inverse regularization strength\", fontsize=14)\n",
    "plt.ylabel(\"accuracy\", fontsize=14)\n",
    "plt.legend(loc=\"lower right\")\n",
    "plt.grid(\"on\")\n",
    "plt.xscale(\"log\");"
   ]
  },
  {
   "cell_type": "markdown",
   "metadata": {},
   "source": [
    "Some notes:\n",
    "\n",
    "* The training accuracy looks great, doesn't it? The model has 10 free parameters, so it's not surprising that it can find a pretty good separation between 15 training points. This is why we never, ever report performance measures on the training set.\n",
    "* Notice that not only is the test accuracy significantly lower for the model trained on a smaller training set, but it picks a completely different optimal range for the hyperparameter."
   ]
  },
  {
   "cell_type": "markdown",
   "metadata": {},
   "source": [
    "If we built a bunch of 15-point training sets, would they all look like this? Let's make a bunch of tiny datasets and repeat the same hyperparameter sweep for each to see how much variation there is in the test accuracy:"
   ]
  },
  {
   "cell_type": "code",
   "execution_count": 32,
   "metadata": {},
   "outputs": [],
   "source": [
    "N = 100\n",
    "reg_curves = np.zeros((N, len(Cvals)))\n",
    "\n",
    "for i in range(N):\n",
    "    tiny_sample = np.random.choice(range(len(Y_train)), replace=False, size=15)\n",
    "    X_tiny = X_train.iloc[tiny_sample]\n",
    "    Y_tiny = Y_train.iloc[tiny_sample]\n",
    "    accuracies_tiny = [training_experiment(c, X_tiny, Y_tiny) for c in Cvals]\n",
    "    reg_curves[i,:] = np.array([a[1] for a in accuracies_tiny])"
   ]
  },
  {
   "cell_type": "code",
   "execution_count": 33,
   "metadata": {},
   "outputs": [
    {
     "data": {
      "image/png": "[encoded data removed]",
      "text/plain": [
       "<matplotlib.figure.Figure at 0x7fe2104b12b0>"
      ]
     },
     "metadata": {},
     "output_type": "display_data"
    }
   ],
   "source": [
    "for i in range(N):\n",
    "    plt.plot(Cvals, reg_curves[i,:], \"b-\", label=\"test (tiny)\", lw=2, alpha=0.15)\n",
    "    \n",
    "plt.xlabel(\"inverse regularization strength\", fontsize=14)\n",
    "plt.ylabel(\"test accuracy\", fontsize=14)\n",
    "plt.grid(\"on\")\n",
    "plt.xscale(\"log\");"
   ]
  },
  {
   "cell_type": "markdown",
   "metadata": {},
   "source": [
    "The lines in the above plot are all over the place, but they're not *uniformly* all over the place. For each value of `C`, let's compute the variance in test accuracies to see how much the model performance varies as we change the regularization:"
   ]
  },
  {
   "cell_type": "code",
   "execution_count": 58,
   "metadata": {},
   "outputs": [
    {
     "data": {
      "image/png": "[encoded data removed]",
      "text/plain": [
       "<matplotlib.figure.Figure at 0x7fe210487208>"
      ]
     },
     "metadata": {},
     "output_type": "display_data"
    }
   ],
   "source": [
    "plt.plot(Cvals, reg_curves.var(axis=0), lw=5)\n",
    "\n",
    "plt.annotate(\"increasing model bias\", xy=(1e-19,0.5e-3), \n",
    "             xytext=(1e-13,0.5e-3),\n",
    "            arrowprops=dict(facecolor=\"black\"), \n",
    "             verticalalignment=\"center\",\n",
    "            fontsize=14)\n",
    "\n",
    "plt.annotate(\"increasing model\\nvariance\", xy=(1e-7,4e-3), \n",
    "             xytext=(1e-7,1.5e-3),\n",
    "            arrowprops=dict(facecolor=\"black\"), \n",
    "             verticalalignment=\"center\",\n",
    "            fontsize=14)\n",
    "\n",
    "plt.grid(\"on\")\n",
    "plt.ylabel(\"variance of test accuracy\", fontsize=14)\n",
    "plt.xlabel(\"inverse regularization strength\", fontsize=14)\n",
    "plt.xscale(\"log\");"
   ]
  },
  {
   "cell_type": "markdown",
   "metadata": {},
   "source": [
    "This is the **bias-variance tradeoff.** As we move to the right on the graph (decreasing the cost of a more complex model), we're reducing bias by making it more flexible. The bad news is that the variation in how the model performs tends to increase in the direction, so we need more data to fit the model reliably."
   ]
  },
  {
   "cell_type": "code",
   "execution_count": null,
   "metadata": {
    "collapsed": true
   },
   "outputs": [],
   "source": []
  }
 ],
 "metadata": {
  "kernelspec": {
   "display_name": "Python 3",
   "language": "python",
   "name": "python3"
  },
  "language_info": {
   "codemirror_mode": {
    "name": "ipython",
    "version": 3
   },
   "file_extension": ".py",
   "mimetype": "text/x-python",
   "name": "python",
   "nbconvert_exporter": "python",
   "pygments_lexer": "ipython3",
   "version": "3.6.1"
  }
 },
 "nbformat": 4,
 "nbformat_minor": 2
}
