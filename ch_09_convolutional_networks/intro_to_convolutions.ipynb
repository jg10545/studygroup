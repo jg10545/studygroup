{
 "cells": [
  {
   "cell_type": "markdown",
   "metadata": {},
   "source": [
    "# Polyak averaging\n",
    "\n",
    "Let's try this out. My method for implementing this in TensorFlow started from a blog post here: http://ruishu.io/2017/11/22/ema/ but is updated to work with newer TF versions."
   ]
  },
  {
   "cell_type": "code",
   "execution_count": 1,
   "metadata": {
    "collapsed": true
   },
   "outputs": [
    {
     "name": "stderr",
     "output_type": "stream",
     "text": [
      "/anaconda3/lib/python3.6/site-packages/h5py/__init__.py:36: FutureWarning: Conversion of the second argument of issubdtype from `float` to `np.floating` is deprecated. In future, it will be treated as `np.float64 == np.dtype(float).type`.\n",
      "  from ._conv import register_converters as _register_converters\n"
     ]
    }
   ],
   "source": [
    "import numpy as np\n",
    "import matplotlib.pyplot as plt\n",
    "import tensorflow as tf\n",
    "from tqdm import tqdm\n",
    "\n",
    "import sklearn.decomposition\n",
    "\n",
    "%matplotlib inline\n",
    "from IPython.core.pylabtools import figsize"
   ]
  },
  {
   "cell_type": "code",
   "execution_count": 2,
   "metadata": {},
   "outputs": [
    {
     "data": {
      "text/plain": [
       "'1.5.0'"
      ]
     },
     "execution_count": 2,
     "metadata": {},
     "output_type": "execute_result"
    }
   ],
   "source": [
    "tf.__version__"
   ]
  },
  {
   "cell_type": "markdown",
   "metadata": {},
   "source": [
    "## Load the dataset\n",
    "\n",
    "Let's get MNISTy."
   ]
  },
  {
   "cell_type": "code",
   "execution_count": 3,
   "metadata": {
    "collapsed": true
   },
   "outputs": [],
   "source": [
    "from tensorflow.examples.tutorials.mnist import input_data"
   ]
  },
  {
   "cell_type": "markdown",
   "metadata": {},
   "source": [
    "Edit the `\"data/\"` to wherever you hid the files."
   ]
  },
  {
   "cell_type": "code",
   "execution_count": 4,
   "metadata": {},
   "outputs": [
    {
     "name": "stdout",
     "output_type": "stream",
     "text": [
      "Extracting data/train-images-idx3-ubyte.gz\n",
      "Extracting data/train-labels-idx1-ubyte.gz\n",
      "Extracting data/t10k-images-idx3-ubyte.gz\n",
      "Extracting data/t10k-labels-idx1-ubyte.gz\n"
     ]
    }
   ],
   "source": [
    "mnist = input_data.read_data_sets(\"data/\")"
   ]
  },
  {
   "cell_type": "code",
   "execution_count": null,
   "metadata": {},
   "outputs": [],
   "source": []
  },
  {
   "cell_type": "code",
   "execution_count": 22,
   "metadata": {},
   "outputs": [],
   "source": []
  },
  {
   "cell_type": "code",
   "execution_count": null,
   "metadata": {},
   "outputs": [],
   "source": []
  },
  {
   "cell_type": "code",
   "execution_count": 23,
   "metadata": {},
   "outputs": [],
   "source": []
  },
  {
   "cell_type": "code",
   "execution_count": 73,
   "metadata": {},
   "outputs": [],
   "source": [
    "tf.reset_default_graph()\n",
    "\n",
    "kernel = tf.constant(np.array([\n",
    "    [1,0,-1],\n",
    "    [1,0,-1],\n",
    "    [1,0,-1]\n",
    "]), dtype=tf.float32)\n",
    "\n",
    "x = tf.placeholder(tf.float32, [784,])\n",
    "img = tf.reshape(x, [1, 28, 28, 1])\n",
    "kern = tf.reshape(kernel, [3, 3, 1, 1])\n",
    "\n",
    "conv = tf.nn.conv2d(img, kern, strides=[1, 1, 1, 1], padding=\"SAME\")\n",
    "conv = tf.squeeze(conv)"
   ]
  },
  {
   "cell_type": "code",
   "execution_count": null,
   "metadata": {},
   "outputs": [],
   "source": []
  },
  {
   "cell_type": "code",
   "execution_count": 74,
   "metadata": {},
   "outputs": [
    {
     "data": {
      "image/png": "[encoded data removed]",
      "text/plain": [
       "<matplotlib.figure.Figure at 0x1c317135f8>"
      ]
     },
     "metadata": {},
     "output_type": "display_data"
    }
   ],
   "source": [
    "figsize(10, 8)\n",
    "with tf.Session() as sess:\n",
    "    for i in range(8):\n",
    "        im = mnist.train.images[i,:]\n",
    "        plt.subplot(4, 4, 2*i+1)\n",
    "        plt.imshow(im.reshape((28,28)), cmap=plt.cm.bone, interpolation=\"none\")\n",
    "        plt.axis(\"off\")\n",
    "    \n",
    "        plt.subplot(4, 4, 2*(i+1))\n",
    "        plt.imshow(sess.run(conv, feed_dict={x:im}), cmap=plt.cm.bone, interpolation=\"none\")\n",
    "        plt.axis(\"off\")"
   ]
  },
  {
   "cell_type": "code",
   "execution_count": null,
   "metadata": {},
   "outputs": [],
   "source": []
  },
  {
   "cell_type": "code",
   "execution_count": null,
   "metadata": {},
   "outputs": [],
   "source": []
  },
  {
   "cell_type": "code",
   "execution_count": 71,
   "metadata": {},
   "outputs": [],
   "source": [
    "tf.reset_default_graph()\n",
    "\n",
    "kernel = tf.constant(np.array([\n",
    "    [[1,0,-1],\n",
    "    [1,0,-1],\n",
    "    [1,0,-1]],\n",
    "    [[-1, 0, 1],\n",
    "    [-1, 0, 1],\n",
    "    [-1, 0, 1]],\n",
    "    [[1, 1, 1],\n",
    "    [0, 0, 0],\n",
    "    [-1, -1, -1]],\n",
    "]), dtype=tf.float32)\n",
    "\n",
    "x = tf.placeholder(tf.float32, [784,])\n",
    "img = tf.reshape(x, [1, 28, 28, 1])\n",
    "kern = tf.reshape(kernel, [3, 3, 1, 3])\n",
    "\n",
    "conv = tf.nn.conv2d(img, kern, strides=[1, 1, 1, 1], padding=\"SAME\")\n",
    "maxpool = tf.nn.max_pool(conv, ksize=[1,2,2,1], strides=[1,2,2,1], padding=\"SAME\")\n",
    "maxpool = tf.squeeze(maxpool)"
   ]
  },
  {
   "cell_type": "code",
   "execution_count": 72,
   "metadata": {},
   "outputs": [
    {
     "data": {
      "image/png": "[encoded data removed]",
      "text/plain": [
       "<matplotlib.figure.Figure at 0x1c31713cf8>"
      ]
     },
     "metadata": {},
     "output_type": "display_data"
    }
   ],
   "source": [
    "figsize(10, 8)\n",
    "with tf.Session() as sess:\n",
    "    for i in range(8):\n",
    "        im = mnist.train.images[i,:]\n",
    "        plt.subplot(4, 4, 2*i+1)\n",
    "        plt.imshow(im.reshape((28,28)), cmap=plt.cm.bone, interpolation=\"none\")\n",
    "        plt.axis(\"off\")\n",
    "    \n",
    "        plt.subplot(4, 4, 2*(i+1))\n",
    "        features = sess.run(maxpool, feed_dict={x:im})\n",
    "        features -= features.min()\n",
    "        features /= features.max()\n",
    "        plt.imshow(features, interpolation=\"none\")\n",
    "        plt.axis(\"off\")"
   ]
  },
  {
   "cell_type": "code",
   "execution_count": null,
   "metadata": {},
   "outputs": [],
   "source": []
  },
  {
   "cell_type": "code",
   "execution_count": 94,
   "metadata": {
    "collapsed": true
   },
   "outputs": [
    {
     "name": "stdout",
     "output_type": "stream",
     "text": [
      "img: (?, 28, 28, 1)\n",
      "pool1: (?, 14, 14, 4)\n",
      "pool2: (?, 7, 7, 16)\n",
      "flat: (?, 784)\n"
     ]
    }
   ],
   "source": [
    "tf.reset_default_graph()\n",
    "\n",
    "kernel = tf.constant(np.array([\n",
    "    [[1,0,-1],\n",
    "    [1,0,-1],\n",
    "    [1,0,-1]],\n",
    "    [[-1, 0, 1],\n",
    "    [-1, 0, 1],\n",
    "    [-1, 0, 1]],\n",
    "    [[1, 1, 1],\n",
    "    [0, 0, 0],\n",
    "    [-1, -1, -1]],\n",
    "]), dtype=tf.float32)\n",
    "\n",
    "x = tf.placeholder(tf.float32, [None,784])\n",
    "y_ = tf.placeholder(tf.int32, [None,])\n",
    "y_oh = tf.one_hot(y_, 10)\n",
    "\n",
    "img = tf.reshape(x, [-1, 28, 28, 1])\n",
    "print(\"img:\", img.get_shape())\n",
    "\n",
    "conv1 = tf.layers.conv2d(img, 4, [3, 3], padding=\"same\")\n",
    "pool1 = tf.layers.max_pooling2d(conv1, pool_size=2, strides=2, padding=\"same\")\n",
    "print(\"pool1:\", pool1.get_shape())\n",
    "\n",
    "conv2 = tf.layers.conv2d(pool1, 16, [3, 3], padding=\"same\")\n",
    "pool2 = tf.layers.max_pooling2d(conv2, pool_size=2, strides=2, padding=\"same\")\n",
    "print(\"pool2:\", pool2.get_shape())\n",
    "flat = tf.layers.flatten(pool2)\n",
    "print(\"flat:\", flat.get_shape())\n",
    "\n",
    "logits = tf.layers.dense(flat, 10)\n",
    "probs = tf.nn.softmax(logits)\n",
    "predictions = tf.argmax(logits, 1, output_type=tf.int32)\n",
    "accuracy = tf.reduce_mean(tf.cast(tf.equal(predictions, y_), tf.float32))\n",
    "\n",
    "loss = tf.losses.softmax_cross_entropy(y_oh, logits)\n",
    "optimizer = tf.train.RMSPropOptimizer(1e-3)\n",
    "train_op = optimizer.minimize(loss)"
   ]
  },
  {
   "cell_type": "code",
   "execution_count": null,
   "metadata": {},
   "outputs": [],
   "source": []
  },
  {
   "cell_type": "code",
   "execution_count": 97,
   "metadata": {},
   "outputs": [
    {
     "name": "stdout",
     "output_type": "stream",
     "text": [
      "0 test accuracy: 0.0975\n",
      "10 test accuracy: 0.0996\n",
      "20 test accuracy: 0.1026\n",
      "30 test accuracy: 0.1071\n",
      "40 test accuracy: 0.1173\n",
      "50 test accuracy: 0.1434\n",
      "60 test accuracy: 0.2108\n",
      "70 test accuracy: 0.2969\n",
      "80 test accuracy: 0.4058\n",
      "90 test accuracy: 0.5805\n",
      "100 test accuracy: 0.6958\n",
      "110 test accuracy: 0.7649\n",
      "120 test accuracy: 0.7715\n",
      "130 test accuracy: 0.8198\n",
      "140 test accuracy: 0.8453\n",
      "150 test accuracy: 0.8592\n",
      "160 test accuracy: 0.8757\n",
      "170 test accuracy: 0.8858\n",
      "180 test accuracy: 0.8902\n",
      "190 test accuracy: 0.8961\n",
      "200 test accuracy: 0.8996\n",
      "210 test accuracy: 0.9015\n",
      "220 test accuracy: 0.9046\n",
      "230 test accuracy: 0.9111\n",
      "240 test accuracy: 0.9143\n"
     ]
    }
   ],
   "source": [
    "with tf.Session() as sess:\n",
    "    sess.run(tf.global_variables_initializer())\n",
    "    for e in range(250):\n",
    "        im, lab = mnist.train.next_batch(250)\n",
    "        sess.run(train_op, feed_dict={x:im, y_:lab})\n",
    "        if e % 10 == 0:\n",
    "            acc = sess.run(accuracy, feed_dict={x:mnist.test.images, y_:mnist.test.labels})\n",
    "            print(\"%s test accuracy: %s\"%(e,acc))\n",
    "            \n",
    "    filters = sess.run([img, pool1, pool2], feed_dict={x:mnist.train.images[:10,:]})"
   ]
  },
  {
   "cell_type": "code",
   "execution_count": 81,
   "metadata": {},
   "outputs": [],
   "source": []
  },
  {
   "cell_type": "code",
   "execution_count": 116,
   "metadata": {},
   "outputs": [
    {
     "data": {
      "image/png": "[encoded data removed]",
      "text/plain": [
       "<matplotlib.figure.Figure at 0x1c263f7fd0>"
      ]
     },
     "metadata": {},
     "output_type": "display_data"
    }
   ],
   "source": [
    "i = 7\n",
    "figsize(12, 6)\n",
    "\n",
    "plt.subplot(1, 3, 1)\n",
    "#plt.figure()\n",
    "plt.imshow(filters[0][i,:,:,0], cmap=plt.cm.bone, interpolation=\"none\")\n",
    "plt.axis(\"off\")\n",
    "\n",
    "#plt.figure()\n",
    "for j in range(4):\n",
    "    plt.subplot(2, 6, [3, 4, 9, 10][j])\n",
    "    plt.imshow(filters[1][i,:,:,j], cmap=plt.cm.bone, interpolation=\"none\")\n",
    "    plt.axis(\"off\");\n",
    "    \n",
    "for j in range(16):\n",
    "    plt.subplot(4, 12, [9, 10, 11, 12, 21, 22, 23, 24, 33, 34, 35, 36,\n",
    "                       45, 46, 47, 48][j])\n",
    "    plt.imshow(filters[2][i,:,:,j], cmap=plt.cm.bone, interpolation=\"none\")\n",
    "    plt.axis(\"off\");"
   ]
  },
  {
   "cell_type": "code",
   "execution_count": null,
   "metadata": {},
   "outputs": [],
   "source": []
  }
 ],
 "metadata": {
  "anaconda-cloud": {},
  "kernelspec": {
   "display_name": "Python 3",
   "language": "python",
   "name": "python3"
  },
  "language_info": {
   "codemirror_mode": {
    "name": "ipython",
    "version": 3
   },
   "file_extension": ".py",
   "mimetype": "text/x-python",
   "name": "python",
   "nbconvert_exporter": "python",
   "pygments_lexer": "ipython3",
   "version": "3.6.4"
  }
 },
 "nbformat": 4,
 "nbformat_minor": 2
}
