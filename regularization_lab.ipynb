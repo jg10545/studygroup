{
 "cells": [
  {
   "cell_type": "markdown",
   "metadata": {},
   "source": [
    "# Regularization: The Lab\n",
    "\n",
    "Highest AUC gets to pick a sticker from the sticker skull."
   ]
  },
  {
   "cell_type": "code",
   "execution_count": 1,
   "metadata": {},
   "outputs": [
    {
     "name": "stderr",
     "output_type": "stream",
     "text": [
      "/anaconda3/lib/python3.6/site-packages/h5py/__init__.py:36: FutureWarning: Conversion of the second argument of issubdtype from `float` to `np.floating` is deprecated. In future, it will be treated as `np.float64 == np.dtype(float).type`.\n",
      "  from ._conv import register_converters as _register_converters\n"
     ]
    }
   ],
   "source": [
    "import numpy as np\n",
    "import matplotlib.pyplot as plt\n",
    "import pandas as pd\n",
    "import tensorflow as tf\n",
    "\n",
    "import sklearn.linear_model, sklearn.preprocessing, sklearn.metrics\n",
    "\n",
    "from tqdm import tqdm\n",
    "from IPython.core.pylabtools import figsize"
   ]
  },
  {
   "cell_type": "code",
   "execution_count": null,
   "metadata": {},
   "outputs": [],
   "source": []
  },
  {
   "cell_type": "markdown",
   "metadata": {},
   "source": [
    "## Load and prepare the data"
   ]
  },
  {
   "cell_type": "code",
   "execution_count": 2,
   "metadata": {},
   "outputs": [
    {
     "data": {
      "text/plain": [
       "1309"
      ]
     },
     "execution_count": 2,
     "metadata": {},
     "output_type": "execute_result"
    }
   ],
   "source": [
    "data = pd.read_csv(\"titanic.csv\")\n",
    "len(data)"
   ]
  },
  {
   "cell_type": "code",
   "execution_count": 3,
   "metadata": {},
   "outputs": [
    {
     "data": {
      "text/html": [
       "<div>\n",
       "<style scoped>\n",
       "    .dataframe tbody tr th:only-of-type {\n",
       "        vertical-align: middle;\n",
       "    }\n",
       "\n",
       "    .dataframe tbody tr th {\n",
       "        vertical-align: top;\n",
       "    }\n",
       "\n",
       "    .dataframe thead th {\n",
       "        text-align: right;\n",
       "    }\n",
       "</style>\n",
       "<table border=\"1\" class=\"dataframe\">\n",
       "  <thead>\n",
       "    <tr style=\"text-align: right;\">\n",
       "      <th></th>\n",
       "      <th>pclass</th>\n",
       "      <th>survived</th>\n",
       "      <th>name</th>\n",
       "      <th>sex</th>\n",
       "      <th>age</th>\n",
       "      <th>sibsp</th>\n",
       "      <th>parch</th>\n",
       "      <th>ticket</th>\n",
       "      <th>fare</th>\n",
       "      <th>cabin</th>\n",
       "      <th>embarked</th>\n",
       "      <th>boat</th>\n",
       "      <th>body</th>\n",
       "      <th>home.dest</th>\n",
       "    </tr>\n",
       "  </thead>\n",
       "  <tbody>\n",
       "    <tr>\n",
       "      <th>0</th>\n",
       "      <td>1</td>\n",
       "      <td>1</td>\n",
       "      <td>Allen, Miss. Elisabeth Walton</td>\n",
       "      <td>female</td>\n",
       "      <td>29.0000</td>\n",
       "      <td>0</td>\n",
       "      <td>0</td>\n",
       "      <td>24160</td>\n",
       "      <td>211.3375</td>\n",
       "      <td>B5</td>\n",
       "      <td>S</td>\n",
       "      <td>2</td>\n",
       "      <td>NaN</td>\n",
       "      <td>St Louis, MO</td>\n",
       "    </tr>\n",
       "    <tr>\n",
       "      <th>1</th>\n",
       "      <td>1</td>\n",
       "      <td>1</td>\n",
       "      <td>Allison, Master. Hudson Trevor</td>\n",
       "      <td>male</td>\n",
       "      <td>0.9167</td>\n",
       "      <td>1</td>\n",
       "      <td>2</td>\n",
       "      <td>113781</td>\n",
       "      <td>151.5500</td>\n",
       "      <td>C22 C26</td>\n",
       "      <td>S</td>\n",
       "      <td>11</td>\n",
       "      <td>NaN</td>\n",
       "      <td>Montreal, PQ / Chesterville, ON</td>\n",
       "    </tr>\n",
       "    <tr>\n",
       "      <th>2</th>\n",
       "      <td>1</td>\n",
       "      <td>0</td>\n",
       "      <td>Allison, Miss. Helen Loraine</td>\n",
       "      <td>female</td>\n",
       "      <td>2.0000</td>\n",
       "      <td>1</td>\n",
       "      <td>2</td>\n",
       "      <td>113781</td>\n",
       "      <td>151.5500</td>\n",
       "      <td>C22 C26</td>\n",
       "      <td>S</td>\n",
       "      <td>NaN</td>\n",
       "      <td>NaN</td>\n",
       "      <td>Montreal, PQ / Chesterville, ON</td>\n",
       "    </tr>\n",
       "    <tr>\n",
       "      <th>3</th>\n",
       "      <td>1</td>\n",
       "      <td>0</td>\n",
       "      <td>Allison, Mr. Hudson Joshua Creighton</td>\n",
       "      <td>male</td>\n",
       "      <td>30.0000</td>\n",
       "      <td>1</td>\n",
       "      <td>2</td>\n",
       "      <td>113781</td>\n",
       "      <td>151.5500</td>\n",
       "      <td>C22 C26</td>\n",
       "      <td>S</td>\n",
       "      <td>NaN</td>\n",
       "      <td>135.0</td>\n",
       "      <td>Montreal, PQ / Chesterville, ON</td>\n",
       "    </tr>\n",
       "    <tr>\n",
       "      <th>4</th>\n",
       "      <td>1</td>\n",
       "      <td>0</td>\n",
       "      <td>Allison, Mrs. Hudson J C (Bessie Waldo Daniels)</td>\n",
       "      <td>female</td>\n",
       "      <td>25.0000</td>\n",
       "      <td>1</td>\n",
       "      <td>2</td>\n",
       "      <td>113781</td>\n",
       "      <td>151.5500</td>\n",
       "      <td>C22 C26</td>\n",
       "      <td>S</td>\n",
       "      <td>NaN</td>\n",
       "      <td>NaN</td>\n",
       "      <td>Montreal, PQ / Chesterville, ON</td>\n",
       "    </tr>\n",
       "  </tbody>\n",
       "</table>\n",
       "</div>"
      ],
      "text/plain": [
       "   pclass  survived                                             name     sex  \\\n",
       "0       1         1                    Allen, Miss. Elisabeth Walton  female   \n",
       "1       1         1                   Allison, Master. Hudson Trevor    male   \n",
       "2       1         0                     Allison, Miss. Helen Loraine  female   \n",
       "3       1         0             Allison, Mr. Hudson Joshua Creighton    male   \n",
       "4       1         0  Allison, Mrs. Hudson J C (Bessie Waldo Daniels)  female   \n",
       "\n",
       "       age  sibsp  parch  ticket      fare    cabin embarked boat   body  \\\n",
       "0  29.0000      0      0   24160  211.3375       B5        S    2    NaN   \n",
       "1   0.9167      1      2  113781  151.5500  C22 C26        S   11    NaN   \n",
       "2   2.0000      1      2  113781  151.5500  C22 C26        S  NaN    NaN   \n",
       "3  30.0000      1      2  113781  151.5500  C22 C26        S  NaN  135.0   \n",
       "4  25.0000      1      2  113781  151.5500  C22 C26        S  NaN    NaN   \n",
       "\n",
       "                         home.dest  \n",
       "0                     St Louis, MO  \n",
       "1  Montreal, PQ / Chesterville, ON  \n",
       "2  Montreal, PQ / Chesterville, ON  \n",
       "3  Montreal, PQ / Chesterville, ON  \n",
       "4  Montreal, PQ / Chesterville, ON  "
      ]
     },
     "execution_count": 3,
     "metadata": {},
     "output_type": "execute_result"
    }
   ],
   "source": [
    "data.head()"
   ]
  },
  {
   "cell_type": "code",
   "execution_count": 4,
   "metadata": {},
   "outputs": [],
   "source": [
    "# shamelessly stolen from the titanic lab- build features\n",
    "data = data.drop([\"boat\", \"body\", \"home.dest\", \"cabin\", \"name\"], axis=1)\n",
    "data = data.dropna()\n",
    "data[\"gender\"] = data[\"sex\"].map({\"female\":0, \"male\":1}).astype(int)\n",
    "embark_dummies = pd.get_dummies(data['embarked'], prefix='embarked')\n",
    "data = pd.concat([data, embark_dummies], axis=1)\n",
    "# split into features and labels\n",
    "X = data[[\"pclass\", \"age\", \"sibsp\", \"parch\", \"fare\", \"gender\", \"embarked_C\", \"embarked_Q\", \"embarked_S\"]]\n",
    "Y = data.survived\n",
    "# split into train/test\n",
    "np.random.seed(1)\n",
    "split = np.random.choice([True, False], p=[0.7, 0.3], size=len(data))\n",
    "X_train = X[split].values\n",
    "X_test = X[~split].values\n",
    "Y_train = Y[split].values\n",
    "Y_test = Y[~split].values"
   ]
  },
  {
   "cell_type": "markdown",
   "metadata": {},
   "source": [
    "### Split into batches\n",
    "\n",
    "Remember that the number of batches you split the data into will change how the model trains!\n",
    "\n",
    "You can do all the data at once, break into large or small batches, and choose whether to split them once or reshuffle every training epoch.\n",
    "\n",
    "Here's some example code that will (every time you call it) reshuffle the dataset and generate a new list of `(training_points, training_labels)` tuples."
   ]
  },
  {
   "cell_type": "code",
   "execution_count": 5,
   "metadata": {},
   "outputs": [],
   "source": [
    "def batchinator(num_batches=5):\n",
    "    N = X_train.shape[0]\n",
    "    # shuffle the order\n",
    "    ordering = np.random.choice(np.arange(N), replace=False, size=N)\n",
    "    train_batches = np.array_split(X_train[ordering,:], num_batches, axis=0)\n",
    "    train_label_batches = np.array_split(Y_train[ordering], num_batches)\n",
    "    return zip(train_batches, train_label_batches)"
   ]
  },
  {
   "cell_type": "code",
   "execution_count": null,
   "metadata": {},
   "outputs": [],
   "source": []
  },
  {
   "cell_type": "code",
   "execution_count": null,
   "metadata": {},
   "outputs": [],
   "source": []
  },
  {
   "cell_type": "markdown",
   "metadata": {},
   "source": [
    "## Build a model\n",
    "\n",
    "The built-in tensorflow estimators don't actually have all the bells and whistles we want- so let's scavenge pieces from last week's code example and roll our own. Modify the model however you like. Follow your dreams.\n",
    "\n",
    "### Model details\n",
    "\n",
    "The code below is for a multilayer perceptron with a single hidden layer. Some basic parameters you can mess with:\n",
    "\n",
    "* the number of hidden-layer neurons\n",
    "* the hidden-layer activation function (I picked sigmoid, but you could do tanh, ReLU, etc)\n",
    "* the optimizer to use for training (I picked SGD with momentum, but you could do vanilla SGD, ADAM, RMSprop...) and its associated parameters\n",
    "* how the learning rate changes as you train- I added a `tf.placeholder_with_default` so (if you want) you can decrease the rate during training.\n",
    "\n",
    "### Regularization options\n",
    "\n",
    "* `epsilon` add noise to weights during training\n",
    "* `lambda_1` $L_{1}$ norm regularization strength\n",
    "* `lambda_2` $L_{2}$ norm regularization strength\n",
    "* `dropout` we haven't talked about dropout regularization yet, but it's really cool. Try setting to 0.5. Note that it will roughly double the number of training epochs required."
   ]
  },
  {
   "cell_type": "code",
   "execution_count": 8,
   "metadata": {},
   "outputs": [],
   "source": [
    "tf.reset_default_graph()\n",
    "\n",
    "# MODEL PARAMETERS\n",
    "input_dim = X.shape[1]\n",
    "num_hidden = 25\n",
    "num_classes = 2\n",
    "learnrate = 0.01\n",
    "momentum = 0.9\n",
    "\n",
    "\n",
    "# REGULARIZATION PARAMETERS\n",
    "epsilon = 0.1   # add \"dithering\" noise to weights\n",
    "lambda_1 = 1e-5 # L1 norm regularization weight\n",
    "lambda_2 = 1e-5 # L2 norm regularization weight\n",
    "dropout = 1.0   # dropout probability\n",
    "\n",
    "# INPUT LAYER\n",
    "x = tf.placeholder(tf.float32, [None, input_dim], name=\"data_placeholder\")\n",
    "y_ = tf.placeholder(tf.int32, [None,], name=\"label_placeholder\")\n",
    "is_training = tf.placeholder_with_default(1., []) \n",
    "y_oh = tf.one_hot(y_, num_classes, name=\"labels_one_hot\")\n",
    "\n",
    "# HIDDEN LAYER\n",
    "W1 = tf.Variable(tf.random_normal([input_dim, num_hidden], 0, 0.01))\n",
    "noise1 = is_training*tf.random_normal([input_dim, num_hidden], 0, epsilon)\n",
    "b1 = tf.Variable(tf.zeros([num_hidden]))\n",
    "y1 = tf.matmul(x,W1+noise1) + b1    \n",
    "#hidden = tf.sigmoid(y1) # or use tf.nn.relu(y1) or tf.nn.tanh(y1) here if you prefer\n",
    "if dropout < 1.0:\n",
    "    # set probability to 0.5 if training and 1 if evaluating\n",
    "    drop = is_training*dropout + (1-is_training)\n",
    "    y1 = tf.nn.dropout(y1, drop)\n",
    "hidden = tf.nn.tanh(y1)\n",
    "\n",
    "# OUTPUT LAYER\n",
    "W2 = tf.Variable(tf.random_normal([num_hidden, num_classes], 0, 0.01))\n",
    "noise2 = is_training*tf.random_normal([num_hidden, num_classes], 0, epsilon)   \n",
    "b2 = tf.Variable(tf.zeros([num_classes]))\n",
    "y2 = tf.matmul(hidden,W2+noise2) + b2   \n",
    "output = tf.sigmoid(y2)\n",
    "\n",
    "# LOSS FUNCTION\n",
    "cross_entropy = tf.reduce_mean(tf.nn.softmax_cross_entropy_with_logits(labels=y_oh, logits=y2))\n",
    "l2_loss = tf.reduce_sum(W1**2) + tf.reduce_sum(W2**2)\n",
    "l1_loss = tf.reduce_sum(tf.abs(W1)) + tf.reduce_sum(tf.abs(W2))\n",
    "loss = cross_entropy + lambda_1*l1_loss + lambda_2*l2_loss\n",
    "\n",
    "# TRAINING OPERATION\n",
    "\n",
    "learnrate_ph = tf.placeholder_with_default(learnrate, ())\n",
    "# feel free to use a different optimizer from tf.train.\n",
    "optimizer = tf.train.MomentumOptimizer(learnrate_ph, momentum) \n",
    "train_step = optimizer.minimize(cross_entropy)\n",
    "\n",
    "# PREDICTIONS AND PERFORMANCE MEASURES\n",
    "prediction = tf.argmax(y2,1)\n",
    "correct_prediction = tf.equal(prediction, tf.argmax(y_oh,1))\n",
    "accuracy = tf.reduce_mean(tf.cast(correct_prediction, tf.float32))"
   ]
  },
  {
   "cell_type": "code",
   "execution_count": null,
   "metadata": {},
   "outputs": [],
   "source": []
  },
  {
   "cell_type": "markdown",
   "metadata": {},
   "source": [
    "# Training the model\n",
    "\n",
    "Nothing fancy here- start a session, initialize your variables, and start a training loop. I've included some code to measure test accuracy once per epoch and then plot at the end.\n",
    "\n",
    "The `tf.train.Saver()` object can write the session to disk so we can pull it up later for inference."
   ]
  },
  {
   "cell_type": "code",
   "execution_count": 9,
   "metadata": {},
   "outputs": [
    {
     "name": "stderr",
     "output_type": "stream",
     "text": [
      "100%|██████████| 2000/2000 [00:09<00:00, 208.87it/s]\n"
     ]
    },
    {
     "data": {
      "image/png": "[encoded data removed]",
      "text/plain": [
       "<matplotlib.figure.Figure at 0x1a222898d0>"
      ]
     },
     "metadata": {},
     "output_type": "display_data"
    }
   ],
   "source": [
    "numsteps = 2000\n",
    "num_batches = 5\n",
    "# create an empty array to hold test accuracy at each step\n",
    "test_acc = np.zeros(numsteps)\n",
    "saver = tf.train.Saver()\n",
    "\n",
    "# create a session to run in\n",
    "with tf.Session() as sess:\n",
    "    # initialize variables\n",
    "    sess.run(tf.global_variables_initializer())\n",
    "    # for each training step\n",
    "    for i in tqdm(range(numsteps)):\n",
    "        # for each batch\n",
    "        for x_batch,y_batch in batchinator(num_batches):\n",
    "            # build a feed_dict\n",
    "            fd = {x:x_batch, y_:y_batch,\n",
    "                 is_training:1,\n",
    "                 learnrate_ph:learnrate}\n",
    "            sess.run(train_step, feed_dict=fd)\n",
    "        # once per epoch check the test accuracy\n",
    "        test_acc[i] = sess.run(accuracy, \n",
    "                            feed_dict={x:X_test,y_:Y_test,\n",
    "                                    is_training:0})\n",
    "    # save session in case we need it later\n",
    "    saver.save(sess, \"logs/model.ckpt\")\n",
    "    \n",
    "plt.plot(test_acc, lw=2)\n",
    "plt.grid(\"on\")\n",
    "plt.xlabel(\"training epoch\", fontsize=14)\n",
    "plt.ylabel(\"test accuracy\", fontsize=14)\n",
    "plt.title(\"Final accuracy: %s\"%round(test_acc[-1],4));"
   ]
  },
  {
   "cell_type": "code",
   "execution_count": null,
   "metadata": {},
   "outputs": [],
   "source": []
  },
  {
   "cell_type": "code",
   "execution_count": null,
   "metadata": {},
   "outputs": [],
   "source": []
  },
  {
   "cell_type": "markdown",
   "metadata": {},
   "source": [
    "## Inference\n",
    "\n",
    "Here's how to load the session back and re-run the model on a new dataset:"
   ]
  },
  {
   "cell_type": "code",
   "execution_count": 10,
   "metadata": {},
   "outputs": [
    {
     "name": "stdout",
     "output_type": "stream",
     "text": [
      "INFO:tensorflow:Restoring parameters from logs/model.ckpt\n"
     ]
    }
   ],
   "source": [
    "with tf.Session() as sess:\n",
    "    saver.restore(sess, \"logs/model.ckpt\")\n",
    "    predictions = sess.run(output, feed_dict={x:X_test})[:,1]"
   ]
  },
  {
   "cell_type": "code",
   "execution_count": null,
   "metadata": {},
   "outputs": [],
   "source": []
  },
  {
   "cell_type": "code",
   "execution_count": null,
   "metadata": {},
   "outputs": [],
   "source": []
  }
 ],
 "metadata": {
  "kernelspec": {
   "display_name": "Python 3",
   "language": "python",
   "name": "python3"
  },
  "language_info": {
   "codemirror_mode": {
    "name": "ipython",
    "version": 3
   },
   "file_extension": ".py",
   "mimetype": "text/x-python",
   "name": "python",
   "nbconvert_exporter": "python",
   "pygments_lexer": "ipython3",
   "version": "3.6.4"
  }
 },
 "nbformat": 4,
 "nbformat_minor": 2
}
