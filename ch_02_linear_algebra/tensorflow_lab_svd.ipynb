{
 "cells": [
  {
   "cell_type": "markdown",
   "metadata": {},
   "source": [
    "# TensorFlow lab: text mining with SVD\n",
    "\n",
    "**DISCLAIMER: we're building tools from scratch here because it's a good exercise. In real life use `gensim` or something.**\n",
    "\n",
    "**DISCLAIMER 2: Also in real life don't use SVD for this. Use NMF or LDA or something. Seriously.**"
   ]
  },
  {
   "cell_type": "code",
   "execution_count": 1,
   "metadata": {
    "collapsed": true
   },
   "outputs": [],
   "source": [
    "import numpy as np\n",
    "import matplotlib.pyplot as plt\n",
    "\n",
    "import tensorflow as tf\n",
    "from tensorflow.contrib.tensorboard.plugins import projector\n",
    "\n",
    "from collections import defaultdict\n",
    "\n",
    "%matplotlib inline\n",
    "from IPython.core.pylabtools import figsize"
   ]
  },
  {
   "cell_type": "code",
   "execution_count": null,
   "metadata": {
    "collapsed": true
   },
   "outputs": [],
   "source": []
  },
  {
   "cell_type": "code",
   "execution_count": 2,
   "metadata": {
    "collapsed": true
   },
   "outputs": [],
   "source": [
    "def preprocess(x):\n",
    "    \"\"\"\n",
    "    Input a string, map it to lower-case and prune out\n",
    "    the crap we don't want\n",
    "    \"\"\"\n",
    "    #x = x.decode(\"utf-8\", errors=\"ignore\")\n",
    "    x = x.decode(\"ascii\", errors=\"ignore\")\n",
    "    for i in \"',.!?-*()/\":\n",
    "        x = x.replace(i, \" \")\n",
    "    return x.strip().lower()"
   ]
  },
  {
   "cell_type": "code",
   "execution_count": 3,
   "metadata": {},
   "outputs": [
    {
     "data": {
      "text/plain": [
       "1230"
      ]
     },
     "execution_count": 3,
     "metadata": {},
     "output_type": "execute_result"
    }
   ],
   "source": [
    "textfile = \"winereviews.txt\"\n",
    "rawtext = [preprocess(x) for x in open(textfile, \"rb\").readlines() if len(x) > 5]\n",
    "len(rawtext)"
   ]
  },
  {
   "cell_type": "code",
   "execution_count": 4,
   "metadata": {},
   "outputs": [
    {
     "name": "stdout",
     "output_type": "stream",
     "text": [
      "0 lovely delicate  fragrant rhone wine  polished leather and strawberries  perhaps a bit dilute  but good for drinking now\n",
      "1 liquorice  cherry fruit  simple and coarse at the finish\n",
      "2 thin and completely uninspiring\n",
      "3 rough  no stars\n",
      "4 big  fat  textured chardonnay   nuts and butterscotch  a slightly odd metallic cardboard finish  but probably\n",
      "5 a blind tasting  other than the fizz  which included five vintages of cote rotie brune et blonde from guigal\n",
      "6 surprisingly young feeling and drinking well  but without any great complexity  a good\n",
      "7 charming  violet fragranced nose  classic guigal cote rotie\n",
      "8 good grip and a touch of rusticity on the length  va showing through  on the downhill slope  just\n",
      "9 just about holding together   drying out a touch at the finish  not as good as i thought this would be   a good\n"
     ]
    }
   ],
   "source": [
    "for i in range(10):\n",
    "    print(i, rawtext[i])"
   ]
  },
  {
   "cell_type": "code",
   "execution_count": null,
   "metadata": {
    "collapsed": true
   },
   "outputs": [],
   "source": []
  },
  {
   "cell_type": "code",
   "execution_count": 5,
   "metadata": {
    "collapsed": true
   },
   "outputs": [],
   "source": [
    "stopwords = \"and but for the\".split()\n",
    "\n",
    "def tokenizer(x, minlen=3):\n",
    "    \"\"\"\n",
    "    Input a sentence, return a list of tokens.\n",
    "    \"\"\"\n",
    "    return [w for w in x.split() if (w not in stopwords)&(len(w) >= minlen)]"
   ]
  },
  {
   "cell_type": "code",
   "execution_count": 6,
   "metadata": {
    "collapsed": true
   },
   "outputs": [],
   "source": [
    "tokens = [tokenizer(d) for d in rawtext]"
   ]
  },
  {
   "cell_type": "code",
   "execution_count": 7,
   "metadata": {},
   "outputs": [
    {
     "name": "stdout",
     "output_type": "stream",
     "text": [
      "['lovely', 'delicate', 'fragrant', 'rhone', 'wine', 'polished', 'leather', 'strawberries', 'perhaps', 'bit', 'dilute', 'good', 'drinking', 'now']\n",
      "['liquorice', 'cherry', 'fruit', 'simple', 'coarse', 'finish']\n",
      "['thin', 'completely', 'uninspiring']\n",
      "['rough', 'stars']\n",
      "['big', 'fat', 'textured', 'chardonnay', 'nuts', 'butterscotch', 'slightly', 'odd', 'metallic', 'cardboard', 'finish', 'probably']\n",
      "['blind', 'tasting', 'other', 'than', 'fizz', 'which', 'included', 'five', 'vintages', 'cote', 'rotie', 'brune', 'blonde', 'from', 'guigal']\n",
      "['surprisingly', 'young', 'feeling', 'drinking', 'well', 'without', 'any', 'great', 'complexity', 'good']\n",
      "['charming', 'violet', 'fragranced', 'nose', 'classic', 'guigal', 'cote', 'rotie']\n",
      "['good', 'grip', 'touch', 'rusticity', 'length', 'showing', 'through', 'downhill', 'slope', 'just']\n",
      "['just', 'about', 'holding', 'together', 'drying', 'out', 'touch', 'finish', 'not', 'good', 'thought', 'this', 'would', 'good']\n"
     ]
    }
   ],
   "source": [
    "for i in range(10):\n",
    "    print(tokens[i])"
   ]
  },
  {
   "cell_type": "code",
   "execution_count": null,
   "metadata": {
    "collapsed": true
   },
   "outputs": [],
   "source": []
  },
  {
   "cell_type": "code",
   "execution_count": 8,
   "metadata": {
    "collapsed": true
   },
   "outputs": [],
   "source": [
    "countdict = defaultdict(int)"
   ]
  },
  {
   "cell_type": "code",
   "execution_count": 9,
   "metadata": {},
   "outputs": [
    {
     "data": {
      "text/plain": [
       "2782"
      ]
     },
     "execution_count": 9,
     "metadata": {},
     "output_type": "execute_result"
    }
   ],
   "source": [
    "for doc in tokens:\n",
    "    for tok in doc:\n",
    "        countdict[tok] += 1\n",
    "len(countdict)"
   ]
  },
  {
   "cell_type": "code",
   "execution_count": 10,
   "metadata": {},
   "outputs": [
    {
     "data": {
      "text/plain": [
       "3"
      ]
     },
     "execution_count": 10,
     "metadata": {},
     "output_type": "execute_result"
    }
   ],
   "source": [
    "countdict[\"blind\"]"
   ]
  },
  {
   "cell_type": "code",
   "execution_count": 11,
   "metadata": {},
   "outputs": [
    {
     "data": {
      "image/png": "[encoded data removed]",
      "text/plain": [
       "<matplotlib.figure.Figure at 0x7f9731888278>"
      ]
     },
     "metadata": {},
     "output_type": "display_data"
    }
   ],
   "source": [
    "counts = list(countdict.values())\n",
    "counts.sort(reverse=True)\n",
    "\n",
    "plt.plot(counts, \".\")\n",
    "plt.xscale(\"log\")\n",
    "plt.yscale(\"log\")\n",
    "plt.title(\"Zipf's law?\", fontsize=14)\n",
    "plt.xlabel(\"word rank\", fontsize=12)\n",
    "plt.ylabel(\"word frequency\", fontsize=12);"
   ]
  },
  {
   "cell_type": "code",
   "execution_count": null,
   "metadata": {
    "collapsed": true
   },
   "outputs": [],
   "source": []
  },
  {
   "cell_type": "code",
   "execution_count": 12,
   "metadata": {
    "collapsed": true
   },
   "outputs": [],
   "source": [
    "min_counts = 4\n",
    "allowed_words = [w for w in countdict if (int(countdict[w]) >= min_counts)]"
   ]
  },
  {
   "cell_type": "code",
   "execution_count": 13,
   "metadata": {},
   "outputs": [
    {
     "data": {
      "text/plain": [
       "760"
      ]
     },
     "execution_count": 13,
     "metadata": {},
     "output_type": "execute_result"
    }
   ],
   "source": [
    "len(allowed_words)"
   ]
  },
  {
   "cell_type": "code",
   "execution_count": 14,
   "metadata": {},
   "outputs": [
    {
     "data": {
      "text/plain": [
       "4"
      ]
     },
     "execution_count": 14,
     "metadata": {},
     "output_type": "execute_result"
    }
   ],
   "source": [
    "# let's convert that list of words to a dictionary from word to index\n",
    "word_to_index = {allowed_words[i]:i for i in range(len(allowed_words))}\n",
    "word_to_index[\"wine\"]"
   ]
  },
  {
   "cell_type": "code",
   "execution_count": null,
   "metadata": {
    "collapsed": true
   },
   "outputs": [],
   "source": []
  },
  {
   "cell_type": "code",
   "execution_count": null,
   "metadata": {
    "collapsed": true
   },
   "outputs": [],
   "source": []
  },
  {
   "cell_type": "code",
   "execution_count": 15,
   "metadata": {
    "collapsed": true
   },
   "outputs": [],
   "source": [
    "def corpus_to_sparse_indices(corpus, wti=word_to_index):\n",
    "    \"\"\"\n",
    "    Create inputs for a sparse matrix\n",
    "    \n",
    "    :corpus: a list of lists of tokens\n",
    "    :wti: dictionary mapping words to indices\n",
    "    \"\"\"\n",
    "    indices = []\n",
    "    vals = []\n",
    "    \n",
    "    # for each document in the corpus\n",
    "    for i in range(len(corpus)):\n",
    "        index_count = defaultdict(int)\n",
    "        # for each word in the document\n",
    "        for token in corpus[i]:\n",
    "            # if it's in the allowed word list\n",
    "            if token in wti:\n",
    "                # keep a count\n",
    "                index_count[wti[token]] += 1\n",
    "        # \n",
    "        for ind in index_count:\n",
    "            indices.append([i, ind])\n",
    "            vals.append(index_count[ind])\n",
    "    return indices, vals"
   ]
  },
  {
   "cell_type": "code",
   "execution_count": 16,
   "metadata": {
    "collapsed": true
   },
   "outputs": [],
   "source": [
    "def corpus_to_dense_matrix(corpus, wti=word_to_index):\n",
    "    \"\"\"\n",
    "    Build a term-document matrix\n",
    "    \n",
    "    :corpus: a list of lists of tokens\n",
    "    :wti: dictionary mapping words to indices\n",
    "    \"\"\"\n",
    "    tdm = np.zeros((len(corpus), len(wti)))\n",
    "    \n",
    "    # for each document in the corpus\n",
    "    for i in range(len(corpus)):\n",
    "        # for each word in the document\n",
    "        for token in corpus[i]:\n",
    "            # if it's in the allowed word list\n",
    "            if token in wti:\n",
    "                # increment the matrix element\n",
    "                tdm[i,wti[token]] += 1\n",
    "    return tdm"
   ]
  },
  {
   "cell_type": "code",
   "execution_count": null,
   "metadata": {
    "collapsed": true
   },
   "outputs": [],
   "source": []
  },
  {
   "cell_type": "code",
   "execution_count": 17,
   "metadata": {
    "collapsed": true
   },
   "outputs": [],
   "source": [
    "tf.reset_default_graph()"
   ]
  },
  {
   "cell_type": "code",
   "execution_count": 18,
   "metadata": {
    "collapsed": true
   },
   "outputs": [],
   "source": [
    "# sparse tensor for our data\n",
    "#term_doc_matrix = tf.SparseTensor(indices=indices, values=vals, dense_shape=dense_shape)\n",
    "term_doc_matrix = tf.constant(corpus_to_dense_matrix(tokens, word_to_index))"
   ]
  },
  {
   "cell_type": "code",
   "execution_count": 19,
   "metadata": {},
   "outputs": [
    {
     "data": {
      "text/plain": [
       "tf.float64"
      ]
     },
     "execution_count": 19,
     "metadata": {},
     "output_type": "execute_result"
    }
   ],
   "source": [
    "term_doc_matrix.dtype"
   ]
  },
  {
   "cell_type": "code",
   "execution_count": 20,
   "metadata": {},
   "outputs": [
    {
     "data": {
      "text/plain": [
       "TensorShape([Dimension(1230), Dimension(760)])"
      ]
     },
     "execution_count": 20,
     "metadata": {},
     "output_type": "execute_result"
    }
   ],
   "source": [
    "term_doc_matrix.get_shape()"
   ]
  },
  {
   "cell_type": "code",
   "execution_count": 21,
   "metadata": {
    "collapsed": true
   },
   "outputs": [],
   "source": [
    "# define tensorflow variables for the SVD"
   ]
  },
  {
   "cell_type": "code",
   "execution_count": 22,
   "metadata": {},
   "outputs": [],
   "source": [
    "s_tf, u_tf, v_tf = tf.svd(term_doc_matrix, full_matrices=False, name=\"svd\")"
   ]
  },
  {
   "cell_type": "code",
   "execution_count": 23,
   "metadata": {},
   "outputs": [
    {
     "data": {
      "text/plain": [
       "<tf.Tensor 'strided_slice:0' shape=(1230, 100) dtype=float64>"
      ]
     },
     "execution_count": 23,
     "metadata": {},
     "output_type": "execute_result"
    }
   ],
   "source": [
    "# and lets truncate the vectors\n",
    "trunc = 100\n",
    "u_trunc = u_tf[:,:trunc]\n",
    "v_trunc = v_tf[:,:trunc]\n",
    "u_trunc"
   ]
  },
  {
   "cell_type": "code",
   "execution_count": 24,
   "metadata": {},
   "outputs": [
    {
     "data": {
      "text/plain": [
       "'Svd:2'"
      ]
     },
     "execution_count": 24,
     "metadata": {},
     "output_type": "execute_result"
    }
   ],
   "source": [
    "v_tf.name"
   ]
  },
  {
   "cell_type": "code",
   "execution_count": 25,
   "metadata": {},
   "outputs": [
    {
     "data": {
      "text/plain": [
       "'strided_slice:0'"
      ]
     },
     "execution_count": 25,
     "metadata": {},
     "output_type": "execute_result"
    }
   ],
   "source": [
    "u_trunc.name"
   ]
  },
  {
   "cell_type": "code",
   "execution_count": 26,
   "metadata": {
    "collapsed": true
   },
   "outputs": [],
   "source": [
    "with tf.Session() as sess:\n",
    "    s, u, v = sess.run([s_tf, u_trunc, v_trunc])"
   ]
  },
  {
   "cell_type": "code",
   "execution_count": 27,
   "metadata": {
    "collapsed": true
   },
   "outputs": [],
   "source": [
    "# orig tensor is [M,N]. P = min(M,N)\n",
    "\n",
    "# s has shape [P]\n",
    "# u has shape [M,P] (full_matrices=False) or [M,M] otherwise\n",
    "# v has shape [N,P] (full_matrices=False) or [N,N] otherwise. so I think v[i,:] would be a topic vector"
   ]
  },
  {
   "cell_type": "code",
   "execution_count": 28,
   "metadata": {},
   "outputs": [
    {
     "data": {
      "text/plain": [
       "(760,)"
      ]
     },
     "execution_count": 28,
     "metadata": {},
     "output_type": "execute_result"
    }
   ],
   "source": [
    "s.shape"
   ]
  },
  {
   "cell_type": "code",
   "execution_count": 29,
   "metadata": {},
   "outputs": [
    {
     "data": {
      "image/png": "[encoded data removed]",
      "text/plain": [
       "<matplotlib.figure.Figure at 0x7f972fa78668>"
      ]
     },
     "metadata": {},
     "output_type": "display_data"
    }
   ],
   "source": [
    "plt.plot(s, \"o-\");"
   ]
  },
  {
   "cell_type": "code",
   "execution_count": 30,
   "metadata": {},
   "outputs": [
    {
     "data": {
      "text/plain": [
       "(760, 100)"
      ]
     },
     "execution_count": 30,
     "metadata": {},
     "output_type": "execute_result"
    }
   ],
   "source": [
    "v.shape"
   ]
  },
  {
   "cell_type": "code",
   "execution_count": 31,
   "metadata": {
    "collapsed": true
   },
   "outputs": [],
   "source": [
    "def summarize_topic(vec, words=allowed_words, n=10):\n",
    "    \"\"\"\n",
    "    Input a vector from v (e.g. v[0,:]) and map back to words\n",
    "    \"\"\"\n",
    "    order = vec.argsort()[::-1]\n",
    "    output = \"\"\n",
    "    for i in range(n):\n",
    "        output += \"%s*%s + \"%(round(vec[order[i]],3), words[order[i]]) \n",
    "        \n",
    "    return output[:-3]"
   ]
  },
  {
   "cell_type": "code",
   "execution_count": null,
   "metadata": {
    "collapsed": true
   },
   "outputs": [],
   "source": []
  },
  {
   "cell_type": "code",
   "execution_count": 32,
   "metadata": {
    "scrolled": false
   },
   "outputs": [
    {
     "name": "stdout",
     "output_type": "stream",
     "text": [
      "0.384*fruit + 0.379*dilute + 0.313*wine + 0.204*rough + 0.122*fragrant + 0.108*classic + 0.108*lovely + 0.1*coarse + 0.075*thin + 0.063*which\n",
      "\n",
      "0.039*might + 0.036*about + 0.034*dry + 0.032*also + 0.031*beginning + 0.031*length + 0.028*very + 0.026*although + 0.022*slightly + 0.021*great\n",
      "\n",
      "0.232*about + 0.167*sweetness + 0.141*just + 0.14*was + 0.137*all + 0.133*also + 0.131*dry + 0.13*maturity + 0.114*together + 0.108*style\n",
      "\n",
      "0.016*was + 0.016*other + 0.015*holding + 0.014*time + 0.014*structure + 0.014*quite + 0.013*dry + 0.013*air + 0.011*which + 0.009*classic\n",
      "\n",
      "0.541*bit + 0.342*delicate + 0.25*now + 0.248*lovely + 0.167*liquorice + 0.167*drinking + 0.167*rhone + 0.117*wine + 0.105*completely + 0.099*nuts\n",
      "\n",
      "0.018*sweetness + 0.018*might + 0.016*time + 0.011*vintages + 0.009*dry + 0.009*would + 0.009*about + 0.008*beginning + 0.008*not + 0.008*drying\n",
      "\n",
      "0.016*other + 0.016*although + 0.015*through + 0.013*sweetness + 0.012*palate + 0.012*than + 0.012*young + 0.011*obvious + 0.011*dilute + 0.011*maturity\n",
      "\n",
      "0.271*textured + 0.217*than + 0.194*grip + 0.171*young + 0.169*completely + 0.155*about + 0.122*more + 0.115*feeling + 0.111*thin + 0.091*slightly\n",
      "\n",
      "0.592*strawberries + 0.348*leather + 0.193*now + 0.168*lovely + 0.164*bit + 0.163*perhaps + 0.162*good + 0.124*coarse + 0.101*liquorice + 0.091*fruit\n",
      "\n",
      "0.038*beginning + 0.032*might + 0.026*maturity + 0.02*structure + 0.017*very + 0.016*balance + 0.015*over + 0.014*just + 0.013*style + 0.013*thought\n",
      "\n"
     ]
    }
   ],
   "source": [
    "for i in range(10):\n",
    "    print(summarize_topic(v[i,:]))\n",
    "    print()"
   ]
  },
  {
   "cell_type": "code",
   "execution_count": null,
   "metadata": {
    "collapsed": true
   },
   "outputs": [],
   "source": []
  },
  {
   "cell_type": "code",
   "execution_count": 33,
   "metadata": {},
   "outputs": [
    {
     "data": {
      "text/plain": [
       "(1230, 100)"
      ]
     },
     "execution_count": 33,
     "metadata": {},
     "output_type": "execute_result"
    }
   ],
   "source": [
    "output_shape = (len(tokens), trunc)\n",
    "output_shape"
   ]
  },
  {
   "cell_type": "code",
   "execution_count": 34,
   "metadata": {},
   "outputs": [
    {
     "data": {
      "text/plain": [
       "(760, 100)"
      ]
     },
     "execution_count": 34,
     "metadata": {},
     "output_type": "execute_result"
    }
   ],
   "source": [
    "word_output_shape = (len(allowed_words), trunc)\n",
    "word_output_shape"
   ]
  },
  {
   "cell_type": "code",
   "execution_count": 35,
   "metadata": {},
   "outputs": [],
   "source": [
    "doc_embedding = tf.get_variable(\"doc_embedding\", shape=output_shape,\n",
    "                               dtype=tf.float64,\n",
    "                               initializer=tf.zeros_initializer)\n",
    "\n",
    "word_embedding = tf.get_variable(\"word_embedding\", shape=word_output_shape,\n",
    "                               dtype=tf.float64,\n",
    "                               initializer=tf.zeros_initializer)"
   ]
  },
  {
   "cell_type": "code",
   "execution_count": 36,
   "metadata": {},
   "outputs": [],
   "source": [
    "assign_op = tf.assign(doc_embedding, u_trunc, name=\"assign_embedding\")\n",
    "word_assign_op = tf.assign(word_embedding, v_trunc, \n",
    "                           name=\"word_assign_embedding\")"
   ]
  },
  {
   "cell_type": "code",
   "execution_count": 37,
   "metadata": {
    "collapsed": true
   },
   "outputs": [],
   "source": [
    "logdir = \"/home/joe/projects/opts/studygroup/logs/\""
   ]
  },
  {
   "cell_type": "code",
   "execution_count": 38,
   "metadata": {},
   "outputs": [],
   "source": [
    "# save metadata- this part \n",
    "word_metafile_path = logdir + \"word_meta.tsv\"\n",
    "metafile = open(word_metafile_path, \"w\")\n",
    "metafile.write(\"word\\tcount\\n\")\n",
    "for w in allowed_words:\n",
    "    metafile.write(\"%s\\t%s\\n\"%(w, countdict[w]))\n",
    "metafile.close()\n",
    "\n",
    "doc_metafile_path = logdir + \"doc_meta.tsv\"\n",
    "docmetafile = open(doc_metafile_path, \"w\")\n",
    "#docmetafile.write(\"doc\\n\")  # <--- don't need header for single column\n",
    "for d in rawtext:\n",
    "    newd = d.replace(\"\\t\",\"\").strip()\n",
    "    docmetafile.write(newd+\"\\n\")\n",
    "docmetafile.close()"
   ]
  },
  {
   "cell_type": "code",
   "execution_count": 39,
   "metadata": {},
   "outputs": [],
   "source": [
    "config = projector.ProjectorConfig()\n",
    "\n",
    "word_projector = config.embeddings.add()\n",
    "word_projector.tensor_name = word_embedding.name\n",
    "word_projector.metadata_path = word_metafile_path\n",
    "\n",
    "doc_projector = config.embeddings.add()\n",
    "doc_projector.tensor_name = doc_embedding.name\n",
    "doc_projector.metadata_path = doc_metafile_path"
   ]
  },
  {
   "cell_type": "code",
   "execution_count": 40,
   "metadata": {
    "collapsed": true
   },
   "outputs": [],
   "source": [
    "summary_writer = tf.summary.FileWriter(logdir)"
   ]
  },
  {
   "cell_type": "code",
   "execution_count": 41,
   "metadata": {
    "collapsed": true
   },
   "outputs": [],
   "source": [
    "projector.visualize_embeddings(summary_writer, config)"
   ]
  },
  {
   "cell_type": "code",
   "execution_count": 42,
   "metadata": {
    "collapsed": true
   },
   "outputs": [],
   "source": [
    "saver = tf.train.Saver()"
   ]
  },
  {
   "cell_type": "code",
   "execution_count": 43,
   "metadata": {
    "scrolled": false
   },
   "outputs": [],
   "source": [
    "with tf.Session() as sess:\n",
    "    tf.variables_initializer([doc_embedding, word_embedding])\n",
    "    sess.run([assign_op, word_assign_op])\n",
    "    saver.save(sess, logdir+\"model.ckpt\")"
   ]
  },
  {
   "cell_type": "code",
   "execution_count": null,
   "metadata": {
    "collapsed": true
   },
   "outputs": [],
   "source": []
  },
  {
   "cell_type": "code",
   "execution_count": null,
   "metadata": {
    "collapsed": true
   },
   "outputs": [],
   "source": []
  },
  {
   "cell_type": "code",
   "execution_count": null,
   "metadata": {
    "collapsed": true
   },
   "outputs": [],
   "source": []
  },
  {
   "cell_type": "code",
   "execution_count": null,
   "metadata": {
    "collapsed": true
   },
   "outputs": [],
   "source": []
  }
 ],
 "metadata": {
  "anaconda-cloud": {},
  "kernelspec": {
   "display_name": "Python 3",
   "language": "python",
   "name": "python3"
  },
  "language_info": {
   "codemirror_mode": {
    "name": "ipython",
    "version": 3
   },
   "file_extension": ".py",
   "mimetype": "text/x-python",
   "name": "python",
   "nbconvert_exporter": "python",
   "pygments_lexer": "ipython3",
   "version": "3.6.1"
  }
 },
 "nbformat": 4,
 "nbformat_minor": 2
}
