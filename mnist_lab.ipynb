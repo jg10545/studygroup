{
 "cells": [
  {
   "cell_type": "markdown",
   "metadata": {},
   "source": [
    "# TensorFlow lab 2: MNIST with softmax regression\n",
    "\n",
    "MNIST is a dataset of grayscale images of handwritten digits, released by the National Institute of Standards and Technology.\n",
    "\n",
    "I'll give you the code to build a softmax regression model, but feel free to throw something more interesting in there."
   ]
  },
  {
   "cell_type": "code",
   "execution_count": 1,
   "metadata": {
    "collapsed": true
   },
   "outputs": [],
   "source": [
    "import numpy as np\n",
    "import matplotlib.pyplot as plt\n",
    "import tensorflow as tf\n",
    "\n",
    "import sklearn.decomposition\n",
    "\n",
    "%matplotlib inline\n",
    "from IPython.core.pylabtools import figsize"
   ]
  },
  {
   "cell_type": "code",
   "execution_count": 2,
   "metadata": {},
   "outputs": [
    {
     "data": {
      "text/plain": [
       "'1.3.0'"
      ]
     },
     "execution_count": 2,
     "metadata": {},
     "output_type": "execute_result"
    }
   ],
   "source": [
    "tf.__version__"
   ]
  },
  {
   "cell_type": "markdown",
   "metadata": {
    "collapsed": true
   },
   "source": [
    "## Load the dataset\n",
    "\n",
    "TensorFlow comes with some convenience functions for loading the train and test sets."
   ]
  },
  {
   "cell_type": "code",
   "execution_count": 3,
   "metadata": {
    "collapsed": true
   },
   "outputs": [],
   "source": [
    "from tensorflow.examples.tutorials.mnist import input_data"
   ]
  },
  {
   "cell_type": "markdown",
   "metadata": {},
   "source": [
    "Edit the `\"data/\"` to wherever you hid the files."
   ]
  },
  {
   "cell_type": "code",
   "execution_count": 4,
   "metadata": {},
   "outputs": [
    {
     "name": "stdout",
     "output_type": "stream",
     "text": [
      "Extracting data/train-images-idx3-ubyte.gz\n",
      "Extracting data/train-labels-idx1-ubyte.gz\n",
      "Extracting data/t10k-images-idx3-ubyte.gz\n",
      "Extracting data/t10k-labels-idx1-ubyte.gz\n"
     ]
    }
   ],
   "source": [
    "mnist = input_data.read_data_sets(\"data/\")"
   ]
  },
  {
   "cell_type": "code",
   "execution_count": 5,
   "metadata": {},
   "outputs": [
    {
     "data": {
      "text/plain": [
       "<tensorflow.contrib.learn.python.learn.datasets.mnist.DataSet at 0x7f07619fbf98>"
      ]
     },
     "execution_count": 5,
     "metadata": {},
     "output_type": "execute_result"
    }
   ],
   "source": [
    "mnist.train"
   ]
  },
  {
   "cell_type": "markdown",
   "metadata": {},
   "source": [
    "The images in the dataset are 28x28 pixels. When we load them we'll get an Nx784 matrix of unravelled images."
   ]
  },
  {
   "cell_type": "code",
   "execution_count": 6,
   "metadata": {},
   "outputs": [
    {
     "data": {
      "text/plain": [
       "(55000, 784)"
      ]
     },
     "execution_count": 6,
     "metadata": {},
     "output_type": "execute_result"
    }
   ],
   "source": [
    "mnist.train.images.shape"
   ]
  },
  {
   "cell_type": "markdown",
   "metadata": {},
   "source": [
    "The labels will be an array of numbers between 0 and 9:"
   ]
  },
  {
   "cell_type": "code",
   "execution_count": 7,
   "metadata": {},
   "outputs": [
    {
     "data": {
      "text/plain": [
       "(55000,)"
      ]
     },
     "execution_count": 7,
     "metadata": {},
     "output_type": "execute_result"
    }
   ],
   "source": [
    "mnist.train.labels.shape"
   ]
  },
  {
   "cell_type": "code",
   "execution_count": 8,
   "metadata": {},
   "outputs": [
    {
     "data": {
      "text/plain": [
       "array([7, 3, 4, 6, 1, 8, 1, 0, 9, 8], dtype=uint8)"
      ]
     },
     "execution_count": 8,
     "metadata": {},
     "output_type": "execute_result"
    }
   ],
   "source": [
    "mnist.train.labels[:10]"
   ]
  },
  {
   "cell_type": "markdown",
   "metadata": {},
   "source": [
    "When training our model, we'll need to convert these to a \"one-hot\" encoding. So a label of 0 will be\n",
    "\n",
    "[1, 0, 0, 0, 0, 0, 0, 0, 0, 0]\n",
    "\n",
    "and a label of 1 would be\n",
    "\n",
    "[0, 1, 0, 0, 0, 0, 0, 0, 0, 0]\n",
    "\n",
    "etc"
   ]
  },
  {
   "cell_type": "markdown",
   "metadata": {},
   "source": [
    "## EDA\n",
    "\n",
    "The most effective way to accidentally do something stupid in a machine learning problem is to not look at your data. So if that's your goal please skip this section."
   ]
  },
  {
   "cell_type": "markdown",
   "metadata": {},
   "source": [
    "### Look at the data\n",
    "\n",
    "Let's randomly select a few images from the training set and plot them (including the corresponding label). Notice that for each, we'll pull one row out of our data matrix and reshape it to (28,28)."
   ]
  },
  {
   "cell_type": "code",
   "execution_count": 9,
   "metadata": {},
   "outputs": [
    {
     "data": {
      "image/png": "[encoded data removed]",
      "text/plain": [
       "<matplotlib.figure.Figure at 0x7f0755620588>"
      ]
     },
     "metadata": {},
     "output_type": "display_data"
    }
   ],
   "source": [
    "figsize(7,7)\n",
    "num_train = mnist.train.images.shape[0]\n",
    "\n",
    "for i in range(16):\n",
    "    plt.subplot(4,4,i+1)\n",
    "    # pick a training example\n",
    "    example = np.random.choice(np.arange(num_train))\n",
    "    # plot the image\n",
    "    plt.imshow(mnist.train.images[example,:].reshape((28,28)), interpolation=\"none\")\n",
    "    plt.axis(\"off\")\n",
    "    # label with the correct answer\n",
    "    plt.title(mnist.train.labels[example], fontsize=14);"
   ]
  },
  {
   "cell_type": "markdown",
   "metadata": {},
   "source": [
    "### Check the class balance\n",
    "\n",
    "If the number of examples from each class is imbalanced, we could wind up with a classifier that gets great accuracy scores but is functionally useless. This shouldn't be a problem today:"
   ]
  },
  {
   "cell_type": "code",
   "execution_count": 10,
   "metadata": {},
   "outputs": [
    {
     "data": {
      "image/png": "[encoded data removed]",
      "text/plain": [
       "<matplotlib.figure.Figure at 0x7f0755615e80>"
      ]
     },
     "metadata": {},
     "output_type": "display_data"
    }
   ],
   "source": [
    "figsize(7,5)\n",
    "# what's our class balance look like?\n",
    "_ = plt.hist(mnist.train.labels, bins=np.arange(11)-0.5)\n",
    "plt.xlim(-0.5,9.5)\n",
    "plt.xlabel(\"training point label\", fontsize=14)\n",
    "plt.ylabel(\"count\", fontsize=14);"
   ]
  },
  {
   "cell_type": "markdown",
   "metadata": {},
   "source": [
    "### Unsupervised learning\n",
    "\n",
    "In a lot of contexts, a 784 is a lot of columns to have in your dataset. Do we really need all of them?\n",
    "\n",
    "Since we're building a linear model, Principal Component Analysis (PCA) would be a logical check to run- it will find a linear transformation on the entire dataset such that the first dimension contains the most variance, the second contains the second-most, etc.\n",
    "\n",
    "We can plot the total fraction of the dataset's variance that's explained as we add principal components one at a time:"
   ]
  },
  {
   "cell_type": "code",
   "execution_count": 11,
   "metadata": {
    "collapsed": true
   },
   "outputs": [],
   "source": [
    "pca = sklearn.decomposition.PCA().fit(mnist.train.images)"
   ]
  },
  {
   "cell_type": "code",
   "execution_count": 12,
   "metadata": {},
   "outputs": [
    {
     "data": {
      "image/png": "[encoded data removed]",
      "text/plain": [
       "<matplotlib.figure.Figure at 0x7f0755615c50>"
      ]
     },
     "metadata": {},
     "output_type": "display_data"
    }
   ],
   "source": [
    "figsize(7,5)\n",
    "plt.plot(pca.explained_variance_ratio_, lw=2, label=\"explained variance ratio\")\n",
    "plt.plot(pca.explained_variance_ratio_.cumsum(), lw=2, label=\"cumulative explained variance\")\n",
    "plt.xlabel(\"principal component\", fontsize=14)\n",
    "plt.legend(loc=\"upper right\")\n",
    "plt.grid(\"on\")"
   ]
  },
  {
   "cell_type": "markdown",
   "metadata": {},
   "source": [
    "So the answer to \"do we really need all these dimensions?\" is an emphatic **no.** We could throw out 90% of them and still have 90% of the variance in the data. This will be our first warning that a linear model might not be what we need.\n",
    "\n",
    "Just for fun- let's take a look at the first few principal components. These images represent the feature-space dimensions of highest variance:"
   ]
  },
  {
   "cell_type": "code",
   "execution_count": 13,
   "metadata": {},
   "outputs": [
    {
     "data": {
      "image/png": "[encoded data removed]",
      "text/plain": [
       "<matplotlib.figure.Figure at 0x7f0755615710>"
      ]
     },
     "metadata": {},
     "output_type": "display_data"
    }
   ],
   "source": [
    "figsize(12,6)\n",
    "for i in range(8):\n",
    "    plt.subplot(2,4,i+1)\n",
    "    plt.imshow(pca.components_[i,:].reshape((28,28)), interpolation=\"none\")\n",
    "    plt.axis(\"off\")"
   ]
  },
  {
   "cell_type": "code",
   "execution_count": null,
   "metadata": {
    "collapsed": true
   },
   "outputs": [],
   "source": []
  },
  {
   "cell_type": "markdown",
   "metadata": {},
   "source": [
    "## Build the model"
   ]
  },
  {
   "cell_type": "markdown",
   "metadata": {},
   "source": [
    "### Get the data in\n",
    "\n",
    "For this example, we'll manually load the data in one batch at a time. For grown-up machine learning problems TensorFlow has some really powerful tools for loading, shuffling, and augmenting data for the next batch on your CPU while your GPU chugs away on the last batch.\n",
    "\n",
    "For now, though- we'll make placeholders to input a batch of images and a batch of corresponding labels, and an operation to convert the labels to one-hot encoding."
   ]
  },
  {
   "cell_type": "code",
   "execution_count": 14,
   "metadata": {
    "collapsed": true
   },
   "outputs": [],
   "source": [
    "x = tf.placeholder(tf.float32, [None, 784], name=\"data_placeholder\")\n",
    "y_ = tf.placeholder(tf.int32, [None,], name=\"label_placeholder\")\n",
    "\n",
    "y_oh = tf.one_hot(y_, 10, name=\"labels_one_hot\")"
   ]
  },
  {
   "cell_type": "markdown",
   "metadata": {},
   "source": [
    "Note that the shape of the first tensor is `[None, 784]`. This tells tensorfow to allow for inputs of variable sizes; it just expects a 2D array with 784 columns.\n",
    "\n",
    "You can only have up to one `None` entry in the tensor shape."
   ]
  },
  {
   "cell_type": "markdown",
   "metadata": {},
   "source": [
    "### Softmax regression (Goodfellow section 6.2)\n",
    "\n",
    "**TL;DR:** *it's just logistic regression for more than one class*\n",
    "\n",
    "Our model will basically be a stack of linear models, one for each class. We'll have a (10x784) matrix of weights and an array of 10 offsets. The linear part for class $i$ is:\n",
    "\n",
    "$z_{i} = \\sum_{j} W_{i,j}x_{j} + b_{i}$\n",
    "\n",
    "The softmax output for class $i$ will be the exponent of the linear model results, normalized by the exponent for all the classes:\n",
    "\n",
    "$softmax(z)_{i} = \\frac{\\exp(logit_{i})}{\\sum_{j}\\exp(logit_{j})}$\n",
    "\n",
    "The normalization ensures that the softmax values for every class will add up to 1, so we can interpret it as a probability distribution over classes (some of you will note that if you interpret the linear models as dimensionless energy this is just the Gibbs distribution).\n",
    "\n",
    "#### Numerical stability (Goodfellow section 4.1)\n",
    "\n",
    "**TL;DR:** *use the convenience functions*\n",
    "\n",
    "TensorFlow comes with a bunch of little utility functions like `tf.nn.softmax_cross_entropy_with_logits` for computing softmax. They're not just there for convenience: even though the above equation is really simple, there's a lot that can go wrong with it when you're calculating it on a computer. \n",
    "\n",
    "Those utility functions are doing a bunch of stabilization against overflow underflow. I can assure you that if you just code up softmax manually and try to train a neural network, you will get bizarre and useless results."
   ]
  },
  {
   "cell_type": "markdown",
   "metadata": {},
   "source": [
    "We'll use `tf.Variable` objects for the weight matrix and bias, since they need to be trainable. And we can use a matrix multiplication to compute the linear outputs for each class in a single step:"
   ]
  },
  {
   "cell_type": "code",
   "execution_count": 15,
   "metadata": {
    "collapsed": true
   },
   "outputs": [],
   "source": [
    "W = tf.Variable(tf.zeros([784,10]))\n",
    "b = tf.Variable(tf.zeros([10]))\n",
    "\n",
    "y = tf.matmul(x,W) + b"
   ]
  },
  {
   "cell_type": "code",
   "execution_count": null,
   "metadata": {
    "collapsed": true
   },
   "outputs": [],
   "source": []
  },
  {
   "cell_type": "markdown",
   "metadata": {},
   "source": [
    "### Loss function: Cross-Entropy (Goodfellow sections 3.13, 5.5)\n",
    "\n",
    "To train our model, we need a loss function that we can give to an optimizer.\n",
    "\n",
    "Why not just use accuracy? Because the accuracy function won't give us nice gradients- every time the class boundary crosses a data point, the accuracy will suddenly change by a fixed amount. And a classifier that *just barely* classifies everything right won't be any better or worse than one that puts the decision boundary dead in the middle.\n",
    "\n",
    "A standard loss function to use for classification problems that will give us a nice gradient is the **cross-entropy**. For every training point, we have a label $y_{i}$ that tells us which category it belongs in. Since our model outputs a probability distribution $p$, then $p_{y_{i}}$ is a measure of how likely the network thinks that the correct label is.\n",
    "\n",
    "You *could* try to optimize directly on those probabilities- but in cases where the probabilities get bunched up around 0, it'll be hard to differentiate between 0.001 and 0.000001. In practice you'll get better results if you use a logarithm to spread them out. The cross entropy will be:\n",
    "\n",
    "$c = -\\sum_{i}\\log(p_{y_{i}})$\n",
    "\n",
    "In information theory the inverse log probability ($-log(p)$) is called the **self-information.** I've come across anomaly detection papers that use it as a measure of \"surprise\"- the lower the probability, the more bits of self-information because the result is more surprising. So we're essentially minimizing how surprising the model thinks the training set labels are.\n",
    "\n",
    "Note that this is one of those times when we're going to use a convenience function for softmax."
   ]
  },
  {
   "cell_type": "code",
   "execution_count": 16,
   "metadata": {
    "collapsed": true
   },
   "outputs": [],
   "source": [
    "cross_entropy = tf.reduce_mean(tf.nn.softmax_cross_entropy_with_logits(labels=y_oh, logits=y))"
   ]
  },
  {
   "cell_type": "markdown",
   "metadata": {},
   "source": [
    "### Optimization: Stochastic Gradient Descent (Goodfellow section 4.3)\n",
    "\n",
    "I know I've recklessly thrown the phrase \"gradient descent\" around a lot already. I promise we'll go through it in detail when we get to the next chapter.\n",
    "\n",
    "Until then: the idea here is to iteratively update the model parameters by (at each iteration) tweaking them in the direction that improves the loss function the most.\n",
    "\n",
    "So if you went hiking, and found the top of the hill by pointing yourself in the steepest direction, then taking a step, then repeating until you stopped going up, then you would be doing gradient descent.\n",
    "\n",
    "The learning rate sets the size of our steps. Bigger steps will get us there faster but tend to overshoot the actual optimum; smaller steps won't overshoot but take forever to get there. If you're feeling especially clever: add a learning rate placeholder so you can start with a large value and gradually decrease it during training."
   ]
  },
  {
   "cell_type": "code",
   "execution_count": 17,
   "metadata": {
    "collapsed": true
   },
   "outputs": [],
   "source": [
    "learnrate = 0.1"
   ]
  },
  {
   "cell_type": "code",
   "execution_count": 18,
   "metadata": {
    "collapsed": true
   },
   "outputs": [],
   "source": [
    "optimizer = tf.train.GradientDescentOptimizer(learnrate)\n",
    "train_step = optimizer.minimize(cross_entropy)"
   ]
  },
  {
   "cell_type": "markdown",
   "metadata": {},
   "source": [
    "### Measuring performance: accuracy (Goodfellow section 11.1)\n",
    "\n",
    "This is just the fraction of cases that the classifier got right.\n",
    "\n",
    "* If you haven't used an `argmax` function before, it returns the position in the array that has the largest value.\n",
    "* The `tf.equal` function will return a Boolean array that's True for all the values that are equivalend (e.g whenever the predicted class is the actual class)\n",
    "* `tf.cast` turns one data type (in this case, a Boolean) into another (in this case, a float). So `True` becomes 1.0 and `False` becomes 0."
   ]
  },
  {
   "cell_type": "code",
   "execution_count": 19,
   "metadata": {
    "collapsed": true
   },
   "outputs": [],
   "source": [
    "prediction = tf.argmax(y,1)\n",
    "correct_prediction = tf.equal(prediction, tf.argmax(y_oh,1))\n",
    "accuracy = tf.reduce_mean(tf.cast(correct_prediction, tf.float32))"
   ]
  },
  {
   "cell_type": "code",
   "execution_count": null,
   "metadata": {
    "collapsed": true
   },
   "outputs": [],
   "source": []
  },
  {
   "cell_type": "markdown",
   "metadata": {
    "collapsed": true
   },
   "source": [
    "## Train the model"
   ]
  },
  {
   "cell_type": "code",
   "execution_count": 20,
   "metadata": {},
   "outputs": [
    {
     "name": "stdout",
     "output_type": "stream",
     "text": [
      "Final accuracy: 0.911\n",
      "CPU times: user 37 s, sys: 1.52 s, total: 38.5 s\n",
      "Wall time: 34.6 s\n"
     ]
    }
   ],
   "source": [
    "%%time\n",
    "numsteps = 1000\n",
    "# create an empty array to hold test accuracy at each step\n",
    "test_acc = np.zeros(numsteps)\n",
    "\n",
    "test_batchsize = 10000 # make sure it's an integer multiple of\n",
    "                        # the number of test examples\n",
    "num_test_batches = int(len(mnist.test.labels)/test_batchsize)\n",
    "\n",
    "# create a session to run in\n",
    "with tf.Session() as sess:\n",
    "    # initialize variables\n",
    "    tf.global_variables_initializer().run()\n",
    "    # for each training step\n",
    "    for i in range(numsteps):\n",
    "        # pull the next batch of images and labels\n",
    "        batch_xs, batch_ys = mnist.train.next_batch(100)\n",
    "        # feed them to the training operation\n",
    "        fd = {x:batch_xs, y_:batch_ys}\n",
    "        sess.run(train_step, feed_dict=fd)\n",
    "        \n",
    "        # now that we've updated the model weights, let's\n",
    "        # compute the test accuracy\n",
    "        acc = 0\n",
    "        for j in range(num_test_batches):\n",
    "            b_x, b_y = mnist.test.next_batch(test_batchsize)\n",
    "            acc += sess.run(accuracy, feed_dict={x:b_x, y_:b_y})\n",
    "        test_acc[i] = acc/num_test_batches\n",
    "        #test_acc[i] = sess.run(accuracy, feed_dict={x:mnist.test.images, y_:mnist.test.labels})\n",
    "        \n",
    "    # let's also save the final predictions for each test point\n",
    "    test_predictions = []\n",
    "    for j in range(num_test_batches):\n",
    "        b_x, b_y = mnist.test.next_batch(test_batchsize)\n",
    "        test_predictions.append(\n",
    "            sess.run(prediction,\n",
    "                     feed_dict={x:b_x, y_:b_y}))\n",
    "    test_predictions = np.concatenate(test_predictions)\n",
    "    #test_predictions = sess.run(prediction, feed_dict={x:mnist.test.images, y_:mnist.test.labels})\n",
    "\n",
    "print(\"Final accuracy: %s\"%round(test_acc[-1],3))"
   ]
  },
  {
   "cell_type": "code",
   "execution_count": null,
   "metadata": {
    "collapsed": true
   },
   "outputs": [],
   "source": []
  },
  {
   "cell_type": "markdown",
   "metadata": {},
   "source": [
    "## Interpret results"
   ]
  },
  {
   "cell_type": "code",
   "execution_count": 21,
   "metadata": {},
   "outputs": [
    {
     "data": {
      "image/png": "[encoded data removed]",
      "text/plain": [
       "<matplotlib.figure.Figure at 0x7f075354b908>"
      ]
     },
     "metadata": {},
     "output_type": "display_data"
    }
   ],
   "source": [
    "figsize(7,5)\n",
    "plt.plot(test_acc, lw=2)\n",
    "plt.xlabel(\"training step\", fontsize=14)\n",
    "plt.ylabel(\"test accuracy\", fontsize=14)\n",
    "plt.grid(\"on\");"
   ]
  },
  {
   "cell_type": "code",
   "execution_count": null,
   "metadata": {
    "collapsed": true
   },
   "outputs": [],
   "source": []
  },
  {
   "cell_type": "code",
   "execution_count": null,
   "metadata": {
    "collapsed": true
   },
   "outputs": [],
   "source": []
  },
  {
   "cell_type": "markdown",
   "metadata": {},
   "source": [
    "### Confusion matrix\n",
    "\n",
    "For each actual class, let's compare counts of how many times it was categorized into the other classes"
   ]
  },
  {
   "cell_type": "code",
   "execution_count": 22,
   "metadata": {
    "collapsed": true
   },
   "outputs": [],
   "source": [
    "conf_mat = np.zeros((10,10))\n",
    "\n",
    "for i in range(len(test_predictions)):\n",
    "    conf_mat[mnist.test.labels[i], test_predictions[i]] += 1"
   ]
  },
  {
   "cell_type": "code",
   "execution_count": 23,
   "metadata": {},
   "outputs": [
    {
     "data": {
      "image/png": "[encoded data removed]",
      "text/plain": [
       "<matplotlib.figure.Figure at 0x7f0753377f28>"
      ]
     },
     "metadata": {},
     "output_type": "display_data"
    }
   ],
   "source": [
    "plt.imshow(conf_mat, interpolation=\"none\")\n",
    "plt.xlabel(\"predicted\", fontsize=14)\n",
    "plt.ylabel(\"actual\", fontsize=14)\n",
    "plt.colorbar();"
   ]
  },
  {
   "cell_type": "markdown",
   "metadata": {},
   "source": [
    "Overall this is a pretty nice confusion matrix- there isn't one particular class that gets consistently misclassified. We can still poke around and see what the examples look like where (for example) 2's are misclassified as 8's."
   ]
  },
  {
   "cell_type": "code",
   "execution_count": 24,
   "metadata": {
    "collapsed": true
   },
   "outputs": [],
   "source": [
    "def compare_misclass(a,b):\n",
    "    \"\"\"\n",
    "    Plot up to 16 examples where a test case from class a was mislabeled as class b\n",
    "    \"\"\"\n",
    "    misclassified = (mnist.test.labels == a)&(test_predictions == b)\n",
    "    misclass_indices = np.arange(len(misclassified))[misclassified]\n",
    "    for i in range(16):\n",
    "        if i < len(misclass_indices):\n",
    "            plt.subplot(4,4,i+1)\n",
    "            example = misclass_indices[i]\n",
    "            plt.imshow(mnist.test.images[example,:].reshape((28,28)), interpolation=\"none\")\n",
    "            plt.axis(\"off\")"
   ]
  },
  {
   "cell_type": "code",
   "execution_count": 25,
   "metadata": {},
   "outputs": [
    {
     "data": {
      "image/png": "[encoded data removed]",
      "text/plain": [
       "<matplotlib.figure.Figure at 0x7f0753764128>"
      ]
     },
     "metadata": {},
     "output_type": "display_data"
    }
   ],
   "source": [
    "figsize(7,7)\n",
    "compare_misclass(9,4)"
   ]
  },
  {
   "cell_type": "code",
   "execution_count": null,
   "metadata": {
    "collapsed": true
   },
   "outputs": [],
   "source": []
  },
  {
   "cell_type": "code",
   "execution_count": null,
   "metadata": {
    "collapsed": true
   },
   "outputs": [],
   "source": []
  },
  {
   "cell_type": "code",
   "execution_count": null,
   "metadata": {
    "collapsed": true
   },
   "outputs": [],
   "source": []
  },
  {
   "cell_type": "markdown",
   "metadata": {},
   "source": [
    "## More models\n",
    "\n",
    "If you'd like to try attacking the problem with something more exotic than a linear model, here's your chance. Comment out the block of code that looks like:\n",
    "\n",
    "```\n",
    "W = tf.Variable(tf.zeros([784,10]))\n",
    "b = tf.Variable(tf.zeros([10]))\n",
    "\n",
    "y = tf.matmul(x,W) + b\n",
    "```\n",
    "\n",
    "And replace is with whatever you want- but it should input the (?,784) tensor $x$ and output the (?,10) tensor $y$. Some suggestions:\n",
    "\n",
    "* Don't forget to use `tf.reset_default_graph()` if you're starting over with a new model.\n",
    "* The `tensorflow.contrib.slim` module has a bunch of premade layers with tons of options built-in.\n",
    "* If you're cranking up the model complexity, try running a lower number of training steps the first time- the compute time goes up *sharply.* Once you know what you're getting into, you may need to increase the number of steps for bigger models.\n",
    "* If you're running this while logged into a shared virtual machine- you may want to move your computation somewhere else. You can download the notebook as a .py file, strip out the EDA stuff, and run it on a cluster node pretty easily."
   ]
  },
  {
   "cell_type": "code",
   "execution_count": 26,
   "metadata": {
    "collapsed": true
   },
   "outputs": [],
   "source": [
    "tf.reset_default_graph()"
   ]
  },
  {
   "cell_type": "code",
   "execution_count": null,
   "metadata": {
    "collapsed": true
   },
   "outputs": [],
   "source": []
  },
  {
   "cell_type": "code",
   "execution_count": null,
   "metadata": {
    "collapsed": true
   },
   "outputs": [],
   "source": []
  },
  {
   "cell_type": "code",
   "execution_count": 16,
   "metadata": {
    "collapsed": true
   },
   "outputs": [],
   "source": [
    "from tensorflow.contrib import slim"
   ]
  },
  {
   "cell_type": "markdown",
   "metadata": {},
   "source": [
    "### Multilayer perception (Goodfellow chapter 6)\n",
    "\n",
    "Here's a simple, shallow feed-forward neural network with 100 hidden neurons with Rectified Linear Unit activations (Goodfellow section 6.3).\n",
    "\n",
    "I got a final test accuracy of 0.94."
   ]
  },
  {
   "cell_type": "code",
   "execution_count": 71,
   "metadata": {
    "collapsed": true
   },
   "outputs": [],
   "source": [
    "hidden = slim.relu(x, 100)\n",
    "y = slim.linear(hidden, 10)"
   ]
  },
  {
   "cell_type": "markdown",
   "metadata": {},
   "source": [
    "### Convolutional Neural Network (Goodfellow chapter 9)\n",
    "\n",
    "Here's the convolutional version of the perceptron above. Note that to make use of the structure of the image, we have to reshape the (?,784) input tensor to (?,28,28,1) at the start and then flatten it back at the end (the 1 is the number of channels; a color image would have a 3 here).\n",
    "\n",
    "I got a final test accuracy of 0.96 here, though it's considerably slower to compute than the MLP."
   ]
  },
  {
   "cell_type": "code",
   "execution_count": 81,
   "metadata": {
    "collapsed": true
   },
   "outputs": [],
   "source": [
    "x_img = tf.reshape(x, [-1, 28, 28,1])\n",
    "hidden = slim.conv2d(x_img, 100, [3,3])\n",
    "flattened = slim.flatten(hidden)\n",
    "y = slim.linear(flattened, 10)"
   ]
  },
  {
   "cell_type": "markdown",
   "metadata": {},
   "source": [
    "### Deep convolutional network\n",
    "\n",
    "Uses pooling (Goodfellow section 9.3) and dropout regularization (Goodfellow section 7.12).\n",
    "\n",
    "I got a final test accuracy of 0.982 in 2000 steps (dropout slows down the training speed). This took about 12 minutes on my GPU."
   ]
  },
  {
   "cell_type": "code",
   "execution_count": null,
   "metadata": {
    "collapsed": true
   },
   "outputs": [],
   "source": [
    "x_img = tf.reshape(x, [-1, 28, 28,1])\n",
    "# first block- output is (?, 14, 14, 64)\n",
    "net = slim.conv2d(x_img, 32, [3,3])\n",
    "net = slim.conv2d(net, 64, [3,3])\n",
    "net = slim.max_pool2d(net, [2,2], stride=[2,2])\n",
    "# second block- output is (?, 7, 7, 96)\n",
    "net = slim.conv2d(net, 48, [1,1])\n",
    "net = slim.conv2d(net, 64, [3,3])\n",
    "net = slim.conv2d(net, 96, [3,3])\n",
    "net = slim.max_pool2d(net, [2,2], stride=[2,2])\n",
    "# third block- output is  (?, 1,1, 128)\n",
    "net = slim.conv2d(net, 64, [1,1])\n",
    "net = slim.conv2d(net, 96, [3,3])\n",
    "net = slim.conv2d(net, 128, [3,3])\n",
    "net = slim.max_pool2d(net, [7,7])\n",
    "# flatten, dropout, and linear output for softmax\n",
    "flattened = slim.flatten(net)\n",
    "dropout = slim.dropout(flattened, 0.5)\n",
    "y = slim.linear(dropout, 10)"
   ]
  },
  {
   "cell_type": "code",
   "execution_count": null,
   "metadata": {
    "collapsed": true
   },
   "outputs": [],
   "source": []
  }
 ],
 "metadata": {
  "anaconda-cloud": {},
  "kernelspec": {
   "display_name": "Python 3",
   "language": "python",
   "name": "python3"
  },
  "language_info": {
   "codemirror_mode": {
    "name": "ipython",
    "version": 3
   },
   "file_extension": ".py",
   "mimetype": "text/x-python",
   "name": "python",
   "nbconvert_exporter": "python",
   "pygments_lexer": "ipython3",
   "version": "3.6.1"
  }
 },
 "nbformat": 4,
 "nbformat_minor": 2
}
