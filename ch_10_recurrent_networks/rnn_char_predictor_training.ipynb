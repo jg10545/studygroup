{
 "cells": [
  {
   "cell_type": "code",
   "execution_count": 1,
   "metadata": {},
   "outputs": [],
   "source": [
    "import numpy as np\n",
    "import matplotlib.pyplot as plt\n",
    "import tensorflow as tf\n",
    "\n",
    "from IPython.core.pylabtools import figsize"
   ]
  },
  {
   "cell_type": "code",
   "execution_count": 2,
   "metadata": {},
   "outputs": [
    {
     "data": {
      "text/plain": [
       "172656"
      ]
     },
     "execution_count": 2,
     "metadata": {},
     "output_type": "execute_result"
    }
   ],
   "source": [
    "rawtext = open(\"/media/joe/HD/data/gutenberg/alice_in_wonderland.txt\", \"r\").read()[710:]\n",
    "len(rawtext)"
   ]
  },
  {
   "cell_type": "code",
   "execution_count": 3,
   "metadata": {},
   "outputs": [],
   "source": [
    "split = int(0.9*len(rawtext))\n",
    "trainraw = rawtext.lower()[:split]\n",
    "testraw = rawtext.lower()[split:]"
   ]
  },
  {
   "cell_type": "code",
   "execution_count": 4,
   "metadata": {},
   "outputs": [
    {
     "data": {
      "text/plain": [
       "60"
      ]
     },
     "execution_count": 4,
     "metadata": {},
     "output_type": "execute_result"
    }
   ],
   "source": [
    "chars = sorted(list(set(rawtext.lower())))\n",
    "charmap = {chars[i]:i for i in range(len(chars))}\n",
    "len(chars)"
   ]
  },
  {
   "cell_type": "code",
   "execution_count": null,
   "metadata": {},
   "outputs": [],
   "source": []
  },
  {
   "cell_type": "code",
   "execution_count": 5,
   "metadata": {},
   "outputs": [],
   "source": [
    "seq_len = 25\n",
    "\n",
    "def train_inpt_fn():\n",
    "    def _gen():\n",
    "        while True:\n",
    "            seq_start = np.random.randint(0, len(trainraw)-seq_len-1)\n",
    "            sequence = trainraw[seq_start:seq_start+seq_len]\n",
    "            yield {\"x\":np.array([charmap[c] for c in sequence], dtype=np.int32)}, \\\n",
    "            charmap[trainraw[seq_start+seq_len]]\n",
    "            \n",
    "    ds = tf.data.Dataset.from_generator(_gen, ({\"x\":tf.int32}, tf.int32), \n",
    "                                        ({\"x\":[seq_len,]}, []))\n",
    "    ds = ds.batch(1024)\n",
    "    ds = ds.prefetch(1)\n",
    "    return ds.make_one_shot_iterator().get_next()\n",
    "\n",
    "def test_inpt_fn():\n",
    "    def _gen():\n",
    "        for i in range(1000):\n",
    "            seq_start = i*seq_len\n",
    "            sequence = testraw[seq_start:seq_start+seq_len]\n",
    "            yield {\"x\":np.array([charmap[c] for c in sequence], dtype=np.int32)}, \\\n",
    "                  charmap[testraw[seq_start+seq_len]]\n",
    "            \n",
    "    ds = tf.data.Dataset.from_generator(_gen, ({\"x\":tf.int32}, tf.int32), \n",
    "                                        ({\"x\":[seq_len,]}, []))\n",
    "    ds = ds.batch(512)\n",
    "    ds = ds.prefetch(1)\n",
    "    return ds.make_one_shot_iterator().get_next()"
   ]
  },
  {
   "cell_type": "code",
   "execution_count": 6,
   "metadata": {},
   "outputs": [
    {
     "data": {
      "text/plain": [
       "({'x': <tf.Tensor 'IteratorGetNext:0' shape=(?, 25) dtype=int32>},\n",
       " <tf.Tensor 'IteratorGetNext:1' shape=(?,) dtype=int32>)"
      ]
     },
     "execution_count": 6,
     "metadata": {},
     "output_type": "execute_result"
    }
   ],
   "source": [
    "train_inpt_fn()"
   ]
  },
  {
   "cell_type": "code",
   "execution_count": null,
   "metadata": {},
   "outputs": [],
   "source": []
  },
  {
   "cell_type": "code",
   "execution_count": 7,
   "metadata": {},
   "outputs": [],
   "source": [
    "def model_fn(features, labels, mode, params):\n",
    "    \n",
    "    x_oh = tf.one_hot(features[\"x\"], params[\"num_chars\"])\n",
    "    if labels is not None:\n",
    "        y_oh = tf.one_hot(labels, params[\"num_chars\"])\n",
    "\n",
    "    cells = []\n",
    "    if params[\"lstm\"]:\n",
    "        for h in params[\"hidden\"]:\n",
    "            cells.append(tf.nn.rnn_cell.LSTMCell(h))\n",
    "    else:\n",
    "        for h in params[\"hidden\"]:\n",
    "            cells.append(tf.nn.rnn_cell.BasicRNNCell(h))\n",
    "    if len(params[\"hidden\"]) == 1:\n",
    "        cell = cells[0]\n",
    "    else:\n",
    "        cell = tf.nn.rnn_cell.MultiRNNCell(cells)\n",
    "    outputs, state = tf.nn.dynamic_rnn(cell, x_oh, dtype=tf.float32)\n",
    "\n",
    "    net = outputs[:, -1, :]\n",
    "    \n",
    "    is_training = mode == tf.estimator.ModeKeys.TRAIN\n",
    "\n",
    "    net = tf.layers.dense(net, params[\"hidden\"][0], activation=tf.nn.relu)\n",
    "    net = tf.layers.dropout(net, 0.5, training=is_training)\n",
    "\n",
    "    logits = tf.layers.dense(net, params[\"num_chars\"])\n",
    "    probs = tf.nn.softmax(logits)\n",
    "    predictions = tf.argmax(probs, -1)\n",
    "    \n",
    "    if mode == tf.estimator.ModeKeys.PREDICT:\n",
    "        default = tf.saved_model.signature_constants.DEFAULT_SERVING_SIGNATURE_DEF_KEY\n",
    "        return tf.estimator.EstimatorSpec(mode=mode, \n",
    "                            predictions={\"probs\":probs},\n",
    "                            export_outputs={default:tf.estimator.export.PredictOutput(\n",
    "                                {\"probs\":probs, \"state0\":state[0][0],\n",
    "                                \"state1\":state[0][1]}\n",
    "                            )})\n",
    "                            #export_outputs={\"probs\":tf.estimator.export.PredictOutput(probs),\n",
    "                            #               \"state\":tf.estimator.export.PredictOutput(state[0]),\n",
    "                            #               default:tf.estimator.export.PredictOutput(probs)})\n",
    "    \n",
    "    loss = tf.losses.softmax_cross_entropy(y_oh, logits)\n",
    "    accuracy = tf.metrics.accuracy(labels, predictions)\n",
    "    metrics = {\"accuracy\":accuracy}\n",
    "    if mode == tf.estimator.ModeKeys.EVAL:\n",
    "        return tf.estimator.EstimatorSpec(mode=mode,\n",
    "                            loss=loss, eval_metric_ops=metrics)\n",
    "    \n",
    "    gs = tf.train.get_or_create_global_step()\n",
    "    #optimizer = tf.train.MomentumOptimizer(1e-3, 0.9)\n",
    "    optimizer = tf.train.AdamOptimizer(1e-3)\n",
    "    \n",
    "    train_op = optimizer.minimize(loss, global_step=gs)\n",
    "    return tf.estimator.EstimatorSpec(mode=mode, loss=loss, \n",
    "                        train_op=train_op, eval_metric_ops=metrics)"
   ]
  },
  {
   "cell_type": "code",
   "execution_count": null,
   "metadata": {},
   "outputs": [],
   "source": []
  },
  {
   "cell_type": "code",
   "execution_count": null,
   "metadata": {},
   "outputs": [],
   "source": []
  },
  {
   "cell_type": "code",
   "execution_count": 8,
   "metadata": {
    "scrolled": true
   },
   "outputs": [
    {
     "name": "stdout",
     "output_type": "stream",
     "text": [
      "INFO:tensorflow:Using default config.\n",
      "INFO:tensorflow:Using config: {'_model_dir': '/media/joe/HD/text_pred_models/alice_in_wonderland_lstm_128_128/', '_tf_random_seed': None, '_save_summary_steps': 100, '_save_checkpoints_steps': None, '_save_checkpoints_secs': 600, '_session_config': None, '_keep_checkpoint_max': 5, '_keep_checkpoint_every_n_hours': 10000, '_log_step_count_steps': 100, '_train_distribute': None, '_device_fn': None, '_service': None, '_cluster_spec': <tensorflow.python.training.server_lib.ClusterSpec object at 0x7ffa38f11748>, '_task_type': 'worker', '_task_id': 0, '_global_id_in_cluster': 0, '_master': '', '_evaluation_master': '', '_is_chief': True, '_num_ps_replicas': 0, '_num_worker_replicas': 1}\n",
      "INFO:tensorflow:Calling model_fn.\n",
      "INFO:tensorflow:Done calling model_fn.\n",
      "INFO:tensorflow:Create CheckpointSaverHook.\n",
      "INFO:tensorflow:Graph was finalized.\n",
      "INFO:tensorflow:Restoring parameters from /media/joe/HD/text_pred_models/alice_in_wonderland_lstm_128_128/model.ckpt-5000\n",
      "INFO:tensorflow:Running local_init_op.\n",
      "INFO:tensorflow:Done running local_init_op.\n",
      "INFO:tensorflow:Saving checkpoints for 5000 into /media/joe/HD/text_pred_models/alice_in_wonderland_lstm_128_128/model.ckpt.\n",
      "INFO:tensorflow:loss = 0.744227, step = 5000\n",
      "INFO:tensorflow:global_step/sec: 6.02836\n",
      "INFO:tensorflow:loss = 0.748095, step = 5100 (16.589 sec)\n",
      "INFO:tensorflow:global_step/sec: 6.10314\n",
      "INFO:tensorflow:loss = 0.695195, step = 5200 (16.385 sec)\n",
      "INFO:tensorflow:global_step/sec: 6.13881\n",
      "INFO:tensorflow:loss = 0.639808, step = 5300 (16.290 sec)\n",
      "INFO:tensorflow:global_step/sec: 6.043\n",
      "INFO:tensorflow:loss = 0.640748, step = 5400 (16.548 sec)\n",
      "INFO:tensorflow:global_step/sec: 5.47298\n",
      "INFO:tensorflow:loss = 0.650077, step = 5500 (18.273 sec)\n",
      "INFO:tensorflow:global_step/sec: 5.51333\n",
      "INFO:tensorflow:loss = 0.610544, step = 5600 (18.139 sec)\n",
      "INFO:tensorflow:global_step/sec: 5.94493\n",
      "INFO:tensorflow:loss = 0.616631, step = 5700 (16.818 sec)\n",
      "INFO:tensorflow:global_step/sec: 6.0025\n",
      "INFO:tensorflow:loss = 0.555522, step = 5800 (16.661 sec)\n",
      "INFO:tensorflow:global_step/sec: 6.04166\n",
      "INFO:tensorflow:loss = 0.496496, step = 5900 (16.550 sec)\n",
      "INFO:tensorflow:global_step/sec: 5.70433\n",
      "INFO:tensorflow:loss = 0.553331, step = 6000 (17.532 sec)\n",
      "INFO:tensorflow:global_step/sec: 4.73707\n",
      "INFO:tensorflow:loss = 0.551124, step = 6100 (21.110 sec)\n",
      "INFO:tensorflow:global_step/sec: 4.82066\n",
      "INFO:tensorflow:loss = 0.547535, step = 6200 (20.746 sec)\n",
      "INFO:tensorflow:global_step/sec: 5.04001\n",
      "INFO:tensorflow:loss = 0.546422, step = 6300 (19.839 sec)\n",
      "INFO:tensorflow:global_step/sec: 5.1462\n",
      "INFO:tensorflow:loss = 0.52917, step = 6400 (19.435 sec)\n",
      "INFO:tensorflow:global_step/sec: 4.93812\n",
      "INFO:tensorflow:loss = 0.457123, step = 6500 (20.248 sec)\n",
      "INFO:tensorflow:global_step/sec: 5.06335\n",
      "INFO:tensorflow:loss = 0.470284, step = 6600 (19.750 sec)\n",
      "INFO:tensorflow:global_step/sec: 4.77913\n",
      "INFO:tensorflow:loss = 0.431054, step = 6700 (20.925 sec)\n",
      "INFO:tensorflow:global_step/sec: 5.43293\n",
      "INFO:tensorflow:loss = 0.450276, step = 6800 (18.405 sec)\n",
      "INFO:tensorflow:global_step/sec: 4.84613\n",
      "INFO:tensorflow:loss = 0.450747, step = 6900 (20.637 sec)\n",
      "INFO:tensorflow:global_step/sec: 4.96487\n",
      "INFO:tensorflow:loss = 0.439215, step = 7000 (20.142 sec)\n",
      "INFO:tensorflow:global_step/sec: 4.99857\n",
      "INFO:tensorflow:loss = 0.411328, step = 7100 (20.004 sec)\n",
      "INFO:tensorflow:global_step/sec: 5.0803\n",
      "INFO:tensorflow:loss = 0.443917, step = 7200 (19.684 sec)\n",
      "INFO:tensorflow:global_step/sec: 5.08737\n",
      "INFO:tensorflow:loss = 0.401538, step = 7300 (19.657 sec)\n",
      "INFO:tensorflow:global_step/sec: 5.12671\n",
      "INFO:tensorflow:loss = 0.41949, step = 7400 (19.507 sec)\n",
      "INFO:tensorflow:global_step/sec: 5.08834\n",
      "INFO:tensorflow:loss = 0.386276, step = 7500 (19.652 sec)\n",
      "INFO:tensorflow:global_step/sec: 5.09167\n",
      "INFO:tensorflow:loss = 0.393281, step = 7600 (19.640 sec)\n",
      "INFO:tensorflow:global_step/sec: 5.14895\n",
      "INFO:tensorflow:loss = 0.380294, step = 7700 (19.423 sec)\n",
      "INFO:tensorflow:global_step/sec: 5.04643\n",
      "INFO:tensorflow:loss = 0.349933, step = 7800 (19.813 sec)\n",
      "INFO:tensorflow:global_step/sec: 5.14107\n",
      "INFO:tensorflow:loss = 0.421901, step = 7900 (19.450 sec)\n",
      "INFO:tensorflow:global_step/sec: 5.0563\n",
      "INFO:tensorflow:loss = 0.377361, step = 8000 (19.778 sec)\n",
      "INFO:tensorflow:global_step/sec: 5.03186\n",
      "INFO:tensorflow:loss = 0.391823, step = 8100 (19.874 sec)\n",
      "INFO:tensorflow:Saving checkpoints for 8160 into /media/joe/HD/text_pred_models/alice_in_wonderland_lstm_128_128/model.ckpt.\n",
      "INFO:tensorflow:global_step/sec: 5.01177\n",
      "INFO:tensorflow:loss = 0.338015, step = 8200 (19.953 sec)\n",
      "INFO:tensorflow:global_step/sec: 5.09452\n",
      "INFO:tensorflow:loss = 0.327432, step = 8300 (19.629 sec)\n",
      "INFO:tensorflow:global_step/sec: 5.10891\n",
      "INFO:tensorflow:loss = 0.318052, step = 8400 (19.573 sec)\n",
      "INFO:tensorflow:global_step/sec: 5.08742\n",
      "INFO:tensorflow:loss = 0.298306, step = 8500 (19.656 sec)\n",
      "INFO:tensorflow:global_step/sec: 5.08985\n",
      "INFO:tensorflow:loss = 0.310483, step = 8600 (19.646 sec)\n",
      "INFO:tensorflow:global_step/sec: 5.11091\n",
      "INFO:tensorflow:loss = 0.323553, step = 8700 (19.566 sec)\n",
      "INFO:tensorflow:global_step/sec: 5.04313\n",
      "INFO:tensorflow:loss = 0.293423, step = 8800 (19.830 sec)\n",
      "INFO:tensorflow:global_step/sec: 5.08098\n",
      "INFO:tensorflow:loss = 0.295369, step = 8900 (19.682 sec)\n",
      "INFO:tensorflow:global_step/sec: 5.13443\n",
      "INFO:tensorflow:loss = 0.285437, step = 9000 (19.475 sec)\n",
      "INFO:tensorflow:global_step/sec: 5.04343\n",
      "INFO:tensorflow:loss = 0.268388, step = 9100 (19.828 sec)\n",
      "INFO:tensorflow:global_step/sec: 4.66322\n",
      "INFO:tensorflow:loss = 0.245221, step = 9200 (21.445 sec)\n",
      "INFO:tensorflow:global_step/sec: 5.39862\n",
      "INFO:tensorflow:loss = 0.28852, step = 9300 (18.523 sec)\n",
      "INFO:tensorflow:global_step/sec: 5.45728\n",
      "INFO:tensorflow:loss = 0.220906, step = 9400 (18.326 sec)\n",
      "INFO:tensorflow:global_step/sec: 5.40987\n",
      "INFO:tensorflow:loss = 0.249951, step = 9500 (18.485 sec)\n",
      "INFO:tensorflow:global_step/sec: 5.4865\n",
      "INFO:tensorflow:loss = 0.246677, step = 9600 (18.228 sec)\n",
      "INFO:tensorflow:global_step/sec: 5.22005\n",
      "INFO:tensorflow:loss = 0.235628, step = 9700 (19.154 sec)\n",
      "INFO:tensorflow:global_step/sec: 5.61739\n",
      "INFO:tensorflow:loss = 0.28767, step = 9800 (17.801 sec)\n",
      "INFO:tensorflow:global_step/sec: 5.59346\n",
      "INFO:tensorflow:loss = 0.2231, step = 9900 (17.879 sec)\n",
      "INFO:tensorflow:Saving checkpoints for 10000 into /media/joe/HD/text_pred_models/alice_in_wonderland_lstm_128_128/model.ckpt.\n",
      "INFO:tensorflow:Loss for final step: 0.234437.\n"
     ]
    },
    {
     "data": {
      "text/plain": [
       "<tensorflow.python.estimator.estimator.Estimator at 0x7ffa38f11470>"
      ]
     },
     "execution_count": 8,
     "metadata": {},
     "output_type": "execute_result"
    }
   ],
   "source": [
    "params={\"num_chars\":len(chars), \"lstm\":True, \"hidden\":[256, 256]}\n",
    "mod = \"/media/joe/HD/text_pred_models/alice_in_wonderland_lstm_128_128/\"\n",
    "model = tf.estimator.Estimator(model_fn, mod, \n",
    "                               params=params)\n",
    "\n",
    "model.train(lambda: train_inpt_fn(), steps=5000)"
   ]
  },
  {
   "cell_type": "code",
   "execution_count": null,
   "metadata": {},
   "outputs": [],
   "source": []
  },
  {
   "cell_type": "code",
   "execution_count": 9,
   "metadata": {},
   "outputs": [],
   "source": [
    "def serving_input_fn():\n",
    "    features = {\"x\":tf.placeholder(tf.int32, [1, seq_len])}\n",
    "    return tf.estimator.export.build_raw_serving_input_receiver_fn(features, None)"
   ]
  },
  {
   "cell_type": "code",
   "execution_count": null,
   "metadata": {},
   "outputs": [],
   "source": []
  },
  {
   "cell_type": "code",
   "execution_count": 10,
   "metadata": {},
   "outputs": [
    {
     "name": "stdout",
     "output_type": "stream",
     "text": [
      "INFO:tensorflow:Calling model_fn.\n",
      "INFO:tensorflow:Done calling model_fn.\n",
      "INFO:tensorflow:Signatures INCLUDED in export for Classify: None\n",
      "INFO:tensorflow:Signatures INCLUDED in export for Regress: None\n",
      "INFO:tensorflow:Signatures INCLUDED in export for Predict: ['serving_default']\n",
      "INFO:tensorflow:Signatures INCLUDED in export for Train: None\n",
      "INFO:tensorflow:Signatures INCLUDED in export for Eval: None\n",
      "INFO:tensorflow:Restoring parameters from /media/joe/HD/text_pred_models/alice_in_wonderland_lstm_128_128/model.ckpt-5000\n",
      "INFO:tensorflow:Assets added to graph.\n",
      "INFO:tensorflow:No assets to write.\n",
      "INFO:tensorflow:SavedModel written to: /media/joe/HD/text_pred_models/alice_in_wonderland_lstm_128_128_export/temp-b'1537409324'/saved_model.pb\n"
     ]
    },
    {
     "data": {
      "text/plain": [
       "b'/media/joe/HD/text_pred_models/alice_in_wonderland_lstm_128_128_export/1537409324'"
      ]
     },
     "execution_count": 10,
     "metadata": {},
     "output_type": "execute_result"
    }
   ],
   "source": [
    "model.export_savedmodel(\"/media/joe/HD/text_pred_models/alice_in_wonderland_lstm_128_128_export/\", serving_input_fn())"
   ]
  },
  {
   "cell_type": "code",
   "execution_count": null,
   "metadata": {},
   "outputs": [],
   "source": []
  },
  {
   "cell_type": "code",
   "execution_count": null,
   "metadata": {},
   "outputs": [],
   "source": []
  },
  {
   "cell_type": "code",
   "execution_count": null,
   "metadata": {},
   "outputs": [],
   "source": []
  },
  {
   "cell_type": "code",
   "execution_count": null,
   "metadata": {},
   "outputs": [],
   "source": []
  },
  {
   "cell_type": "code",
   "execution_count": null,
   "metadata": {},
   "outputs": [],
   "source": []
  },
  {
   "cell_type": "code",
   "execution_count": null,
   "metadata": {},
   "outputs": [],
   "source": []
  }
 ],
 "metadata": {
  "kernelspec": {
   "display_name": "Python 3",
   "language": "python",
   "name": "python3"
  },
  "language_info": {
   "codemirror_mode": {
    "name": "ipython",
    "version": 3
   },
   "file_extension": ".py",
   "mimetype": "text/x-python",
   "name": "python",
   "nbconvert_exporter": "python",
   "pygments_lexer": "ipython3",
   "version": "3.6.3"
  }
 },
 "nbformat": 4,
 "nbformat_minor": 2
}
