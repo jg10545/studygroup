{
 "cells": [
  {
   "cell_type": "code",
   "execution_count": 1,
   "metadata": {},
   "outputs": [],
   "source": [
    "import numpy as np\n",
    "import matplotlib.pyplot as plt\n",
    "import tensorflow as tf\n",
    "\n",
    "from IPython.core.pylabtools import figsize"
   ]
  },
  {
   "cell_type": "code",
   "execution_count": 2,
   "metadata": {},
   "outputs": [
    {
     "data": {
      "text/plain": [
       "163107"
      ]
     },
     "execution_count": 2,
     "metadata": {},
     "output_type": "execute_result"
    }
   ],
   "source": [
    "rawtext = open(\"/Users/joe/Documents/study-group/data/alice_in_wonderland.txt\", \"r\").read()[710:]\n",
    "len(rawtext)"
   ]
  },
  {
   "cell_type": "code",
   "execution_count": 3,
   "metadata": {},
   "outputs": [],
   "source": [
    "split = int(0.9*len(rawtext))\n",
    "trainraw = rawtext.lower()[:split]\n",
    "testraw = rawtext.lower()[split:]"
   ]
  },
  {
   "cell_type": "code",
   "execution_count": 4,
   "metadata": {},
   "outputs": [
    {
     "data": {
      "text/plain": [
       "59"
      ]
     },
     "execution_count": 4,
     "metadata": {},
     "output_type": "execute_result"
    }
   ],
   "source": [
    "chars = sorted(list(set(rawtext.lower())))\n",
    "charmap = {chars[i]:i for i in range(len(chars))}\n",
    "len(chars)"
   ]
  },
  {
   "cell_type": "code",
   "execution_count": null,
   "metadata": {},
   "outputs": [],
   "source": []
  },
  {
   "cell_type": "code",
   "execution_count": 5,
   "metadata": {},
   "outputs": [],
   "source": [
    "seq_len = 25\n",
    "\n",
    "def train_inpt_fn():\n",
    "    def _gen():\n",
    "        while True:\n",
    "            seq_start = np.random.randint(0, len(trainraw)-seq_len-1)\n",
    "            sequence = trainraw[seq_start:seq_start+seq_len]\n",
    "            yield {\"x\":np.array([charmap[c] for c in sequence], dtype=np.int32)}, \\\n",
    "            charmap[trainraw[seq_start+seq_len]]\n",
    "            \n",
    "    ds = tf.data.Dataset.from_generator(_gen, ({\"x\":tf.int32}, tf.int32), \n",
    "                                        ({\"x\":[seq_len,]}, []))\n",
    "    ds = ds.batch(100)\n",
    "    ds = ds.prefetch(1)\n",
    "    return ds.make_one_shot_iterator().get_next()\n",
    "\n",
    "def test_inpt_fn():\n",
    "    def _gen():\n",
    "        for i in range(1000):\n",
    "            seq_start = i*seq_len\n",
    "            sequence = testraw[seq_start:seq_start+seq_len]\n",
    "            yield {\"x\":np.array([charmap[c] for c in sequence], dtype=np.int32)}, \\\n",
    "                  charmap[testraw[seq_start+seq_len]]\n",
    "            \n",
    "    ds = tf.data.Dataset.from_generator(_gen, ({\"x\":tf.int32}, tf.int32), \n",
    "                                        ({\"x\":[seq_len,]}, []))\n",
    "    ds = ds.batch(100)\n",
    "    ds = ds.prefetch(1)\n",
    "    return ds.make_one_shot_iterator().get_next()"
   ]
  },
  {
   "cell_type": "code",
   "execution_count": 6,
   "metadata": {},
   "outputs": [
    {
     "data": {
      "text/plain": [
       "({'x': <tf.Tensor 'IteratorGetNext:0' shape=(?, 25) dtype=int32>},\n",
       " <tf.Tensor 'IteratorGetNext:1' shape=(?,) dtype=int32>)"
      ]
     },
     "execution_count": 6,
     "metadata": {},
     "output_type": "execute_result"
    }
   ],
   "source": [
    "train_inpt_fn()"
   ]
  },
  {
   "cell_type": "code",
   "execution_count": 7,
   "metadata": {},
   "outputs": [],
   "source": [
    "def model_fn(features, labels, mode, params):\n",
    "    \n",
    "    x_oh = tf.one_hot(features[\"x\"], params[\"num_chars\"])\n",
    "    if labels is not None:\n",
    "        y_oh = tf.one_hot(labels, params[\"num_chars\"])\n",
    "\n",
    "    if params[\"lmst\"]:\n",
    "        cell = tf.nn.rnn_cell.LSTMCell(params[\"hidden\"])\n",
    "    else:\n",
    "        cell = tf.nn.rnn_cell.BasicRNNCell(params[\"hidden\"])\n",
    "    outputs, state = tf.nn.dynamic_rnn(cell, x_oh, dtype=tf.float32)\n",
    "    final = outputs[:, -1, :]\n",
    "\n",
    "    logits = tf.layers.dense(final, params[\"num_chars\"])\n",
    "    probs = tf.nn.softmax(logits)\n",
    "    predictions = tf.argmax(probs, -1)\n",
    "    \n",
    "    if mode == tf.estimator.ModeKeys.PREDICT:\n",
    "        return tf.estimator.EstimatorSpec(mode=mode, \n",
    "                            predictions={\"probs\":probs},\n",
    "                            export_outputs={\"probs\":tf.estimator.export.PredictOutput(probs)})\n",
    "    \n",
    "    loss = tf.losses.softmax_cross_entropy(y_oh, logits)\n",
    "    accuracy = tf.metrics.accuracy(labels, predictions)\n",
    "    metrics = {\"accuracy\":accuracy}\n",
    "    if mode == tf.estimator.ModeKeys.EVAL:\n",
    "        return tf.estimator.EstimatorSpec(mode=mode,\n",
    "                            loss=loss, eval_metric_ops=metrics)\n",
    "        \n",
    "    optimizer = tf.train.MomentumOptimizer(1e-3, 0.9)\n",
    "    gs = tf.train.get_or_create_global_step()\n",
    "    train_op = optimizer.minimize(loss, global_step=gs)\n",
    "    return tf.estimator.EstimatorSpec(mode=mode, loss=loss, \n",
    "                        train_op=train_op, eval_metric_ops=metrics)"
   ]
  },
  {
   "cell_type": "code",
   "execution_count": null,
   "metadata": {},
   "outputs": [],
   "source": []
  },
  {
   "cell_type": "code",
   "execution_count": 8,
   "metadata": {},
   "outputs": [
    {
     "name": "stdout",
     "output_type": "stream",
     "text": [
      "INFO:tensorflow:Using default config.\n",
      "INFO:tensorflow:Using config: {'_model_dir': '/Users/joe/Documents/study-group/logs/', '_tf_random_seed': None, '_save_summary_steps': 100, '_save_checkpoints_steps': None, '_save_checkpoints_secs': 600, '_session_config': None, '_keep_checkpoint_max': 5, '_keep_checkpoint_every_n_hours': 10000, '_log_step_count_steps': 100, '_train_distribute': None, '_device_fn': None, '_service': None, '_cluster_spec': <tensorflow.python.training.server_lib.ClusterSpec object at 0x18336f0208>, '_task_type': 'worker', '_task_id': 0, '_global_id_in_cluster': 0, '_master': '', '_evaluation_master': '', '_is_chief': True, '_num_ps_replicas': 0, '_num_worker_replicas': 1}\n"
     ]
    }
   ],
   "source": [
    "model = tf.estimator.Estimator(model_fn, \"/Users/joe/Documents/study-group/logs/\", \n",
    "                               params={\"num_chars\":len(chars), \"lstm\":False})"
   ]
  },
  {
   "cell_type": "code",
   "execution_count": null,
   "metadata": {},
   "outputs": [],
   "source": []
  },
  {
   "cell_type": "code",
   "execution_count": 9,
   "metadata": {},
   "outputs": [
    {
     "name": "stdout",
     "output_type": "stream",
     "text": [
      "INFO:tensorflow:Calling model_fn.\n",
      "INFO:tensorflow:Done calling model_fn.\n",
      "INFO:tensorflow:Create CheckpointSaverHook.\n",
      "INFO:tensorflow:Graph was finalized.\n",
      "INFO:tensorflow:Running local_init_op.\n",
      "INFO:tensorflow:Done running local_init_op.\n",
      "INFO:tensorflow:Saving checkpoints for 0 into /Users/joe/Documents/study-group/logs/model.ckpt.\n",
      "INFO:tensorflow:loss = 4.1186867, step = 1\n",
      "INFO:tensorflow:Saving checkpoints for 10 into /Users/joe/Documents/study-group/logs/model.ckpt.\n",
      "INFO:tensorflow:Loss for final step: 3.99785.\n"
     ]
    },
    {
     "data": {
      "text/plain": [
       "<tensorflow.python.estimator.estimator.Estimator at 0x18336f0048>"
      ]
     },
     "execution_count": 9,
     "metadata": {},
     "output_type": "execute_result"
    }
   ],
   "source": [
    "model.train(lambda: train_inpt_fn(), steps=10)"
   ]
  },
  {
   "cell_type": "code",
   "execution_count": null,
   "metadata": {},
   "outputs": [],
   "source": []
  },
  {
   "cell_type": "code",
   "execution_count": 10,
   "metadata": {},
   "outputs": [],
   "source": [
    "def serving_input_fn():\n",
    "    features = {\"x\":tf.placeholder(tf.int32, [1, seq_len])}\n",
    "    return tf.estimator.export.build_raw_serving_input_receiver_fn(features, None)"
   ]
  },
  {
   "cell_type": "code",
   "execution_count": 11,
   "metadata": {},
   "outputs": [
    {
     "data": {
      "text/plain": [
       "ServingInputReceiver(features={'x': <tf.Tensor 'Placeholder_1:0' shape=(?, 25) dtype=int32>}, receiver_tensors={'x': <tf.Tensor 'Placeholder_1:0' shape=(?, 25) dtype=int32>}, receiver_tensors_alternatives=None)"
      ]
     },
     "execution_count": 11,
     "metadata": {},
     "output_type": "execute_result"
    }
   ],
   "source": [
    "serving_input_fn()()"
   ]
  },
  {
   "cell_type": "code",
   "execution_count": null,
   "metadata": {},
   "outputs": [],
   "source": []
  },
  {
   "cell_type": "code",
   "execution_count": 12,
   "metadata": {},
   "outputs": [
    {
     "name": "stdout",
     "output_type": "stream",
     "text": [
      "INFO:tensorflow:Calling model_fn.\n",
      "INFO:tensorflow:Done calling model_fn.\n",
      "INFO:tensorflow:Signatures INCLUDED in export for Classify: None\n",
      "INFO:tensorflow:Signatures INCLUDED in export for Regress: None\n",
      "INFO:tensorflow:Signatures INCLUDED in export for Predict: ['probs', 'serving_default']\n",
      "INFO:tensorflow:Signatures INCLUDED in export for Train: None\n",
      "INFO:tensorflow:Signatures INCLUDED in export for Eval: None\n",
      "INFO:tensorflow:Restoring parameters from /Users/joe/Documents/study-group/logs/model.ckpt-10\n",
      "INFO:tensorflow:Assets added to graph.\n",
      "INFO:tensorflow:No assets to write.\n",
      "INFO:tensorflow:SavedModel written to: /Users/joe/Documents/study-group/logs/temp-b'1535942380'/saved_model.pb\n"
     ]
    },
    {
     "data": {
      "text/plain": [
       "b'/Users/joe/Documents/study-group/logs/1535942380'"
      ]
     },
     "execution_count": 12,
     "metadata": {},
     "output_type": "execute_result"
    }
   ],
   "source": [
    "model.export_savedmodel(\"/Users/joe/Documents/study-group/logs/\", serving_input_fn())"
   ]
  },
  {
   "cell_type": "code",
   "execution_count": null,
   "metadata": {},
   "outputs": [],
   "source": []
  },
  {
   "cell_type": "code",
   "execution_count": null,
   "metadata": {},
   "outputs": [],
   "source": []
  },
  {
   "cell_type": "code",
   "execution_count": null,
   "metadata": {},
   "outputs": [],
   "source": []
  },
  {
   "cell_type": "code",
   "execution_count": null,
   "metadata": {},
   "outputs": [],
   "source": []
  },
  {
   "cell_type": "code",
   "execution_count": null,
   "metadata": {},
   "outputs": [],
   "source": []
  },
  {
   "cell_type": "code",
   "execution_count": null,
   "metadata": {},
   "outputs": [],
   "source": []
  },
  {
   "cell_type": "code",
   "execution_count": null,
   "metadata": {},
   "outputs": [],
   "source": []
  },
  {
   "cell_type": "code",
   "execution_count": null,
   "metadata": {},
   "outputs": [],
   "source": []
  }
 ],
 "metadata": {
  "kernelspec": {
   "display_name": "Python 3",
   "language": "python",
   "name": "python3"
  },
  "language_info": {
   "codemirror_mode": {
    "name": "ipython",
    "version": 3
   },
   "file_extension": ".py",
   "mimetype": "text/x-python",
   "name": "python",
   "nbconvert_exporter": "python",
   "pygments_lexer": "ipython3",
   "version": "3.6.4"
  }
 },
 "nbformat": 4,
 "nbformat_minor": 2
}
