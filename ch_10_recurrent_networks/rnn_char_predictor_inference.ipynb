{
 "cells": [
  {
   "cell_type": "code",
   "execution_count": 1,
   "metadata": {},
   "outputs": [],
   "source": [
    "import numpy as np\n",
    "import matplotlib.pyplot as plt\n",
    "import tensorflow as tf\n",
    "import tensorflow.contrib\n",
    "from tqdm import tqdm\n",
    "\n",
    "from IPython.core.pylabtools import figsize"
   ]
  },
  {
   "cell_type": "code",
   "execution_count": 2,
   "metadata": {},
   "outputs": [
    {
     "data": {
      "text/plain": [
       "172656"
      ]
     },
     "execution_count": 2,
     "metadata": {},
     "output_type": "execute_result"
    }
   ],
   "source": [
    "rawtext = open(\"/media/joe/HD/data/gutenberg/alice_in_wonderland.txt\", \"r\").read()[710:]\n",
    "len(rawtext)"
   ]
  },
  {
   "cell_type": "code",
   "execution_count": 3,
   "metadata": {},
   "outputs": [],
   "source": [
    "split = int(0.9*len(rawtext))\n",
    "trainraw = rawtext.lower()[:split]\n",
    "testraw = rawtext.lower()[split:]"
   ]
  },
  {
   "cell_type": "code",
   "execution_count": 4,
   "metadata": {},
   "outputs": [
    {
     "data": {
      "text/plain": [
       "60"
      ]
     },
     "execution_count": 4,
     "metadata": {},
     "output_type": "execute_result"
    }
   ],
   "source": [
    "chars = sorted(list(set(rawtext.lower())))\n",
    "charmap = {chars[i]:i for i in range(len(chars))}\n",
    "len(chars)"
   ]
  },
  {
   "cell_type": "code",
   "execution_count": 5,
   "metadata": {},
   "outputs": [],
   "source": [
    "rnn_model_dir = '/media/joe/HD/text_pred_models/alice_rnn_256_adam_export/1536113383/'\n",
    "lstm_model_dir = '/media/joe/HD/text_pred_models/alice_lstm_256_adam_export/1536116411/'"
   ]
  },
  {
   "cell_type": "code",
   "execution_count": null,
   "metadata": {},
   "outputs": [],
   "source": []
  },
  {
   "cell_type": "code",
   "execution_count": 6,
   "metadata": {},
   "outputs": [],
   "source": [
    "class TextGenerator():\n",
    "    def __init__(self, logdir, seq_len=25):\n",
    "        self._predict = tf.contrib.predictor.from_saved_model(logdir)\n",
    "        self._seq_len = seq_len\n",
    "        \n",
    "    def __call__(self, text, n=50):\n",
    "        text = \" \"*self._seq_len + text\n",
    "        for _ in tqdm(range(n)):\n",
    "            inputs = np.expand_dims(np.array([charmap[c] for c in text[-25:]], \n",
    "                                             dtype=np.int32), 0)\n",
    "            probs = self._predict({\"x\":inputs})[\"output\"].ravel()\n",
    "            next_char_index = np.random.choice(np.arange(len(probs)), p=probs)\n",
    "            text += chars[next_char_index]\n",
    "        return text.strip()"
   ]
  },
  {
   "cell_type": "code",
   "execution_count": 7,
   "metadata": {},
   "outputs": [
    {
     "name": "stdout",
     "output_type": "stream",
     "text": [
      "INFO:tensorflow:Restoring parameters from /media/joe/HD/text_pred_models/alice_rnn_256_adam_export/1536113383/variables/variables\n",
      "INFO:tensorflow:Restoring parameters from /media/joe/HD/text_pred_models/alice_lstm_256_adam_export/1536116411/variables/variables\n"
     ]
    }
   ],
   "source": [
    "rnn = TextGenerator(rnn_model_dir)\n",
    "lstm = TextGenerator(lstm_model_dir)"
   ]
  },
  {
   "cell_type": "code",
   "execution_count": 8,
   "metadata": {},
   "outputs": [
    {
     "name": "stderr",
     "output_type": "stream",
     "text": [
      "100%|██████████| 1000/1000 [00:11<00:00, 86.26it/s]"
     ]
    },
    {
     "name": "stdout",
     "output_type": "stream",
     "text": [
      "this is a test itvenst think to get her full pare alarm?\" alice green the whole like a scrossed by it, and very croquet. (\"they're mares in the down with its peese there was just time\n",
      "down the\n",
      "bottle purry\n",
      "to\n",
      "concusion entter something to parting in side. it seemed such latern's on it wandering between of neired of said, and the with\n",
      "ine more half _voilligh,\n",
      "of little bill, \"well!\n",
      "\n",
      "\n",
      "          who is\n",
      "it kaine in it jurt,\" he said to herself.\n",
      "\n",
      "\"he had bowing in a great that days!\" cried the dormouse!\n",
      "          when they lusting and\n",
      "off for bristed. \"i'm a was tupping _ithlet courself, and time? alice had not must give can be jois all that _mouse--he turned to have came talking down her\n",
      "peed. \"why, you don't\n",
      "mutters and the mock, and said better are it with ensiat day, with the stors,\n",
      " frill the forto meerengar thome the twillan,\" said alice:\n",
      "\"the book:\n",
      "           and tely do and instance.\n",
      "             looked up hister!\"\n",
      "\n",
      "\"give all her shined heard off and of\n",
      "justing the dise beginning with the rosa si\n"
     ]
    },
    {
     "name": "stderr",
     "output_type": "stream",
     "text": [
      "\n"
     ]
    }
   ],
   "source": [
    "print(rnn(\"this is a test\", 1000))"
   ]
  },
  {
   "cell_type": "code",
   "execution_count": 9,
   "metadata": {
    "scrolled": true
   },
   "outputs": [
    {
     "name": "stderr",
     "output_type": "stream",
     "text": [
      "100%|██████████| 1000/1000 [00:14<00:00, 61.72it/s]"
     ]
    },
    {
     "name": "stdout",
     "output_type": "stream",
     "text": [
      "this is a test a pease in the ligh.\n",
      "\n",
      "\"butterd you mean,\" said alice.\n",
      "\n",
      "\"very triesce in the lose,\n",
      "and the same too was gentled in wasting to its fais, but the jury, were marthing back!\n",
      "     lite little ding enough belore thoo mard an leakers, and this nave of\n",
      "courtel stay the other: she went and tuch a dench angrem down whe hurry again, and said astiles, \"dher, roollreath, if i 'all him,\n",
      "             the little garden rut an more alice on the lourtle, nearer, him in a great hurry,\n",
      "\n",
      "your plaig too do!_\n",
      "\n",
      "          the queen leased of evin on their talks before she fints eecesss the mouse for the _!\" cree turtle-tiples the mock turtle: she tried the duchess talking to her. \"so i can't gever iting be of her\n",
      "were out of a too mean present!\"\n",
      "said alice in a look, wordh it out of at all, as woul nearry.\"\n",
      "\n",
      "\"i haven't this must gotes, in the morthing window,\n",
      "           he went on it tead of the marks to tay for a bat, and a thild in to her trrats of the\n",
      "crightents in am into her, and still herself her look at\n"
     ]
    },
    {
     "name": "stderr",
     "output_type": "stream",
     "text": [
      "\n"
     ]
    }
   ],
   "source": [
    "print(lstm(\"this is a test\", 1000))"
   ]
  },
  {
   "cell_type": "code",
   "execution_count": null,
   "metadata": {},
   "outputs": [],
   "source": []
  },
  {
   "cell_type": "code",
   "execution_count": null,
   "metadata": {},
   "outputs": [],
   "source": []
  },
  {
   "cell_type": "code",
   "execution_count": null,
   "metadata": {},
   "outputs": [],
   "source": []
  },
  {
   "cell_type": "code",
   "execution_count": null,
   "metadata": {},
   "outputs": [],
   "source": []
  },
  {
   "cell_type": "code",
   "execution_count": null,
   "metadata": {},
   "outputs": [],
   "source": []
  },
  {
   "cell_type": "code",
   "execution_count": null,
   "metadata": {},
   "outputs": [],
   "source": []
  },
  {
   "cell_type": "code",
   "execution_count": null,
   "metadata": {},
   "outputs": [],
   "source": []
  }
 ],
 "metadata": {
  "kernelspec": {
   "display_name": "Python 3",
   "language": "python",
   "name": "python3"
  },
  "language_info": {
   "codemirror_mode": {
    "name": "ipython",
    "version": 3
   },
   "file_extension": ".py",
   "mimetype": "text/x-python",
   "name": "python",
   "nbconvert_exporter": "python",
   "pygments_lexer": "ipython3",
   "version": "3.6.3"
  }
 },
 "nbformat": 4,
 "nbformat_minor": 2
}
