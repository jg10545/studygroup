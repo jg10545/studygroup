{
 "cells": [
  {
   "cell_type": "code",
   "execution_count": 1,
   "metadata": {
    "collapsed": true
   },
   "outputs": [],
   "source": [
    "import numpy as np\n",
    "import matplotlib.pyplot as plt\n",
    "import tensorflow as tf\n",
    "import string\n",
    "from tqdm import tqdm\n",
    "\n",
    "%matplotlib inline\n",
    "from IPython.core.pylabtools import figsize"
   ]
  },
  {
   "cell_type": "code",
   "execution_count": 2,
   "metadata": {},
   "outputs": [
    {
     "data": {
      "text/plain": [
       "'1.7.0'"
      ]
     },
     "execution_count": 2,
     "metadata": {},
     "output_type": "execute_result"
    }
   ],
   "source": [
    "tf.__version__"
   ]
  },
  {
   "cell_type": "code",
   "execution_count": 3,
   "metadata": {
    "collapsed": true
   },
   "outputs": [],
   "source": [
    "tf.logging.set_verbosity(\"WARN\")"
   ]
  },
  {
   "cell_type": "code",
   "execution_count": 4,
   "metadata": {
    "collapsed": true
   },
   "outputs": [],
   "source": [
    "textfile = \"/media/joe/HD/data/gutenberg/zarathustra.txt\"\n",
    "rawtext = open(textfile, \"r\").read()\n",
    "rawtext = rawtext.lower()"
   ]
  },
  {
   "cell_type": "code",
   "execution_count": 5,
   "metadata": {},
   "outputs": [
    {
     "data": {
      "text/plain": [
       "61"
      ]
     },
     "execution_count": 5,
     "metadata": {},
     "output_type": "execute_result"
    }
   ],
   "source": [
    "characters = list(set(rawtext))\n",
    "len(characters)"
   ]
  },
  {
   "cell_type": "code",
   "execution_count": 6,
   "metadata": {
    "collapsed": true
   },
   "outputs": [],
   "source": [
    "char_map = {characters[i]:i for i in range(len(characters))}"
   ]
  },
  {
   "cell_type": "code",
   "execution_count": 7,
   "metadata": {},
   "outputs": [
    {
     "data": {
      "text/plain": [
       "658812"
      ]
     },
     "execution_count": 7,
     "metadata": {},
     "output_type": "execute_result"
    }
   ],
   "source": [
    "len(rawtext)"
   ]
  },
  {
   "cell_type": "code",
   "execution_count": 8,
   "metadata": {
    "collapsed": true
   },
   "outputs": [],
   "source": [
    "tf.reset_default_graph()"
   ]
  },
  {
   "cell_type": "code",
   "execution_count": 9,
   "metadata": {},
   "outputs": [],
   "source": [
    "def train_input_function(text=rawtext[:600000], seq_len=50, cmap=char_map, batch_size=256, N=100):\n",
    "    \"\"\"\n",
    "    \"\"\"\n",
    "    def _gen():\n",
    "        for _ in range(batch_size*N):\n",
    "            start = np.random.randint(0, len(text)-seq_len-1)\n",
    "            sampletext = np.array([char_map[t] for t in text[start:start+seq_len]])\n",
    "            label = char_map[text[start+seq_len]]\n",
    "            yield sampletext, label\n",
    "    ds = tf.data.Dataset.from_generator(_gen, output_types=(tf.int64, tf.int64),\n",
    "                                       output_shapes=((seq_len), ()))\n",
    "    ds = ds.batch(batch_size)\n",
    "    return ds.make_one_shot_iterator().get_next()"
   ]
  },
  {
   "cell_type": "code",
   "execution_count": 10,
   "metadata": {
    "collapsed": true
   },
   "outputs": [],
   "source": [
    "def test_input_function(text=rawtext[600000:], seq_len=50, cmap=char_map, batch_size=256, N=10):\n",
    "    \"\"\"\n",
    "    \"\"\"\n",
    "    def _gen():\n",
    "        \n",
    "        for i in range(batch_size*N):\n",
    "            start = (seq_len*i)%(len(text)-seq_len-1)\n",
    "            sampletext = np.array([char_map[t] for t in text[start:start+seq_len]])\n",
    "            label = char_map[text[start+seq_len]]\n",
    "            yield sampletext, label\n",
    "    ds = tf.data.Dataset.from_generator(_gen, output_types=(tf.int64, tf.int64),\n",
    "                                       output_shapes=((seq_len), ()))\n",
    "    ds = ds.batch(batch_size)\n",
    "    return ds.make_one_shot_iterator().get_next()"
   ]
  },
  {
   "cell_type": "code",
   "execution_count": null,
   "metadata": {
    "collapsed": true
   },
   "outputs": [],
   "source": []
  },
  {
   "cell_type": "code",
   "execution_count": 11,
   "metadata": {
    "collapsed": true
   },
   "outputs": [],
   "source": [
    "def model_fn(features, labels, mode, params):\n",
    "    \"\"\"\n",
    "    \"\"\"\n",
    "    is_training = mode == tf.estimator.ModeKeys.TRAIN\n",
    "    N = len(params[\"char_map\"])\n",
    "    x_oh = tf.one_hot(features, N)\n",
    "    \n",
    "    # params[\"rnn_cells\"] = [128,128]\n",
    "    cells = [tf.nn.rnn_cell.BasicRNNCell(n) for n in params[\"rnn_cells\"]]\n",
    "    mcell = tf.nn.rnn_cell.MultiRNNCell(cells)\n",
    "    outputs, state = tf.nn.dynamic_rnn(mcell, x_oh, dtype=tf.float32)\n",
    "    \n",
    "    dense = tf.layers.dense(outputs[:,-1,:], params[\"hidden\"], activation=tf.nn.relu)\n",
    "    dropout = tf.layers.dropout(dense, params[\"dropout\"], training=is_training)\n",
    "    logits = tf.layers.dense(dropout, N)\n",
    "    \n",
    "    probs = tf.nn.softmax(logits)\n",
    "    predicted_class = tf.argmax(logits, 1)\n",
    "    \n",
    "    if mode == tf.estimator.ModeKeys.PREDICT:\n",
    "        predictions = {\"probs\":probs, \"class\":predicted_class}\n",
    "        return tf.estimator.EstimatorSpec(mode, predictions=predictions)\n",
    "    \n",
    "    \n",
    "    y_oh = tf.one_hot(labels, N)\n",
    "    loss = tf.losses.softmax_cross_entropy(y_oh, logits)\n",
    "    \n",
    "    # compute eval metrics\n",
    "    accuracy = tf.metrics.accuracy(labels=labels, predictions=predicted_class)\n",
    "    metrics={\"accuracy\":accuracy}\n",
    "    tf.summary.scalar(\"accuracy\", accuracy[1])\n",
    "    if mode == tf.estimator.ModeKeys.EVAL:\n",
    "        return tf.estimator.EstimatorSpec(\n",
    "            mode, loss=loss, eval_metric_ops=metrics\n",
    "        )   \n",
    "    \n",
    "    optimizer = tf.train.AdamOptimizer(params[\"learn_rate\"])\n",
    "    #optimizer = tf.train.MomentumOptimizer(params[\"learn_rate\"], 0.9)\n",
    "    train_op = optimizer.minimize(loss, global_step=tf.train.get_global_step())\n",
    "    return tf.estimator.EstimatorSpec(mode, loss=loss, train_op=train_op)"
   ]
  },
  {
   "cell_type": "code",
   "execution_count": 12,
   "metadata": {
    "collapsed": true
   },
   "outputs": [],
   "source": [
    "def RNNEstimator(char_map, rnn_cells=[128,128], hidden=128, dropout=0.5, learn_rate=1e-3, model_dir=\"logs\"):\n",
    "    \"\"\"\n",
    "    \n",
    "    \"\"\"\n",
    "    params = {\"rnn_cells\":rnn_cells, \"hidden\":hidden, \"dropout\":dropout,\n",
    "             \"learn_rate\":learn_rate, \"char_map\":char_map}\n",
    "    return tf.estimator.Estimator(model_fn=model_fn, params=params, model_dir=model_dir)"
   ]
  },
  {
   "cell_type": "code",
   "execution_count": null,
   "metadata": {
    "collapsed": true
   },
   "outputs": [],
   "source": []
  },
  {
   "cell_type": "code",
   "execution_count": 13,
   "metadata": {},
   "outputs": [],
   "source": [
    "model = RNNEstimator(char_map, rnn_cells=[256,256], hidden=512)"
   ]
  },
  {
   "cell_type": "code",
   "execution_count": 14,
   "metadata": {},
   "outputs": [],
   "source": [
    "#model.train(train_input_function)"
   ]
  },
  {
   "cell_type": "code",
   "execution_count": 15,
   "metadata": {},
   "outputs": [],
   "source": [
    "#model.train(train_input_function)"
   ]
  },
  {
   "cell_type": "code",
   "execution_count": 16,
   "metadata": {},
   "outputs": [],
   "source": [
    "#model.evaluate(test_input_function)"
   ]
  },
  {
   "cell_type": "code",
   "execution_count": 17,
   "metadata": {},
   "outputs": [],
   "source": [
    "train_spec = tf.estimator.TrainSpec(input_fn=train_input_function, max_steps=10000)\n",
    "eval_spec = tf.estimator.EvalSpec(input_fn=test_input_function)"
   ]
  },
  {
   "cell_type": "code",
   "execution_count": null,
   "metadata": {
    "collapsed": true
   },
   "outputs": [],
   "source": []
  },
  {
   "cell_type": "code",
   "execution_count": null,
   "metadata": {},
   "outputs": [],
   "source": [
    "tf.estimator.train_and_evaluate(model, train_spec, eval_spec)"
   ]
  },
  {
   "cell_type": "code",
   "execution_count": 19,
   "metadata": {},
   "outputs": [
    {
     "data": {
      "text/plain": [
       "{'accuracy': 0.30781251, 'global_step': 10000, 'loss': 2.519465}"
      ]
     },
     "execution_count": 19,
     "metadata": {},
     "output_type": "execute_result"
    }
   ],
   "source": [
    "model.evaluate(test_input_function)"
   ]
  },
  {
   "cell_type": "code",
   "execution_count": null,
   "metadata": {},
   "outputs": [],
   "source": []
  },
  {
   "cell_type": "code",
   "execution_count": 20,
   "metadata": {},
   "outputs": [],
   "source": [
    "def generate_text(mod, test_text=\"it was a dark and stormy night\", N=200, seq_len=25):\n",
    "    test_text = test_text.lower()\n",
    "    if len(test_text) < seq_len:\n",
    "        n = seq_len-len(test_text)\n",
    "        test_text = \" \"*n + test_text\n",
    "    for _ in tqdm(range(N)):\n",
    "        inpt = np.array([char_map[i] for i in test_text[-seq_len:]]).reshape(1,-1)\n",
    "        input_fn = tf.estimator.inputs.numpy_input_fn(inpt, num_epochs=1, shuffle=False)\n",
    "        p = list(mod.predict(input_fn, predict_keys=[\"probs\"]))[0][\"probs\"]\n",
    "        test_text += np.random.choice(characters, p=p)\n",
    "    return test_text"
   ]
  },
  {
   "cell_type": "code",
   "execution_count": 21,
   "metadata": {},
   "outputs": [
    {
     "name": "stderr",
     "output_type": "stream",
     "text": [
      "100%|██████████| 200/200 [03:03<00:00,  1.09it/s]"
     ]
    },
    {
     "name": "stdout",
     "output_type": "stream",
     "text": [
      "it was a dark and stormy night mw aut \n",
      "aml. the cha sraald\n",
      ". bdeo geleeg\n",
      "iy hid thing ange and atesh cedi 7ith wins thugtiu thid if sut iurt$af sed tt it as ema )ircentye\n",
      "-.lamethto-d\n",
      "maty thour te-dken, curir go  ly therheshc ill\n"
     ]
    },
    {
     "name": "stderr",
     "output_type": "stream",
     "text": [
      "\n"
     ]
    }
   ],
   "source": [
    "print(generate_text(model))"
   ]
  },
  {
   "cell_type": "code",
   "execution_count": null,
   "metadata": {},
   "outputs": [],
   "source": []
  },
  {
   "cell_type": "code",
   "execution_count": null,
   "metadata": {
    "collapsed": true
   },
   "outputs": [],
   "source": []
  },
  {
   "cell_type": "code",
   "execution_count": null,
   "metadata": {
    "collapsed": true
   },
   "outputs": [],
   "source": []
  },
  {
   "cell_type": "code",
   "execution_count": null,
   "metadata": {
    "collapsed": true
   },
   "outputs": [],
   "source": []
  },
  {
   "cell_type": "code",
   "execution_count": null,
   "metadata": {
    "collapsed": true
   },
   "outputs": [],
   "source": []
  },
  {
   "cell_type": "code",
   "execution_count": null,
   "metadata": {
    "collapsed": true
   },
   "outputs": [],
   "source": []
  },
  {
   "cell_type": "code",
   "execution_count": null,
   "metadata": {
    "collapsed": true
   },
   "outputs": [],
   "source": []
  },
  {
   "cell_type": "code",
   "execution_count": null,
   "metadata": {
    "collapsed": true
   },
   "outputs": [],
   "source": []
  },
  {
   "cell_type": "code",
   "execution_count": null,
   "metadata": {
    "collapsed": true
   },
   "outputs": [],
   "source": []
  },
  {
   "cell_type": "code",
   "execution_count": null,
   "metadata": {
    "collapsed": true
   },
   "outputs": [],
   "source": []
  }
 ],
 "metadata": {
  "kernelspec": {
   "display_name": "Python 3",
   "language": "python",
   "name": "python3"
  },
  "language_info": {
   "codemirror_mode": {
    "name": "ipython",
    "version": 3
   },
   "file_extension": ".py",
   "mimetype": "text/x-python",
   "name": "python",
   "nbconvert_exporter": "python",
   "pygments_lexer": "ipython3",
   "version": "3.6.3"
  }
 },
 "nbformat": 4,
 "nbformat_minor": 2
}
