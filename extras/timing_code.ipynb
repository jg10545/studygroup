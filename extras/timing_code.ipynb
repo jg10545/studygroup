{
 "cells": [
  {
   "cell_type": "markdown",
   "metadata": {},
   "source": [
    "# Timing code in `jupyter`"
   ]
  },
  {
   "cell_type": "code",
   "execution_count": 1,
   "metadata": {},
   "outputs": [],
   "source": [
    "import numpy as np\n",
    "import matplotlib.pyplot as plt\n",
    "import tensorflow as tf\n",
    "from time import time\n",
    "from tqdm import tqdm\n",
    "from scipy.stats import linregress"
   ]
  },
  {
   "cell_type": "code",
   "execution_count": null,
   "metadata": {},
   "outputs": [],
   "source": []
  },
  {
   "cell_type": "code",
   "execution_count": null,
   "metadata": {},
   "outputs": [],
   "source": []
  },
  {
   "cell_type": "markdown",
   "metadata": {},
   "source": [
    "# Quick-and-dirty profiling with IPython magics\n",
    "\n",
    "`%time` will print out how long a one-line cell took to run. Use `%%time` for a multi-line cell.\n",
    "\n",
    "* The `CPU time` is how long the CPU spent dedicated to the process; it's [broken up](https://en.wikipedia.org/wiki/CPU_time#Subdivision) by time spent in the user space (`user`) versus kernel space (`sys`).\n",
    "* the `Wall time` is the total change in the system clock from start to finish."
   ]
  },
  {
   "cell_type": "code",
   "execution_count": 2,
   "metadata": {},
   "outputs": [],
   "source": [
    "A = np.random.normal(0, 1, (10,10))\n",
    "B = np.random.normal(0, 1, (10,10))"
   ]
  },
  {
   "cell_type": "code",
   "execution_count": 3,
   "metadata": {},
   "outputs": [
    {
     "name": "stdout",
     "output_type": "stream",
     "text": [
      "CPU times: user 48 µs, sys: 41 µs, total: 89 µs\n",
      "Wall time: 96.1 µs\n"
     ]
    }
   ],
   "source": [
    "%time C = A.dot(B)"
   ]
  },
  {
   "cell_type": "code",
   "execution_count": 4,
   "metadata": {},
   "outputs": [
    {
     "name": "stdout",
     "output_type": "stream",
     "text": [
      "CPU times: user 828 µs, sys: 886 µs, total: 1.71 ms\n",
      "Wall time: 1.55 ms\n"
     ]
    }
   ],
   "source": [
    "%%time\n",
    "C = A.dot(B)\n",
    "C += A"
   ]
  },
  {
   "cell_type": "markdown",
   "metadata": {},
   "source": [
    "Especially for short, fast computations, the time you measure here may isn't always accurate- the overhead of using Jupyter or any other hiccups on your machine may cause it to overestimate. Use `%timeit` or `%%timeit` to run several times and report the best result."
   ]
  },
  {
   "cell_type": "code",
   "execution_count": 5,
   "metadata": {},
   "outputs": [
    {
     "name": "stdout",
     "output_type": "stream",
     "text": [
      "1.24 µs ± 88.4 ns per loop (mean ± std. dev. of 7 runs, 1000000 loops each)\n"
     ]
    }
   ],
   "source": [
    "%timeit C = A.dot(B)"
   ]
  },
  {
   "cell_type": "markdown",
   "metadata": {},
   "source": [
    "`%timeit` will try to guess how many loops and runs to do, so it won't run a zillion trials if the first one takes an hour. You can manually specify the parameters if you want; `-n` sets the number of times to run the code in a loop and `-r` sets how many times to run the loop.\n",
    "\n",
    "So it'll take the best (fastest) run and divide the time it took by the number of loops in the run."
   ]
  },
  {
   "cell_type": "code",
   "execution_count": 6,
   "metadata": {},
   "outputs": [
    {
     "name": "stdout",
     "output_type": "stream",
     "text": [
      "1.62 µs ± 532 ns per loop (mean ± std. dev. of 50 runs, 1000 loops each)\n"
     ]
    }
   ],
   "source": [
    "%timeit -n 1000 -r 50 C = A.dot(B)"
   ]
  },
  {
   "cell_type": "code",
   "execution_count": null,
   "metadata": {},
   "outputs": [],
   "source": []
  },
  {
   "cell_type": "markdown",
   "metadata": {},
   "source": [
    "## Empirical scaling of matrix multiplication with `numpy`\n",
    "\n",
    "We can compute the wall time by calling `time.time()` before and after a computation. Let's generate a bunch of square matrices of different dimension and measure how long it takes to multiply them."
   ]
  },
  {
   "cell_type": "code",
   "execution_count": 7,
   "metadata": {},
   "outputs": [],
   "source": [
    "N = np.arange(1, 2501, 10)\n",
    "t = np.zeros(N.shape)"
   ]
  },
  {
   "cell_type": "code",
   "execution_count": 8,
   "metadata": {},
   "outputs": [
    {
     "name": "stderr",
     "output_type": "stream",
     "text": [
      "100%|██████████| 250/250 [02:14<00:00,  1.86it/s]\n"
     ]
    }
   ],
   "source": [
    "# for each matrix size\n",
    "for i in tqdm(range(len(N))):\n",
    "    # make some random matrices\n",
    "    A = np.random.normal(0, 1, (N[i], N[i]))\n",
    "    B = np.random.normal(0, 1, (N[i], N[i]))\n",
    "    # write down the time before multiplying\n",
    "    t0 = time()\n",
    "    # do the multiplication\n",
    "    C = A.dot(B)\n",
    "    # write down the time after\n",
    "    t1 = time()\n",
    "    # record the difference\n",
    "    t[i] = t1 - t0"
   ]
  },
  {
   "cell_type": "code",
   "execution_count": null,
   "metadata": {},
   "outputs": [],
   "source": []
  },
  {
   "cell_type": "code",
   "execution_count": 9,
   "metadata": {},
   "outputs": [
    {
     "data": {
      "image/png": "[encoded data removed]",
      "text/plain": [
       "<matplotlib.figure.Figure at 0x131eac9b0>"
      ]
     },
     "metadata": {},
     "output_type": "display_data"
    }
   ],
   "source": [
    "plt.plot(N,t, \".\", alpha=0.5)\n",
    "plt.xlabel(\"matrix dimension\", fontsize=14)\n",
    "plt.ylabel(\"wall time (s)\", fontsize=14)\n",
    "plt.grid(\"on\");"
   ]
  },
  {
   "cell_type": "code",
   "execution_count": null,
   "metadata": {},
   "outputs": [],
   "source": []
  },
  {
   "cell_type": "markdown",
   "metadata": {},
   "source": [
    "## Measuring the scaling relationship\n",
    "\n",
    "We could look up the big O for matrix multiplication, but that isn't guaranteed to be exactly what we see in practice. Really smart people have put a ton of work into linear algebra libraries, so there's a bunch of vectorization and parallelization happening that might distort the scaling relations.\n",
    "\n",
    "For smaller matrices the wall time might be dominated by overhead, and for larger matrices memory constraints might limit what can be done in parallel.\n",
    "\n",
    "If we assume that, in general, the wall time is an exponent $f$ of the matrix size,\n",
    "\n",
    "$t \\propto N^{f}$\n",
    "\n",
    "then we can take the log of each and estimate $f$ using a linear regression:\n",
    "\n",
    "$\\log(t) = f\\log(N) + B$\n",
    "\n",
    "The lower and upper end appear to have outliers, so let's fit off the middle:"
   ]
  },
  {
   "cell_type": "code",
   "execution_count": 10,
   "metadata": {},
   "outputs": [],
   "source": [
    "slope, intercept, rval, pval, stderr = linregress(np.log(N)[50:-50], np.log(t)[50:-50])"
   ]
  },
  {
   "cell_type": "code",
   "execution_count": 11,
   "metadata": {},
   "outputs": [
    {
     "data": {
      "text/plain": [
       "3.2676274798336706"
      ]
     },
     "execution_count": 11,
     "metadata": {},
     "output_type": "execute_result"
    }
   ],
   "source": [
    "slope"
   ]
  },
  {
   "cell_type": "code",
   "execution_count": 12,
   "metadata": {},
   "outputs": [
    {
     "data": {
      "image/png": "[encoded data removed]",
      "text/plain": [
       "<matplotlib.figure.Figure at 0x131eac630>"
      ]
     },
     "metadata": {},
     "output_type": "display_data"
    }
   ],
   "source": [
    "plt.plot(np.log(N),np.log(t), \".\", alpha=0.5)\n",
    "plt.plot([4, 8], [4*slope+intercept, slope*8+intercept], \"k--\")\n",
    "plt.xlabel(\"log(matrix dimension)\", fontsize=14)\n",
    "plt.ylabel(\"log(time)\", fontsize=14)\n",
    "plt.grid(\"on\");"
   ]
  },
  {
   "cell_type": "code",
   "execution_count": null,
   "metadata": {},
   "outputs": [],
   "source": []
  },
  {
   "cell_type": "code",
   "execution_count": null,
   "metadata": {},
   "outputs": [],
   "source": []
  },
  {
   "cell_type": "code",
   "execution_count": null,
   "metadata": {},
   "outputs": [],
   "source": []
  },
  {
   "cell_type": "code",
   "execution_count": null,
   "metadata": {},
   "outputs": [],
   "source": []
  }
 ],
 "metadata": {
  "kernelspec": {
   "display_name": "Python 3",
   "language": "python",
   "name": "python3"
  },
  "language_info": {
   "codemirror_mode": {
    "name": "ipython",
    "version": 3
   },
   "file_extension": ".py",
   "mimetype": "text/x-python",
   "name": "python",
   "nbconvert_exporter": "python",
   "pygments_lexer": "ipython3",
   "version": "3.6.4"
  }
 },
 "nbformat": 4,
 "nbformat_minor": 2
}
