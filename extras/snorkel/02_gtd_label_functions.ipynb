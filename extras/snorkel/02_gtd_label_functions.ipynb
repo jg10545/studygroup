{
 "cells": [
  {
   "cell_type": "markdown",
   "metadata": {},
   "source": [
    "# 02 Labeling Functions\n",
    "\n",
    "Now we'll actually use `snorkel` for something. The project has three basic parts:\n",
    "\n",
    "* labeling functions: write pseudo-labels for your data\n",
    "* transformation functions: for dynamic data augmentation\n",
    "* slicing functions: for segmenting problematic cases so that you can explicitly add model capacity to handle them\n",
    "\n",
    "The only one we'll cover in this example is labeling functions."
   ]
  },
  {
   "cell_type": "code",
   "execution_count": 1,
   "metadata": {},
   "outputs": [],
   "source": [
    "import numpy as np\n",
    "import matplotlib.pyplot as plt\n",
    "import pandas as pd\n",
    "from tqdm import tqdm\n",
    "\n",
    "%matplotlib inline\n",
    "from IPython.core.pylabtools import figsize"
   ]
  },
  {
   "cell_type": "code",
   "execution_count": 2,
   "metadata": {},
   "outputs": [],
   "source": [
    "from snorkel.labeling.preprocess import preprocessor\n",
    "from snorkel.labeling.apply import PandasLFApplier\n",
    "from snorkel.labeling.lf import labeling_function\n",
    "from snorkel.types import DataPoint\n",
    "\n",
    "POS = 1\n",
    "NEG = 0 #-1\n",
    "ABSTAIN = -1 #0"
   ]
  },
  {
   "cell_type": "markdown",
   "metadata": {},
   "source": [
    "## Load our data from the previous notebook"
   ]
  },
  {
   "cell_type": "code",
   "execution_count": 3,
   "metadata": {},
   "outputs": [
    {
     "data": {
      "text/plain": [
       "844782"
      ]
     },
     "execution_count": 3,
     "metadata": {},
     "output_type": "execute_result"
    }
   ],
   "source": [
    "prep_df = pd.read_csv(\"groupname_preprocessed_full.csv\")\n",
    "len(prep_df)"
   ]
  },
  {
   "cell_type": "code",
   "execution_count": 4,
   "metadata": {},
   "outputs": [
    {
     "data": {
      "text/html": [
       "<div>\n",
       "<style scoped>\n",
       "    .dataframe tbody tr th:only-of-type {\n",
       "        vertical-align: middle;\n",
       "    }\n",
       "\n",
       "    .dataframe tbody tr th {\n",
       "        vertical-align: top;\n",
       "    }\n",
       "\n",
       "    .dataframe thead th {\n",
       "        text-align: right;\n",
       "    }\n",
       "</style>\n",
       "<table border=\"1\" class=\"dataframe\">\n",
       "  <thead>\n",
       "    <tr style=\"text-align: right;\">\n",
       "      <th></th>\n",
       "      <th>end</th>\n",
       "      <th>eventid</th>\n",
       "      <th>label</th>\n",
       "      <th>labeled_sentence</th>\n",
       "      <th>name</th>\n",
       "      <th>sentence</th>\n",
       "      <th>start</th>\n",
       "      <th>type</th>\n",
       "    </tr>\n",
       "  </thead>\n",
       "  <tbody>\n",
       "    <tr>\n",
       "      <th>0</th>\n",
       "      <td>35</td>\n",
       "      <td>197001010002</td>\n",
       "      <td>0</td>\n",
       "      <td>1/1/1970: Unknown ENTSTART African American E...</td>\n",
       "      <td>african american</td>\n",
       "      <td>1/1/1970: Unknown African American assailants...</td>\n",
       "      <td>19</td>\n",
       "      <td>NORP</td>\n",
       "    </tr>\n",
       "    <tr>\n",
       "      <th>1</th>\n",
       "      <td>100</td>\n",
       "      <td>197001010002</td>\n",
       "      <td>0</td>\n",
       "      <td>1/1/1970: Unknown African American assailants...</td>\n",
       "      <td>cairo</td>\n",
       "      <td>1/1/1970: Unknown African American assailants...</td>\n",
       "      <td>95</td>\n",
       "      <td>GPE</td>\n",
       "    </tr>\n",
       "    <tr>\n",
       "      <th>2</th>\n",
       "      <td>110</td>\n",
       "      <td>197001010002</td>\n",
       "      <td>0</td>\n",
       "      <td>1/1/1970: Unknown African American assailants...</td>\n",
       "      <td>illinois</td>\n",
       "      <td>1/1/1970: Unknown African American assailants...</td>\n",
       "      <td>102</td>\n",
       "      <td>GPE</td>\n",
       "    </tr>\n",
       "    <tr>\n",
       "      <th>3</th>\n",
       "      <td>125</td>\n",
       "      <td>197001010002</td>\n",
       "      <td>0</td>\n",
       "      <td>1/1/1970: Unknown African American assailants...</td>\n",
       "      <td>united states</td>\n",
       "      <td>1/1/1970: Unknown African American assailants...</td>\n",
       "      <td>112</td>\n",
       "      <td>GPE</td>\n",
       "    </tr>\n",
       "    <tr>\n",
       "      <th>4</th>\n",
       "      <td>39</td>\n",
       "      <td>197001010002</td>\n",
       "      <td>0</td>\n",
       "      <td>There were no casualties, however, ENTSTART o...</td>\n",
       "      <td>one</td>\n",
       "      <td>There were no casualties, however, one bullet...</td>\n",
       "      <td>36</td>\n",
       "      <td>CARDINAL</td>\n",
       "    </tr>\n",
       "  </tbody>\n",
       "</table>\n",
       "</div>"
      ],
      "text/plain": [
       "   end       eventid  label  \\\n",
       "0   35  197001010002      0   \n",
       "1  100  197001010002      0   \n",
       "2  110  197001010002      0   \n",
       "3  125  197001010002      0   \n",
       "4   39  197001010002      0   \n",
       "\n",
       "                                    labeled_sentence              name  \\\n",
       "0   1/1/1970: Unknown ENTSTART African American E...  african american   \n",
       "1   1/1/1970: Unknown African American assailants...             cairo   \n",
       "2   1/1/1970: Unknown African American assailants...          illinois   \n",
       "3   1/1/1970: Unknown African American assailants...     united states   \n",
       "4   There were no casualties, however, ENTSTART o...               one   \n",
       "\n",
       "                                            sentence  start      type  \n",
       "0   1/1/1970: Unknown African American assailants...     19      NORP  \n",
       "1   1/1/1970: Unknown African American assailants...     95       GPE  \n",
       "2   1/1/1970: Unknown African American assailants...    102       GPE  \n",
       "3   1/1/1970: Unknown African American assailants...    112       GPE  \n",
       "4   There were no casualties, however, one bullet...     36  CARDINAL  "
      ]
     },
     "execution_count": 4,
     "metadata": {},
     "output_type": "execute_result"
    }
   ],
   "source": [
    "prep_df.head()"
   ]
  },
  {
   "cell_type": "code",
   "execution_count": null,
   "metadata": {},
   "outputs": [],
   "source": []
  },
  {
   "cell_type": "code",
   "execution_count": 5,
   "metadata": {},
   "outputs": [
    {
     "data": {
      "text/plain": [
       "GPE         307406\n",
       "ORG         234340\n",
       "CARDINAL    155530\n",
       "PERSON       76829\n",
       "NORP         40913\n",
       "LOC          17306\n",
       "FAC           9694\n",
       "PRODUCT       1755\n",
       "EVENT          524\n",
       "LAW            394\n",
       "LANGUAGE        91\n",
       "Name: type, dtype: int64"
      ]
     },
     "execution_count": 5,
     "metadata": {},
     "output_type": "execute_result"
    }
   ],
   "source": [
    "prep_df.type.value_counts()"
   ]
  },
  {
   "cell_type": "markdown",
   "metadata": {},
   "source": [
    "## Make some labeling functions"
   ]
  },
  {
   "cell_type": "code",
   "execution_count": 6,
   "metadata": {},
   "outputs": [],
   "source": [
    "pos_types = {\"ORG\", \"PERSON\"}\n",
    "@labeling_function(resources=dict(pos_types=pos_types))\n",
    "def LF_pos_type(x, pos_types):\n",
    "    if x.type in pos_types:\n",
    "        return POS\n",
    "    else:\n",
    "        return ABSTAIN"
   ]
  },
  {
   "cell_type": "code",
   "execution_count": 7,
   "metadata": {},
   "outputs": [],
   "source": [
    "neg_types = {\"GPE\", \"CARDINAL\", \"NORP\", \"TIME\", \"LOC\", \"FAC\",\n",
    "            \"EVENT\", \"LAW\", \"LANGUAGE\"}\n",
    "@labeling_function(resources=dict(neg_types=neg_types))\n",
    "def LF_neg_type(x, neg_types):\n",
    "    if x.type in neg_types:\n",
    "        return NEG\n",
    "    else:\n",
    "        return ABSTAIN"
   ]
  },
  {
   "cell_type": "code",
   "execution_count": null,
   "metadata": {},
   "outputs": [],
   "source": []
  },
  {
   "cell_type": "code",
   "execution_count": 8,
   "metadata": {},
   "outputs": [],
   "source": [
    "@labeling_function()\n",
    "def LF_claimed_credit(x):\n",
    "    # Does \"claimed credit\" appear after the name?\n",
    "    sent_after = x.sentence[x.end:]\n",
    "    if \"claimed credit\" in sent_after:\n",
    "        return POS\n",
    "    else:\n",
    "        return ABSTAIN"
   ]
  },
  {
   "cell_type": "code",
   "execution_count": 9,
   "metadata": {},
   "outputs": [],
   "source": [
    "@labeling_function()\n",
    "def LF_was_suspected(x):\n",
    "    # Does \"was suspected\" appear after the name?\n",
    "    sent_after = x.sentence[x.end:]\n",
    "    if \"was suspected\" in sent_after:\n",
    "        return POS\n",
    "    else:\n",
    "        return ABSTAIN"
   ]
  },
  {
   "cell_type": "code",
   "execution_count": 10,
   "metadata": {},
   "outputs": [],
   "source": [
    "next_words = {\"attacked\", \"ambushed\", \"killed\", \"abducted\",\n",
    "             \"kidnapped\", \"detonated\", \"bombed\"}\n",
    "@labeling_function(resources=dict(next_words=next_words))\n",
    "def LF_next_words(x, next_words):\n",
    "    # do the next words after the entity fall in this list?\n",
    "    sent_after = x.sentence[x.end:]\n",
    "    next_tokens = sent_after.split()[:3]\n",
    "    for tok in next_tokens:\n",
    "        if tok in next_words:\n",
    "            return POS\n",
    "    return ABSTAIN"
   ]
  },
  {
   "cell_type": "markdown",
   "metadata": {},
   "source": [
    "\"round 2\""
   ]
  },
  {
   "cell_type": "code",
   "execution_count": 11,
   "metadata": {},
   "outputs": [],
   "source": [
    "prev_words = {\"killed\", \"targeting\", \"shot\", \n",
    "              \"targeted\", \"kidnapped\"}\n",
    "@labeling_function(resources=dict(prev_words=prev_words))\n",
    "def LF_prev_words(x, prev_words):\n",
    "    # these words tended to show up right before entities\n",
    "    # in false-positive casses\n",
    "    sent_before = x.sentence[:x.start]\n",
    "    if len(sent_before.split()) > 0:\n",
    "        prev_token = sent_before.split()[-1]\n",
    "        if prev_token in prev_words:\n",
    "            return NEG\n",
    "        else:\n",
    "            return ABSTAIN\n",
    "    return ABSTAIN"
   ]
  },
  {
   "cell_type": "code",
   "execution_count": 12,
   "metadata": {},
   "outputs": [],
   "source": [
    "not_a_terrorist_clues = {\"avenue\", \"police\", \"radio\",\n",
    "                         \"department\", \"hotel\"}\n",
    "@labeling_function(resources=dict(tokens=not_a_terrorist_clues))\n",
    "def LF_prob_not_terrorist(x, tokens):\n",
    "    # some words that showed up inside names of\n",
    "    # entities misidentified as terrorists\n",
    "    name_tokens = str(x[\"name\"]).lower().split()\n",
    "    for t in name_tokens:\n",
    "        if t in not_a_terrorist_clues:\n",
    "            return NEG\n",
    "    return ABSTAIN"
   ]
  },
  {
   "cell_type": "code",
   "execution_count": 13,
   "metadata": {},
   "outputs": [],
   "source": [
    "prepositions = {\"of\", \"at\", \"in\", \"near\"}\n",
    "@labeling_function(resources=dict(prepositions=prepositions))\n",
    "def LF_after_preposition(x, prepositions):\n",
    "    # frequent mistakes included misattributing locations.\n",
    "    # being part of a prepositional phrase might help indicate\n",
    "    # a problem.\n",
    "    sent_before = x.sentence[:x.start]\n",
    "    prev_tokens = sent_before.split()[-2:]\n",
    "    for t in prev_tokens:\n",
    "        if t in prepositions:\n",
    "            return NEG\n",
    "    return ABSTAIN"
   ]
  },
  {
   "cell_type": "code",
   "execution_count": 14,
   "metadata": {},
   "outputs": [],
   "source": [
    "known_groups = {\"taliban\", \"islamic state\", \"isil\", \"isis\",\n",
    "               \"boko haram\", \"al-qaida\", \"farc\", \"al-shabaab\", \"pkk\"}\n",
    "@labeling_function(resources=dict(known_groups=known_groups))\n",
    "def LF_known_groups(x, known_groups):\n",
    "    # some entities that are generally up to no good\n",
    "    for k in known_groups:\n",
    "        if k in str(x[\"name\"]).lower():\n",
    "            return POS\n",
    "    return ABSTAIN"
   ]
  },
  {
   "cell_type": "code",
   "execution_count": null,
   "metadata": {},
   "outputs": [],
   "source": []
  },
  {
   "cell_type": "code",
   "execution_count": null,
   "metadata": {},
   "outputs": [],
   "source": []
  },
  {
   "cell_type": "markdown",
   "metadata": {},
   "source": [
    "## Compute a label matrix for the dataset"
   ]
  },
  {
   "cell_type": "code",
   "execution_count": 15,
   "metadata": {},
   "outputs": [],
   "source": [
    "applier = PandasLFApplier([\n",
    "    #LF_pos_type,\n",
    "    LF_neg_type,\n",
    "    LF_claimed_credit,\n",
    "    LF_was_suspected,\n",
    "    #LF_next_words,\n",
    "    LF_prev_words,\n",
    "    LF_prob_not_terrorist,\n",
    "    LF_after_preposition,\n",
    "    LF_known_groups\n",
    "])"
   ]
  },
  {
   "cell_type": "code",
   "execution_count": 16,
   "metadata": {},
   "outputs": [
    {
     "name": "stderr",
     "output_type": "stream",
     "text": [
      "100%|██████████| 844782/844782 [05:42<00:00, 2469.11it/s]\n"
     ]
    }
   ],
   "source": [
    "L = applier.apply(prep_df)"
   ]
  },
  {
   "cell_type": "markdown",
   "metadata": {},
   "source": [
    "There are a couple ways we could build label estimates out of this matrix- since we have ground truth let's cheat and compare them."
   ]
  },
  {
   "cell_type": "code",
   "execution_count": 17,
   "metadata": {},
   "outputs": [],
   "source": [
    "labels = prep_df.label.values"
   ]
  },
  {
   "cell_type": "code",
   "execution_count": 30,
   "metadata": {},
   "outputs": [
    {
     "data": {
      "text/plain": [
       "0.10469209807974128"
      ]
     },
     "execution_count": 30,
     "metadata": {},
     "output_type": "execute_result"
    }
   ],
   "source": [
    "labels.mean()"
   ]
  },
  {
   "cell_type": "code",
   "execution_count": 18,
   "metadata": {},
   "outputs": [
    {
     "name": "stdout",
     "output_type": "stream",
     "text": [
      "<class 'numpy.ndarray'>\n",
      "(844782, 7)\n"
     ]
    }
   ],
   "source": [
    "print(type(L))\n",
    "print(L.shape)"
   ]
  },
  {
   "cell_type": "markdown",
   "metadata": {},
   "source": [
    "\"Coverage\" is an important thing to keep track of- what fraction of the dataset has non-abstention answers from the labeling functions:"
   ]
  },
  {
   "cell_type": "code",
   "execution_count": 19,
   "metadata": {},
   "outputs": [],
   "source": [
    "from snorkel.analysis import metrics"
   ]
  },
  {
   "cell_type": "code",
   "execution_count": 20,
   "metadata": {},
   "outputs": [
    {
     "data": {
      "text/plain": [
       "0.9507790175453549"
      ]
     },
     "execution_count": 20,
     "metadata": {},
     "output_type": "execute_result"
    }
   ],
   "source": [
    "metrics._coverage_score(L)"
   ]
  },
  {
   "cell_type": "markdown",
   "metadata": {},
   "source": [
    "OK, that seems high. Are we using this right? Let's check the documentation:"
   ]
  },
  {
   "cell_type": "code",
   "execution_count": 21,
   "metadata": {},
   "outputs": [
    {
     "name": "stdout",
     "output_type": "stream",
     "text": [
      "None\n"
     ]
    }
   ],
   "source": [
    "print(metrics._coverage_score.__doc__)"
   ]
  },
  {
   "cell_type": "markdown",
   "metadata": {},
   "source": [
    "Alright we'll compute it the old-fashioned way:"
   ]
  },
  {
   "cell_type": "code",
   "execution_count": 22,
   "metadata": {},
   "outputs": [
    {
     "data": {
      "text/plain": [
       "0.7275"
      ]
     },
     "execution_count": 22,
     "metadata": {},
     "output_type": "execute_result"
    }
   ],
   "source": [
    "round(1-(L == -1).all(axis=1).sum()/L.shape[0], 4)"
   ]
  },
  {
   "cell_type": "code",
   "execution_count": 23,
   "metadata": {},
   "outputs": [
    {
     "data": {
      "text/plain": [
       "(844782, 7)"
      ]
     },
     "execution_count": 23,
     "metadata": {},
     "output_type": "execute_result"
    }
   ],
   "source": [
    "L.shape"
   ]
  },
  {
   "cell_type": "code",
   "execution_count": 24,
   "metadata": {},
   "outputs": [
    {
     "name": "stdout",
     "output_type": "stream",
     "text": [
      "0 0.9381018993791576\n",
      "1 0.5454545454545454\n",
      "2 0.6878531073446328\n",
      "3 0.9971861181830363\n",
      "4 0.9911221590909091\n",
      "5 0.9467888174481482\n",
      "6 0.9674574541744105\n"
     ]
    }
   ],
   "source": [
    "for i in range(L.shape[1]):\n",
    "    fn_preds = L[:,i]\n",
    "    nonempty = fn_preds > -1\n",
    "    print(i, np.mean(fn_preds[nonempty] == labels[nonempty]))"
   ]
  },
  {
   "cell_type": "code",
   "execution_count": null,
   "metadata": {},
   "outputs": [],
   "source": []
  },
  {
   "cell_type": "code",
   "execution_count": 25,
   "metadata": {},
   "outputs": [],
   "source": [
    "from snorkel.labeling.model.baselines import MajorityLabelVoter\n",
    "from snorkel.labeling.model.label_model import LabelModel\n",
    "from snorkel.analysis.error_analysis import error_buckets"
   ]
  },
  {
   "cell_type": "code",
   "execution_count": null,
   "metadata": {},
   "outputs": [],
   "source": []
  },
  {
   "cell_type": "code",
   "execution_count": 26,
   "metadata": {},
   "outputs": [],
   "source": [
    "votermodel = MajorityLabelVoter(2)"
   ]
  },
  {
   "cell_type": "code",
   "execution_count": 27,
   "metadata": {},
   "outputs": [],
   "source": [
    "votermodel.fit(L)"
   ]
  },
  {
   "cell_type": "code",
   "execution_count": 28,
   "metadata": {},
   "outputs": [
    {
     "data": {
      "text/plain": [
       "{'accuracy': 0.8190314187565549,\n",
       " 'f1': 0.3389330669676254,\n",
       " 'roc_auc': 0.6998127249241689}"
      ]
     },
     "execution_count": 28,
     "metadata": {},
     "output_type": "execute_result"
    }
   ],
   "source": [
    "votermodel.score(L, labels, metrics=[\"accuracy\", \"f1\",\n",
    "                                    \"roc_auc\"])"
   ]
  },
  {
   "cell_type": "code",
   "execution_count": 31,
   "metadata": {},
   "outputs": [
    {
     "name": "stdout",
     "output_type": "stream",
     "text": [
      "Computing O...\n",
      "Estimating \\mu...\n",
      "[0 epochs]: TRAIN:[loss=0.154]\n",
      "[10 epochs]: TRAIN:[loss=0.045]\n",
      "[20 epochs]: TRAIN:[loss=0.005]\n",
      "[30 epochs]: TRAIN:[loss=0.006]\n",
      "[40 epochs]: TRAIN:[loss=0.002]\n",
      "[50 epochs]: TRAIN:[loss=0.001]\n",
      "[60 epochs]: TRAIN:[loss=0.000]\n",
      "[70 epochs]: TRAIN:[loss=0.000]\n",
      "[80 epochs]: TRAIN:[loss=0.000]\n",
      "[90 epochs]: TRAIN:[loss=0.000]\n",
      "Finished Training\n"
     ]
    }
   ],
   "source": [
    "labmodel = LabelModel(2)\n",
    "labmodel.fit(L)"
   ]
  },
  {
   "cell_type": "code",
   "execution_count": 32,
   "metadata": {},
   "outputs": [
    {
     "data": {
      "text/plain": [
       "{'accuracy': 0.8172735688023656,\n",
       " 'f1': 0.33820931867679593,\n",
       " 'roc_auc': 0.7130785023905771}"
      ]
     },
     "execution_count": 32,
     "metadata": {},
     "output_type": "execute_result"
    }
   ],
   "source": [
    "labmodel.score(L, labels, metrics=[\"accuracy\", \"f1\",\n",
    "                                  \"roc_auc\"])"
   ]
  },
  {
   "cell_type": "code",
   "execution_count": null,
   "metadata": {},
   "outputs": [],
   "source": []
  },
  {
   "cell_type": "code",
   "execution_count": 33,
   "metadata": {},
   "outputs": [],
   "source": [
    "prob_labels = labmodel.predict_proba(L)"
   ]
  },
  {
   "cell_type": "code",
   "execution_count": 34,
   "metadata": {},
   "outputs": [],
   "source": [
    "pos_probs = prob_labels[:,1]"
   ]
  },
  {
   "cell_type": "code",
   "execution_count": 35,
   "metadata": {},
   "outputs": [
    {
     "data": {
      "image/png": "[encoded data removed]",
      "text/plain": [
       "<Figure size 432x288 with 1 Axes>"
      ]
     },
     "metadata": {
      "needs_background": "light"
     },
     "output_type": "display_data"
    }
   ],
   "source": [
    "plt.hist(pos_probs[labels==0], bins=np.linspace(0,1,25), alpha=0.5)\n",
    "plt.hist(pos_probs[labels==1], bins=np.linspace(0,1,25), alpha=0.5);"
   ]
  },
  {
   "cell_type": "code",
   "execution_count": null,
   "metadata": {},
   "outputs": [],
   "source": []
  },
  {
   "cell_type": "code",
   "execution_count": 40,
   "metadata": {},
   "outputs": [
    {
     "data": {
      "text/plain": [
       "230228"
      ]
     },
     "execution_count": 40,
     "metadata": {},
     "output_type": "execute_result"
    }
   ],
   "source": [
    "non_covered = L.max(axis=1) < 0\n",
    "non_covered.sum()"
   ]
  },
  {
   "cell_type": "code",
   "execution_count": 41,
   "metadata": {},
   "outputs": [
    {
     "data": {
      "text/plain": [
       "array([0.5, 0.5, 0.5, ..., 0.5, 0.5, 0.5])"
      ]
     },
     "execution_count": 41,
     "metadata": {},
     "output_type": "execute_result"
    }
   ],
   "source": [
    "pos_probs[non_covered]"
   ]
  },
  {
   "cell_type": "code",
   "execution_count": 42,
   "metadata": {},
   "outputs": [
    {
     "data": {
      "text/plain": [
       "(844782,)"
      ]
     },
     "execution_count": 42,
     "metadata": {},
     "output_type": "execute_result"
    }
   ],
   "source": [
    "pos_probs.shape"
   ]
  },
  {
   "cell_type": "code",
   "execution_count": 43,
   "metadata": {},
   "outputs": [],
   "source": [
    "pos_probs.tofile(\"pos_probs.numpy\")"
   ]
  },
  {
   "cell_type": "code",
   "execution_count": null,
   "metadata": {},
   "outputs": [],
   "source": []
  }
 ],
 "metadata": {
  "kernelspec": {
   "display_name": "Python 3",
   "language": "python",
   "name": "python3"
  },
  "language_info": {
   "codemirror_mode": {
    "name": "ipython",
    "version": 3
   },
   "file_extension": ".py",
   "mimetype": "text/x-python",
   "name": "python",
   "nbconvert_exporter": "python",
   "pygments_lexer": "ipython3",
   "version": "3.6.8"
  }
 },
 "nbformat": 4,
 "nbformat_minor": 2
}
