{
 "cells": [
  {
   "cell_type": "markdown",
   "metadata": {},
   "source": [
    "# 03 Training a model\n",
    "\n",
    "This part will look pretty generic- the only really `snorkel`-specific thing is that we'll randomly sample labels during training using the probabilistic labels from the last notebook."
   ]
  },
  {
   "cell_type": "code",
   "execution_count": 1,
   "metadata": {},
   "outputs": [],
   "source": [
    "import numpy as np\n",
    "import matplotlib.pyplot as plt\n",
    "import pandas as pd\n",
    "from tqdm import tqdm\n",
    "\n",
    "import tensorflow as tf\n",
    "\n",
    "%matplotlib inline\n",
    "from IPython.core.pylabtools import figsize"
   ]
  },
  {
   "cell_type": "markdown",
   "metadata": {},
   "source": [
    "Load our preprocessed text:"
   ]
  },
  {
   "cell_type": "code",
   "execution_count": 3,
   "metadata": {},
   "outputs": [
    {
     "data": {
      "text/plain": [
       "844782"
      ]
     },
     "execution_count": 3,
     "metadata": {},
     "output_type": "execute_result"
    }
   ],
   "source": [
    "df = pd.read_csv(\"groupname_preprocessed_full.csv\")\n",
    "len(df)"
   ]
  },
  {
   "cell_type": "code",
   "execution_count": 4,
   "metadata": {
    "scrolled": false
   },
   "outputs": [
    {
     "data": {
      "text/html": [
       "<div>\n",
       "<style scoped>\n",
       "    .dataframe tbody tr th:only-of-type {\n",
       "        vertical-align: middle;\n",
       "    }\n",
       "\n",
       "    .dataframe tbody tr th {\n",
       "        vertical-align: top;\n",
       "    }\n",
       "\n",
       "    .dataframe thead th {\n",
       "        text-align: right;\n",
       "    }\n",
       "</style>\n",
       "<table border=\"1\" class=\"dataframe\">\n",
       "  <thead>\n",
       "    <tr style=\"text-align: right;\">\n",
       "      <th></th>\n",
       "      <th>end</th>\n",
       "      <th>eventid</th>\n",
       "      <th>label</th>\n",
       "      <th>labeled_sentence</th>\n",
       "      <th>name</th>\n",
       "      <th>sentence</th>\n",
       "      <th>start</th>\n",
       "      <th>type</th>\n",
       "    </tr>\n",
       "  </thead>\n",
       "  <tbody>\n",
       "    <tr>\n",
       "      <th>0</th>\n",
       "      <td>35</td>\n",
       "      <td>197001010002</td>\n",
       "      <td>0</td>\n",
       "      <td>1/1/1970: Unknown ENTSTART African American E...</td>\n",
       "      <td>african american</td>\n",
       "      <td>1/1/1970: Unknown African American assailants...</td>\n",
       "      <td>19</td>\n",
       "      <td>NORP</td>\n",
       "    </tr>\n",
       "    <tr>\n",
       "      <th>1</th>\n",
       "      <td>100</td>\n",
       "      <td>197001010002</td>\n",
       "      <td>0</td>\n",
       "      <td>1/1/1970: Unknown African American assailants...</td>\n",
       "      <td>cairo</td>\n",
       "      <td>1/1/1970: Unknown African American assailants...</td>\n",
       "      <td>95</td>\n",
       "      <td>GPE</td>\n",
       "    </tr>\n",
       "    <tr>\n",
       "      <th>2</th>\n",
       "      <td>110</td>\n",
       "      <td>197001010002</td>\n",
       "      <td>0</td>\n",
       "      <td>1/1/1970: Unknown African American assailants...</td>\n",
       "      <td>illinois</td>\n",
       "      <td>1/1/1970: Unknown African American assailants...</td>\n",
       "      <td>102</td>\n",
       "      <td>GPE</td>\n",
       "    </tr>\n",
       "    <tr>\n",
       "      <th>3</th>\n",
       "      <td>125</td>\n",
       "      <td>197001010002</td>\n",
       "      <td>0</td>\n",
       "      <td>1/1/1970: Unknown African American assailants...</td>\n",
       "      <td>united states</td>\n",
       "      <td>1/1/1970: Unknown African American assailants...</td>\n",
       "      <td>112</td>\n",
       "      <td>GPE</td>\n",
       "    </tr>\n",
       "    <tr>\n",
       "      <th>4</th>\n",
       "      <td>39</td>\n",
       "      <td>197001010002</td>\n",
       "      <td>0</td>\n",
       "      <td>There were no casualties, however, ENTSTART o...</td>\n",
       "      <td>one</td>\n",
       "      <td>There were no casualties, however, one bullet...</td>\n",
       "      <td>36</td>\n",
       "      <td>CARDINAL</td>\n",
       "    </tr>\n",
       "  </tbody>\n",
       "</table>\n",
       "</div>"
      ],
      "text/plain": [
       "   end       eventid  label  \\\n",
       "0   35  197001010002      0   \n",
       "1  100  197001010002      0   \n",
       "2  110  197001010002      0   \n",
       "3  125  197001010002      0   \n",
       "4   39  197001010002      0   \n",
       "\n",
       "                                    labeled_sentence              name  \\\n",
       "0   1/1/1970: Unknown ENTSTART African American E...  african american   \n",
       "1   1/1/1970: Unknown African American assailants...             cairo   \n",
       "2   1/1/1970: Unknown African American assailants...          illinois   \n",
       "3   1/1/1970: Unknown African American assailants...     united states   \n",
       "4   There were no casualties, however, ENTSTART o...               one   \n",
       "\n",
       "                                            sentence  start      type  \n",
       "0   1/1/1970: Unknown African American assailants...     19      NORP  \n",
       "1   1/1/1970: Unknown African American assailants...     95       GPE  \n",
       "2   1/1/1970: Unknown African American assailants...    102       GPE  \n",
       "3   1/1/1970: Unknown African American assailants...    112       GPE  \n",
       "4   There were no casualties, however, one bullet...     36  CARDINAL  "
      ]
     },
     "execution_count": 4,
     "metadata": {},
     "output_type": "execute_result"
    }
   ],
   "source": [
    "df.head()"
   ]
  },
  {
   "cell_type": "markdown",
   "metadata": {},
   "source": [
    "And our probalistic labels:"
   ]
  },
  {
   "cell_type": "code",
   "execution_count": 5,
   "metadata": {},
   "outputs": [
    {
     "data": {
      "text/plain": [
       "(844782,)"
      ]
     },
     "execution_count": 5,
     "metadata": {},
     "output_type": "execute_result"
    }
   ],
   "source": [
    "pos_probs = np.fromfile(\"pos_probs.numpy\")\n",
    "pos_probs.shape"
   ]
  },
  {
   "cell_type": "markdown",
   "metadata": {},
   "source": [
    "Let's divide these into training and validation sets. \n",
    "\n",
    "* For train, use probabilistic labels\n",
    "* For test, use actual ground truth since we have it\n",
    "* I'm discarding any training points set to 0.5"
   ]
  },
  {
   "cell_type": "code",
   "execution_count": 6,
   "metadata": {},
   "outputs": [],
   "source": [
    "indices = np.arange(pos_probs.size)\n",
    "train_indices = indices % 10 != 0\n",
    "test_indices = indices % 10 == 0"
   ]
  },
  {
   "cell_type": "code",
   "execution_count": 22,
   "metadata": {},
   "outputs": [],
   "source": [
    "train_strings = df.labeled_sentence.values[train_indices]\n",
    "train_probs = pos_probs[train_indices]\n",
    "\n",
    "train_strings = train_strings[train_probs != 0.5]\n",
    "train_probs = train_probs[train_probs != 0.5]\n",
    "\n",
    "test_strings = df.labeled_sentence.values[test_indices]\n",
    "# for test let's use the actual ground truth\n",
    "test_labels = df.label.values[test_indices]"
   ]
  },
  {
   "cell_type": "code",
   "execution_count": 23,
   "metadata": {},
   "outputs": [
    {
     "data": {
      "text/plain": [
       "549477"
      ]
     },
     "execution_count": 23,
     "metadata": {},
     "output_type": "execute_result"
    }
   ],
   "source": [
    "len(train_strings)"
   ]
  },
  {
   "cell_type": "markdown",
   "metadata": {},
   "source": [
    "## Build input pipelines\n",
    "\n",
    "The only non-standard thing is the training generator- every time it's called, it randomly chooses a value for the label (0 or 1) using the `snorkel` label as a Bernoulli probability."
   ]
  },
  {
   "cell_type": "code",
   "execution_count": 24,
   "metadata": {},
   "outputs": [],
   "source": [
    "vocab_size=15000\n",
    "tokenizer = tf.keras.preprocessing.text.Tokenizer(\n",
    "    num_words=vocab_size, lower=True, oov_token=0)"
   ]
  },
  {
   "cell_type": "code",
   "execution_count": 25,
   "metadata": {},
   "outputs": [],
   "source": [
    "tokenizer.fit_on_texts(train_strings)"
   ]
  },
  {
   "cell_type": "code",
   "execution_count": 26,
   "metadata": {},
   "outputs": [
    {
     "data": {
      "text/plain": [
       "' 1/1/1970: Unknown African American assailants fired several bullets at police headquarters in ENTSTART Cairo ENTEND , Illinois, United States '"
      ]
     },
     "execution_count": 26,
     "metadata": {},
     "output_type": "execute_result"
    }
   ],
   "source": [
    "train_strings[0]"
   ]
  },
  {
   "cell_type": "code",
   "execution_count": 27,
   "metadata": {},
   "outputs": [],
   "source": [
    "train_x = tokenizer.texts_to_sequences(train_strings)\n",
    "test_x = tokenizer.texts_to_sequences(test_strings)"
   ]
  },
  {
   "cell_type": "code",
   "execution_count": 28,
   "metadata": {},
   "outputs": [
    {
     "data": {
      "text/plain": [
       "[400,\n",
       " 400,\n",
       " 752,\n",
       " 67,\n",
       " 355,\n",
       " 713,\n",
       " 10,\n",
       " 84,\n",
       " 301,\n",
       " 2703,\n",
       " 13,\n",
       " 27,\n",
       " 336,\n",
       " 4,\n",
       " 2,\n",
       " 776,\n",
       " 3,\n",
       " 1806,\n",
       " 133,\n",
       " 215]"
      ]
     },
     "execution_count": 28,
     "metadata": {},
     "output_type": "execute_result"
    }
   ],
   "source": [
    "train_x[0]"
   ]
  },
  {
   "cell_type": "code",
   "execution_count": 29,
   "metadata": {},
   "outputs": [
    {
     "data": {
      "image/png": "[encoded data removed]",
      "text/plain": [
       "<Figure size 432x288 with 1 Axes>"
      ]
     },
     "metadata": {
      "needs_background": "light"
     },
     "output_type": "display_data"
    }
   ],
   "source": [
    "_ = plt.hist([len(x) for x in train_x], bins=50);"
   ]
  },
  {
   "cell_type": "code",
   "execution_count": 30,
   "metadata": {},
   "outputs": [],
   "source": [
    "batch_size = 512\n",
    "steps_per_epoch = int(len(pos_probs)/batch_size)\n",
    "\n",
    "def _train_generator():\n",
    "    while True:\n",
    "        for i in range(len(train_x)):\n",
    "            x = np.array(train_x[i], dtype=np.int64)\n",
    "            y = np.random.binomial(1, train_probs[i])\n",
    "            yield x,y\n",
    "            \n",
    "train_ds = tf.data.Dataset.from_generator(_train_generator, \n",
    "                                         (tf.int64, tf.int64),\n",
    "                                         ((None), ()))\n",
    "train_ds = train_ds.shuffle(50000)\n",
    "train_ds = train_ds.padded_batch(batch_size,\n",
    "                                padded_shapes=([None], []))\n",
    "train_ds = train_ds.prefetch(1)"
   ]
  },
  {
   "cell_type": "code",
   "execution_count": 31,
   "metadata": {},
   "outputs": [],
   "source": [
    "test_steps = int(len(test_labels)/batch_size)"
   ]
  },
  {
   "cell_type": "code",
   "execution_count": 32,
   "metadata": {},
   "outputs": [],
   "source": [
    "def _test_generator():\n",
    "    for i in range(len(test_x)):\n",
    "        yield np.array(test_x[i], dtype=np.int64), test_labels[i]\n",
    "        \n",
    "test_ds = tf.data.Dataset.from_generator(_test_generator, \n",
    "                                         (tf.int64, tf.int64),\n",
    "                                         ((None), ()))\n",
    "test_ds = test_ds.padded_batch(batch_size,\n",
    "                                padded_shapes=([None], []))\n",
    "test_ds = test_ds.prefetch(1)"
   ]
  },
  {
   "cell_type": "code",
   "execution_count": 33,
   "metadata": {},
   "outputs": [
    {
     "data": {
      "text/plain": [
       "<DatasetV1Adapter shapes: ((?, ?), (?,)), types: (tf.int64, tf.int64)>"
      ]
     },
     "execution_count": 33,
     "metadata": {},
     "output_type": "execute_result"
    }
   ],
   "source": [
    "train_ds"
   ]
  },
  {
   "cell_type": "code",
   "execution_count": 34,
   "metadata": {},
   "outputs": [
    {
     "name": "stdout",
     "output_type": "stream",
     "text": [
      "x: (512, 67)\n",
      "y: (512,)\n"
     ]
    }
   ],
   "source": [
    "it = train_ds.make_one_shot_iterator().get_next()\n",
    "with tf.Session() as sess:\n",
    "    foo = sess.run(it)\n",
    "    \n",
    "print(\"x:\", foo[0].shape)\n",
    "print(\"y:\", foo[1].shape)"
   ]
  },
  {
   "cell_type": "code",
   "execution_count": null,
   "metadata": {},
   "outputs": [],
   "source": []
  },
  {
   "cell_type": "code",
   "execution_count": null,
   "metadata": {},
   "outputs": [],
   "source": []
  },
  {
   "cell_type": "markdown",
   "metadata": {},
   "source": [
    "# Build a model"
   ]
  },
  {
   "cell_type": "code",
   "execution_count": 35,
   "metadata": {},
   "outputs": [
    {
     "data": {
      "text/plain": [
       "<tf.Tensor 'bidirectional_1/concat:0' shape=(?, ?, 128) dtype=float32>"
      ]
     },
     "execution_count": 35,
     "metadata": {},
     "output_type": "execute_result"
    }
   ],
   "source": [
    "inpt = tf.keras.layers.Input([None])\n",
    "rnn_dim = 64\n",
    "\n",
    "embed_layer = tf.keras.layers.Embedding(vocab_size, 25)\n",
    "embedded = embed_layer(inpt)\n",
    "\n",
    "lstm = tf.keras.layers.LSTM(rnn_dim, return_sequences=True)\n",
    "bidir = tf.keras.layers.Bidirectional(lstm)\n",
    "rnn_out = bidir(embedded)\n",
    "rnn_out"
   ]
  },
  {
   "cell_type": "code",
   "execution_count": null,
   "metadata": {},
   "outputs": [],
   "source": []
  },
  {
   "cell_type": "code",
   "execution_count": 36,
   "metadata": {},
   "outputs": [],
   "source": [
    "attention_inpt = tf.keras.layers.Input((None, rnn_dim*2))\n",
    "# compute a weight for the vector at each step\n",
    "attention_logits = tf.keras.layers.Dense(1)(attention_inpt)\n",
    "# swap so STEPS are last instead of CHANNELS\n",
    "attention_swapped = tf.keras.layers.Lambda(\n",
    "    lambda x: tf.transpose(x, [0,2,1]), name=\"swap_axes\")(attention_logits)\n",
    "# use softmax to normalize\n",
    "attention_normed = tf.keras.layers.Activation(\n",
    "    tf.keras.activations.softmax, name=\"softmax_normalize\")(attention_swapped)\n",
    "# swap axes back to channels-last\n",
    "attention_swapped_back = tf.keras.layers.Lambda(\n",
    "    lambda x: tf.transpose(x, [0,2,1]), name=\"swapped_back\")(attention_normed)\n",
    "# multiply attention weights with output vectors\n",
    "attention_weighted_rnn_outs = tf.keras.layers.Multiply(\n",
    "    name=\"scaled_rnn_outs\")([attention_inpt, attention_swapped_back])\n",
    "# sum to reduce the tensor rank by 1; now we have a single vector that's \n",
    "# a weighted sum of RNN outputs\n",
    "attention_out = tf.keras.layers.Lambda(\n",
    "    lambda x: tf.reduce_sum(x, axis=1), name=\"rnn_weighted_sum\")(attention_weighted_rnn_outs)\n",
    "# also save weights so we can inspect later\n",
    "attention_weights = tf.keras.layers.Lambda(\n",
    "    lambda x: tf.reduce_sum(x, axis=2), name=\"attention_weights\")(attention_swapped_back)\n",
    "\n",
    "attention_model = tf.keras.Model(attention_inpt,\n",
    "                                [attention_out, attention_weights],\n",
    "                                name=\"attention_mechanism\")"
   ]
  },
  {
   "cell_type": "code",
   "execution_count": null,
   "metadata": {},
   "outputs": [],
   "source": []
  },
  {
   "cell_type": "code",
   "execution_count": null,
   "metadata": {},
   "outputs": [],
   "source": []
  },
  {
   "cell_type": "code",
   "execution_count": 37,
   "metadata": {},
   "outputs": [
    {
     "name": "stdout",
     "output_type": "stream",
     "text": [
      "WARNING:tensorflow:From /home/joe/anaconda3/envs/snorkel/lib/python3.6/site-packages/tensorflow/python/keras/layers/core.py:143: calling dropout (from tensorflow.python.ops.nn_ops) with keep_prob is deprecated and will be removed in a future version.\n",
      "Instructions for updating:\n",
      "Please use `rate` instead of `keep_prob`. Rate should be set to `rate = 1 - keep_prob`.\n"
     ]
    }
   ],
   "source": [
    "attention_result, weights = attention_model(rnn_out)\n",
    "dense = tf.keras.layers.Dense(256, \n",
    "                              activation=tf.keras.activations.relu)(attention_result)\n",
    "dropout = tf.keras.layers.Dropout(0.5)(dense)\n",
    "dense2 = tf.keras.layers.Dense(256, \n",
    "                              activation=tf.keras.activations.relu)(dropout)\n",
    "dropout2 = tf.keras.layers.Dropout(0.5)(dense2)\n",
    "output = tf.keras.layers.Dense(1, activation=tf.keras.activations.sigmoid,\n",
    "                              name=\"output\")(dropout2)\n",
    "\n",
    "model = tf.keras.Model(inpt, [output, weights])"
   ]
  },
  {
   "cell_type": "code",
   "execution_count": 38,
   "metadata": {},
   "outputs": [
    {
     "name": "stdout",
     "output_type": "stream",
     "text": [
      "_________________________________________________________________\n",
      "Layer (type)                 Output Shape              Param #   \n",
      "=================================================================\n",
      "input_3 (InputLayer)         (None, None)              0         \n",
      "_________________________________________________________________\n",
      "embedding_1 (Embedding)      (None, None, 25)          375000    \n",
      "_________________________________________________________________\n",
      "bidirectional_1 (Bidirection (None, None, 128)         46080     \n",
      "_________________________________________________________________\n",
      "attention_mechanism (Model)  [(None, 128), (None, None 129       \n",
      "_________________________________________________________________\n",
      "dense_2 (Dense)              (None, 256)               33024     \n",
      "_________________________________________________________________\n",
      "dropout (Dropout)            (None, 256)               0         \n",
      "_________________________________________________________________\n",
      "dense_3 (Dense)              (None, 256)               65792     \n",
      "_________________________________________________________________\n",
      "dropout_1 (Dropout)          (None, 256)               0         \n",
      "_________________________________________________________________\n",
      "output (Dense)               (None, 1)                 257       \n",
      "=================================================================\n",
      "Total params: 520,282\n",
      "Trainable params: 520,282\n",
      "Non-trainable params: 0\n",
      "_________________________________________________________________\n"
     ]
    }
   ],
   "source": [
    "model.summary()"
   ]
  },
  {
   "cell_type": "code",
   "execution_count": 39,
   "metadata": {},
   "outputs": [
    {
     "data": {
      "text/plain": [
       "[<tf.Tensor 'output/Sigmoid:0' shape=(?, 1) dtype=float32>,\n",
       " <tf.Tensor 'attention_mechanism/attention_weights/Sum:0' shape=(?, ?) dtype=float32>]"
      ]
     },
     "execution_count": 39,
     "metadata": {},
     "output_type": "execute_result"
    }
   ],
   "source": [
    "model.outputs"
   ]
  },
  {
   "cell_type": "code",
   "execution_count": 40,
   "metadata": {},
   "outputs": [
    {
     "name": "stdout",
     "output_type": "stream",
     "text": [
      "WARNING:tensorflow:Output \"attention_mechanism\" missing from loss dictionary. We assume this was done on purpose. The fit and evaluate APIs will not be expecting any data to be passed to \"attention_mechanism\".\n"
     ]
    }
   ],
   "source": [
    "model.compile(tf.keras.optimizers.RMSprop(1e-3),\n",
    "             loss={\"output\":tf.keras.losses.binary_crossentropy},\n",
    "             metrics=[\"accuracy\"])"
   ]
  },
  {
   "cell_type": "code",
   "execution_count": null,
   "metadata": {},
   "outputs": [],
   "source": []
  },
  {
   "cell_type": "code",
   "execution_count": null,
   "metadata": {},
   "outputs": [],
   "source": []
  },
  {
   "cell_type": "code",
   "execution_count": 41,
   "metadata": {},
   "outputs": [
    {
     "name": "stdout",
     "output_type": "stream",
     "text": [
      "WARNING:tensorflow:From /home/joe/anaconda3/envs/snorkel/lib/python3.6/site-packages/tensorflow/python/ops/math_ops.py:3066: to_int32 (from tensorflow.python.ops.math_ops) is deprecated and will be removed in a future version.\n",
      "Instructions for updating:\n",
      "Use tf.cast instead.\n",
      "WARNING:tensorflow:From /home/joe/anaconda3/envs/snorkel/lib/python3.6/site-packages/tensorflow/python/ops/math_grad.py:102: div (from tensorflow.python.ops.math_ops) is deprecated and will be removed in a future version.\n",
      "Instructions for updating:\n",
      "Deprecated in favor of operator or tf.math.divide.\n",
      "1649/1649 [==============================] - 410s 249ms/step - loss: 0.4899 - output_loss: 0.4899 - output_acc: 0.8024 - val_loss: 0.4247 - val_output_loss: 0.4247 - val_output_acc: 0.8171\n"
     ]
    },
    {
     "data": {
      "text/plain": [
       "<tensorflow.python.keras.callbacks.History at 0x7f8751b4a4a8>"
      ]
     },
     "execution_count": 41,
     "metadata": {},
     "output_type": "execute_result"
    }
   ],
   "source": [
    "model.fit(train_ds, batch_size=batch_size,\n",
    "         epochs=1, steps_per_epoch=steps_per_epoch,\n",
    "         validation_data=test_ds, validation_steps=test_steps)"
   ]
  },
  {
   "cell_type": "code",
   "execution_count": null,
   "metadata": {},
   "outputs": [],
   "source": []
  },
  {
   "cell_type": "code",
   "execution_count": null,
   "metadata": {},
   "outputs": [],
   "source": []
  },
  {
   "cell_type": "code",
   "execution_count": null,
   "metadata": {},
   "outputs": [],
   "source": []
  },
  {
   "cell_type": "code",
   "execution_count": null,
   "metadata": {},
   "outputs": [],
   "source": []
  },
  {
   "cell_type": "code",
   "execution_count": null,
   "metadata": {},
   "outputs": [],
   "source": []
  },
  {
   "cell_type": "code",
   "execution_count": null,
   "metadata": {},
   "outputs": [],
   "source": []
  }
 ],
 "metadata": {
  "kernelspec": {
   "display_name": "Python 3",
   "language": "python",
   "name": "python3"
  },
  "language_info": {
   "codemirror_mode": {
    "name": "ipython",
    "version": 3
   },
   "file_extension": ".py",
   "mimetype": "text/x-python",
   "name": "python",
   "nbconvert_exporter": "python",
   "pygments_lexer": "ipython3",
   "version": "3.6.8"
  }
 },
 "nbformat": 4,
 "nbformat_minor": 2
}
