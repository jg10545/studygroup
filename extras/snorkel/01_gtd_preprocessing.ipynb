{
 "cells": [
  {
   "cell_type": "markdown",
   "metadata": {},
   "source": [
    "# 01 GTD Preprocessing\n",
    "\n",
    "Let's check out `snorkel` using Kaggle's subset of the Global Terrorism Database. To make it more interesting than a basic classification problem, we'll try to identify the perpetrator group name.\n",
    "\n",
    "We'll preprocess in a few steps to map this back to a binary classifier:\n",
    "\n",
    "* Extract entities from each sentence using `spacy`\n",
    "* Create a record for every sentence, for every entity in that sentence:\n",
    "  * build a network input that annotates the entity:\n",
    "  \n",
    " `I bless the rains down in ENTSTART Africa ENTEND`\n",
    " \n",
    "* Then we'll build `snorkel` labeling functions to predict whether the annotated entity is the group responsible for the terrorist attack. (second notebook)\n",
    "* Finally we'll use the probabilistic labels from `snorkel` to train a neural network\n",
    "\n",
    "**One thing to note:** sometimes (often?) the group name is recorded differently than it appears in the test. But we'll worry about that problem later (never)."
   ]
  },
  {
   "cell_type": "code",
   "execution_count": 1,
   "metadata": {},
   "outputs": [],
   "source": [
    "import numpy as np\n",
    "import matplotlib.pyplot as plt\n",
    "import pandas as pd\n",
    "import spacy\n",
    "from tqdm import tqdm\n",
    "\n",
    "%matplotlib inline\n",
    "from IPython.core.pylabtools import figsize"
   ]
  },
  {
   "cell_type": "markdown",
   "metadata": {},
   "source": [
    "## Load the pieces\n",
    "\n",
    "* load the `spacy` large core english model\n",
    "* use `pandas` to load the GTD"
   ]
  },
  {
   "cell_type": "code",
   "execution_count": 2,
   "metadata": {},
   "outputs": [],
   "source": [
    "#nlp = spacy.load(\"en_core_web_sm\")\n",
    "nlp = spacy.load(\"en_core_web_lg\")"
   ]
  },
  {
   "cell_type": "code",
   "execution_count": 3,
   "metadata": {},
   "outputs": [
    {
     "name": "stderr",
     "output_type": "stream",
     "text": [
      "/home/joe/anaconda3/envs/snorkel/lib/python3.6/site-packages/IPython/core/interactiveshell.py:3057: DtypeWarning: Columns (4,6,31,33,61,62,63,76,79,90,92,94,96,114,115,121) have mixed types. Specify dtype option on import or set low_memory=False.\n",
      "  interactivity=interactivity, compiler=compiler, result=result)\n"
     ]
    },
    {
     "data": {
      "text/plain": [
       "181691"
      ]
     },
     "execution_count": 3,
     "metadata": {},
     "output_type": "execute_result"
    }
   ],
   "source": [
    "rawfile = \"/media/joe/data/gtd/globalterrorismdb_0718dist.csv\"\n",
    "df = pd.read_csv(rawfile, encoding=\"latin1\")\n",
    "len(df)"
   ]
  },
  {
   "cell_type": "code",
   "execution_count": 4,
   "metadata": {},
   "outputs": [
    {
     "data": {
      "text/plain": [
       "115562"
      ]
     },
     "execution_count": 4,
     "metadata": {},
     "output_type": "execute_result"
    }
   ],
   "source": [
    "# discard anything without text\n",
    "df = df[pd.notnull(df.summary)]\n",
    "len(df)"
   ]
  },
  {
   "cell_type": "code",
   "execution_count": 5,
   "metadata": {},
   "outputs": [
    {
     "data": {
      "text/html": [
       "<div>\n",
       "<style scoped>\n",
       "    .dataframe tbody tr th:only-of-type {\n",
       "        vertical-align: middle;\n",
       "    }\n",
       "\n",
       "    .dataframe tbody tr th {\n",
       "        vertical-align: top;\n",
       "    }\n",
       "\n",
       "    .dataframe thead th {\n",
       "        text-align: right;\n",
       "    }\n",
       "</style>\n",
       "<table border=\"1\" class=\"dataframe\">\n",
       "  <thead>\n",
       "    <tr style=\"text-align: right;\">\n",
       "      <th></th>\n",
       "      <th>eventid</th>\n",
       "      <th>iyear</th>\n",
       "      <th>imonth</th>\n",
       "      <th>iday</th>\n",
       "      <th>approxdate</th>\n",
       "      <th>extended</th>\n",
       "      <th>resolution</th>\n",
       "      <th>country</th>\n",
       "      <th>country_txt</th>\n",
       "      <th>region</th>\n",
       "      <th>...</th>\n",
       "      <th>addnotes</th>\n",
       "      <th>scite1</th>\n",
       "      <th>scite2</th>\n",
       "      <th>scite3</th>\n",
       "      <th>dbsource</th>\n",
       "      <th>INT_LOG</th>\n",
       "      <th>INT_IDEO</th>\n",
       "      <th>INT_MISC</th>\n",
       "      <th>INT_ANY</th>\n",
       "      <th>related</th>\n",
       "    </tr>\n",
       "  </thead>\n",
       "  <tbody>\n",
       "    <tr>\n",
       "      <th>5</th>\n",
       "      <td>197001010002</td>\n",
       "      <td>1970</td>\n",
       "      <td>1</td>\n",
       "      <td>1</td>\n",
       "      <td>NaN</td>\n",
       "      <td>0</td>\n",
       "      <td>NaN</td>\n",
       "      <td>217</td>\n",
       "      <td>United States</td>\n",
       "      <td>1</td>\n",
       "      <td>...</td>\n",
       "      <td>The Cairo Chief of Police, William Petersen, r...</td>\n",
       "      <td>\"Police Chief Quits,\" Washington Post, January...</td>\n",
       "      <td>\"Cairo Police Chief Quits; Decries Local 'Mili...</td>\n",
       "      <td>Christopher Hewitt, \"Political Violence and Te...</td>\n",
       "      <td>Hewitt Project</td>\n",
       "      <td>-9</td>\n",
       "      <td>-9</td>\n",
       "      <td>0</td>\n",
       "      <td>-9</td>\n",
       "      <td>NaN</td>\n",
       "    </tr>\n",
       "    <tr>\n",
       "      <th>7</th>\n",
       "      <td>197001020002</td>\n",
       "      <td>1970</td>\n",
       "      <td>1</td>\n",
       "      <td>2</td>\n",
       "      <td>NaN</td>\n",
       "      <td>0</td>\n",
       "      <td>NaN</td>\n",
       "      <td>217</td>\n",
       "      <td>United States</td>\n",
       "      <td>1</td>\n",
       "      <td>...</td>\n",
       "      <td>Damages were estimated to be between $20,000-$...</td>\n",
       "      <td>Committee on Government Operations United Stat...</td>\n",
       "      <td>Christopher Hewitt, \"Political Violence and Te...</td>\n",
       "      <td>NaN</td>\n",
       "      <td>Hewitt Project</td>\n",
       "      <td>-9</td>\n",
       "      <td>-9</td>\n",
       "      <td>0</td>\n",
       "      <td>-9</td>\n",
       "      <td>NaN</td>\n",
       "    </tr>\n",
       "    <tr>\n",
       "      <th>8</th>\n",
       "      <td>197001020003</td>\n",
       "      <td>1970</td>\n",
       "      <td>1</td>\n",
       "      <td>2</td>\n",
       "      <td>NaN</td>\n",
       "      <td>0</td>\n",
       "      <td>NaN</td>\n",
       "      <td>217</td>\n",
       "      <td>United States</td>\n",
       "      <td>1</td>\n",
       "      <td>...</td>\n",
       "      <td>The New Years Gang issue a communiqué to a loc...</td>\n",
       "      <td>Tom Bates, \"Rads: The 1970 Bombing of the Army...</td>\n",
       "      <td>David Newman, Sandra Sutherland, and Jon Stewa...</td>\n",
       "      <td>The Wisconsin Cartographers' Guild, \"Wisconsin...</td>\n",
       "      <td>Hewitt Project</td>\n",
       "      <td>0</td>\n",
       "      <td>0</td>\n",
       "      <td>0</td>\n",
       "      <td>0</td>\n",
       "      <td>NaN</td>\n",
       "    </tr>\n",
       "    <tr>\n",
       "      <th>9</th>\n",
       "      <td>197001030001</td>\n",
       "      <td>1970</td>\n",
       "      <td>1</td>\n",
       "      <td>3</td>\n",
       "      <td>NaN</td>\n",
       "      <td>0</td>\n",
       "      <td>NaN</td>\n",
       "      <td>217</td>\n",
       "      <td>United States</td>\n",
       "      <td>1</td>\n",
       "      <td>...</td>\n",
       "      <td>Karl Armstrong's girlfriend, Lynn Schultz, dro...</td>\n",
       "      <td>Committee on Government Operations United Stat...</td>\n",
       "      <td>Tom Bates, \"Rads: The 1970 Bombing of the Army...</td>\n",
       "      <td>David Newman, Sandra Sutherland, and Jon Stewa...</td>\n",
       "      <td>Hewitt Project</td>\n",
       "      <td>0</td>\n",
       "      <td>0</td>\n",
       "      <td>0</td>\n",
       "      <td>0</td>\n",
       "      <td>NaN</td>\n",
       "    </tr>\n",
       "    <tr>\n",
       "      <th>11</th>\n",
       "      <td>197001060001</td>\n",
       "      <td>1970</td>\n",
       "      <td>1</td>\n",
       "      <td>6</td>\n",
       "      <td>NaN</td>\n",
       "      <td>0</td>\n",
       "      <td>NaN</td>\n",
       "      <td>217</td>\n",
       "      <td>United States</td>\n",
       "      <td>1</td>\n",
       "      <td>...</td>\n",
       "      <td>NaN</td>\n",
       "      <td>Committee on Government Operations United Stat...</td>\n",
       "      <td>Christopher Hewitt, \"Political Violence and Te...</td>\n",
       "      <td>NaN</td>\n",
       "      <td>Hewitt Project</td>\n",
       "      <td>-9</td>\n",
       "      <td>-9</td>\n",
       "      <td>0</td>\n",
       "      <td>-9</td>\n",
       "      <td>NaN</td>\n",
       "    </tr>\n",
       "  </tbody>\n",
       "</table>\n",
       "<p>5 rows × 135 columns</p>\n",
       "</div>"
      ],
      "text/plain": [
       "         eventid  iyear  imonth  iday approxdate  extended resolution  \\\n",
       "5   197001010002   1970       1     1        NaN         0        NaN   \n",
       "7   197001020002   1970       1     2        NaN         0        NaN   \n",
       "8   197001020003   1970       1     2        NaN         0        NaN   \n",
       "9   197001030001   1970       1     3        NaN         0        NaN   \n",
       "11  197001060001   1970       1     6        NaN         0        NaN   \n",
       "\n",
       "    country    country_txt  region   ...     \\\n",
       "5       217  United States       1   ...      \n",
       "7       217  United States       1   ...      \n",
       "8       217  United States       1   ...      \n",
       "9       217  United States       1   ...      \n",
       "11      217  United States       1   ...      \n",
       "\n",
       "                                             addnotes  \\\n",
       "5   The Cairo Chief of Police, William Petersen, r...   \n",
       "7   Damages were estimated to be between $20,000-$...   \n",
       "8   The New Years Gang issue a communiqué to a loc...   \n",
       "9   Karl Armstrong's girlfriend, Lynn Schultz, dro...   \n",
       "11                                                NaN   \n",
       "\n",
       "                                               scite1  \\\n",
       "5   \"Police Chief Quits,\" Washington Post, January...   \n",
       "7   Committee on Government Operations United Stat...   \n",
       "8   Tom Bates, \"Rads: The 1970 Bombing of the Army...   \n",
       "9   Committee on Government Operations United Stat...   \n",
       "11  Committee on Government Operations United Stat...   \n",
       "\n",
       "                                               scite2  \\\n",
       "5   \"Cairo Police Chief Quits; Decries Local 'Mili...   \n",
       "7   Christopher Hewitt, \"Political Violence and Te...   \n",
       "8   David Newman, Sandra Sutherland, and Jon Stewa...   \n",
       "9   Tom Bates, \"Rads: The 1970 Bombing of the Army...   \n",
       "11  Christopher Hewitt, \"Political Violence and Te...   \n",
       "\n",
       "                                               scite3        dbsource  \\\n",
       "5   Christopher Hewitt, \"Political Violence and Te...  Hewitt Project   \n",
       "7                                                 NaN  Hewitt Project   \n",
       "8   The Wisconsin Cartographers' Guild, \"Wisconsin...  Hewitt Project   \n",
       "9   David Newman, Sandra Sutherland, and Jon Stewa...  Hewitt Project   \n",
       "11                                                NaN  Hewitt Project   \n",
       "\n",
       "    INT_LOG  INT_IDEO INT_MISC INT_ANY  related  \n",
       "5        -9        -9        0      -9      NaN  \n",
       "7        -9        -9        0      -9      NaN  \n",
       "8         0         0        0       0      NaN  \n",
       "9         0         0        0       0      NaN  \n",
       "11       -9        -9        0      -9      NaN  \n",
       "\n",
       "[5 rows x 135 columns]"
      ]
     },
     "execution_count": 5,
     "metadata": {},
     "output_type": "execute_result"
    }
   ],
   "source": [
    "df.head()"
   ]
  },
  {
   "cell_type": "code",
   "execution_count": null,
   "metadata": {},
   "outputs": [],
   "source": []
  },
  {
   "cell_type": "markdown",
   "metadata": {},
   "source": [
    "### Pulling entities and (semi-accurate) metadata with `spacy`"
   ]
  },
  {
   "cell_type": "code",
   "execution_count": 9,
   "metadata": {},
   "outputs": [
    {
     "data": {
      "text/plain": [
       "'1/2/1970: Karl Armstrong, a member of the New Years Gang, threw a firebomb at R.O.T.C. offices located within the Old Red Gym at the University of Wisconsin in Madison, Wisconsin, United States.  There were no casualties but the fire caused around $60,000 in damages to the building.'"
      ]
     },
     "execution_count": 9,
     "metadata": {},
     "output_type": "execute_result"
    }
   ],
   "source": [
    "df.summary.values[2]"
   ]
  },
  {
   "cell_type": "code",
   "execution_count": 10,
   "metadata": {},
   "outputs": [],
   "source": [
    "doc = nlp(df.summary.values[2])"
   ]
  },
  {
   "cell_type": "code",
   "execution_count": 11,
   "metadata": {},
   "outputs": [
    {
     "data": {
      "text/plain": [
       "(1/2/1970,\n",
       " Karl Armstrong,\n",
       " the New Years Gang,\n",
       " R.O.T.C.,\n",
       " the Old Red Gym,\n",
       " the University of Wisconsin,\n",
       " Madison,\n",
       " Wisconsin,\n",
       " United States,\n",
       " around $60,000)"
      ]
     },
     "execution_count": 11,
     "metadata": {},
     "output_type": "execute_result"
    }
   ],
   "source": [
    "doc.ents"
   ]
  },
  {
   "cell_type": "code",
   "execution_count": 12,
   "metadata": {},
   "outputs": [
    {
     "data": {
      "text/plain": [
       "\"New Year's Gang\""
      ]
     },
     "execution_count": 12,
     "metadata": {},
     "output_type": "execute_result"
    }
   ],
   "source": [
    "df.gname.values[2]"
   ]
  },
  {
   "cell_type": "code",
   "execution_count": 13,
   "metadata": {},
   "outputs": [
    {
     "data": {
      "text/plain": [
       "'DATE'"
      ]
     },
     "execution_count": 13,
     "metadata": {},
     "output_type": "execute_result"
    }
   ],
   "source": [
    "doc.ents[2].label_"
   ]
  },
  {
   "cell_type": "code",
   "execution_count": 14,
   "metadata": {},
   "outputs": [
    {
     "data": {
      "text/plain": [
       "'the New Years Gang'"
      ]
     },
     "execution_count": 14,
     "metadata": {},
     "output_type": "execute_result"
    }
   ],
   "source": [
    "doc.ents[2].orth_"
   ]
  },
  {
   "cell_type": "code",
   "execution_count": 15,
   "metadata": {},
   "outputs": [],
   "source": [
    "def _build_ent_dict(e):\n",
    "    outdict = {}\n",
    "    outdict[\"name\"] = e.orth_.lower()\n",
    "    if outdict[\"name\"].startswith(\"the\"):\n",
    "        outdict[\"name\"] = outdict[\"name\"][4:]\n",
    "    outdict[\"type\"] = e.label_\n",
    "    outdict[\"start\"] = e.start_char\n",
    "    outdict[\"end\"] = e.end_char\n",
    "    return outdict"
   ]
  },
  {
   "cell_type": "code",
   "execution_count": 16,
   "metadata": {},
   "outputs": [
    {
     "name": "stdout",
     "output_type": "stream",
     "text": [
      "{'name': '1/2/1970', 'type': 'CARDINAL', 'start': 0, 'end': 8}\n",
      "{'name': 'karl armstrong', 'type': 'PERSON', 'start': 10, 'end': 24}\n",
      "{'name': 'new years gang', 'type': 'DATE', 'start': 38, 'end': 56}\n",
      "{'name': 'r.o.t.c.', 'type': 'GPE', 'start': 78, 'end': 86}\n",
      "{'name': 'old red gym', 'type': 'ORG', 'start': 110, 'end': 125}\n",
      "{'name': 'university of wisconsin', 'type': 'ORG', 'start': 129, 'end': 156}\n",
      "{'name': 'madison', 'type': 'GPE', 'start': 160, 'end': 167}\n",
      "{'name': 'wisconsin', 'type': 'GPE', 'start': 169, 'end': 178}\n",
      "{'name': 'united states', 'type': 'GPE', 'start': 180, 'end': 193}\n",
      "{'name': 'around $60,000', 'type': 'MONEY', 'start': 241, 'end': 255}\n"
     ]
    }
   ],
   "source": [
    "for e in doc.ents:\n",
    "    print(_build_ent_dict(e))"
   ]
  },
  {
   "cell_type": "code",
   "execution_count": 17,
   "metadata": {},
   "outputs": [],
   "source": [
    "foo = df.iloc[0]"
   ]
  },
  {
   "cell_type": "code",
   "execution_count": 18,
   "metadata": {},
   "outputs": [
    {
     "data": {
      "text/plain": [
       "197001010002"
      ]
     },
     "execution_count": 18,
     "metadata": {},
     "output_type": "execute_result"
    }
   ],
   "source": [
    "foo.eventid"
   ]
  },
  {
   "cell_type": "markdown",
   "metadata": {},
   "source": [
    "Write a function to map each GTD record to zero or more binary classification tasks. We'll hold on to the ground truth for each one so that we can tell whether anything I build actually works."
   ]
  },
  {
   "cell_type": "code",
   "execution_count": 19,
   "metadata": {},
   "outputs": [
    {
     "data": {
      "text/plain": [
       "[' 1/1/1970: Unknown African American assailants fired several bullets at police headquarters in Cairo, Illinois, United States ',\n",
       " ' There were no casualties, however, one bullet narrowly missed several police officers ',\n",
       " ' This attack took place during heightened racial tensions, including a Black boycott of White-owned businesses, in Cairo Illinois ',\n",
       " '  ']"
      ]
     },
     "execution_count": 19,
     "metadata": {},
     "output_type": "execute_result"
    }
   ],
   "source": [
    "sentences = [\" \"+x.strip()+\" \" for x in foo.summary.split(\".\")]\n",
    "sentences"
   ]
  },
  {
   "cell_type": "code",
   "execution_count": 20,
   "metadata": {},
   "outputs": [
    {
     "data": {
      "text/plain": [
       "{'name': '1/1/1970', 'type': 'DATE', 'start': 1, 'end': 9}"
      ]
     },
     "execution_count": 20,
     "metadata": {},
     "output_type": "execute_result"
    }
   ],
   "source": [
    "d1 = _build_ent_dict(nlp(sentences[0]).ents[0])\n",
    "d1"
   ]
  },
  {
   "cell_type": "code",
   "execution_count": 21,
   "metadata": {},
   "outputs": [],
   "source": [
    "def _label_sentence(s, d):\n",
    "    outstr = s[:d[\"start\"]]\n",
    "    outstr += \" ENTSTART \"\n",
    "    outstr += s[d[\"start\"]:d[\"end\"]]\n",
    "    outstr += \" ENTEND \"\n",
    "    outstr += s[d[\"end\"]:]\n",
    "    return outstr.replace(\"  \", \" \")"
   ]
  },
  {
   "cell_type": "code",
   "execution_count": 22,
   "metadata": {},
   "outputs": [
    {
     "data": {
      "text/plain": [
       "' ENTSTART 1/1/1970 ENTEND : Unknown African American assailants fired several bullets at police headquarters in Cairo, Illinois, United States '"
      ]
     },
     "execution_count": 22,
     "metadata": {},
     "output_type": "execute_result"
    }
   ],
   "source": [
    "_label_sentence(sentences[0], d1)"
   ]
  },
  {
   "cell_type": "code",
   "execution_count": 23,
   "metadata": {},
   "outputs": [],
   "source": [
    "def _prep_row(r):\n",
    "    sentences = [\" \"+x.strip()+\" \" for x in r.summary.split(\".\")]\n",
    "    sentlist = []\n",
    "    for s in sentences:\n",
    "        doc = nlp(s)\n",
    "        for e in doc.ents:\n",
    "            if e.label_ not in [\"DATE\", \"MONEY\", \"ORDINAL\",\n",
    "                               \"WORK_OF_ART\", \"TIME\", \"QUANTITY\",\n",
    "                               \"PERCENT\", ]:\n",
    "                d = _build_ent_dict(e)\n",
    "                d[\"labeled_sentence\"] = _label_sentence(s,d)\n",
    "                d[\"sentence\"] = s\n",
    "                label = int(d[\"name\"] in \" \".join([str(r.gname).lower(),\n",
    "                                str(r.gname2).lower(),\n",
    "                                str(r.gname3).lower()]).replace(\"'\",\"\"))\n",
    "                d[\"label\"] = label\n",
    "                d[\"eventid\"] = r.eventid\n",
    "                sentlist.append(d)\n",
    "    return sentlist"
   ]
  },
  {
   "cell_type": "code",
   "execution_count": 24,
   "metadata": {
    "scrolled": false
   },
   "outputs": [
    {
     "name": "stdout",
     "output_type": "stream",
     "text": [
      "CPU times: user 5h 10min 28s, sys: 7min 9s, total: 5h 17min 38s\n",
      "Wall time: 1h 46min 8s\n"
     ]
    }
   ],
   "source": [
    "%%time\n",
    "all_records = []\n",
    "for i,r in df.iterrows():\n",
    "    all_records += _prep_row(r)\n",
    "\n",
    "prep_df = pd.DataFrame(all_records)"
   ]
  },
  {
   "cell_type": "code",
   "execution_count": 26,
   "metadata": {},
   "outputs": [
    {
     "data": {
      "text/html": [
       "<div>\n",
       "<style scoped>\n",
       "    .dataframe tbody tr th:only-of-type {\n",
       "        vertical-align: middle;\n",
       "    }\n",
       "\n",
       "    .dataframe tbody tr th {\n",
       "        vertical-align: top;\n",
       "    }\n",
       "\n",
       "    .dataframe thead th {\n",
       "        text-align: right;\n",
       "    }\n",
       "</style>\n",
       "<table border=\"1\" class=\"dataframe\">\n",
       "  <thead>\n",
       "    <tr style=\"text-align: right;\">\n",
       "      <th></th>\n",
       "      <th>end</th>\n",
       "      <th>eventid</th>\n",
       "      <th>label</th>\n",
       "      <th>labeled_sentence</th>\n",
       "      <th>name</th>\n",
       "      <th>sentence</th>\n",
       "      <th>start</th>\n",
       "      <th>type</th>\n",
       "    </tr>\n",
       "  </thead>\n",
       "  <tbody>\n",
       "    <tr>\n",
       "      <th>0</th>\n",
       "      <td>35</td>\n",
       "      <td>197001010002</td>\n",
       "      <td>0</td>\n",
       "      <td>1/1/1970: Unknown ENTSTART African American E...</td>\n",
       "      <td>african american</td>\n",
       "      <td>1/1/1970: Unknown African American assailants...</td>\n",
       "      <td>19</td>\n",
       "      <td>NORP</td>\n",
       "    </tr>\n",
       "    <tr>\n",
       "      <th>1</th>\n",
       "      <td>100</td>\n",
       "      <td>197001010002</td>\n",
       "      <td>0</td>\n",
       "      <td>1/1/1970: Unknown African American assailants...</td>\n",
       "      <td>cairo</td>\n",
       "      <td>1/1/1970: Unknown African American assailants...</td>\n",
       "      <td>95</td>\n",
       "      <td>GPE</td>\n",
       "    </tr>\n",
       "    <tr>\n",
       "      <th>2</th>\n",
       "      <td>110</td>\n",
       "      <td>197001010002</td>\n",
       "      <td>0</td>\n",
       "      <td>1/1/1970: Unknown African American assailants...</td>\n",
       "      <td>illinois</td>\n",
       "      <td>1/1/1970: Unknown African American assailants...</td>\n",
       "      <td>102</td>\n",
       "      <td>GPE</td>\n",
       "    </tr>\n",
       "    <tr>\n",
       "      <th>3</th>\n",
       "      <td>125</td>\n",
       "      <td>197001010002</td>\n",
       "      <td>0</td>\n",
       "      <td>1/1/1970: Unknown African American assailants...</td>\n",
       "      <td>united states</td>\n",
       "      <td>1/1/1970: Unknown African American assailants...</td>\n",
       "      <td>112</td>\n",
       "      <td>GPE</td>\n",
       "    </tr>\n",
       "    <tr>\n",
       "      <th>4</th>\n",
       "      <td>39</td>\n",
       "      <td>197001010002</td>\n",
       "      <td>0</td>\n",
       "      <td>There were no casualties, however, ENTSTART o...</td>\n",
       "      <td>one</td>\n",
       "      <td>There were no casualties, however, one bullet...</td>\n",
       "      <td>36</td>\n",
       "      <td>CARDINAL</td>\n",
       "    </tr>\n",
       "  </tbody>\n",
       "</table>\n",
       "</div>"
      ],
      "text/plain": [
       "   end       eventid  label  \\\n",
       "0   35  197001010002      0   \n",
       "1  100  197001010002      0   \n",
       "2  110  197001010002      0   \n",
       "3  125  197001010002      0   \n",
       "4   39  197001010002      0   \n",
       "\n",
       "                                    labeled_sentence              name  \\\n",
       "0   1/1/1970: Unknown ENTSTART African American E...  african american   \n",
       "1   1/1/1970: Unknown African American assailants...             cairo   \n",
       "2   1/1/1970: Unknown African American assailants...          illinois   \n",
       "3   1/1/1970: Unknown African American assailants...     united states   \n",
       "4   There were no casualties, however, ENTSTART o...               one   \n",
       "\n",
       "                                            sentence  start      type  \n",
       "0   1/1/1970: Unknown African American assailants...     19      NORP  \n",
       "1   1/1/1970: Unknown African American assailants...     95       GPE  \n",
       "2   1/1/1970: Unknown African American assailants...    102       GPE  \n",
       "3   1/1/1970: Unknown African American assailants...    112       GPE  \n",
       "4   There were no casualties, however, one bullet...     36  CARDINAL  "
      ]
     },
     "execution_count": 26,
     "metadata": {},
     "output_type": "execute_result"
    }
   ],
   "source": [
    "prep_df.head()"
   ]
  },
  {
   "cell_type": "code",
   "execution_count": 27,
   "metadata": {},
   "outputs": [
    {
     "data": {
      "text/plain": [
       "844782"
      ]
     },
     "execution_count": 27,
     "metadata": {},
     "output_type": "execute_result"
    }
   ],
   "source": [
    "len(all_records)"
   ]
  },
  {
   "cell_type": "code",
   "execution_count": 127,
   "metadata": {},
   "outputs": [
    {
     "data": {
      "text/plain": [
       "237494"
      ]
     },
     "execution_count": 127,
     "metadata": {},
     "output_type": "execute_result"
    }
   ],
   "source": [
    "prep_df = pd.DataFrame(all_records)\n",
    "len(prep_df)"
   ]
  },
  {
   "cell_type": "code",
   "execution_count": 126,
   "metadata": {},
   "outputs": [
    {
     "data": {
      "text/html": [
       "<div>\n",
       "<style scoped>\n",
       "    .dataframe tbody tr th:only-of-type {\n",
       "        vertical-align: middle;\n",
       "    }\n",
       "\n",
       "    .dataframe tbody tr th {\n",
       "        vertical-align: top;\n",
       "    }\n",
       "\n",
       "    .dataframe thead th {\n",
       "        text-align: right;\n",
       "    }\n",
       "</style>\n",
       "<table border=\"1\" class=\"dataframe\">\n",
       "  <thead>\n",
       "    <tr style=\"text-align: right;\">\n",
       "      <th></th>\n",
       "      <th>name</th>\n",
       "      <th>type</th>\n",
       "      <th>start</th>\n",
       "      <th>end</th>\n",
       "      <th>labeled_sentence</th>\n",
       "      <th>sentence</th>\n",
       "      <th>label</th>\n",
       "      <th>eventid</th>\n",
       "    </tr>\n",
       "  </thead>\n",
       "  <tbody>\n",
       "    <tr>\n",
       "      <th>0</th>\n",
       "      <td>african american</td>\n",
       "      <td>NORP</td>\n",
       "      <td>19</td>\n",
       "      <td>35</td>\n",
       "      <td>1/1/1970: Unknown ENTSTART African American E...</td>\n",
       "      <td>1/1/1970: Unknown African American assailants...</td>\n",
       "      <td>0</td>\n",
       "      <td>197001010002</td>\n",
       "    </tr>\n",
       "    <tr>\n",
       "      <th>1</th>\n",
       "      <td>cairo</td>\n",
       "      <td>GPE</td>\n",
       "      <td>95</td>\n",
       "      <td>100</td>\n",
       "      <td>1/1/1970: Unknown African American assailants...</td>\n",
       "      <td>1/1/1970: Unknown African American assailants...</td>\n",
       "      <td>0</td>\n",
       "      <td>197001010002</td>\n",
       "    </tr>\n",
       "    <tr>\n",
       "      <th>2</th>\n",
       "      <td>illinois</td>\n",
       "      <td>GPE</td>\n",
       "      <td>102</td>\n",
       "      <td>110</td>\n",
       "      <td>1/1/1970: Unknown African American assailants...</td>\n",
       "      <td>1/1/1970: Unknown African American assailants...</td>\n",
       "      <td>0</td>\n",
       "      <td>197001010002</td>\n",
       "    </tr>\n",
       "    <tr>\n",
       "      <th>3</th>\n",
       "      <td>united states</td>\n",
       "      <td>GPE</td>\n",
       "      <td>112</td>\n",
       "      <td>125</td>\n",
       "      <td>1/1/1970: Unknown African American assailants...</td>\n",
       "      <td>1/1/1970: Unknown African American assailants...</td>\n",
       "      <td>0</td>\n",
       "      <td>197001010002</td>\n",
       "    </tr>\n",
       "    <tr>\n",
       "      <th>4</th>\n",
       "      <td>one</td>\n",
       "      <td>CARDINAL</td>\n",
       "      <td>36</td>\n",
       "      <td>39</td>\n",
       "      <td>There were no casualties, however, ENTSTART o...</td>\n",
       "      <td>There were no casualties, however, one bullet...</td>\n",
       "      <td>0</td>\n",
       "      <td>197001010002</td>\n",
       "    </tr>\n",
       "  </tbody>\n",
       "</table>\n",
       "</div>"
      ],
      "text/plain": [
       "               name      type  start  end  \\\n",
       "0  african american      NORP     19   35   \n",
       "1             cairo       GPE     95  100   \n",
       "2          illinois       GPE    102  110   \n",
       "3     united states       GPE    112  125   \n",
       "4               one  CARDINAL     36   39   \n",
       "\n",
       "                                    labeled_sentence  \\\n",
       "0   1/1/1970: Unknown ENTSTART African American E...   \n",
       "1   1/1/1970: Unknown African American assailants...   \n",
       "2   1/1/1970: Unknown African American assailants...   \n",
       "3   1/1/1970: Unknown African American assailants...   \n",
       "4   There were no casualties, however, ENTSTART o...   \n",
       "\n",
       "                                            sentence  label       eventid  \n",
       "0   1/1/1970: Unknown African American assailants...      0  197001010002  \n",
       "1   1/1/1970: Unknown African American assailants...      0  197001010002  \n",
       "2   1/1/1970: Unknown African American assailants...      0  197001010002  \n",
       "3   1/1/1970: Unknown African American assailants...      0  197001010002  \n",
       "4   There were no casualties, however, one bullet...      0  197001010002  "
      ]
     },
     "execution_count": 126,
     "metadata": {},
     "output_type": "execute_result"
    }
   ],
   "source": [
    "prep_df.head()"
   ]
  },
  {
   "cell_type": "code",
   "execution_count": 128,
   "metadata": {},
   "outputs": [
    {
     "data": {
      "text/plain": [
       "0    214454\n",
       "1     23040\n",
       "Name: label, dtype: int64"
      ]
     },
     "execution_count": 128,
     "metadata": {},
     "output_type": "execute_result"
    }
   ],
   "source": [
    "prep_df.label.value_counts()"
   ]
  },
  {
   "cell_type": "code",
   "execution_count": 129,
   "metadata": {},
   "outputs": [
    {
     "data": {
      "text/plain": [
       "GPE            83318\n",
       "CARDINAL       47526\n",
       "ORG            45471\n",
       "PERSON         24880\n",
       "NORP           17846\n",
       "TIME            6886\n",
       "LOC             3682\n",
       "FAC             3070\n",
       "QUANTITY        2980\n",
       "PRODUCT          972\n",
       "WORK_OF_ART      386\n",
       "EVENT            238\n",
       "LAW              142\n",
       "LANGUAGE          79\n",
       "PERCENT           18\n",
       "Name: type, dtype: int64"
      ]
     },
     "execution_count": 129,
     "metadata": {},
     "output_type": "execute_result"
    }
   ],
   "source": [
    "prep_df.type.value_counts()"
   ]
  },
  {
   "cell_type": "code",
   "execution_count": 134,
   "metadata": {},
   "outputs": [
    {
     "data": {
      "text/plain": [
       "corsica                        214\n",
       "kasab                           25\n",
       "conspiracy of cells of fire     13\n",
       "katargam                        13\n",
       "windows                         12\n",
       "                              ... \n",
       "chagma                           1\n",
       "itum-kale                        1\n",
       "bm1                              1\n",
       "mayors                          1\n",
       "town councilor                   1\n",
       "Name: name, Length: 544, dtype: int64"
      ]
     },
     "execution_count": 134,
     "metadata": {},
     "output_type": "execute_result"
    }
   ],
   "source": [
    "prep_df.name[prep_df.type == \"PRODUCT\"].value_counts()"
   ]
  },
  {
   "cell_type": "code",
   "execution_count": 25,
   "metadata": {},
   "outputs": [],
   "source": [
    "prep_df.to_csv(\"groupname_preprocessed_full.csv\", index=False)"
   ]
  },
  {
   "cell_type": "code",
   "execution_count": null,
   "metadata": {},
   "outputs": [],
   "source": []
  }
 ],
 "metadata": {
  "kernelspec": {
   "display_name": "Python 3",
   "language": "python",
   "name": "python3"
  },
  "language_info": {
   "codemirror_mode": {
    "name": "ipython",
    "version": 3
   },
   "file_extension": ".py",
   "mimetype": "text/x-python",
   "name": "python",
   "nbconvert_exporter": "python",
   "pygments_lexer": "ipython3",
   "version": "3.6.8"
  }
 },
 "nbformat": 4,
 "nbformat_minor": 2
}
