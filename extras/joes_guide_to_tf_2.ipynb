{
 "cells": [
  {
   "cell_type": "markdown",
   "metadata": {},
   "source": [
    "# Joe's guide to TensorFlow 2.0\n",
    "\n",
    "## What's the absolute minimum I need to know?\n",
    "\n",
    "* Graph/session concepts\n",
    "* Basic data structures: `EagerTensor`, `Variable`\n",
    "* For working with neural networks: `tf.keras` API\n",
    "* For getting data into neural networks: `tf.data` API\n",
    "* For monitoring training: `tensorboard`\n",
    "* For advanced stuff: `tf.GradientTape`, `tf.function`"
   ]
  },
  {
   "cell_type": "code",
   "execution_count": 1,
   "metadata": {},
   "outputs": [],
   "source": [
    "import numpy as np\n",
    "import matplotlib.pyplot as plt\n",
    "import tensorflow as tf\n",
    "\n",
    "import os\n",
    "#os.system(\"export KMP_DUPLICATE_LIB_OK=TRUE\")\n",
    "os.environ['KMP_DUPLICATE_LIB_OK']='True'\n",
    "\n",
    "tf.enable_v2_behavior()\n",
    "%matplotlib inline\n",
    "from IPython.core.pylabtools import figsize"
   ]
  },
  {
   "cell_type": "markdown",
   "metadata": {},
   "source": [
    "# Graphs and Sessions\n",
    "\n",
    "## Graphs\n",
    "\n",
    "TensorFlow represents the sequence of calculations in your program as a directed acyclic graph. This makes it possible to do **automatic differentiation:** if you want the derivative of your loss function with respect to model weights, it can trace the chain rule from calculus up the graph.\n",
    "\n",
    "* In TF1.x the graph (by default) is something you might directly interact with. It's more than a little clumsy and can be counterintuitive to Python programmers- for example, if a Python variable goes out of score, the operation it represents might still stay on the graph.\n",
    "* In TF2 \"eager execution\" is the default- TensorFlow dynamically builds/updates the graph as you go, so you shouldn't be spending your time thinking about it. This makes it **much easier** to prototype (and to write unit tests!), but **necessarily comes at a cost to performance**- so we'll add some tools later to tell your code to de-eagerfy itself when you have a piece you want to run faster.\n",
    "\n",
    "## Sessions\n",
    "\n",
    "The other nice thing about abstracting your code to a graph is that it can be optimized to run on different types of hardware. All of the actual calculations in TensorFlow happen inside a `Session` object that manages the actual placement and updating of variables in memory.\n",
    "\n",
    "* Again, in TF1.x you would explicitly call `tf.Session()` after building your graph and manage it manually\n",
    "* Now all that stuff happens under the hood, which is really convenient when it works (but harder to debug when it doesn't)"
   ]
  },
  {
   "cell_type": "markdown",
   "metadata": {},
   "source": [
    "# Data structures\n",
    "\n",
    "* the main data structure in TensorFlow is the `Tensor`\n",
    "* in TF2 the default us `EagerTensor`, which you can *mostly* treat the way you'd treat a `numpy` array. Some differences:\n",
    "  * tensors are immutable- can't set `mytensor[3] = 4` like you could with an array\n",
    "  * tensorflow is still more sensitive to type than most other Python tools. If your workflow starts with `numpy` you can run into issues (`numpy` default for floats is float64; for deep learning on a GPU float32 is much more common). I spend a lot less time chasing down error messages when I explicitly set `dtype` when defining a tensor.\n",
    "  * can extract a `numpy` array by calling `mytensor.numpy()`. Note that this copies information from GPU to your CPU!\n",
    "  * broadcasting semantics are similar to `numpy` (dimensions compatible when equal or one of them is a 1)\n",
    "* basic math operations live in `tf.math` and work similarly to their `numpy` counterparts (vectorized elementwise calculation, etc).\n",
    "  * Since you're probably going to be computing gradients in TF, you're more likely to run into numerical computation issues; it's a good habit to stabilize your code as you go (for example, writing `tf.math.log(prob_tensor+epsilon)` instead of `tf.math.log(prob_tensor)`). When possible, use higher-level tensorflow functions (e.g. `tf.nn.softmax` instead of writing your own softmax) since they'll take care of this for you."
   ]
  },
  {
   "cell_type": "code",
   "execution_count": 2,
   "metadata": {},
   "outputs": [
    {
     "data": {
      "text/plain": [
       "tensorflow.python.framework.ops.EagerTensor"
      ]
     },
     "execution_count": 2,
     "metadata": {},
     "output_type": "execute_result"
    }
   ],
   "source": [
    "# define a simple tensor\n",
    "foo = tf.zeros([1,2], dtype=tf.float32)\n",
    "type(foo)"
   ]
  },
  {
   "cell_type": "code",
   "execution_count": 3,
   "metadata": {},
   "outputs": [
    {
     "data": {
      "text/plain": [
       "<tf.Tensor: id=2, shape=(1, 2), dtype=float32, numpy=array([[0., 0.]], dtype=float32)>"
      ]
     },
     "execution_count": 3,
     "metadata": {},
     "output_type": "execute_result"
    }
   ],
   "source": [
    "foo"
   ]
  },
  {
   "cell_type": "code",
   "execution_count": 4,
   "metadata": {},
   "outputs": [],
   "source": [
    "# pull out a numpy array"
   ]
  },
  {
   "cell_type": "code",
   "execution_count": 5,
   "metadata": {},
   "outputs": [
    {
     "data": {
      "text/plain": [
       "array([[0., 0.]], dtype=float32)"
      ]
     },
     "execution_count": 5,
     "metadata": {},
     "output_type": "execute_result"
    }
   ],
   "source": [
    "foo.numpy()"
   ]
  },
  {
   "cell_type": "code",
   "execution_count": 6,
   "metadata": {},
   "outputs": [
    {
     "data": {
      "text/plain": [
       "TensorShape([1, 2])"
      ]
     },
     "execution_count": 6,
     "metadata": {},
     "output_type": "execute_result"
    }
   ],
   "source": [
    "# tensor.shape returns a TensorShape object instead of a tuple\n",
    "foo.shape"
   ]
  },
  {
   "cell_type": "code",
   "execution_count": 7,
   "metadata": {},
   "outputs": [
    {
     "data": {
      "text/plain": [
       "[1, 2]"
      ]
     },
     "execution_count": 7,
     "metadata": {},
     "output_type": "execute_result"
    }
   ],
   "source": [
    "# use as_list() if you want a normal data structure for the shape\n",
    "foo.shape.as_list()"
   ]
  },
  {
   "cell_type": "code",
   "execution_count": 8,
   "metadata": {},
   "outputs": [
    {
     "data": {
      "text/plain": [
       "<tf.Tensor: id=6, shape=(1, 2), dtype=float32, numpy=array([[2., 2.]], dtype=float32)>"
      ]
     },
     "execution_count": 8,
     "metadata": {},
     "output_type": "execute_result"
    }
   ],
   "source": [
    "# TF is reasonably forgiving on doing basic elementwise math on tensors\n",
    "bar = foo+2\n",
    "bar"
   ]
  },
  {
   "cell_type": "code",
   "execution_count": 9,
   "metadata": {},
   "outputs": [],
   "source": [
    "higher_rank_tensor = tf.ones((1,2,7), dtype=tf.float32)"
   ]
  },
  {
   "cell_type": "code",
   "execution_count": 10,
   "metadata": {},
   "outputs": [
    {
     "ename": "InvalidArgumentError",
     "evalue": "Incompatible shapes: [1,2,7] vs. [1,2] [Op:Mul] name: mul/",
     "output_type": "error",
     "traceback": [
      "\u001b[0;31m---------------------------------------------------------------------------\u001b[0m",
      "\u001b[0;31mInvalidArgumentError\u001b[0m                      Traceback (most recent call last)",
      "\u001b[0;32m<ipython-input-10-b7f97e176f6d>\u001b[0m in \u001b[0;36m<module>\u001b[0;34m\u001b[0m\n\u001b[0;32m----> 1\u001b[0;31m \u001b[0mproduct\u001b[0m \u001b[0;34m=\u001b[0m \u001b[0mhigher_rank_tensor\u001b[0m\u001b[0;34m*\u001b[0m\u001b[0mbar\u001b[0m\u001b[0;34m\u001b[0m\u001b[0;34m\u001b[0m\u001b[0m\n\u001b[0m",
      "\u001b[0;32m/anaconda3/lib/python3.6/site-packages/tensorflow/python/ops/math_ops.py\u001b[0m in \u001b[0;36mbinary_op_wrapper\u001b[0;34m(x, y)\u001b[0m\n\u001b[1;32m    882\u001b[0m     \u001b[0;32mwith\u001b[0m \u001b[0mops\u001b[0m\u001b[0;34m.\u001b[0m\u001b[0mname_scope\u001b[0m\u001b[0;34m(\u001b[0m\u001b[0;32mNone\u001b[0m\u001b[0;34m,\u001b[0m \u001b[0mop_name\u001b[0m\u001b[0;34m,\u001b[0m \u001b[0;34m[\u001b[0m\u001b[0mx\u001b[0m\u001b[0;34m,\u001b[0m \u001b[0my\u001b[0m\u001b[0;34m]\u001b[0m\u001b[0;34m)\u001b[0m \u001b[0;32mas\u001b[0m \u001b[0mname\u001b[0m\u001b[0;34m:\u001b[0m\u001b[0;34m\u001b[0m\u001b[0;34m\u001b[0m\u001b[0m\n\u001b[1;32m    883\u001b[0m       \u001b[0;32mif\u001b[0m \u001b[0misinstance\u001b[0m\u001b[0;34m(\u001b[0m\u001b[0mx\u001b[0m\u001b[0;34m,\u001b[0m \u001b[0mops\u001b[0m\u001b[0;34m.\u001b[0m\u001b[0mTensor\u001b[0m\u001b[0;34m)\u001b[0m \u001b[0;32mand\u001b[0m \u001b[0misinstance\u001b[0m\u001b[0;34m(\u001b[0m\u001b[0my\u001b[0m\u001b[0;34m,\u001b[0m \u001b[0mops\u001b[0m\u001b[0;34m.\u001b[0m\u001b[0mTensor\u001b[0m\u001b[0;34m)\u001b[0m\u001b[0;34m:\u001b[0m\u001b[0;34m\u001b[0m\u001b[0;34m\u001b[0m\u001b[0m\n\u001b[0;32m--> 884\u001b[0;31m         \u001b[0;32mreturn\u001b[0m \u001b[0mfunc\u001b[0m\u001b[0;34m(\u001b[0m\u001b[0mx\u001b[0m\u001b[0;34m,\u001b[0m \u001b[0my\u001b[0m\u001b[0;34m,\u001b[0m \u001b[0mname\u001b[0m\u001b[0;34m=\u001b[0m\u001b[0mname\u001b[0m\u001b[0;34m)\u001b[0m\u001b[0;34m\u001b[0m\u001b[0;34m\u001b[0m\u001b[0m\n\u001b[0m\u001b[1;32m    885\u001b[0m       \u001b[0;32melif\u001b[0m \u001b[0;32mnot\u001b[0m \u001b[0misinstance\u001b[0m\u001b[0;34m(\u001b[0m\u001b[0my\u001b[0m\u001b[0;34m,\u001b[0m \u001b[0msparse_tensor\u001b[0m\u001b[0;34m.\u001b[0m\u001b[0mSparseTensor\u001b[0m\u001b[0;34m)\u001b[0m\u001b[0;34m:\u001b[0m\u001b[0;34m\u001b[0m\u001b[0;34m\u001b[0m\u001b[0m\n\u001b[1;32m    886\u001b[0m         \u001b[0;32mtry\u001b[0m\u001b[0;34m:\u001b[0m\u001b[0;34m\u001b[0m\u001b[0;34m\u001b[0m\u001b[0m\n",
      "\u001b[0;32m/anaconda3/lib/python3.6/site-packages/tensorflow/python/ops/math_ops.py\u001b[0m in \u001b[0;36m_mul_dispatch\u001b[0;34m(x, y, name)\u001b[0m\n\u001b[1;32m   1178\u001b[0m   \u001b[0mis_tensor_y\u001b[0m \u001b[0;34m=\u001b[0m \u001b[0misinstance\u001b[0m\u001b[0;34m(\u001b[0m\u001b[0my\u001b[0m\u001b[0;34m,\u001b[0m \u001b[0mops\u001b[0m\u001b[0;34m.\u001b[0m\u001b[0mTensor\u001b[0m\u001b[0;34m)\u001b[0m\u001b[0;34m\u001b[0m\u001b[0;34m\u001b[0m\u001b[0m\n\u001b[1;32m   1179\u001b[0m   \u001b[0;32mif\u001b[0m \u001b[0mis_tensor_y\u001b[0m\u001b[0;34m:\u001b[0m\u001b[0;34m\u001b[0m\u001b[0;34m\u001b[0m\u001b[0m\n\u001b[0;32m-> 1180\u001b[0;31m     \u001b[0;32mreturn\u001b[0m \u001b[0mgen_math_ops\u001b[0m\u001b[0;34m.\u001b[0m\u001b[0mmul\u001b[0m\u001b[0;34m(\u001b[0m\u001b[0mx\u001b[0m\u001b[0;34m,\u001b[0m \u001b[0my\u001b[0m\u001b[0;34m,\u001b[0m \u001b[0mname\u001b[0m\u001b[0;34m=\u001b[0m\u001b[0mname\u001b[0m\u001b[0;34m)\u001b[0m\u001b[0;34m\u001b[0m\u001b[0;34m\u001b[0m\u001b[0m\n\u001b[0m\u001b[1;32m   1181\u001b[0m   \u001b[0;32melse\u001b[0m\u001b[0;34m:\u001b[0m\u001b[0;34m\u001b[0m\u001b[0;34m\u001b[0m\u001b[0m\n\u001b[1;32m   1182\u001b[0m     \u001b[0;32massert\u001b[0m \u001b[0misinstance\u001b[0m\u001b[0;34m(\u001b[0m\u001b[0my\u001b[0m\u001b[0;34m,\u001b[0m \u001b[0msparse_tensor\u001b[0m\u001b[0;34m.\u001b[0m\u001b[0mSparseTensor\u001b[0m\u001b[0;34m)\u001b[0m  \u001b[0;31m# Case: Dense * Sparse.\u001b[0m\u001b[0;34m\u001b[0m\u001b[0;34m\u001b[0m\u001b[0m\n",
      "\u001b[0;32m/anaconda3/lib/python3.6/site-packages/tensorflow/python/ops/gen_math_ops.py\u001b[0m in \u001b[0;36mmul\u001b[0;34m(x, y, name)\u001b[0m\n\u001b[1;32m   6485\u001b[0m       \u001b[0;32melse\u001b[0m\u001b[0;34m:\u001b[0m\u001b[0;34m\u001b[0m\u001b[0;34m\u001b[0m\u001b[0m\n\u001b[1;32m   6486\u001b[0m         \u001b[0mmessage\u001b[0m \u001b[0;34m=\u001b[0m \u001b[0me\u001b[0m\u001b[0;34m.\u001b[0m\u001b[0mmessage\u001b[0m\u001b[0;34m\u001b[0m\u001b[0;34m\u001b[0m\u001b[0m\n\u001b[0;32m-> 6487\u001b[0;31m       \u001b[0m_six\u001b[0m\u001b[0;34m.\u001b[0m\u001b[0mraise_from\u001b[0m\u001b[0;34m(\u001b[0m\u001b[0m_core\u001b[0m\u001b[0;34m.\u001b[0m\u001b[0m_status_to_exception\u001b[0m\u001b[0;34m(\u001b[0m\u001b[0me\u001b[0m\u001b[0;34m.\u001b[0m\u001b[0mcode\u001b[0m\u001b[0;34m,\u001b[0m \u001b[0mmessage\u001b[0m\u001b[0;34m)\u001b[0m\u001b[0;34m,\u001b[0m \u001b[0;32mNone\u001b[0m\u001b[0;34m)\u001b[0m\u001b[0;34m\u001b[0m\u001b[0;34m\u001b[0m\u001b[0m\n\u001b[0m\u001b[1;32m   6488\u001b[0m   \u001b[0;31m# Add nodes to the TensorFlow graph.\u001b[0m\u001b[0;34m\u001b[0m\u001b[0;34m\u001b[0m\u001b[0;34m\u001b[0m\u001b[0m\n\u001b[1;32m   6489\u001b[0m   _, _, _op = _op_def_lib._apply_op_helper(\n",
      "\u001b[0;32m/anaconda3/lib/python3.6/site-packages/six.py\u001b[0m in \u001b[0;36mraise_from\u001b[0;34m(value, from_value)\u001b[0m\n",
      "\u001b[0;31mInvalidArgumentError\u001b[0m: Incompatible shapes: [1,2,7] vs. [1,2] [Op:Mul] name: mul/"
     ]
    }
   ],
   "source": [
    "product = higher_rank_tensor*bar"
   ]
  },
  {
   "cell_type": "code",
   "execution_count": 11,
   "metadata": {},
   "outputs": [
    {
     "data": {
      "text/plain": [
       "TensorShape([1, 2, 7])"
      ]
     },
     "execution_count": 11,
     "metadata": {},
     "output_type": "execute_result"
    }
   ],
   "source": [
    "product2 = higher_rank_tensor*tf.reshape(bar, (1,2,1))\n",
    "product2.shape"
   ]
  },
  {
   "cell_type": "code",
   "execution_count": 12,
   "metadata": {},
   "outputs": [
    {
     "data": {
      "text/plain": [
       "(1, 2, 7)"
      ]
     },
     "execution_count": 12,
     "metadata": {},
     "output_type": "execute_result"
    }
   ],
   "source": [
    "(np.ones((1,2,7))*np.ones((1,2,1))).shape"
   ]
  },
  {
   "cell_type": "markdown",
   "metadata": {},
   "source": [
    "## Variables\n",
    "\n",
    "Variables are a subclass of Tensors- generally, the weights of your models will be variables."
   ]
  },
  {
   "cell_type": "code",
   "execution_count": 13,
   "metadata": {},
   "outputs": [
    {
     "data": {
      "text/plain": [
       "<tf.Variable 'Variable:0' shape=(1, 2) dtype=float32, numpy=array([[0.891858 , 0.7904143]], dtype=float32)>"
      ]
     },
     "execution_count": 13,
     "metadata": {},
     "output_type": "execute_result"
    }
   ],
   "source": [
    "myvar = tf.Variable(np.random.uniform(0,1,(1,2)).astype(np.float32))\n",
    "myvar"
   ]
  },
  {
   "cell_type": "code",
   "execution_count": 14,
   "metadata": {},
   "outputs": [
    {
     "data": {
      "text/plain": [
       "<tf.Tensor: id=25, shape=(1, 2), dtype=float32, numpy=array([[2.891858 , 2.7904143]], dtype=float32)>"
      ]
     },
     "execution_count": 14,
     "metadata": {},
     "output_type": "execute_result"
    }
   ],
   "source": [
    "# operations that input a variable and a tensor, output a tensor\n",
    "myvar+bar"
   ]
  },
  {
   "cell_type": "code",
   "execution_count": 15,
   "metadata": {},
   "outputs": [
    {
     "data": {
      "text/plain": [
       "<tf.Variable 'UnreadVariable' shape=(1, 2) dtype=float32, numpy=array([[2.891858 , 2.7904143]], dtype=float32)>"
      ]
     },
     "execution_count": 15,
     "metadata": {},
     "output_type": "execute_result"
    }
   ],
   "source": [
    "# we can manually assign new values to a variable\n",
    "myvar.assign_add(bar)"
   ]
  },
  {
   "cell_type": "code",
   "execution_count": 16,
   "metadata": {},
   "outputs": [
    {
     "data": {
      "text/plain": [
       "<tf.Variable 'Variable:0' shape=(1, 2) dtype=float32, numpy=array([[2.891858 , 2.7904143]], dtype=float32)>"
      ]
     },
     "execution_count": 16,
     "metadata": {},
     "output_type": "execute_result"
    }
   ],
   "source": [
    "myvar"
   ]
  },
  {
   "cell_type": "code",
   "execution_count": null,
   "metadata": {},
   "outputs": [],
   "source": []
  },
  {
   "cell_type": "markdown",
   "metadata": {},
   "source": [
    "# When building a neural network: use `tf.keras`\n",
    "\n",
    "* In the bad old days: choose between `tf-slim`, `tf.layers`, `tf.estimator`, `skflow`, or `keras` for your high-level API\n",
    "* `keras` used to be really restrictive but it's become a lot more extensible over the last year. it is now **the** supported high-level API for tensorflow\n",
    "* that being said, the farther you drag it away from what's included, the more likely you are to hit really annoying edge cases where some `keras` functionality fails"
   ]
  },
  {
   "cell_type": "code",
   "execution_count": 17,
   "metadata": {},
   "outputs": [],
   "source": [
    "fashion_mnist = tf.keras.datasets.fashion_mnist\n",
    "(train_images, train_labels), (test_images, test_labels) = fashion_mnist.load_data()\n",
    "#mnist = tf.keras.datasets.mnist\n",
    "#(train_images, train_labels), (test_images, test_labels) = mnist.load_data()"
   ]
  },
  {
   "cell_type": "code",
   "execution_count": 18,
   "metadata": {},
   "outputs": [],
   "source": [
    "classes = [\"tshirt\", \"trouser\", \"pullover\", \"dress\",\n",
    "           \"coat\", \"sandal\", \"shirt\", \"sneaker\",\n",
    "           \"bag\", \"ankle-boot\"]"
   ]
  },
  {
   "cell_type": "code",
   "execution_count": 19,
   "metadata": {},
   "outputs": [
    {
     "data": {
      "text/plain": [
       "(60000, 28, 28)"
      ]
     },
     "execution_count": 19,
     "metadata": {},
     "output_type": "execute_result"
    }
   ],
   "source": [
    "train_images.shape"
   ]
  },
  {
   "cell_type": "code",
   "execution_count": 20,
   "metadata": {},
   "outputs": [],
   "source": [
    "train_images = train_images.reshape((-1, 28, 28, 1)).astype(np.float32)/255\n",
    "test_images = test_images.reshape((-1, 28, 28, 1)).astype(np.float32)/255"
   ]
  },
  {
   "cell_type": "code",
   "execution_count": 62,
   "metadata": {},
   "outputs": [],
   "source": [
    "seq_model = tf.keras.Sequential([\n",
    "    tf.keras.layers.Conv2D(16, 3, input_shape=(28,28,1), activation=\"relu\"),\n",
    "    tf.keras.layers.MaxPool2D(2,2),\n",
    "    tf.keras.layers.Conv2D(32, 3, activation=\"relu\"),\n",
    "    tf.keras.layers.MaxPool2D(2,2),\n",
    "    tf.keras.layers.Conv2D(64, 3, activation=\"relu\"),\n",
    "    tf.keras.layers.GlobalMaxPool2D(),\n",
    "    tf.keras.layers.Dense(10, activation=\"softmax\")\n",
    "])"
   ]
  },
  {
   "cell_type": "code",
   "execution_count": 63,
   "metadata": {
    "scrolled": false
   },
   "outputs": [
    {
     "name": "stdout",
     "output_type": "stream",
     "text": [
      "Model: \"sequential_1\"\n",
      "_________________________________________________________________\n",
      "Layer (type)                 Output Shape              Param #   \n",
      "=================================================================\n",
      "conv2d_3 (Conv2D)            (None, 26, 26, 16)        160       \n",
      "_________________________________________________________________\n",
      "max_pooling2d_2 (MaxPooling2 (None, 13, 13, 16)        0         \n",
      "_________________________________________________________________\n",
      "conv2d_4 (Conv2D)            (None, 11, 11, 32)        4640      \n",
      "_________________________________________________________________\n",
      "max_pooling2d_3 (MaxPooling2 (None, 5, 5, 32)          0         \n",
      "_________________________________________________________________\n",
      "conv2d_5 (Conv2D)            (None, 3, 3, 64)          18496     \n",
      "_________________________________________________________________\n",
      "global_max_pooling2d_1 (Glob (None, 64)                0         \n",
      "_________________________________________________________________\n",
      "dense_1 (Dense)              (None, 10)                650       \n",
      "=================================================================\n",
      "Total params: 23,946\n",
      "Trainable params: 23,946\n",
      "Non-trainable params: 0\n",
      "_________________________________________________________________\n"
     ]
    }
   ],
   "source": [
    "seq_model.summary()"
   ]
  },
  {
   "cell_type": "code",
   "execution_count": 64,
   "metadata": {},
   "outputs": [],
   "source": [
    "seq_model.compile(tf.keras.optimizers.Adam(1e-3),\n",
    "                 tf.keras.losses.sparse_categorical_crossentropy,\n",
    "                 metrics=[\"accuracy\"])"
   ]
  },
  {
   "cell_type": "code",
   "execution_count": 65,
   "metadata": {},
   "outputs": [
    {
     "name": "stdout",
     "output_type": "stream",
     "text": [
      "Train on 60000 samples, validate on 10000 samples\n",
      "Epoch 1/2\n",
      "60000/60000 [==============================] - 28s 471us/sample - loss: 0.6351 - accuracy: 0.7688 - val_loss: 0.4627 - val_accuracy: 0.8293\n",
      "Epoch 2/2\n",
      "60000/60000 [==============================] - 28s 464us/sample - loss: 0.4094 - accuracy: 0.8490 - val_loss: 0.4018 - val_accuracy: 0.8540\n"
     ]
    },
    {
     "data": {
      "text/plain": [
       "<tensorflow.python.keras.callbacks.History at 0x673a5f828>"
      ]
     },
     "execution_count": 65,
     "metadata": {},
     "output_type": "execute_result"
    }
   ],
   "source": [
    "seq_model.fit(train_images, train_labels,\n",
    "             batch_size=64,\n",
    "             validation_data=(test_images, test_labels),\n",
    "             epochs=5,\n",
    "             callbacks=[\n",
    "                 tf.keras.callbacks.TensorBoard(\"logs/\")\n",
    "             ])"
   ]
  },
  {
   "cell_type": "markdown",
   "metadata": {},
   "source": [
    "From the command line, run\n",
    "\n",
    "> tensorboard --logdir logs/\n",
    "\n",
    "To see the callbacks we saved out"
   ]
  },
  {
   "cell_type": "code",
   "execution_count": 25,
   "metadata": {},
   "outputs": [
    {
     "data": {
      "text/plain": [
       "(20, 10)"
      ]
     },
     "execution_count": 25,
     "metadata": {},
     "output_type": "execute_result"
    }
   ],
   "source": [
    "predictions = seq_model.predict(test_images[:20])\n",
    "predictions.shape"
   ]
  },
  {
   "cell_type": "code",
   "execution_count": 27,
   "metadata": {},
   "outputs": [
    {
     "data": {
      "image/png": "[encoded data removed]",
      "text/plain": [
       "<Figure size 864x216 with 2 Axes>"
      ]
     },
     "metadata": {
      "needs_background": "light"
     },
     "output_type": "display_data"
    }
   ],
   "source": [
    "figsize(12,3)\n",
    "i = 0\n",
    "plt.subplot(121)\n",
    "plt.imshow(test_images[i,:,:,0], cmap=plt.cm.gray)\n",
    "plt.axis(\"off\")\n",
    "plt.subplot(122)\n",
    "plt.barh(np.arange(10), predictions[i,:])\n",
    "plt.yticks(np.arange(10), classes)\n",
    "plt.grid(True);"
   ]
  },
  {
   "cell_type": "markdown",
   "metadata": {},
   "source": [
    "You can write the model to disk to retrieve later using `Model.save()`. Historically this had used HDF5 but with TF2 more integration is coming with the tensorflow-specific `SavedModel` format. HDF5 has trouble with custom objects and nested models."
   ]
  },
  {
   "cell_type": "code",
   "execution_count": 28,
   "metadata": {},
   "outputs": [],
   "source": [
    "seq_model.save(\"seq_model.h5\")"
   ]
  },
  {
   "cell_type": "code",
   "execution_count": null,
   "metadata": {},
   "outputs": [],
   "source": []
  },
  {
   "cell_type": "markdown",
   "metadata": {},
   "source": [
    "### Some things to know about `tf.keras`\n",
    "\n",
    "#### Layer objects\n",
    "\n",
    "In the sequential model above, each line like \n",
    "\n",
    "`tf.keras.layers.Dense(10, activation=\"softmax\")`\n",
    "\n",
    "defines a layer object; calling it on a tensor\n",
    "```\n",
    "mylayer = tf.keras.layers.Dense(10, activation=\"softmax\")\n",
    "output_tensor = mylayer(input_tensor)\n",
    "```\n",
    "runs the tensor through that layer and returns a new tensor representing the output. If you want to reuse a layer in a network (for example, reusing an embedding layer for a text processing network), build the layer once and call it in multiple places.\n",
    "\n",
    "#### Other ways to define models in `tf.keras`\n",
    "\n",
    "There are two other APIs for model definition in Keras:\n",
    "\n",
    "* **functional API:** a bit more verbose than sequential, but lets you define models with multiple inputs and outputs (my personal favorite. examples later)\n",
    "* **subclassing API:** if you want tons of flexibility, you can directly subclass `tf.keras.Model`. Note that a lot of the convenience methods tend to break when you do this (like `Model.save()`).\n",
    "\n",
    "#### Building more complicated models\n",
    "\n",
    "Modern neural networks often contain complex substructures- like transformers in NLP or residual and inception blocks in computer vision. Manually spelling out every layer in every substructure is clumsy; we have two options for getting around it:\n",
    "\n",
    "* **Nesting models:** you can call a keras model as a layer in another model. You can build more complex models without learning anything new, but you're limited to combinations of existing layers.\n",
    "* **Custom layers:** keras has an API spec to define a custom class for a new layer. This is much more flexible but you have to get your hands dirty with lower-level tensorflow or `tf.keras.backend` functions.\n"
   ]
  },
  {
   "cell_type": "code",
   "execution_count": null,
   "metadata": {},
   "outputs": [],
   "source": []
  },
  {
   "cell_type": "code",
   "execution_count": null,
   "metadata": {},
   "outputs": [],
   "source": []
  },
  {
   "cell_type": "markdown",
   "metadata": {},
   "source": [
    "## Getting data into tensorflow: use `tf.data`\n",
    "\n",
    "In the sequential model above, we passed data as `numpy` arrays directly into keras' `Model.fit()` method, which is fine as long as all our data fits into memory. When we scale up our models, we'll generally want any loading, preprocessing, and augmentation to be done on the CPU and in separate threads so that our GPU is never sitting around waiting for the next batch. The `tf.data.Dataset` API is a little idiosyncratic but makes this process pretty easy."
   ]
  },
  {
   "cell_type": "markdown",
   "metadata": {},
   "source": [
    "To create the dataset we'll use `from_tensor_slices()`, which can input the `numpy` arrays we already have. This makes it easy to prototype our loaders using in-memory datasets; later on we can replace that line with code that loads the data from disk:"
   ]
  },
  {
   "cell_type": "code",
   "execution_count": 29,
   "metadata": {},
   "outputs": [],
   "source": [
    "# define a dataset object\n",
    "ds = tf.data.Dataset.from_tensor_slices((train_images.astype(np.float32), train_labels.astype(np.int64)))"
   ]
  },
  {
   "cell_type": "markdown",
   "metadata": {},
   "source": [
    "Let's also define a function that does some augmentation on our data (we can make this as complicated as we want):"
   ]
  },
  {
   "cell_type": "code",
   "execution_count": 30,
   "metadata": {},
   "outputs": [],
   "source": [
    "def augment(img, label):\n",
    "    return tf.image.random_flip_left_right(img), label"
   ]
  },
  {
   "cell_type": "markdown",
   "metadata": {},
   "source": [
    "Map that function across the dataset, then do some boilerplate shuffling, batching, and prefetching:"
   ]
  },
  {
   "cell_type": "code",
   "execution_count": 31,
   "metadata": {},
   "outputs": [],
   "source": [
    "batch_size = 32\n",
    "\n",
    "# map through an augmentation function\n",
    "ds = ds.map(augment, num_parallel_calls=2)\n",
    "# shuffle dataset by randomly drawing from a queue of the next 1000 examples\n",
    "ds = ds.shuffle(1000)\n",
    "# assemble examples into batches of size 64\n",
    "ds = ds.batch(batch_size)\n",
    "# prefetch the next batch\n",
    "ds = ds.prefetch(1)"
   ]
  },
  {
   "cell_type": "code",
   "execution_count": 32,
   "metadata": {},
   "outputs": [
    {
     "data": {
      "text/plain": [
       "<DatasetV1Adapter shapes: ((None, 28, 28, 1), (None,)), types: (tf.float32, tf.int64)>"
      ]
     },
     "execution_count": 32,
     "metadata": {},
     "output_type": "execute_result"
    }
   ],
   "source": [
    "ds"
   ]
  },
  {
   "cell_type": "markdown",
   "metadata": {},
   "source": [
    "To use with keras' `Model.fit()` we'll need to specify how many steps there are per epoch- which isn't hard, but is annoying to have to do manually.\n",
    "\n",
    "```\n",
    "numsteps = int(np.ceil(len(train_labels)/64))\n",
    "mmymodel.fit(ds, steps_per_epoch=numpsteps, epochs=5)\n",
    "```\n",
    "\n",
    "We can also call the dataset as a Python *iterable* (**not** an *iterator*):"
   ]
  },
  {
   "cell_type": "code",
   "execution_count": 33,
   "metadata": {},
   "outputs": [],
   "source": [
    "for x, y in ds:\n",
    "    break"
   ]
  },
  {
   "cell_type": "code",
   "execution_count": 34,
   "metadata": {},
   "outputs": [
    {
     "name": "stdout",
     "output_type": "stream",
     "text": [
      "<class 'tensorflow.python.framework.ops.EagerTensor'>\n",
      "(32, 28, 28, 1)\n"
     ]
    }
   ],
   "source": [
    "print(type(x))\n",
    "print(x.get_shape())"
   ]
  },
  {
   "cell_type": "code",
   "execution_count": 35,
   "metadata": {},
   "outputs": [
    {
     "name": "stdout",
     "output_type": "stream",
     "text": [
      "<class 'tensorflow.python.framework.ops.EagerTensor'>\n",
      "(32,)\n"
     ]
    }
   ],
   "source": [
    "print(type(y))\n",
    "print(y.get_shape())"
   ]
  },
  {
   "cell_type": "markdown",
   "metadata": {},
   "source": [
    "I'll show an example of what we can do with this later in the notebook."
   ]
  },
  {
   "cell_type": "code",
   "execution_count": null,
   "metadata": {},
   "outputs": [],
   "source": []
  },
  {
   "cell_type": "markdown",
   "metadata": {},
   "source": [
    "## Monitoring training with TensorBoard\n",
    "\n",
    "Neural nets can take a while to train- if you're used to a \"run everything interactively in a jupyter notebook\" style of doing data science, it's really easy to accidentally waste a bunch of time when something goes horribly wrong and you don't find out til after your GPU chewed on it for 100 epochs. It's always a good idea to have some way to monitor progress (even if it's just printing stuff out in your notebook).\n",
    "\n",
    "Tensorboard is a command-line program that gets installed with tensorflow, that displays summaries stored in event files. \n",
    "\n",
    "In the `keras` example above we used a callback to save logs- you can also customize Tensorboard outputs quite a lot. I've always found the Python interface to be a little clumsy, but it's been streamlined somewhat in 2.0. We need to define a \"writer\" and give it a path to a log directory:"
   ]
  },
  {
   "cell_type": "code",
   "execution_count": 59,
   "metadata": {},
   "outputs": [],
   "source": [
    "writer = tf.compat.v2.summary.create_file_writer(\"logs2/\", flush_millis=10000)\n",
    "writer.set_as_default()"
   ]
  },
  {
   "cell_type": "markdown",
   "metadata": {},
   "source": [
    "Then, in our training (and/or evaluation) loops, call `summary` functions to record some information. Each one will take:\n",
    "\n",
    "* a name for the summary (as a string)\n",
    "* a `numpy` array or a tensor for the data\n",
    "* an integer `step` that's used to order and align everything\n",
    "* (this is new) a markdown-formatted string describing what you're summarizing\n",
    "\n",
    "For a simple contrived example of some data to record- let's put a cursor on a 10x10 grid and every step randomly move it to an adjacent space (with toroidal boundary conditions):"
   ]
  },
  {
   "cell_type": "code",
   "execution_count": 60,
   "metadata": {},
   "outputs": [],
   "source": [
    "num_steps= 1000\n",
    "\n",
    "img= np.zeros((1, 10, 10, 1))\n",
    "x = 5\n",
    "y = 5\n",
    "\n",
    "# every step:\n",
    "for s in range(num_steps):\n",
    "    x = (x + np.random.choice([-1, 0, 1]))%10\n",
    "    y = (y + np.random.choice([-1, 0, 1]))%10\n",
    "    img[0, y, x, 0] += 0.05\n",
    "    img[img > 1] = 0\n",
    "        \n",
    "    tf.compat.v2.summary.scalar(\"x\", x, step=s, description=\"Current value of **x**\")\n",
    "    tf.compat.v2.summary.scalar(\"y\", y, step=s, description=\"Current value of **y**\")\n",
    "    \n",
    "    tf.compat.v2.summary.histogram(\"cell_values\", img, step=s)\n",
    "    tf.compat.v2.summary.image(\"full_image\", img, step=s)\n",
    "    "
   ]
  },
  {
   "cell_type": "code",
   "execution_count": null,
   "metadata": {},
   "outputs": [],
   "source": []
  },
  {
   "cell_type": "code",
   "execution_count": null,
   "metadata": {},
   "outputs": [],
   "source": []
  },
  {
   "cell_type": "markdown",
   "metadata": {},
   "source": [
    "## For building weird stuff: `tf.GradientTape` and `@tf.function`\n",
    "\n",
    "When eager execution is computing things on-the-fly, it doesn't keep track of gradients unless you tell it to. Use a `tf.GradientTape()` block to tell TensorFlow to hold on to that information; when you're done you can call `tape.gradient` to compute the gradient of one value with respect to another.\n",
    "\n",
    "For example- let's take our trained image classifier and compute gradients of the output with respect to an input image, so that we can see how it's flagging off different parts of the image:"
   ]
  },
  {
   "cell_type": "code",
   "execution_count": 74,
   "metadata": {},
   "outputs": [
    {
     "data": {
      "image/png": "[encoded data removed]",
      "text/plain": [
       "<Figure size 864x216 with 3 Axes>"
      ]
     },
     "metadata": {
      "needs_background": "light"
     },
     "output_type": "display_data"
    }
   ],
   "source": [
    "i = 6\n",
    "\n",
    "img = tf.constant(test_images[i].reshape((1,28,28,1)))\n",
    "label = tf.constant(test_labels[i].astype(np.int32))\n",
    "\n",
    "with tf.GradientTape() as tape:\n",
    "    tape.watch(img)\n",
    "    predictions = seq_model(img)[0,label]\n",
    "    \n",
    "grad = tape.gradient(predictions, img)\n",
    "\n",
    "plt.subplot(121)\n",
    "plt.imshow(test_images[i,:,:,0], cmap=plt.cm.gray)\n",
    "plt.axis(\"off\")\n",
    "plt.subplot(122)\n",
    "plt.imshow(grad[0,:,:,0])\n",
    "plt.colorbar()\n",
    "plt.axis(\"off\");"
   ]
  },
  {
   "cell_type": "markdown",
   "metadata": {},
   "source": [
    "If you're familiar with adversarial learning, you might recognize this as the first step in the **fast gradient sign method** of building adversarial examples- we repeatedly use the sign of the gradient to increment an image, to try and force a misclassification.\n",
    "\n",
    "Since FGSM repeats this calculation a bunch of times, we'd prefer not to have eager execution building dynamic graphs as we go- we'd prefer performance to flexibility. The `@tf.function` decorator will attempt to compile your function into a static Tensorflow graph:"
   ]
  },
  {
   "cell_type": "code",
   "execution_count": 100,
   "metadata": {},
   "outputs": [],
   "source": [
    "@tf.function\n",
    "def fgsm(img, label, steps=25, eps=1e-3):\n",
    "    for s in range(steps):    \n",
    "        with tf.GradientTape() as tape:\n",
    "            tape.watch(img)\n",
    "            predictions = seq_model(img)[0,label]\n",
    "    \n",
    "            grad = tape.gradient(predictions, img)\n",
    "            img.assign_sub(eps*tf.sign(grad))\n",
    "    return img"
   ]
  },
  {
   "cell_type": "code",
   "execution_count": 108,
   "metadata": {},
   "outputs": [
    {
     "data": {
      "image/png": "[encoded data removed]",
      "text/plain": [
       "<Figure size 864x432 with 4 Axes>"
      ]
     },
     "metadata": {
      "needs_background": "light"
     },
     "output_type": "display_data"
    }
   ],
   "source": [
    "i = 7\n",
    "\n",
    "img = tf.Variable(test_images[i].reshape((1,28,28,1)))\n",
    "label = tf.constant(test_labels[i].astype(np.int32))\n",
    "\n",
    "img = fgsm(img, label)\n",
    "\n",
    "figsize(12,6)\n",
    "plt.subplot(221)\n",
    "plt.imshow(test_images[i,:,:,0], cmap=plt.cm.gray)\n",
    "plt.axis(\"off\")\n",
    "plt.subplot(222)\n",
    "plt.barh(np.arange(10), seq_model(test_images[i,:,:,:].reshape(1,28,28,1)).numpy().flatten())\n",
    "plt.yticks(np.arange(10), classes)\n",
    "plt.xlim(0,1)\n",
    "plt.grid(True)\n",
    "\n",
    "plt.subplot(223)\n",
    "plt.imshow(img.numpy()[0,:,:,0], cmap=plt.cm.gray)\n",
    "plt.axis(\"off\")\n",
    "plt.subplot(224)\n",
    "plt.barh(np.arange(10), seq_model(img).numpy().flatten())\n",
    "plt.yticks(np.arange(10), classes)\n",
    "plt.xlim(0,1)\n",
    "plt.grid(True);"
   ]
  },
  {
   "cell_type": "code",
   "execution_count": null,
   "metadata": {},
   "outputs": [],
   "source": []
  },
  {
   "cell_type": "code",
   "execution_count": null,
   "metadata": {},
   "outputs": [],
   "source": []
  },
  {
   "cell_type": "code",
   "execution_count": null,
   "metadata": {},
   "outputs": [],
   "source": []
  },
  {
   "cell_type": "code",
   "execution_count": null,
   "metadata": {},
   "outputs": [],
   "source": []
  },
  {
   "cell_type": "code",
   "execution_count": null,
   "metadata": {},
   "outputs": [],
   "source": []
  },
  {
   "cell_type": "code",
   "execution_count": null,
   "metadata": {},
   "outputs": [],
   "source": []
  },
  {
   "cell_type": "code",
   "execution_count": null,
   "metadata": {},
   "outputs": [],
   "source": []
  },
  {
   "cell_type": "code",
   "execution_count": null,
   "metadata": {},
   "outputs": [],
   "source": []
  },
  {
   "cell_type": "code",
   "execution_count": null,
   "metadata": {},
   "outputs": [],
   "source": []
  },
  {
   "cell_type": "code",
   "execution_count": null,
   "metadata": {},
   "outputs": [],
   "source": []
  },
  {
   "cell_type": "code",
   "execution_count": null,
   "metadata": {},
   "outputs": [],
   "source": []
  },
  {
   "cell_type": "code",
   "execution_count": null,
   "metadata": {},
   "outputs": [],
   "source": []
  },
  {
   "cell_type": "code",
   "execution_count": null,
   "metadata": {},
   "outputs": [],
   "source": []
  },
  {
   "cell_type": "code",
   "execution_count": 81,
   "metadata": {},
   "outputs": [],
   "source": [
    "generator = tf.keras.Sequential([\n",
    "    tf.keras.layers.Dense(7*7*256, use_bias=False, input_shape=(100,)),\n",
    "    tf.keras.layers.BatchNormalization(),\n",
    "    tf.keras.layers.LeakyReLU(),\n",
    "    tf.keras.layers.Reshape((7, 7, 256)),\n",
    "\n",
    "    tf.keras.layers.Conv2DTranspose(128, (5, 5), strides=(1, 1), padding='same', use_bias=False),\n",
    "    tf.keras.layers.BatchNormalization(),\n",
    "    tf.keras.layers.LeakyReLU(),\n",
    "\n",
    "    tf.keras.layers.Conv2DTranspose(64, (5, 5), strides=(2, 2), padding='same', use_bias=False),\n",
    "    tf.keras.layers.BatchNormalization(),\n",
    "    tf.keras.layers.LeakyReLU(),\n",
    "\n",
    "    tf.keras.layers.Conv2DTranspose(1, (5, 5), strides=(2, 2), padding='same', use_bias=False, activation='sigmoid')\n",
    "])"
   ]
  },
  {
   "cell_type": "code",
   "execution_count": null,
   "metadata": {},
   "outputs": [],
   "source": []
  },
  {
   "cell_type": "code",
   "execution_count": 82,
   "metadata": {},
   "outputs": [
    {
     "data": {
      "image/png": "[encoded data removed]",
      "text/plain": [
       "<Figure size 864x216 with 1 Axes>"
      ]
     },
     "metadata": {
      "needs_background": "light"
     },
     "output_type": "display_data"
    }
   ],
   "source": [
    "noise = tf.random.normal([1, 100])\n",
    "generated_image = generator(noise)\n",
    "\n",
    "plt.imshow(generated_image[0, :, :, 0], cmap='gray');"
   ]
  },
  {
   "cell_type": "code",
   "execution_count": 83,
   "metadata": {},
   "outputs": [],
   "source": [
    "discriminator = tf.keras.Sequential([\n",
    "    tf.keras.layers.Conv2D(64, (5, 5), strides=(2, 2), padding='same',\n",
    "                                     input_shape=[28, 28, 1]),\n",
    "    tf.keras.layers.LeakyReLU(),\n",
    "    tf.keras.layers.Dropout(0.3),\n",
    "\n",
    "    tf.keras.layers.Conv2D(128, (5, 5), strides=(2, 2), padding='same'),\n",
    "    tf.keras.layers.LeakyReLU(),\n",
    "    tf.keras.layers.Dropout(0.3),\n",
    "\n",
    "    tf.keras.layers.Flatten(),\n",
    "    tf.keras.layers.Dense(1, activation=\"sigmoid\")\n",
    "])"
   ]
  },
  {
   "cell_type": "code",
   "execution_count": 84,
   "metadata": {},
   "outputs": [],
   "source": [
    "generator_optimizer = tf.keras.optimizers.Adam(1e-4)\n",
    "discriminator_optimizer = tf.keras.optimizers.Adam(1e-4)"
   ]
  },
  {
   "cell_type": "code",
   "execution_count": null,
   "metadata": {},
   "outputs": [],
   "source": []
  },
  {
   "cell_type": "code",
   "execution_count": 85,
   "metadata": {},
   "outputs": [],
   "source": [
    "def discriminator_loss(real_output, fake_output):\n",
    "    # when training the discriminator- should try to predict 1 for real images\n",
    "    real_loss = tf.keras.losses.binary_crossentropy(tf.ones_like(real_output), real_output)\n",
    "    # and 0 for fake images\n",
    "    fake_loss = tf.keras.losses.binary_crossentropy(tf.zeros_like(fake_output), fake_output)\n",
    "    total_loss = real_loss + fake_loss\n",
    "    return tf.reduce_sum(total_loss)\n",
    "\n",
    "def generator_loss(fake_output):\n",
    "    # when training the generator- should try to get the discriminator to incorrectly\n",
    "    # classify fake images as 1 instead of 0\n",
    "    return tf.reduce_sum(tf.keras.losses.binary_crossentropy(tf.ones_like(fake_output), fake_output))"
   ]
  },
  {
   "cell_type": "code",
   "execution_count": 86,
   "metadata": {},
   "outputs": [],
   "source": [
    "@tf.function\n",
    "def train_step(images, batch_size, noise_dim):\n",
    "    noise = tf.random.normal([batch_size, noise_dim])\n",
    "\n",
    "    with tf.GradientTape() as gen_tape, tf.GradientTape() as disc_tape:\n",
    "        generated_images = generator(noise, training=True)\n",
    "\n",
    "        real_output = discriminator(images, training=True)\n",
    "        fake_output = discriminator(generated_images, training=True)\n",
    "\n",
    "        gen_loss = generator_loss(fake_output)\n",
    "        disc_loss = discriminator_loss(real_output, fake_output)\n",
    "\n",
    "    gradients_of_generator = gen_tape.gradient(gen_loss, generator.trainable_variables)\n",
    "    gradients_of_discriminator = disc_tape.gradient(disc_loss, discriminator.trainable_variables)\n",
    "\n",
    "    generator_optimizer.apply_gradients(zip(gradients_of_generator, generator.trainable_variables))\n",
    "    discriminator_optimizer.apply_gradients(zip(gradients_of_discriminator, discriminator.trainable_variables))\n",
    "    return gen_loss, disc_loss"
   ]
  },
  {
   "cell_type": "code",
   "execution_count": 87,
   "metadata": {},
   "outputs": [],
   "source": [
    "from tqdm import tqdm"
   ]
  },
  {
   "cell_type": "code",
   "execution_count": 92,
   "metadata": {},
   "outputs": [
    {
     "name": "stderr",
     "output_type": "stream",
     "text": [
      "\n",
      "  0%|          | 0/1 [00:00<?, ?it/s]\u001b[A\n",
      "100%|██████████| 1/1 [11:43<00:00, 703.77s/it]\u001b[A"
     ]
    }
   ],
   "source": [
    "num_epochs = 1\n",
    "noise_dim = 100\n",
    "gen_losses = []\n",
    "disc_losses = []\n",
    "\n",
    "for e in tqdm(range(num_epochs)):\n",
    "    for x, y in ds:\n",
    "        g, d = train_step(x, batch_size, noise_dim)\n",
    "        \n",
    "        gen_losses.append(g.numpy())\n",
    "        disc_losses.append(d.numpy())"
   ]
  },
  {
   "cell_type": "code",
   "execution_count": 93,
   "metadata": {},
   "outputs": [
    {
     "data": {
      "text/plain": [
       "[<matplotlib.lines.Line2D at 0x674f89fd0>]"
      ]
     },
     "execution_count": 93,
     "metadata": {},
     "output_type": "execute_result"
    },
    {
     "data": {
      "image/png": "[encoded data removed]",
      "text/plain": [
       "<Figure size 864x216 with 1 Axes>"
      ]
     },
     "metadata": {
      "needs_background": "light"
     },
     "output_type": "display_data"
    }
   ],
   "source": [
    "plt.plot(gen_losses)\n",
    "plt.plot(disc_losses)"
   ]
  },
  {
   "cell_type": "code",
   "execution_count": 94,
   "metadata": {},
   "outputs": [
    {
     "data": {
      "image/png": "[encoded data removed]",
      "text/plain": [
       "<Figure size 864x216 with 1 Axes>"
      ]
     },
     "metadata": {
      "needs_background": "light"
     },
     "output_type": "display_data"
    }
   ],
   "source": [
    "noise = tf.random.normal([1, 100])\n",
    "generated_image = generator(noise)\n",
    "\n",
    "plt.imshow(generated_image[0, :, :, 0], cmap='gray');"
   ]
  },
  {
   "cell_type": "code",
   "execution_count": null,
   "metadata": {},
   "outputs": [],
   "source": []
  },
  {
   "cell_type": "code",
   "execution_count": null,
   "metadata": {},
   "outputs": [],
   "source": []
  },
  {
   "cell_type": "code",
   "execution_count": 74,
   "metadata": {},
   "outputs": [],
   "source": [
    "foo = generator(np.random.normal(0,1,(32,100)))"
   ]
  },
  {
   "cell_type": "code",
   "execution_count": 77,
   "metadata": {},
   "outputs": [],
   "source": [
    "bar = discriminator(foo)"
   ]
  },
  {
   "cell_type": "code",
   "execution_count": 79,
   "metadata": {},
   "outputs": [
    {
     "data": {
      "text/plain": [
       "<tf.Tensor: id=1549839, shape=(32,), dtype=float32, numpy=\n",
       "array([13.195828, 13.211996, 13.179918, 13.211996, 13.211996, 13.211996,\n",
       "       13.211996, 13.195828, 13.211996, 13.211996, 13.245135, 13.245135,\n",
       "       13.245135, 13.211996, 13.228429, 13.211996, 13.211996, 13.211996,\n",
       "       13.211996, 13.195828, 13.195828, 13.262127, 13.211996, 13.211996,\n",
       "       13.195828, 13.195828, 13.211996, 13.245135, 13.179918, 13.195828,\n",
       "       13.211996, 13.211996], dtype=float32)>"
      ]
     },
     "execution_count": 79,
     "metadata": {},
     "output_type": "execute_result"
    }
   ],
   "source": [
    "generator_loss(bar)"
   ]
  },
  {
   "cell_type": "code",
   "execution_count": 80,
   "metadata": {},
   "outputs": [],
   "source": [
    "tf.keras.losses.BinaryCrossentropy?"
   ]
  },
  {
   "cell_type": "code",
   "execution_count": null,
   "metadata": {},
   "outputs": [],
   "source": [
    "EPOCHS = 50\n",
    "noise_dim = 100\n",
    "num_examples_to_generate = 16\n",
    "\n",
    "# We will reuse this seed overtime (so it's easier)\n",
    "# to visualize progress in the animated GIF)\n",
    "seed = tf.random.normal([num_examples_to_generate, noise_dim])\n",
    "\n",
    "def train(dataset, epochs):\n",
    "    for epoch in range(epochs):\n",
    "        start = time.time()\n",
    "\n",
    "        for image_batch in dataset:\n",
    "            train_step(image_batch)\n",
    "\n",
    "        # Produce images for the GIF as we go\n",
    "        display.clear_output(wait=True)\n",
    "        generate_and_save_images(generator,\n",
    "                             epoch + 1,\n",
    "                             seed)\n",
    "\n",
    "        # Save the model every 15 epochs\n",
    "        if (epoch + 1) % 15 == 0:\n",
    "            checkpoint.save(file_prefix = checkpoint_prefix)\n",
    "\n",
    "        print ('Time for epoch {} is {} sec'.format(epoch + 1, time.time()-start))\n",
    "\n",
    "    # Generate after the final epoch\n",
    "    #display.clear_output(wait=True)\n",
    "    #generate_and_save_images(generator,\n",
    "    #                       epochs,\n",
    "    #                       seed)"
   ]
  }
 ],
 "metadata": {
  "kernelspec": {
   "display_name": "Python 3",
   "language": "python",
   "name": "python3"
  },
  "language_info": {
   "codemirror_mode": {
    "name": "ipython",
    "version": 3
   },
   "file_extension": ".py",
   "mimetype": "text/x-python",
   "name": "python",
   "nbconvert_exporter": "python",
   "pygments_lexer": "ipython3",
   "version": "3.6.9"
  }
 },
 "nbformat": 4,
 "nbformat_minor": 2
}
