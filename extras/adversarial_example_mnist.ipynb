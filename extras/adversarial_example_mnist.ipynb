{
 "cells": [
  {
   "cell_type": "markdown",
   "metadata": {},
   "source": [
    "# Adversarial examples with MNIST\n",
    "\n",
    "In this notebook, we'll:\n",
    "\n",
    "* train a neural net on MNIST\n",
    "* export the trained model (graph *and* weights)\n",
    "* generate adversarial examples using the Fast Gradient Sign Method (and the targeted variant)"
   ]
  },
  {
   "cell_type": "code",
   "execution_count": 1,
   "metadata": {
    "collapsed": true
   },
   "outputs": [
    {
     "name": "stderr",
     "output_type": "stream",
     "text": [
      "/anaconda3/lib/python3.6/site-packages/h5py/__init__.py:36: FutureWarning: Conversion of the second argument of issubdtype from `float` to `np.floating` is deprecated. In future, it will be treated as `np.float64 == np.dtype(float).type`.\n",
      "  from ._conv import register_converters as _register_converters\n"
     ]
    }
   ],
   "source": [
    "import numpy as np\n",
    "import matplotlib.pyplot as plt\n",
    "import tensorflow as tf\n",
    "from tqdm import tqdm, tqdm_gui\n",
    "\n",
    "%matplotlib inline\n",
    "from IPython.core.pylabtools import figsize"
   ]
  },
  {
   "cell_type": "code",
   "execution_count": 2,
   "metadata": {},
   "outputs": [
    {
     "data": {
      "text/plain": [
       "'1.5.0'"
      ]
     },
     "execution_count": 2,
     "metadata": {},
     "output_type": "execute_result"
    }
   ],
   "source": [
    "tf.__version__"
   ]
  },
  {
   "cell_type": "markdown",
   "metadata": {},
   "source": [
    "## Load the dataset\n",
    "\n",
    "You've seen this before"
   ]
  },
  {
   "cell_type": "code",
   "execution_count": 3,
   "metadata": {
    "collapsed": true
   },
   "outputs": [],
   "source": [
    "from tensorflow.examples.tutorials.mnist import input_data"
   ]
  },
  {
   "cell_type": "markdown",
   "metadata": {},
   "source": [
    "Edit the `\"data/\"` to wherever you hid the files."
   ]
  },
  {
   "cell_type": "code",
   "execution_count": 4,
   "metadata": {},
   "outputs": [
    {
     "name": "stdout",
     "output_type": "stream",
     "text": [
      "Extracting data/train-images-idx3-ubyte.gz\n",
      "Extracting data/train-labels-idx1-ubyte.gz\n",
      "Extracting data/t10k-images-idx3-ubyte.gz\n",
      "Extracting data/t10k-labels-idx1-ubyte.gz\n"
     ]
    }
   ],
   "source": [
    "mnist = input_data.read_data_sets(\"data/\")"
   ]
  },
  {
   "cell_type": "markdown",
   "metadata": {},
   "source": [
    "## Build the model"
   ]
  },
  {
   "cell_type": "code",
   "execution_count": null,
   "metadata": {},
   "outputs": [],
   "source": []
  },
  {
   "cell_type": "code",
   "execution_count": 5,
   "metadata": {
    "collapsed": true
   },
   "outputs": [],
   "source": [
    "def build_model(learnrate=0.01):\n",
    "    \"\"\"\n",
    "    Wrapper function to build an MNIST classifier\n",
    "    \"\"\"\n",
    "    x = tf.placeholder(tf.float32, [None, 784], name=\"x\")\n",
    "    y_ = tf.placeholder(tf.int32, [None,], name=\"y_\")\n",
    "    y_oh = tf.one_hot(y_, 10, name=\"labels_one_hot\")\n",
    "\n",
    "    hidden = tf.layers.dense(x, 100, activation=tf.nn.tanh)\n",
    "    output = tf.layers.dense(hidden, 10, name=\"output\")\n",
    "    logits = tf.identity(output, name=\"logits\")\n",
    "    y = tf.nn.softmax(logits, name=\"y\")\n",
    "    \n",
    "    cross_entropy = tf.nn.softmax_cross_entropy_with_logits(logits=logits, labels=y_oh, name=\"crossent\")\n",
    "    optimizer = tf.train.GradientDescentOptimizer(learnrate)\n",
    "    train_step = optimizer.minimize(cross_entropy)\n",
    "    \n",
    "    prediction = tf.argmax(y,1)\n",
    "    correct_prediction = tf.equal(prediction, tf.argmax(y_oh,1))\n",
    "    accuracy = tf.reduce_mean(tf.cast(correct_prediction, tf.float32))\n",
    "    return x, y_, y, train_step, accuracy"
   ]
  },
  {
   "cell_type": "code",
   "execution_count": 6,
   "metadata": {},
   "outputs": [],
   "source": [
    "tf.reset_default_graph()"
   ]
  },
  {
   "cell_type": "code",
   "execution_count": 7,
   "metadata": {},
   "outputs": [
    {
     "name": "stdout",
     "output_type": "stream",
     "text": [
      "WARNING:tensorflow:From <ipython-input-5-279c2b8e9552>:14: softmax_cross_entropy_with_logits (from tensorflow.python.ops.nn_ops) is deprecated and will be removed in a future version.\n",
      "Instructions for updating:\n",
      "\n",
      "Future major versions of TensorFlow will allow gradients to flow\n",
      "into the labels input on backprop by default.\n",
      "\n",
      "See tf.nn.softmax_cross_entropy_with_logits_v2.\n",
      "\n"
     ]
    }
   ],
   "source": [
    "x, y_, y, train_step, accuracy = build_model()"
   ]
  },
  {
   "cell_type": "code",
   "execution_count": null,
   "metadata": {},
   "outputs": [],
   "source": []
  },
  {
   "cell_type": "code",
   "execution_count": null,
   "metadata": {
    "collapsed": true
   },
   "outputs": [],
   "source": []
  },
  {
   "cell_type": "markdown",
   "metadata": {},
   "source": [
    "## Train the model"
   ]
  },
  {
   "cell_type": "code",
   "execution_count": 8,
   "metadata": {},
   "outputs": [],
   "source": [
    "def train_and_save(images, labels, logdir, epochs=100, batchsize=100):\n",
    "    \"\"\"\n",
    "    Macro to split data into batches, run a training loop, and save the model.\n",
    "    Automagically evaluates on MNIST test set.\n",
    "    \n",
    "    Returns test accuracy evaluated at the end of each epoch\n",
    "    \"\"\"\n",
    "    # start a SavedModelBuilder to save everything out\n",
    "    builder = tf.saved_model.builder.SavedModelBuilder(logdir)\n",
    "    # find the number of batches to use\n",
    "    num_batches = int(len(labels)/batchsize)\n",
    "\n",
    "    # create an empty array to hold test accuracy at each step\n",
    "    test_acc = np.zeros(epochs*num_batches)\n",
    "    j=0\n",
    "    progress_bar = tqdm(total=epochs*num_batches)\n",
    "    # create a session to run in\n",
    "    with tf.Session() as sess:\n",
    "        # initialize variables\n",
    "        sess.run(tf.global_variables_initializer())\n",
    "        # for each training step\n",
    "        for i in range(epochs):\n",
    "            # shuffle and split into batches\n",
    "            ordering = np.random.choice(np.arange(len(labels)), size=len(labels), replace=False)\n",
    "            batches = list(zip(\n",
    "                np.array_split(images[ordering,:], num_batches, axis=0),\n",
    "                np.array_split(labels[ordering], num_batches)\n",
    "            ))\n",
    "            # for each batch of images and labels\n",
    "            for (batch_xs, batch_ys) in batches:\n",
    "                # feed them to the training operation\n",
    "                fd = {x:batch_xs, y_:batch_ys}\n",
    "                sess.run(train_step, feed_dict=fd)\n",
    "        \n",
    "                # now that we've updated the model weights, let's\n",
    "                # compute the test accuracy\n",
    "                test_acc[j] = sess.run(accuracy, feed_dict={x:mnist.test.images, \n",
    "                                                y_:mnist.test.labels})\n",
    "                j += 1\n",
    "                progress_bar.update()\n",
    "\n",
    "        # export the model\n",
    "        signature_def_map = {\"model\":tf.saved_model.signature_def_utils.predict_signature_def(\n",
    "            inputs={\"x\":x},\n",
    "            outputs={\"y\":y}\n",
    "        )}\n",
    "        builder.add_meta_graph_and_variables(sess, \n",
    "                                         [\"tag\"],\n",
    "                                        signature_def_map=signature_def_map)\n",
    "        builder.save()\n",
    "    \n",
    "    print(\"Final accuracy: %s\"%round(test_acc[-1],3))\n",
    "    progress_bar.close()\n",
    "    return test_acc"
   ]
  },
  {
   "cell_type": "code",
   "execution_count": 9,
   "metadata": {},
   "outputs": [
    {
     "name": "stderr",
     "output_type": "stream",
     "text": [
      "100%|█████████▉| 1099/1100 [01:01<00:00, 17.80it/s]"
     ]
    },
    {
     "name": "stdout",
     "output_type": "stream",
     "text": [
      "INFO:tensorflow:No assets to save.\n",
      "INFO:tensorflow:No assets to write.\n",
      "INFO:tensorflow:SavedModel written to: b'logs2/saved_model.pb'\n"
     ]
    },
    {
     "name": "stderr",
     "output_type": "stream",
     "text": [
      "100%|██████████| 1100/1100 [01:02<00:00, 17.74it/s]"
     ]
    },
    {
     "name": "stdout",
     "output_type": "stream",
     "text": [
      "Final accuracy: 0.961\n"
     ]
    },
    {
     "name": "stderr",
     "output_type": "stream",
     "text": [
      "\n"
     ]
    }
   ],
   "source": [
    "test_acc = train_and_save(mnist.train.images, mnist.train.labels, \"logs2/\", epochs=2)"
   ]
  },
  {
   "cell_type": "code",
   "execution_count": null,
   "metadata": {},
   "outputs": [],
   "source": []
  },
  {
   "cell_type": "code",
   "execution_count": 11,
   "metadata": {},
   "outputs": [
    {
     "data": {
      "image/png": "[encoded data removed]",
      "text/plain": [
       "<matplotlib.figure.Figure at 0x1c333a4630>"
      ]
     },
     "metadata": {},
     "output_type": "display_data"
    }
   ],
   "source": [
    "figsize(7,5)\n",
    "plt.plot(test_acc, lw=2)\n",
    "plt.xlabel(\"training step\", fontsize=14)\n",
    "plt.ylabel(\"test accuracy\", fontsize=14)\n",
    "plt.grid(\"on\");"
   ]
  },
  {
   "cell_type": "code",
   "execution_count": null,
   "metadata": {
    "collapsed": true
   },
   "outputs": [],
   "source": []
  },
  {
   "cell_type": "code",
   "execution_count": null,
   "metadata": {},
   "outputs": [],
   "source": []
  },
  {
   "cell_type": "code",
   "execution_count": null,
   "metadata": {},
   "outputs": [],
   "source": []
  },
  {
   "cell_type": "code",
   "execution_count": null,
   "metadata": {},
   "outputs": [],
   "source": []
  },
  {
   "cell_type": "code",
   "execution_count": null,
   "metadata": {},
   "outputs": [],
   "source": []
  },
  {
   "cell_type": "code",
   "execution_count": 11,
   "metadata": {},
   "outputs": [],
   "source": [
    "tf.reset_default_graph()"
   ]
  },
  {
   "cell_type": "code",
   "execution_count": null,
   "metadata": {},
   "outputs": [],
   "source": []
  },
  {
   "cell_type": "code",
   "execution_count": 12,
   "metadata": {},
   "outputs": [],
   "source": [
    "def fgsm(logdir, x_adv, label, epsilon=0.01, num_iterations=1, targeted=False):\n",
    "    \"\"\"\n",
    "    Use the Fast Gradient Sign Method to build adversarial examples\n",
    "    \n",
    "    :logdir: directory where the saved TF model is stored. Expects to find \"x\", \"y_\", \n",
    "            and \"logits\" tensors\n",
    "    :x_adv: (N, 784) array of data points to build examples from\n",
    "    :label: (N,) array of corresponding correct labels (if targeted=False) or\n",
    "            target labels (if targeted=True)\n",
    "    :epsilon: step size for shifting the examples\n",
    "    :num_iterations: how many times to update the examples\n",
    "    :targeted: whether to use targeted fast gradient\n",
    "    \n",
    "    Returns\n",
    "    :x_adv: (N, 784) array of adversarial examples\n",
    "    :probs: (N, C) array of softmax probabilities\n",
    "    \"\"\"\n",
    "    x_adv = x_adv.copy()\n",
    "    graph = tf.Graph()\n",
    "    with tf.Session(graph=graph) as sess:\n",
    "        # Load the saved network\n",
    "        tf.saved_model.loader.load(sess, [\"tag\"], logdir)\n",
    "        # Pull out tensors for the inputs\n",
    "        x = graph.get_tensor_by_name(\"x:0\")# the \":0\" indexes the operation's output tensor\n",
    "        y_ = graph.get_tensor_by_name(\"y_:0\")\n",
    "        # Pull out tensors for the logits\n",
    "        logits = graph.get_tensor_by_name(\"logits:0\")\n",
    "        # compute outputs \n",
    "        y = tf.nn.softmax(logits)\n",
    "    \n",
    "        # build a loss function\n",
    "        loss = tf.nn.softmax_cross_entropy_with_logits(logits=logits, \n",
    "                                                   labels=tf.one_hot(y_, 10))\n",
    "        # find derivative of loss with respect to x\n",
    "        dy_dx = tf.gradients(loss, x)[0]\n",
    "        \n",
    "        if targeted:\n",
    "            epsilon *= -1\n",
    "    \n",
    "        # for each iteration\n",
    "        for i in range(num_iterations):\n",
    "            # compute the derivative with respect to the loss\n",
    "            d = sess.run(dy_dx, {x:x_adv, y_:label})\n",
    "            # save the new image by shifting the old one by epsilon * sign(gradient)\n",
    "            x_adv += epsilon * np.sign(d)\n",
    "        # compute softmax outputs for the examples\n",
    "        probs = sess.run(y, {x:x_adv})\n",
    "    return x_adv, probs"
   ]
  },
  {
   "cell_type": "code",
   "execution_count": null,
   "metadata": {},
   "outputs": [],
   "source": []
  },
  {
   "cell_type": "code",
   "execution_count": 13,
   "metadata": {},
   "outputs": [
    {
     "name": "stdout",
     "output_type": "stream",
     "text": [
      "INFO:tensorflow:Restoring parameters from b'logs2/variables/variables'\n",
      "INFO:tensorflow:Restoring parameters from b'logs2/variables/variables'\n",
      "INFO:tensorflow:Restoring parameters from b'logs2/variables/variables'\n",
      "INFO:tensorflow:Restoring parameters from b'logs2/variables/variables'\n",
      "INFO:tensorflow:Restoring parameters from b'logs2/variables/variables'\n",
      "INFO:tensorflow:Restoring parameters from b'logs2/variables/variables'\n",
      "INFO:tensorflow:Restoring parameters from b'logs2/variables/variables'\n",
      "INFO:tensorflow:Restoring parameters from b'logs2/variables/variables'\n",
      "INFO:tensorflow:Restoring parameters from b'logs2/variables/variables'\n",
      "INFO:tensorflow:Restoring parameters from b'logs2/variables/variables'\n",
      "INFO:tensorflow:Restoring parameters from b'logs2/variables/variables'\n",
      "INFO:tensorflow:Restoring parameters from b'logs2/variables/variables'\n",
      "INFO:tensorflow:Restoring parameters from b'logs2/variables/variables'\n",
      "INFO:tensorflow:Restoring parameters from b'logs2/variables/variables'\n",
      "INFO:tensorflow:Restoring parameters from b'logs2/variables/variables'\n",
      "INFO:tensorflow:Restoring parameters from b'logs2/variables/variables'\n"
     ]
    }
   ],
   "source": [
    "#let's test this out\n",
    "adv_ind = 2\n",
    "example = [mnist.test.images[adv_ind,:].reshape(1,-1)]\n",
    "adv_label = mnist.test.labels[adv_ind].reshape(-1)\n",
    "target_label = np.array([4])\n",
    "\n",
    "# pick a few things to record\n",
    "correct_label_prob = [] # softmax probability on the right answer\n",
    "highest_wrong_prob = [] # largest softmax prob on a wrong answer\n",
    "l2_distance = [] # mean L2 distance between adversarial and original\n",
    "argmax = [] # assessed digit by the classifier\n",
    "\n",
    "# let's manually loop through so we can see every step\n",
    "for i in range(16):\n",
    "    ex, probs = fgsm(\"logs2/\", example[-1], adv_label)\n",
    "    #ex, probs = fgsm(\"logs2/\", example[-1], target_label, targeted=True)\n",
    "    example.append(ex)\n",
    "    correct_label_prob.append(probs[0,adv_label])\n",
    "    highest_wrong_prob.append(np.max([probs[0,j] for j in range(10) if j != adv_label]))\n",
    "    argmax.append(probs[0,:].argmax())\n",
    "    l2_distance.append(np.sqrt(np.mean((example[-1]-example[0])**2)))"
   ]
  },
  {
   "cell_type": "code",
   "execution_count": 14,
   "metadata": {},
   "outputs": [
    {
     "data": {
      "image/png": "[encoded data removed]",
      "text/plain": [
       "<matplotlib.figure.Figure at 0x1c2a712160>"
      ]
     },
     "metadata": {},
     "output_type": "display_data"
    }
   ],
   "source": [
    "figsize(7,5)\n",
    "plt.plot(correct_label_prob, label=\"correct label prob\", lw=2)\n",
    "plt.plot(highest_wrong_prob, label=\"highest wrong label prob\", lw=2)\n",
    "plt.plot(l2_distance, label=\"l2 distance from original\", lw=2)\n",
    "for i in range(len(correct_label_prob)):\n",
    "    plt.text(i, max(highest_wrong_prob[i], correct_label_prob[i]), str(argmax[i]))\n",
    "plt.legend(loc=\"upper right\")\n",
    "plt.xlabel(\"adversarial steps\", fontsize=14)\n",
    "plt.grid(\"on\");"
   ]
  },
  {
   "cell_type": "code",
   "execution_count": null,
   "metadata": {},
   "outputs": [],
   "source": []
  },
  {
   "cell_type": "code",
   "execution_count": 15,
   "metadata": {},
   "outputs": [
    {
     "data": {
      "image/png": "[encoded data removed]",
      "text/plain": [
       "<matplotlib.figure.Figure at 0x1c26f7ab00>"
      ]
     },
     "metadata": {},
     "output_type": "display_data"
    }
   ],
   "source": [
    "figsize(10,8)\n",
    "for i in range(16):\n",
    "    plt.subplot(4,4,i+1)\n",
    "    plt.imshow(example[i].reshape((28,28)))\n",
    "    plt.title(\"P(correct) = %s\"%round(correct_label_prob[i][0], 3))\n",
    "    plt.axis(\"off\");"
   ]
  },
  {
   "cell_type": "code",
   "execution_count": null,
   "metadata": {},
   "outputs": [],
   "source": []
  },
  {
   "cell_type": "code",
   "execution_count": null,
   "metadata": {},
   "outputs": [],
   "source": []
  },
  {
   "cell_type": "code",
   "execution_count": null,
   "metadata": {},
   "outputs": [],
   "source": []
  },
  {
   "cell_type": "code",
   "execution_count": null,
   "metadata": {},
   "outputs": [],
   "source": []
  },
  {
   "cell_type": "code",
   "execution_count": null,
   "metadata": {},
   "outputs": [],
   "source": []
  },
  {
   "cell_type": "code",
   "execution_count": null,
   "metadata": {},
   "outputs": [],
   "source": []
  },
  {
   "cell_type": "code",
   "execution_count": null,
   "metadata": {},
   "outputs": [],
   "source": []
  }
 ],
 "metadata": {
  "anaconda-cloud": {},
  "kernelspec": {
   "display_name": "Python 3",
   "language": "python",
   "name": "python3"
  },
  "language_info": {
   "codemirror_mode": {
    "name": "ipython",
    "version": 3
   },
   "file_extension": ".py",
   "mimetype": "text/x-python",
   "name": "python",
   "nbconvert_exporter": "python",
   "pygments_lexer": "ipython3",
   "version": "3.6.4"
  }
 },
 "nbformat": 4,
 "nbformat_minor": 2
}
