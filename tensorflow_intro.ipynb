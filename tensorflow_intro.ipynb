{
 "cells": [
  {
   "cell_type": "code",
   "execution_count": 1,
   "metadata": {
    "collapsed": true
   },
   "outputs": [],
   "source": [
    "import numpy as np\n",
    "import matplotlib.pyplot as plt\n",
    "\n",
    "import tensorflow as tf\n",
    "\n",
    "%matplotlib inline\n",
    "from IPython.core.pylabtools import figsize"
   ]
  },
  {
   "cell_type": "markdown",
   "metadata": {},
   "source": [
    "## generic tensorflow notes\n",
    "\n",
    "\n",
    "Usually, TF projects will have two phases:\n",
    "\n",
    "  1. **Construction:** define a **graph** that's essentially a recipe for the calculations we want to do.\n",
    "      * The graph represents the relationships between all of our variables. It's a *directed graph* (information only flows through in one direction) and it's *acyclic* (so the value of any variable can't depend on itself). So if we're doing $A+B=C$, the graph has two nodes $A$ and $B$ that feed into a node for the addition operation, which in turn feeds into the node for $C$.\n",
    "  2. **Evaluation:** actually run some or all of those calculations within a **session**. This step may change some of the data stored in the graph (for example, updating weights as we train a model) or feeding different information into the graph (for example, sending a data point into a trained model for inference).\n",
    "      * Why sessions? The details of how we'd do a particular computation on the graph will be different if we're running on a CPU, a multicore CPU, a GPU, or multiple GPUs. The session is where those details get managed- so the same graph from the construction step will be portable to different types of hardware.\n",
    "\n",
    "### Construction\n",
    "\n",
    "-nodes of graph are tensors (things that store data) and operations (things that do stuff to data)\n",
    "-think of tensors/ops as nouns/verbs\n",
    "-types of tensors:\n",
    "\n",
    "We'll build a graph out of two things:\n",
    "\n",
    "  1. **Tensors:** things that store data. These are n-dimensional arrays that will be (mostly) familiar if you're comfortable with `numpy`.\n",
    "  2. **Operations:** things that do something to data. Operations input zero or more tensors and output zero or more tensors.\n",
    "\n",
    "I tend to think of tensors and operations as nouns and verbs, respectively. So a tensorflow graph that adds two numbers would have two rank-0 tensors that are inputs to an addition operation, which in turn outputs a final rank-0 tensor.\n",
    "\n",
    "\n",
    "#### Types of Tensors\n",
    "\n",
    "There are a few special types of tensors that we'll use a lot:\n",
    "\n",
    "##### `tf.Variable`\n",
    "\n",
    "  * What's different: values are updateable and persist between calls to `Session.run()`\n",
    "  * Why you care: here's where the parameters in your model go (e.g. the weights that get updated by your training operation)\n",
    "\n",
    "##### `tf.Constant`\n",
    "\n",
    "  * What's different: once the Session starts this variable doesn't change\n",
    "  * Why you care: sometimes you'll have \n",
    "\n",
    "##### `tf.Placeholder`\n",
    "\n",
    "  * What's different: placeholders are \"dummy nodes\" in your graph that you don't have to fill values into until you call `Session.run()`\n",
    "  * Why you care: during training, use placeholders to send batches of data and labels to your network. During inference, use the placeholder to send data points to be classified.\n",
    "\n",
    "##### `tf.SparseTensor`\n",
    "\n",
    "  * What's different: \n",
    "\n",
    "#### Stuff to watch out for\n",
    "\n",
    "##### Tensorflow cares about data types.\n",
    "\n",
    "If you've only ever used Python, you may not be in the habit of thinking in detail about data types. Tensorflow is somewhat more persnickety to whether a variable is an integer or a float- so it's good practice to specify the `dtype` argument whenever you're adding a tensor to the graph.\n",
    "\n",
    "##### Default graph\n",
    "\n",
    "You can manually specify a graph in tensorflow, and add tensors and operations to it. But a lot of examples you'll see jut start defining tensors and ops without ever mentioning the graph- in this case, there's a \"default graph\" that's essentially a global variable. Everything you add will persist there until you manually reset with `tf.reset_default_graph()` or restart the Python kernel.\n",
    "\n",
    "##### Graph persists when Python variables go out of scope\n",
    "\n",
    "This is something I screwed up *a lot* when I started using TF. When you create a tensor, for example, by\n",
    "\n",
    "`my_tensor = tf.Tensor([0,1,2], dtype=tf.uint16, name=\"my_tensor\")`\n",
    "\n",
    "then that tensor will be part of the graph **even if the Python variable disappears** (e.g. if you delete it or it goes out of scope). The Python variable is basically just a pointer to a node on the graph.\n",
    "\n",
    "Again, I screwed this up *a lot*, so I'm going to try restating it- when you make a call to `tf.Tensor`, two things happen:\n",
    "\n",
    "    1. It adds a node to the graph.\n",
    "    2. It returns a Python variable that references that node. But the node will still be there even if the Python variable is deleted.\n",
    "\n",
    "\n",
    "### Evaluation\n",
    "\n",
    "A `Session` is an environment for running calculations on your graph. Any time you use TensorFlow to actually **do** anything you'll be working in a session- but (at least in my limited experience) you probably won't spend much time customizing or configuring your session.\n",
    "\n",
    "You'll generally call something like\n",
    "\n",
    "```\n",
    "sess = tf.Session()\n",
    "tensor_val = sess.run(my_tensor)\n",
    "sess.close()\n",
    "```\n",
    "\n",
    " * The first line creates a session and loads the default graph into it. If you're monitoring your GPU, you'll see TensorFlow grab a huge block of memory here.\n",
    " * The second line tells the session to evaluate one of the nodes in the graph and return the answer as a Python variable\n",
    " * The third line ends the session and releases its memory. You'll still have the information in the Python variable `tensor_val`.\n",
    "\n",
    "Equivalently you can run sessions as a code block, which is makes your code look fancy:\n",
    "\n",
    "```\n",
    "with tf.Session() as sess:\n",
    "    tensor_val = sess.run(my_tensor)\n",
    "```\n",
    "\n",
    "Outside of looking fancier, this will automagically end your session when the computation is done. This is a nice habit to be in if you (1) like running in Jupyter notebooks and (2) are sharing GPU resources. If you leave an inactive session open all week on a shared GPU, and somebody burns your house down, none of us will feel bad for you."
   ]
  },
  {
   "cell_type": "code",
   "execution_count": null,
   "metadata": {
    "collapsed": true
   },
   "outputs": [],
   "source": []
  },
  {
   "cell_type": "code",
   "execution_count": null,
   "metadata": {
    "collapsed": true
   },
   "outputs": [],
   "source": []
  },
  {
   "cell_type": "markdown",
   "metadata": {
    "collapsed": true
   },
   "source": [
    "## Simple example: adding two numbers"
   ]
  },
  {
   "cell_type": "code",
   "execution_count": 2,
   "metadata": {},
   "outputs": [
    {
     "name": "stdout",
     "output_type": "stream",
     "text": [
      "7\n"
     ]
    }
   ],
   "source": [
    "# ---- CONSTRUCTION ---- #\n",
    "\n",
    "A = tf.constant(3, dtype=tf.int32, name=\"A\")\n",
    "B = tf.constant(4, dtype=tf.int32, name=\"B\")\n",
    "C = tf.add(A,B, name=\"C\")\n",
    "\n",
    "# ---- EVALUATION ---- #\n",
    "with tf.Session() as sess:\n",
    "    C_eval = sess.run(C)\n",
    "    \n",
    "print(C_eval)"
   ]
  },
  {
   "cell_type": "markdown",
   "metadata": {},
   "source": [
    "### Take a look at the graph"
   ]
  },
  {
   "cell_type": "code",
   "execution_count": 3,
   "metadata": {
    "collapsed": true
   },
   "outputs": [],
   "source": [
    "g = tf.get_default_graph()"
   ]
  },
  {
   "cell_type": "code",
   "execution_count": 4,
   "metadata": {},
   "outputs": [
    {
     "data": {
      "text/plain": [
       "tensorflow.python.framework.ops.Graph"
      ]
     },
     "execution_count": 4,
     "metadata": {},
     "output_type": "execute_result"
    }
   ],
   "source": [
    "type(g)"
   ]
  },
  {
   "cell_type": "code",
   "execution_count": 5,
   "metadata": {},
   "outputs": [
    {
     "data": {
      "text/plain": [
       "[<tf.Operation 'A' type=Const>,\n",
       " <tf.Operation 'B' type=Const>,\n",
       " <tf.Operation 'C' type=Add>]"
      ]
     },
     "execution_count": 5,
     "metadata": {},
     "output_type": "execute_result"
    }
   ],
   "source": [
    "g.get_operations()"
   ]
  },
  {
   "cell_type": "markdown",
   "metadata": {},
   "source": [
    "Note that we don't *have* to add a `name` attribute to our variables or operations. But it'll help a lot later if we have a huge graph and we want to find something (e.g. get a pointer to a specific node on the graph):"
   ]
  },
  {
   "cell_type": "code",
   "execution_count": 6,
   "metadata": {},
   "outputs": [
    {
     "data": {
      "text/plain": [
       "<tf.Operation 'C' type=Add>"
      ]
     },
     "execution_count": 6,
     "metadata": {},
     "output_type": "execute_result"
    }
   ],
   "source": [
    "g.get_operation_by_name(\"C\")"
   ]
  },
  {
   "cell_type": "code",
   "execution_count": null,
   "metadata": {
    "collapsed": true
   },
   "outputs": [],
   "source": []
  },
  {
   "cell_type": "code",
   "execution_count": null,
   "metadata": {
    "collapsed": true
   },
   "outputs": [],
   "source": []
  },
  {
   "cell_type": "markdown",
   "metadata": {},
   "source": [
    "Let's flush the default graph so we can do another example"
   ]
  },
  {
   "cell_type": "code",
   "execution_count": 7,
   "metadata": {
    "collapsed": true
   },
   "outputs": [],
   "source": [
    "tf.reset_default_graph()"
   ]
  },
  {
   "cell_type": "code",
   "execution_count": null,
   "metadata": {
    "collapsed": true
   },
   "outputs": [],
   "source": []
  },
  {
   "cell_type": "markdown",
   "metadata": {},
   "source": [
    "## Example: incrementing a Variable\n",
    "\n",
    "When we're training a neural network, at every training step we'll be updating millions of variables. Let's do it with one."
   ]
  },
  {
   "cell_type": "code",
   "execution_count": 8,
   "metadata": {
    "collapsed": true
   },
   "outputs": [],
   "source": [
    "# ---- CONSTRUCTION ---- #\n",
    "\n",
    "# here's the counter variable we'll increment- it's a rank-1 tensor of 3 counters\n",
    "counter = tf.Variable(initial_value=[0,0,0], dtype=tf.float32, name=\"counter\")\n",
    "# use tf.random_poisson to build a generator that'll pop out random integers\n",
    "gen = tf.random_poisson(lam=2., shape=[3], dtype=tf.float32, name=\"generator\")\n",
    "\n",
    "# add an operation for adding the current value of the counter to the random numbers\n",
    "new_value = tf.add(counter, gen, name=\"addition\")\n",
    "# now update the value of the variable\n",
    "update_op = tf.assign(counter, new_value, name=\"update\")  \n",
    "# note- there's a \"tf.assign_add\" that can combine these two lines\n",
    "\n",
    "# finally, because we're using a variable, we need an operation to \n",
    "# initialize it\n",
    "init_op = tf.variables_initializer([counter])"
   ]
  },
  {
   "cell_type": "code",
   "execution_count": 9,
   "metadata": {},
   "outputs": [
    {
     "name": "stdout",
     "output_type": "stream",
     "text": [
      "counter initialized to: [ 0.  0.  0.]\n",
      "0 [ 2.  2.  6.]\n",
      "1 [ 2.  3.  9.]\n",
      "2 [  6.   5.  10.]\n",
      "3 [  8.   5.  15.]\n",
      "4 [ 11.   7.  22.]\n",
      "5 [ 16.  11.  24.]\n",
      "6 [ 18.  13.  26.]\n",
      "7 [ 20.  13.  28.]\n",
      "8 [ 23.  14.  30.]\n",
      "9 [ 25.  16.  31.]\n",
      "10 [ 28.  19.  33.]\n",
      "11 [ 28.  24.  35.]\n",
      "12 [ 34.  25.  36.]\n",
      "13 [ 34.  27.  38.]\n",
      "14 [ 37.  32.  39.]\n",
      "15 [ 38.  33.  40.]\n",
      "16 [ 38.  36.  43.]\n",
      "17 [ 40.  37.  44.]\n",
      "18 [ 41.  38.  46.]\n",
      "19 [ 44.  41.  47.]\n"
     ]
    }
   ],
   "source": [
    "# ---- EVALUATION ---- #\n",
    "\n",
    "# start a session\n",
    "with tf.Session() as sess:\n",
    "    # initialize our counter\n",
    "    sess.run(init_op)\n",
    "    print(\"counter initialized to: %s\"%sess.run(counter))\n",
    "    # now let's loop through and increment a bunch of times,\n",
    "    # printing the counter each time\n",
    "    for i in range(20):\n",
    "        sess.run(update_op)\n",
    "        print(i, sess.run(counter))"
   ]
  },
  {
   "cell_type": "code",
   "execution_count": 10,
   "metadata": {
    "collapsed": true
   },
   "outputs": [],
   "source": [
    "tf.reset_default_graph()"
   ]
  },
  {
   "cell_type": "code",
   "execution_count": null,
   "metadata": {
    "collapsed": true
   },
   "outputs": [],
   "source": []
  },
  {
   "cell_type": "markdown",
   "metadata": {},
   "source": [
    "## Example: feed dictionaries\n",
    "\n",
    "If we have more data than we can fit into memory, then training models will require feeding it in batches. Here's a simple example using a placeholder- we'll build a simple graph that look for an input, and returns $2^{input}$.\n",
    "\n",
    "We pass the input information to `sess.run()` as a dictionary where every key is a placeholder, and every corresponding value is the value we want it to use for that placeholder.\n",
    "\n",
    "Note that when we're using a GPU, there's a cost to sending information back and forth- so you only want to use placeholders for things that *have* to be placeholders."
   ]
  },
  {
   "cell_type": "code",
   "execution_count": 11,
   "metadata": {
    "collapsed": true
   },
   "outputs": [],
   "source": [
    "# ---- CONSTRUCTION ---- #\n",
    "inpt = tf.placeholder(dtype=tf.float32, shape=(1,), name=\"input\")\n",
    "base = tf.constant(2, dtype=tf.float32, name=\"base\")\n",
    "power = tf.pow(base, inpt, name=\"power\")"
   ]
  },
  {
   "cell_type": "code",
   "execution_count": 12,
   "metadata": {},
   "outputs": [
    {
     "name": "stdout",
     "output_type": "stream",
     "text": [
      "2 to the 0 is 1.0\n",
      "2 to the 1 is 2.0\n",
      "2 to the 2 is 4.0\n",
      "2 to the 3 is 8.0\n",
      "2 to the 4 is 16.0\n",
      "2 to the 5 is 32.0\n"
     ]
    }
   ],
   "source": [
    "# ---- EVALUATION ---- #\n",
    "\n",
    "# let's pick some numbers to try\n",
    "use_these_powers = [0, 1, 2, 3, 4, 5]\n",
    "\n",
    "\n",
    "# start session\n",
    "with tf.Session() as sess:\n",
    "    # for each power\n",
    "    for p in use_these_powers:\n",
    "        # set up a feed dictionary to tell the session what value to use for inpt\n",
    "        fd = {inpt:[p]}\n",
    "        output = sess.run(power, feed_dict=fd)\n",
    "        print(\"2 to the %s is %s\"%(p, output[0]))"
   ]
  },
  {
   "cell_type": "code",
   "execution_count": 31,
   "metadata": {
    "collapsed": true
   },
   "outputs": [],
   "source": [
    "tf.reset_default_graph()"
   ]
  },
  {
   "cell_type": "code",
   "execution_count": null,
   "metadata": {
    "collapsed": true
   },
   "outputs": [],
   "source": []
  },
  {
   "cell_type": "code",
   "execution_count": null,
   "metadata": {
    "collapsed": true
   },
   "outputs": [],
   "source": []
  },
  {
   "cell_type": "markdown",
   "metadata": {},
   "source": [
    "## Example: linear regression\n",
    "\n",
    "Let's code something a bit more complicated- a linear regression on some data.\n",
    "\n",
    "Instead of using the closed-form solutions, however, we're going to divide the data into batches and use gradient descent. It's complete overkill for linear regression, but has all the components we need to train a more complex model."
   ]
  },
  {
   "cell_type": "code",
   "execution_count": 14,
   "metadata": {
    "collapsed": true
   },
   "outputs": [],
   "source": [
    "# first some fake data\n",
    "true_slope, true_intercept = 2.5, 0.25  # the \"hidden\" parameters we want to estimate with regression\n",
    "\n",
    "N = 1000\n",
    "x = np.random.uniform(0, 10, N)\n",
    "noise = np.random.normal(0, 1, N)\n",
    "y = true_slope*x + true_intercept + noise"
   ]
  },
  {
   "cell_type": "code",
   "execution_count": 16,
   "metadata": {},
   "outputs": [
    {
     "data": {
      "image/png": "[encoded data removed]",
      "text/plain": [
       "<matplotlib.figure.Figure at 0x7efd204167f0>"
      ]
     },
     "metadata": {},
     "output_type": "display_data"
    }
   ],
   "source": [
    "plt.plot(x, y, \".\", alpha=0.5)\n",
    "plt.title(\"the data\", fontsize=14);"
   ]
  },
  {
   "cell_type": "code",
   "execution_count": 19,
   "metadata": {
    "collapsed": true
   },
   "outputs": [],
   "source": [
    "# let's divide the data into 10 batches\n",
    "batchsize = 100\n",
    "x_batches = [x[i:i+batchsize] for i in range(0, N, batchsize)]\n",
    "y_batches = [y[i:i+batchsize] for i in range(0, N, batchsize)]"
   ]
  },
  {
   "cell_type": "code",
   "execution_count": null,
   "metadata": {},
   "outputs": [],
   "source": []
  },
  {
   "cell_type": "code",
   "execution_count": 93,
   "metadata": {},
   "outputs": [],
   "source": [
    "# ---- CONSTRUCTION ---- #\n",
    "\n",
    "# first, placeholders to input data and labels to the graph\n",
    "x_ph = tf.placeholder(tf.float32, shape=[batchsize,], name=\"x_ph\")\n",
    "y_ph = tf.placeholder(tf.float32, shape=[batchsize,], name=\"y_ph\")\n",
    "\n",
    "# now variables to hold slope and intercept\n",
    "slope = tf.Variable(initial_value=0, dtype=tf.float32, name=\"slope\")\n",
    "intercept = tf.Variable(initial_value=0, dtype=tf.float32, name=\"intercept\")\n",
    "init_op = tf.variables_initializer([slope, intercept])\n",
    "\n",
    "# build the loss function- for OLS regression, we want to minimize\n",
    "# the sum of the squared difference between predictions and true\n",
    "# values\n",
    "predictions = slope*x_ph + intercept\n",
    "squared_error = (predictions - y_ph)**2\n",
    "# note that the arithmetic operations above (which are equivalent to tf.add, \n",
    "# etc) do elementwise calculations (like numpy). If we want to sum up all\n",
    "# the values in a tensor, use tf.reduce_sum\n",
    "RSS = tf.reduce_sum(squared_error, name=\"RSS\")\n",
    "\n",
    "# since we're going to use gradient descent, we need a learning rate. let's\n",
    "# set a placeholder with a default (so we have the option to specify the \n",
    "# LR but we don't have to)\n",
    "default_lr = tf.constant(0.00001)\n",
    "learnrate = tf.placeholder_with_default(default_lr, shape=(), name=\"learnrate\")\n",
    "\n",
    "# pass the learning rate to an optimizer.\n",
    "optimizer = tf.train.GradientDescentOptimizer(learnrate)\n",
    "# the optimizer's minimize() method returns an operation we can run to\n",
    "# minimize the loss function\n",
    "training_op = optimizer.minimize(RSS)"
   ]
  },
  {
   "cell_type": "markdown",
   "metadata": {},
   "source": [
    "If we're building a graph, we can use `get_shape()` to double-check and make sure everything looks right"
   ]
  },
  {
   "cell_type": "code",
   "execution_count": 102,
   "metadata": {},
   "outputs": [
    {
     "data": {
      "text/plain": [
       "TensorShape([Dimension(100)])"
      ]
     },
     "execution_count": 102,
     "metadata": {},
     "output_type": "execute_result"
    }
   ],
   "source": [
    "squared_error.get_shape()"
   ]
  },
  {
   "cell_type": "code",
   "execution_count": 103,
   "metadata": {},
   "outputs": [
    {
     "data": {
      "text/plain": [
       "TensorShape([])"
      ]
     },
     "execution_count": 103,
     "metadata": {},
     "output_type": "execute_result"
    }
   ],
   "source": [
    "RSS.get_shape()"
   ]
  },
  {
   "cell_type": "code",
   "execution_count": 94,
   "metadata": {
    "scrolled": false
   },
   "outputs": [
    {
     "name": "stdout",
     "output_type": "stream",
     "text": [
      "0\n",
      "1\n",
      "2\n",
      "3\n",
      "4\n",
      "5\n",
      "6\n",
      "7\n",
      "8\n",
      "9\n"
     ]
    }
   ],
   "source": [
    "# ---- EVALUATION ---- #\n",
    "num_steps = 10  # number of training steps\n",
    "\n",
    "# let's record the values of our parameters and the loss at every \n",
    "# step. for posterity.\n",
    "rss_vals = []\n",
    "slope_vals = []\n",
    "intercept_vals = []\n",
    "\n",
    "with tf.Session() as sess:\n",
    "    # initialize variables\n",
    "    sess.run(init_op)\n",
    "    # for each training step\n",
    "    for e in range(num_steps):\n",
    "        print(e)\n",
    "        # for each batch-\n",
    "        for x_batch, y_batch in zip(x_batches, y_batches):\n",
    "            fd={x_ph:x_batch, y_ph:y_batch}\n",
    "            # run the optimizer, and evaluate parameters so we \n",
    "            #can record them\n",
    "            _, r, s, i = sess.run([training_op, RSS, slope, intercept], feed_dict=fd)\n",
    "            rss_vals.append(r)\n",
    "            slope_vals.append(s)\n",
    "            intercept_vals.append(i)"
   ]
  },
  {
   "cell_type": "markdown",
   "metadata": {},
   "source": [
    "Let's take a look at the loss function during training:"
   ]
  },
  {
   "cell_type": "code",
   "execution_count": 97,
   "metadata": {},
   "outputs": [
    {
     "data": {
      "image/png": "[encoded data removed]",
      "text/plain": [
       "<matplotlib.figure.Figure at 0x7efd18a71278>"
      ]
     },
     "metadata": {},
     "output_type": "display_data"
    }
   ],
   "source": [
    "plt.plot(rss_vals, \"o-\")\n",
    "plt.yscale(\"log\")\n",
    "plt.grid(\"on\")\n",
    "plt.xlabel(\"training step\", fontsize=14)\n",
    "plt.ylabel(\"RSS\", fontsize=14);"
   ]
  },
  {
   "cell_type": "markdown",
   "metadata": {},
   "source": [
    "And how the predictions update during training:"
   ]
  },
  {
   "cell_type": "code",
   "execution_count": 101,
   "metadata": {},
   "outputs": [
    {
     "data": {
      "image/png": "[encoded data removed]",
      "text/plain": [
       "<matplotlib.figure.Figure at 0x7efd181bdf28>"
      ]
     },
     "metadata": {},
     "output_type": "display_data"
    }
   ],
   "source": [
    "plt.plot(x, y, \".\", alpha=0.25)\n",
    "xvals = np.array([0,10])\n",
    "for s, i in zip(slope_vals, intercept_vals):\n",
    "    plt.plot(xvals, s*xvals+i, \"r\", alpha=0.2)"
   ]
  },
  {
   "cell_type": "code",
   "execution_count": null,
   "metadata": {
    "collapsed": true
   },
   "outputs": [],
   "source": []
  },
  {
   "cell_type": "code",
   "execution_count": null,
   "metadata": {
    "collapsed": true
   },
   "outputs": [],
   "source": []
  },
  {
   "cell_type": "code",
   "execution_count": null,
   "metadata": {
    "collapsed": true
   },
   "outputs": [],
   "source": []
  },
  {
   "cell_type": "code",
   "execution_count": null,
   "metadata": {
    "collapsed": true
   },
   "outputs": [],
   "source": []
  },
  {
   "cell_type": "code",
   "execution_count": null,
   "metadata": {
    "collapsed": true
   },
   "outputs": [],
   "source": []
  },
  {
   "cell_type": "code",
   "execution_count": null,
   "metadata": {
    "collapsed": true
   },
   "outputs": [],
   "source": []
  }
 ],
 "metadata": {
  "anaconda-cloud": {},
  "kernelspec": {
   "display_name": "Python [conda env:py35]",
   "language": "python",
   "name": "conda-env-py35-py"
  },
  "language_info": {
   "codemirror_mode": {
    "name": "ipython",
    "version": 3
   },
   "file_extension": ".py",
   "mimetype": "text/x-python",
   "name": "python",
   "nbconvert_exporter": "python",
   "pygments_lexer": "ipython3",
   "version": "3.5.2"
  }
 },
 "nbformat": 4,
 "nbformat_minor": 1
}
