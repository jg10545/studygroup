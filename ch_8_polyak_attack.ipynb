{
 "cells": [
  {
   "cell_type": "markdown",
   "metadata": {},
   "source": [
    "# Polyak averaging\n",
    "\n",
    "Let's try this out. My method for implementing this in TensorFlow started from a blog post here: http://ruishu.io/2017/11/22/ema/ but is updated to work with newer TF versions."
   ]
  },
  {
   "cell_type": "code",
   "execution_count": 1,
   "metadata": {
    "collapsed": true
   },
   "outputs": [
    {
     "name": "stderr",
     "output_type": "stream",
     "text": [
      "/anaconda3/lib/python3.6/site-packages/h5py/__init__.py:36: FutureWarning: Conversion of the second argument of issubdtype from `float` to `np.floating` is deprecated. In future, it will be treated as `np.float64 == np.dtype(float).type`.\n",
      "  from ._conv import register_converters as _register_converters\n"
     ]
    }
   ],
   "source": [
    "import numpy as np\n",
    "import matplotlib.pyplot as plt\n",
    "import tensorflow as tf\n",
    "from tqdm import tqdm\n",
    "\n",
    "import sklearn.decomposition\n",
    "\n",
    "%matplotlib inline\n",
    "from IPython.core.pylabtools import figsize"
   ]
  },
  {
   "cell_type": "code",
   "execution_count": 2,
   "metadata": {},
   "outputs": [
    {
     "data": {
      "text/plain": [
       "'1.5.0'"
      ]
     },
     "execution_count": 2,
     "metadata": {},
     "output_type": "execute_result"
    }
   ],
   "source": [
    "tf.__version__"
   ]
  },
  {
   "cell_type": "markdown",
   "metadata": {},
   "source": [
    "## Load the dataset\n",
    "\n",
    "Let's get MNISTy."
   ]
  },
  {
   "cell_type": "code",
   "execution_count": 3,
   "metadata": {
    "collapsed": true
   },
   "outputs": [],
   "source": [
    "from tensorflow.examples.tutorials.mnist import input_data"
   ]
  },
  {
   "cell_type": "markdown",
   "metadata": {},
   "source": [
    "Edit the `\"data/\"` to wherever you hid the files."
   ]
  },
  {
   "cell_type": "code",
   "execution_count": 4,
   "metadata": {},
   "outputs": [
    {
     "name": "stdout",
     "output_type": "stream",
     "text": [
      "Extracting data/train-images-idx3-ubyte.gz\n",
      "Extracting data/train-labels-idx1-ubyte.gz\n",
      "Extracting data/t10k-images-idx3-ubyte.gz\n",
      "Extracting data/t10k-labels-idx1-ubyte.gz\n"
     ]
    }
   ],
   "source": [
    "mnist = input_data.read_data_sets(\"data/\")"
   ]
  },
  {
   "cell_type": "code",
   "execution_count": 5,
   "metadata": {},
   "outputs": [],
   "source": [
    "N = 250\n",
    "train_images = mnist.train.images[:N,:]\n",
    "train_labels = mnist.train.labels[:N]\n",
    "\n",
    "# split into batches\n",
    "train_image_batches = np.array_split(train_images, 50)\n",
    "train_label_batches = np.array_split(train_labels, 50)"
   ]
  },
  {
   "cell_type": "code",
   "execution_count": null,
   "metadata": {},
   "outputs": [],
   "source": []
  },
  {
   "cell_type": "code",
   "execution_count": 6,
   "metadata": {},
   "outputs": [],
   "source": [
    "tf.reset_default_graph()"
   ]
  },
  {
   "cell_type": "markdown",
   "metadata": {},
   "source": [
    "## Build a model function\n",
    "\n",
    "I want to make a note here because this is a design pattern we're going to run into more often in the future. A lot of higher-level TensorFlow interfaces (like `tf.estimator`) make use of a `model_fn` that adds all of the model variables to the graph.\n",
    "\n",
    "By tossing all this in a function we make it really easy to rebuild the graph different ways."
   ]
  },
  {
   "cell_type": "code",
   "execution_count": 7,
   "metadata": {},
   "outputs": [],
   "source": [
    "def model_fn(x, getter=None, reuse=False):\n",
    "    # variable scopes give some control over how TF initializes\n",
    "    # variables. in this case it'll help us reuse model variables.\n",
    "    with tf.variable_scope(\"model\", custom_getter=getter, reuse=reuse):\n",
    "        net = tf.identity(x)\n",
    "        for _ in range(10):\n",
    "            net = tf.layers.dense(net, 16, activation=tf.nn.relu)\n",
    "        return tf.layers.dense(net, 10)"
   ]
  },
  {
   "cell_type": "markdown",
   "metadata": {},
   "source": [
    "## Build the model\n",
    "\n",
    "Call `model_fn` to actually build the graph:"
   ]
  },
  {
   "cell_type": "code",
   "execution_count": 9,
   "metadata": {},
   "outputs": [
    {
     "data": {
      "text/plain": [
       "[<tf.Variable 'model/dense/kernel:0' shape=(784, 16) dtype=float32_ref>,\n",
       " <tf.Variable 'model/dense/bias:0' shape=(16,) dtype=float32_ref>,\n",
       " <tf.Variable 'model/dense_1/kernel:0' shape=(16, 16) dtype=float32_ref>,\n",
       " <tf.Variable 'model/dense_1/bias:0' shape=(16,) dtype=float32_ref>,\n",
       " <tf.Variable 'model/dense_2/kernel:0' shape=(16, 16) dtype=float32_ref>,\n",
       " <tf.Variable 'model/dense_2/bias:0' shape=(16,) dtype=float32_ref>,\n",
       " <tf.Variable 'model/dense_3/kernel:0' shape=(16, 16) dtype=float32_ref>,\n",
       " <tf.Variable 'model/dense_3/bias:0' shape=(16,) dtype=float32_ref>,\n",
       " <tf.Variable 'model/dense_4/kernel:0' shape=(16, 16) dtype=float32_ref>,\n",
       " <tf.Variable 'model/dense_4/bias:0' shape=(16,) dtype=float32_ref>,\n",
       " <tf.Variable 'model/dense_5/kernel:0' shape=(16, 16) dtype=float32_ref>,\n",
       " <tf.Variable 'model/dense_5/bias:0' shape=(16,) dtype=float32_ref>,\n",
       " <tf.Variable 'model/dense_6/kernel:0' shape=(16, 16) dtype=float32_ref>,\n",
       " <tf.Variable 'model/dense_6/bias:0' shape=(16,) dtype=float32_ref>,\n",
       " <tf.Variable 'model/dense_7/kernel:0' shape=(16, 16) dtype=float32_ref>,\n",
       " <tf.Variable 'model/dense_7/bias:0' shape=(16,) dtype=float32_ref>,\n",
       " <tf.Variable 'model/dense_8/kernel:0' shape=(16, 16) dtype=float32_ref>,\n",
       " <tf.Variable 'model/dense_8/bias:0' shape=(16,) dtype=float32_ref>,\n",
       " <tf.Variable 'model/dense_9/kernel:0' shape=(16, 16) dtype=float32_ref>,\n",
       " <tf.Variable 'model/dense_9/bias:0' shape=(16,) dtype=float32_ref>,\n",
       " <tf.Variable 'model/dense_10/kernel:0' shape=(16, 10) dtype=float32_ref>,\n",
       " <tf.Variable 'model/dense_10/bias:0' shape=(10,) dtype=float32_ref>]"
      ]
     },
     "execution_count": 9,
     "metadata": {},
     "output_type": "execute_result"
    }
   ],
   "source": [
    "x = tf.placeholder(tf.float32, [None, 784])\n",
    "\n",
    "logits = model_fn(x)"
   ]
  },
  {
   "cell_type": "markdown",
   "metadata": {},
   "source": [
    "Let's also get a list of all the trainable variables so far. We'll need this to tell gradient descent to optimize the variables in this model, but not the variables in our exponential-weighted model."
   ]
  },
  {
   "cell_type": "code",
   "execution_count": null,
   "metadata": {},
   "outputs": [],
   "source": [
    "train_vars = tf.get_collection(tf.GraphKeys.TRAINABLE_VARIABLES)\n",
    "train_vars"
   ]
  },
  {
   "cell_type": "markdown",
   "metadata": {},
   "source": [
    "## Build the moving average\n",
    "\n",
    "TensorFlow has a built-in object for computing rolling averages (think about how algorithms like `RMSProp` and `ADAM` work; this is a necessary component for them). We'll create an operation that updates an exponentially-smoothed average of all the trainable variables in our model:"
   ]
  },
  {
   "cell_type": "code",
   "execution_count": 10,
   "metadata": {},
   "outputs": [],
   "source": [
    "ema = tf.train.ExponentialMovingAverage(decay=0.995)\n",
    "ema_op = ema.apply(train_vars)"
   ]
  },
  {
   "cell_type": "code",
   "execution_count": 11,
   "metadata": {},
   "outputs": [
    {
     "data": {
      "text/plain": [
       "<tf.Operation 'ExponentialMovingAverage' type=NoOp>"
      ]
     },
     "execution_count": 11,
     "metadata": {},
     "output_type": "execute_result"
    }
   ],
   "source": [
    "ema_op"
   ]
  },
  {
   "cell_type": "markdown",
   "metadata": {},
   "source": [
    "Here's the part I really wouldn't have come up with on my own. We'll write a \"getter\" function that adds an extra step when we create a variable- if the variable name is in our `ExponentialMovingAverage` object, it will return the smoothed version; otherwise it returns the original (creating it if necessary):"
   ]
  },
  {
   "cell_type": "code",
   "execution_count": 12,
   "metadata": {},
   "outputs": [],
   "source": [
    "def ema_getter(getter, name, *args, **kwargs):\n",
    "    \"\"\"\n",
    "    Modified \"get\" function. Basically return\n",
    "    the smoothed version of the variable if it's in our\n",
    "    smoother; otherwise return the original variable\n",
    "    \"\"\"\n",
    "    var = getter(name, *args, **kwargs)\n",
    "    ema_var = ema.average(var)\n",
    "    return ema_var if ema_var else var"
   ]
  },
  {
   "cell_type": "markdown",
   "metadata": {},
   "source": [
    "Now run `model_fn` again, this time with the custom `getter` function- so as it fills out an an identical neural network to the first one we built, it will replace the weights in each layer with exponentially-smoothed versions:"
   ]
  },
  {
   "cell_type": "code",
   "execution_count": 13,
   "metadata": {},
   "outputs": [],
   "source": [
    "logits_ema = model_fn(x, getter=ema_getter, reuse=True)"
   ]
  },
  {
   "cell_type": "code",
   "execution_count": null,
   "metadata": {},
   "outputs": [],
   "source": []
  },
  {
   "cell_type": "markdown",
   "metadata": {},
   "source": [
    "Now build out all the training components- note we're only training the original model (look at `optimizer.minimize`), but want to do predictions (so we can compute accuracy) on the smoothed version as well:"
   ]
  },
  {
   "cell_type": "code",
   "execution_count": 14,
   "metadata": {},
   "outputs": [
    {
     "name": "stdout",
     "output_type": "stream",
     "text": [
      "WARNING:tensorflow:From /anaconda3/lib/python3.6/site-packages/tensorflow/python/ops/losses/losses_impl.py:691: softmax_cross_entropy_with_logits (from tensorflow.python.ops.nn_ops) is deprecated and will be removed in a future version.\n",
      "Instructions for updating:\n",
      "\n",
      "Future major versions of TensorFlow will allow gradients to flow\n",
      "into the labels input on backprop by default.\n",
      "\n",
      "See tf.nn.softmax_cross_entropy_with_logits_v2.\n",
      "\n"
     ]
    }
   ],
   "source": [
    "y = tf.placeholder(tf.int32, [None,])\n",
    "y_oh = tf.one_hot(y, 10)\n",
    "\n",
    "loss = tf.losses.softmax_cross_entropy(y_oh, logits)\n",
    "optimizer = tf.train.MomentumOptimizer(1e-3, 0.9)\n",
    "train_op = optimizer.minimize(loss, var_list=train_vars)\n",
    "\n",
    "predictions = tf.argmax(logits, 1, output_type=tf.int32)\n",
    "predictions_ema = tf.argmax(logits_ema, 1, output_type=tf.int32)\n",
    "\n",
    "accuracy = tf.reduce_mean(tf.cast(tf.equal(y, predictions), tf.float32))\n",
    "accuracy_ema = tf.reduce_mean(tf.cast(tf.equal(y, predictions_ema), tf.float32))"
   ]
  },
  {
   "cell_type": "markdown",
   "metadata": {},
   "source": [
    "## Training loop\n",
    "\n",
    "Here's pseudocode for what we're doing:\n",
    "\n",
    "1. Start a TensorFlow session\n",
    "2. Initialize all the variables\n",
    "3. For each epoch:\n",
    "  * For each training batch:\n",
    "    * update the model weights with `train_op`\n",
    "    * update the moving average with `ema_op`\n",
    "  * Compute test accuracies with the model and moving-average model"
   ]
  },
  {
   "cell_type": "code",
   "execution_count": 15,
   "metadata": {},
   "outputs": [
    {
     "name": "stderr",
     "output_type": "stream",
     "text": [
      "100%|██████████| 150/150 [00:16<00:00,  9.12it/s]\n"
     ]
    }
   ],
   "source": [
    "acc = []\n",
    "acc_ema = []\n",
    "\n",
    "with tf.Session() as sess:\n",
    "    sess.run(tf.global_variables_initializer())\n",
    "    for e in tqdm(range(150)):\n",
    "        for im, lab in zip(train_image_batches, train_label_batches):\n",
    "            _ = sess.run([train_op,ema_op], feed_dict={x:im, y:lab})\n",
    "            \n",
    "        fd = {x:mnist.test.images, y:mnist.test.labels}\n",
    "        acc.append(sess.run(accuracy, feed_dict=fd))\n",
    "        acc_ema.append(sess.run(accuracy_ema, feed_dict=fd))"
   ]
  },
  {
   "cell_type": "code",
   "execution_count": null,
   "metadata": {},
   "outputs": [],
   "source": []
  },
  {
   "cell_type": "code",
   "execution_count": 17,
   "metadata": {},
   "outputs": [
    {
     "data": {
      "image/png": "[encoded data removed]",
      "text/plain": [
       "<matplotlib.figure.Figure at 0x1c2c6685c0>"
      ]
     },
     "metadata": {},
     "output_type": "display_data"
    }
   ],
   "source": [
    "figsize(10, 7)\n",
    "plt.plot(acc, lw=2, label=\"vanilla model\")\n",
    "plt.plot(acc_ema, \"--\", lw=2, label=\"Polyak-smoothed weights\")\n",
    "plt.xlabel(\"epoch\", fontsize=14)\n",
    "plt.ylabel(\"test accuracy\", fontsize=14)\n",
    "plt.legend(loc=\"upper left\");"
   ]
  },
  {
   "cell_type": "code",
   "execution_count": null,
   "metadata": {},
   "outputs": [],
   "source": []
  },
  {
   "cell_type": "code",
   "execution_count": null,
   "metadata": {},
   "outputs": [],
   "source": []
  },
  {
   "cell_type": "code",
   "execution_count": null,
   "metadata": {},
   "outputs": [],
   "source": []
  },
  {
   "cell_type": "code",
   "execution_count": null,
   "metadata": {
    "collapsed": true
   },
   "outputs": [],
   "source": []
  },
  {
   "cell_type": "code",
   "execution_count": null,
   "metadata": {},
   "outputs": [],
   "source": []
  },
  {
   "cell_type": "code",
   "execution_count": null,
   "metadata": {},
   "outputs": [],
   "source": []
  },
  {
   "cell_type": "code",
   "execution_count": null,
   "metadata": {},
   "outputs": [],
   "source": []
  }
 ],
 "metadata": {
  "anaconda-cloud": {},
  "kernelspec": {
   "display_name": "Python 3",
   "language": "python",
   "name": "python3"
  },
  "language_info": {
   "codemirror_mode": {
    "name": "ipython",
    "version": 3
   },
   "file_extension": ".py",
   "mimetype": "text/x-python",
   "name": "python",
   "nbconvert_exporter": "python",
   "pygments_lexer": "ipython3",
   "version": "3.6.4"
  }
 },
 "nbformat": 4,
 "nbformat_minor": 2
}
