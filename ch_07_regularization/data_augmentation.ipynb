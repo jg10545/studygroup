{
 "cells": [
  {
   "cell_type": "markdown",
   "metadata": {},
   "source": [
    "# Data Augmentation\n",
    "MNIST is a dataset of grayscale images of handwritten digits, released by the National Institute of Standards and Technology.\n",
    "\n",
    "I'll give you the code to build a softmax regression model, but feel free to throw something more interesting in there."
   ]
  },
  {
   "cell_type": "code",
   "execution_count": 1,
   "metadata": {
    "collapsed": true
   },
   "outputs": [
    {
     "name": "stderr",
     "output_type": "stream",
     "text": [
      "/anaconda3/lib/python3.6/site-packages/h5py/__init__.py:36: FutureWarning: Conversion of the second argument of issubdtype from `float` to `np.floating` is deprecated. In future, it will be treated as `np.float64 == np.dtype(float).type`.\n",
      "  from ._conv import register_converters as _register_converters\n"
     ]
    }
   ],
   "source": [
    "import numpy as np\n",
    "import matplotlib.pyplot as plt\n",
    "import tensorflow as tf\n",
    "from tqdm import tqdm\n",
    "\n",
    "import sklearn.decomposition\n",
    "\n",
    "%matplotlib inline\n",
    "from IPython.core.pylabtools import figsize"
   ]
  },
  {
   "cell_type": "code",
   "execution_count": 2,
   "metadata": {},
   "outputs": [
    {
     "data": {
      "text/plain": [
       "'1.5.0'"
      ]
     },
     "execution_count": 2,
     "metadata": {},
     "output_type": "execute_result"
    }
   ],
   "source": [
    "tf.__version__"
   ]
  },
  {
   "cell_type": "markdown",
   "metadata": {},
   "source": [
    "## Load the dataset\n",
    "\n",
    "TensorFlow comes with some convenience functions for loading the train and test sets."
   ]
  },
  {
   "cell_type": "code",
   "execution_count": 3,
   "metadata": {
    "collapsed": true
   },
   "outputs": [],
   "source": [
    "from tensorflow.examples.tutorials.mnist import input_data"
   ]
  },
  {
   "cell_type": "markdown",
   "metadata": {},
   "source": [
    "Edit the `\"data/\"` to wherever you hid the files."
   ]
  },
  {
   "cell_type": "code",
   "execution_count": 4,
   "metadata": {},
   "outputs": [
    {
     "name": "stdout",
     "output_type": "stream",
     "text": [
      "Extracting data/train-images-idx3-ubyte.gz\n",
      "Extracting data/train-labels-idx1-ubyte.gz\n",
      "Extracting data/t10k-images-idx3-ubyte.gz\n",
      "Extracting data/t10k-labels-idx1-ubyte.gz\n"
     ]
    }
   ],
   "source": [
    "mnist = input_data.read_data_sets(\"data/\")"
   ]
  },
  {
   "cell_type": "code",
   "execution_count": 5,
   "metadata": {},
   "outputs": [],
   "source": [
    "N = 250\n",
    "train_images = mnist.train.images[:N,:]\n",
    "train_labels = mnist.train.labels[:N]\n",
    "\n",
    "# split into 10 batches\n",
    "train_image_batches = np.array_split(train_images, 10)\n",
    "train_label_batches = np.array_split(train_labels, 10)"
   ]
  },
  {
   "cell_type": "code",
   "execution_count": null,
   "metadata": {},
   "outputs": [],
   "source": []
  },
  {
   "cell_type": "code",
   "execution_count": 6,
   "metadata": {},
   "outputs": [
    {
     "data": {
      "text/plain": [
       "array([7, 3, 4, 6, 1, 8, 1, 0, 9, 8], dtype=uint8)"
      ]
     },
     "execution_count": 6,
     "metadata": {},
     "output_type": "execute_result"
    }
   ],
   "source": [
    "mnist.train.labels[:10]"
   ]
  },
  {
   "cell_type": "code",
   "execution_count": 7,
   "metadata": {},
   "outputs": [
    {
     "data": {
      "image/png": "[encoded data removed]",
      "text/plain": [
       "<matplotlib.figure.Figure at 0x1c24833588>"
      ]
     },
     "metadata": {},
     "output_type": "display_data"
    }
   ],
   "source": [
    "figsize(7,7)\n",
    "#num_train = mnist.train.images.shape[0]\n",
    "\n",
    "for i in range(16):\n",
    "    plt.subplot(4,4,i+1)\n",
    "    # pick a training example\n",
    "    example = np.random.choice(np.arange(N))\n",
    "    # plot the image\n",
    "    plt.imshow(train_images[example,:].reshape((28,28)), interpolation=\"none\")\n",
    "    plt.axis(\"off\")\n",
    "    # label with the correct answer\n",
    "    plt.title(train_labels[example], fontsize=14);"
   ]
  },
  {
   "cell_type": "code",
   "execution_count": 156,
   "metadata": {},
   "outputs": [],
   "source": [
    "def train(numsteps=1000, train_batches=train_image_batches, testims=mnist.test.images):\n",
    "    # create an empty array to hold test accuracy at each step\n",
    "    test_acc = np.zeros(numsteps)\n",
    "\n",
    "    # create a session to run in\n",
    "    with tf.Session() as sess:\n",
    "        # initialize variables\n",
    "        sess.run(tf.global_variables_initializer())\n",
    "        # for each training step\n",
    "        for i in tqdm(range(numsteps)):\n",
    "            # for each batch\n",
    "            for x_batch,y_batch in zip(train_batches, train_label_batches):\n",
    "                sess.run(train_step, feed_dict={x:x_batch, y_:y_batch, is_training:1})\n",
    "            # once per epoch check the test accuracy\n",
    "            test_acc[i] = sess.run(accuracy, \n",
    "                                   feed_dict={x:testims,y_:mnist.test.labels,\n",
    "                                             is_training:0})\n",
    "        \n",
    "    plt.plot(test_acc, lw=2)\n",
    "    plt.grid(\"on\")\n",
    "    plt.xlabel(\"training epoch\", fontsize=14)\n",
    "    plt.ylabel(\"test accuracy\", fontsize=14)\n",
    "    plt.title(\"Final accuracy: %s\"%round(test_acc[-1],4))"
   ]
  },
  {
   "cell_type": "code",
   "execution_count": null,
   "metadata": {
    "collapsed": true
   },
   "outputs": [],
   "source": []
  },
  {
   "cell_type": "markdown",
   "metadata": {},
   "source": [
    "## Build the model"
   ]
  },
  {
   "cell_type": "markdown",
   "metadata": {},
   "source": [
    "### Get the data in\n",
    "\n",
    "For this example, we'll manually load the data in one batch at a time. For grown-up machine learning problems TensorFlow has some really powerful tools for loading, shuffling, and augmenting data for the next batch on your CPU while your GPU chugs away on the last batch.\n",
    "\n",
    "For now, though- we'll make placeholders to input a batch of images and a batch of corresponding labels, and an operation to convert the labels to one-hot encoding."
   ]
  },
  {
   "cell_type": "code",
   "execution_count": null,
   "metadata": {},
   "outputs": [],
   "source": []
  },
  {
   "cell_type": "code",
   "execution_count": 38,
   "metadata": {},
   "outputs": [],
   "source": [
    "tf.reset_default_graph()"
   ]
  },
  {
   "cell_type": "code",
   "execution_count": 39,
   "metadata": {
    "collapsed": true
   },
   "outputs": [],
   "source": [
    "num_hidden = 25\n",
    "num_classes = 10\n",
    "learnrate = 0.01\n",
    "momentum = 0.9\n",
    "\n",
    "\n",
    "x = tf.placeholder(tf.float32, [None, 784], name=\"data_placeholder\")\n",
    "y_ = tf.placeholder(tf.int32, [None,], name=\"label_placeholder\")\n",
    "is_training = tf.placeholder_with_default(1, []) # we'll need this later\n",
    "\n",
    "y_oh = tf.one_hot(y_, 10, name=\"labels_one_hot\")\n",
    "\n",
    "W1 = tf.Variable(tf.random_normal([784, num_hidden], 0, 0.01))\n",
    "b1 = tf.Variable(tf.zeros([num_hidden]))\n",
    "y1 = tf.matmul(x,W1) + b1\n",
    "hidden = tf.sigmoid(y1)\n",
    "\n",
    "W2 = tf.Variable(tf.random_normal([num_hidden, num_classes], 0, 0.01))\n",
    "b2 = tf.Variable(tf.zeros([num_classes]))\n",
    "y2 = tf.matmul(hidden,W2) + b2\n",
    "output = tf.sigmoid(y2)\n",
    "\n",
    "cross_entropy = tf.reduce_mean(tf.nn.softmax_cross_entropy_with_logits(labels=y_oh, logits=y2))\n",
    "optimizer = tf.train.MomentumOptimizer(learnrate, momentum)\n",
    "train_step = optimizer.minimize(cross_entropy)\n",
    "\n",
    "prediction = tf.argmax(y2,1)\n",
    "correct_prediction = tf.equal(prediction, tf.argmax(y_oh,1))\n",
    "accuracy = tf.reduce_mean(tf.cast(correct_prediction, tf.float32))"
   ]
  },
  {
   "cell_type": "code",
   "execution_count": 40,
   "metadata": {},
   "outputs": [
    {
     "name": "stderr",
     "output_type": "stream",
     "text": [
      "100%|██████████| 1000/1000 [00:30<00:00, 32.98it/s]\n"
     ]
    },
    {
     "data": {
      "image/png": "[encoded data removed]",
      "text/plain": [
       "<matplotlib.figure.Figure at 0x1c2d9a46a0>"
      ]
     },
     "metadata": {},
     "output_type": "display_data"
    }
   ],
   "source": [
    "train()"
   ]
  },
  {
   "cell_type": "code",
   "execution_count": null,
   "metadata": {},
   "outputs": [],
   "source": []
  },
  {
   "cell_type": "code",
   "execution_count": null,
   "metadata": {},
   "outputs": [],
   "source": []
  },
  {
   "cell_type": "code",
   "execution_count": null,
   "metadata": {},
   "outputs": [],
   "source": []
  },
  {
   "cell_type": "markdown",
   "metadata": {},
   "source": [
    "## Noise injection at weights"
   ]
  },
  {
   "cell_type": "code",
   "execution_count": 43,
   "metadata": {},
   "outputs": [],
   "source": [
    "tf.reset_default_graph()"
   ]
  },
  {
   "cell_type": "code",
   "execution_count": 44,
   "metadata": {},
   "outputs": [],
   "source": [
    "num_hidden = 25\n",
    "num_classes = 10\n",
    "learnrate = 0.01\n",
    "momentum = 0.9\n",
    "\n",
    "epsilon = 0.1   # <-----------------\n",
    "\n",
    "x = tf.placeholder(tf.float32, [None, 784], name=\"data_placeholder\")\n",
    "y_ = tf.placeholder(tf.int32, [None,], name=\"label_placeholder\")\n",
    "is_training = tf.placeholder_with_default(1., []) \n",
    "\n",
    "y_oh = tf.one_hot(y_, 10, name=\"labels_one_hot\")\n",
    "\n",
    "W1 = tf.Variable(tf.random_normal([784, num_hidden], 0, 0.01))\n",
    "noise1 = is_training*tf.random_normal([784, num_hidden], 0, epsilon)   # <-----------------\n",
    "b1 = tf.Variable(tf.zeros([num_hidden]))\n",
    "y1 = tf.matmul(x,W1+noise1) + b1   # <-----------------\n",
    "hidden = tf.sigmoid(y1)\n",
    "\n",
    "W2 = tf.Variable(tf.random_normal([num_hidden, num_classes], 0, 0.01))\n",
    "noise2 = is_training*tf.random_normal([num_hidden, num_classes], 0, epsilon)   # <-----------------\n",
    "b2 = tf.Variable(tf.zeros([num_classes]))\n",
    "y2 = tf.matmul(hidden,W2+noise2) + b2   # <-----------------\n",
    "output = tf.sigmoid(y2)\n",
    "\n",
    "cross_entropy = tf.reduce_mean(tf.nn.softmax_cross_entropy_with_logits(labels=y_oh, logits=y2))\n",
    "optimizer = tf.train.MomentumOptimizer(learnrate, momentum)\n",
    "train_step = optimizer.minimize(cross_entropy)\n",
    "\n",
    "prediction = tf.argmax(y2,1)\n",
    "correct_prediction = tf.equal(prediction, tf.argmax(y_oh,1))\n",
    "accuracy = tf.reduce_mean(tf.cast(correct_prediction, tf.float32))"
   ]
  },
  {
   "cell_type": "code",
   "execution_count": 46,
   "metadata": {},
   "outputs": [
    {
     "name": "stderr",
     "output_type": "stream",
     "text": [
      "100%|██████████| 1000/1000 [00:34<00:00, 29.18it/s]\n"
     ]
    },
    {
     "data": {
      "image/png": "[encoded data removed]",
      "text/plain": [
       "<matplotlib.figure.Figure at 0x1c30f90518>"
      ]
     },
     "metadata": {},
     "output_type": "display_data"
    }
   ],
   "source": [
    "train()"
   ]
  },
  {
   "cell_type": "code",
   "execution_count": null,
   "metadata": {},
   "outputs": [],
   "source": []
  },
  {
   "cell_type": "code",
   "execution_count": null,
   "metadata": {},
   "outputs": [],
   "source": []
  },
  {
   "cell_type": "code",
   "execution_count": null,
   "metadata": {},
   "outputs": [],
   "source": []
  },
  {
   "cell_type": "code",
   "execution_count": null,
   "metadata": {},
   "outputs": [],
   "source": []
  },
  {
   "cell_type": "code",
   "execution_count": null,
   "metadata": {},
   "outputs": [],
   "source": []
  },
  {
   "cell_type": "markdown",
   "metadata": {},
   "source": [
    "## Image augmentation"
   ]
  },
  {
   "cell_type": "code",
   "execution_count": 121,
   "metadata": {},
   "outputs": [],
   "source": [
    "tf.reset_default_graph()"
   ]
  },
  {
   "cell_type": "code",
   "execution_count": 122,
   "metadata": {},
   "outputs": [],
   "source": [
    "num_hidden = 25\n",
    "num_classes = 10\n",
    "learnrate = 0.01\n",
    "momentum = 0.9\n",
    "\n",
    "\n",
    "x = tf.placeholder(tf.float32, [None, 784], name=\"data_placeholder\")\n",
    "y_ = tf.placeholder(tf.int32, [None,], name=\"label_placeholder\")\n",
    "is_training = tf.placeholder_with_default(1., []) \n",
    "\n",
    "x_aug = tf.reshape(x, [-1, 28, 28]) # <-----------------\n",
    "x_aug = tf.image.random_brightness(x_aug, 0.1) # <-----------------\n",
    "x_aug = tf.image.random_contrast(x_aug, 0.9, 1.1) # <-----------------\n",
    "x_aug = tf.reshape(x_aug, [-1, 784]) # <-----------------\n",
    "x_prep = is_training*x_aug + (1-is_training)*x # <-----------------\n",
    "\n",
    "y_oh = tf.one_hot(y_, 10, name=\"labels_one_hot\")\n",
    "\n",
    "W1 = tf.Variable(tf.random_normal([784, num_hidden], 0, 0.01))\n",
    "b1 = tf.Variable(tf.zeros([num_hidden]))\n",
    "y1 = tf.matmul(x_prep,W1) + b1 \n",
    "hidden = tf.sigmoid(y1)\n",
    "\n",
    "W2 = tf.Variable(tf.random_normal([num_hidden, num_classes], 0, 0.01))\n",
    "b2 = tf.Variable(tf.zeros([num_classes]))\n",
    "y2 = tf.matmul(hidden,W2) + b2  \n",
    "output = tf.sigmoid(y2)\n",
    "\n",
    "cross_entropy = tf.reduce_mean(tf.nn.softmax_cross_entropy_with_logits(labels=y_oh, logits=y2))\n",
    "optimizer = tf.train.MomentumOptimizer(learnrate, momentum)\n",
    "train_step = optimizer.minimize(cross_entropy)\n",
    "\n",
    "prediction = tf.argmax(y2,1)\n",
    "correct_prediction = tf.equal(prediction, tf.argmax(y_oh,1))\n",
    "accuracy = tf.reduce_mean(tf.cast(correct_prediction, tf.float32))"
   ]
  },
  {
   "cell_type": "code",
   "execution_count": 123,
   "metadata": {},
   "outputs": [
    {
     "data": {
      "image/png": "[encoded data removed]",
      "text/plain": [
       "<matplotlib.figure.Figure at 0x1c27720550>"
      ]
     },
     "metadata": {},
     "output_type": "display_data"
    }
   ],
   "source": [
    "with tf.Session() as sess:\n",
    "    sess.run(tf.global_variables_initializer())\n",
    "    for i in range(16):\n",
    "        plt.subplot(4,4,i+1)\n",
    "        augmented = sess.run(x_aug, feed_dict={x:train_images[5,:].reshape(1,-1)})\n",
    "        plt.imshow(augmented.reshape((28,28)), vmin=0, vmax=1)\n",
    "        plt.axis(\"off\")"
   ]
  },
  {
   "cell_type": "code",
   "execution_count": 124,
   "metadata": {},
   "outputs": [
    {
     "name": "stderr",
     "output_type": "stream",
     "text": [
      "100%|██████████| 1000/1000 [01:17<00:00, 12.98it/s]\n"
     ]
    },
    {
     "data": {
      "image/png": "[encoded data removed]",
      "text/plain": [
       "<matplotlib.figure.Figure at 0x1c283494e0>"
      ]
     },
     "metadata": {},
     "output_type": "display_data"
    }
   ],
   "source": [
    "train()"
   ]
  },
  {
   "cell_type": "code",
   "execution_count": null,
   "metadata": {},
   "outputs": [],
   "source": []
  },
  {
   "cell_type": "code",
   "execution_count": null,
   "metadata": {},
   "outputs": [],
   "source": []
  },
  {
   "cell_type": "code",
   "execution_count": 218,
   "metadata": {},
   "outputs": [],
   "source": [
    "tf.reset_default_graph()"
   ]
  },
  {
   "cell_type": "code",
   "execution_count": 219,
   "metadata": {},
   "outputs": [],
   "source": [
    "num_hidden = 150\n",
    "learnrate = 0.1\n",
    "momentum = 0.9\n",
    "\n",
    "x = tf.placeholder(tf.float32, [None, 784], name=\"data_placeholder\")\n",
    "net = x\n",
    "\n",
    "num_hidden = [784, 350, 784]\n",
    "for i in range(1, len(num_hidden)):\n",
    "    W = tf.Variable(tf.random_normal([num_hidden[i-1], num_hidden[i]], 0, 0.01))\n",
    "    b = tf.Variable(tf.zeros([num_hidden[i]]))\n",
    "    y = tf.matmul(net,W) + b\n",
    "    net = tf.nn.relu(y)\n",
    "    if num_hidden[i] == 350:\n",
    "        hidden = net\n",
    "\n",
    "#W2 = tf.Variable(tf.random_normal([num_hidden, 784], 0, 0.01))\n",
    "#b2 = tf.Variable(tf.zeros([784]))\n",
    "#y2 = tf.matmul(hidden,W2) + b2\n",
    "#output = tf.sigmoid(y2)\n",
    "output = tf.sigmoid(y)\n",
    "\n",
    "loss = tf.reduce_mean((output - x)**2)\n",
    "optimizer = tf.train.MomentumOptimizer(learnrate, momentum)\n",
    "train_step = optimizer.minimize(loss)"
   ]
  },
  {
   "cell_type": "code",
   "execution_count": null,
   "metadata": {},
   "outputs": [
    {
     "name": "stderr",
     "output_type": "stream",
     "text": [
      " 83%|████████▎ | 207/250 [10:22<02:09,  3.00s/it]"
     ]
    }
   ],
   "source": [
    "numsteps = 250\n",
    "reconstruction_error = np.zeros(numsteps)\n",
    "with tf.Session() as sess:\n",
    "    # initialize variables\n",
    "    sess.run(tf.global_variables_initializer())\n",
    "    # for each training step\n",
    "    for i in tqdm(range(numsteps)):\n",
    "            # for each batch\n",
    "            _, reconstruction_error[i] = sess.run([train_step, loss], \n",
    "                                                  feed_dict={x:mnist.train.images[:25000,:]})\n",
    "    \n",
    "    # while we're here, compute the dense representations for our\n",
    "    # training and test sets\n",
    "    train_vector_batches = []\n",
    "    for t in train_image_batches:\n",
    "        train_vector_batches.append(sess.run(hidden, feed_dict={x:t}))\n",
    "    test_vectors = sess.run(hidden, feed_dict={x:mnist.test.images})\n",
    "plt.plot(reconstruction_error, lw=2)\n",
    "plt.grid(\"on\")\n",
    "plt.xlabel(\"training epoch\", fontsize=14)\n",
    "plt.ylabel(\"reconstruction error\", fontsize=14);"
   ]
  },
  {
   "cell_type": "code",
   "execution_count": null,
   "metadata": {},
   "outputs": [],
   "source": [
    "test_vectors.shape"
   ]
  },
  {
   "cell_type": "code",
   "execution_count": null,
   "metadata": {},
   "outputs": [],
   "source": []
  },
  {
   "cell_type": "code",
   "execution_count": null,
   "metadata": {},
   "outputs": [],
   "source": [
    "tf.reset_default_graph()"
   ]
  },
  {
   "cell_type": "code",
   "execution_count": 215,
   "metadata": {},
   "outputs": [],
   "source": [
    "embedding_dimension = 350\n",
    "num_hidden = 25\n",
    "num_classes = 10\n",
    "learnrate = 0.01\n",
    "momentum = 0.9\n",
    "\n",
    "\n",
    "x = tf.placeholder(tf.float32, [None, embedding_dimension], name=\"data_placeholder\") # <--------------\n",
    "y_ = tf.placeholder(tf.int32, [None,], name=\"label_placeholder\")\n",
    "is_training = tf.placeholder_with_default(1, []) # we'll need this later\n",
    "\n",
    "y_oh = tf.one_hot(y_, 10, name=\"labels_one_hot\")\n",
    "\n",
    "W1 = tf.Variable(tf.random_normal([embedding_dimension, num_hidden], 0, 0.01))  # <--------------\n",
    "b1 = tf.Variable(tf.zeros([num_hidden]))\n",
    "y1 = tf.matmul(x,W1) + b1\n",
    "hidden = tf.sigmoid(y1)\n",
    "\n",
    "W2 = tf.Variable(tf.random_normal([num_hidden, num_classes], 0, 0.01))\n",
    "b2 = tf.Variable(tf.zeros([num_classes]))\n",
    "y2 = tf.matmul(hidden,W2) + b2\n",
    "output = tf.sigmoid(y2)\n",
    "\n",
    "cross_entropy = tf.reduce_mean(tf.nn.softmax_cross_entropy_with_logits(labels=y_oh, logits=y2))\n",
    "optimizer = tf.train.MomentumOptimizer(learnrate, momentum)\n",
    "train_step = optimizer.minimize(cross_entropy)\n",
    "\n",
    "prediction = tf.argmax(y2,1)\n",
    "correct_prediction = tf.equal(prediction, tf.argmax(y_oh,1))\n",
    "accuracy = tf.reduce_mean(tf.cast(correct_prediction, tf.float32))"
   ]
  },
  {
   "cell_type": "code",
   "execution_count": 216,
   "metadata": {},
   "outputs": [
    {
     "name": "stderr",
     "output_type": "stream",
     "text": [
      "100%|██████████| 1000/1000 [00:20<00:00, 47.94it/s]\n"
     ]
    },
    {
     "data": {
      "image/png": "[encoded data removed]",
      "text/plain": [
       "<matplotlib.figure.Figure at 0x10d3f8e10>"
      ]
     },
     "metadata": {},
     "output_type": "display_data"
    }
   ],
   "source": [
    "train(1000, train_batches=train_vector_batches, testims=test_vectors)"
   ]
  },
  {
   "cell_type": "code",
   "execution_count": null,
   "metadata": {},
   "outputs": [],
   "source": []
  },
  {
   "cell_type": "code",
   "execution_count": null,
   "metadata": {},
   "outputs": [],
   "source": []
  },
  {
   "cell_type": "code",
   "execution_count": null,
   "metadata": {},
   "outputs": [],
   "source": []
  },
  {
   "cell_type": "code",
   "execution_count": null,
   "metadata": {},
   "outputs": [],
   "source": []
  }
 ],
 "metadata": {
  "anaconda-cloud": {},
  "kernelspec": {
   "display_name": "Python 3",
   "language": "python",
   "name": "python3"
  },
  "language_info": {
   "codemirror_mode": {
    "name": "ipython",
    "version": 3
   },
   "file_extension": ".py",
   "mimetype": "text/x-python",
   "name": "python",
   "nbconvert_exporter": "python",
   "pygments_lexer": "ipython3",
   "version": "3.6.4"
  }
 },
 "nbformat": 4,
 "nbformat_minor": 2
}
